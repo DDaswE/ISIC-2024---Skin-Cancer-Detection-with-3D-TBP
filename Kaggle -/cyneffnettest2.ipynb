{
 "cells": [
  {
   "cell_type": "code",
   "execution_count": 1,
   "id": "1ff6cfdc",
   "metadata": {
    "execution": {
     "iopub.execute_input": "2024-09-05T08:32:33.139964Z",
     "iopub.status.busy": "2024-09-05T08:32:33.139627Z",
     "iopub.status.idle": "2024-09-05T08:32:33.873542Z",
     "shell.execute_reply": "2024-09-05T08:32:33.872589Z"
    },
    "papermill": {
     "duration": 0.741075,
     "end_time": "2024-09-05T08:32:33.876142",
     "exception": false,
     "start_time": "2024-09-05T08:32:33.135067",
     "status": "completed"
    },
    "tags": []
   },
   "outputs": [],
   "source": [
    "import numpy as np\n",
    "import pandas as pd\n",
    "import pandas.api.types\n",
    "import matplotlib.pyplot as plt\n",
    "\n",
    "import os"
   ]
  },
  {
   "cell_type": "markdown",
   "id": "84c9a93f",
   "metadata": {
    "papermill": {
     "duration": 0.002418,
     "end_time": "2024-09-05T08:32:33.881615",
     "exception": false,
     "start_time": "2024-09-05T08:32:33.879197",
     "status": "completed"
    },
    "tags": []
   },
   "source": [
    "# Submit!"
   ]
  },
  {
   "cell_type": "code",
   "execution_count": 2,
   "id": "c0cfa8f9",
   "metadata": {
    "execution": {
     "iopub.execute_input": "2024-09-05T08:32:33.888245Z",
     "iopub.status.busy": "2024-09-05T08:32:33.887816Z",
     "iopub.status.idle": "2024-09-05T08:34:08.206850Z",
     "shell.execute_reply": "2024-09-05T08:34:08.205981Z"
    },
    "papermill": {
     "duration": 94.325028,
     "end_time": "2024-09-05T08:34:08.209233",
     "exception": false,
     "start_time": "2024-09-05T08:32:33.884205",
     "status": "completed"
    },
    "tags": []
   },
   "outputs": [
    {
     "name": "stderr",
     "output_type": "stream",
     "text": [
      "/kaggle/input/cynfiles2/c1.py:24: DtypeWarning: Columns (51,52) have mixed types. Specify dtype option on import or set low_memory=False.\n",
      "  df_train = pd.read_csv(\"/kaggle/input/isic-2024-challenge/train-metadata.csv\")\n"
     ]
    },
    {
     "name": "stdout",
     "output_type": "stream",
     "text": [
      "0.024144001496829118 0.09255888181984653\n",
      "0.028805577625792538 0.10163977443035277\n",
      "0.03657995216211965 0.10839968982968434\n",
      "Before adjust pauc: 0.15894760795794083\n",
      "\n",
      "Final results:\n",
      "   imagenet_predict  target\n",
      "0          0.002531       0\n",
      "1          0.504866       0\n",
      "2          0.000388       0\n",
      "3          0.003110       0\n",
      "4          0.001991       0\n",
      "After adjust pauc: 0.15894760795794083\n",
      "Using device: cuda\n"
     ]
    },
    {
     "name": "stderr",
     "output_type": "stream",
     "text": [
      "Predicting: 100%|██████████| 1/1 [00:01<00:00,  1.08s/it]\n",
      "Predicting: 100%|██████████| 1/1 [00:00<00:00,  3.62it/s]\n",
      "Predicting: 100%|██████████| 1/1 [00:00<00:00,  3.84it/s]\n",
      "/opt/conda/lib/python3.10/site-packages/lightgbm/engine.py:172: UserWarning: Found `n_estimators` in params. Will use it instead of argument\n",
      "  _log_warning(f\"Found `{alias}` in params. Will use it instead of argument\")\n",
      "/opt/conda/lib/python3.10/site-packages/lightgbm/engine.py:172: UserWarning: Found `n_estimators` in params. Will use it instead of argument\n",
      "  _log_warning(f\"Found `{alias}` in params. Will use it instead of argument\")\n",
      "/opt/conda/lib/python3.10/site-packages/lightgbm/engine.py:172: UserWarning: Found `n_estimators` in params. Will use it instead of argument\n",
      "  _log_warning(f\"Found `{alias}` in params. Will use it instead of argument\")\n",
      "/opt/conda/lib/python3.10/site-packages/lightgbm/engine.py:172: UserWarning: Found `n_estimators` in params. Will use it instead of argument\n",
      "  _log_warning(f\"Found `{alias}` in params. Will use it instead of argument\")\n",
      "/opt/conda/lib/python3.10/site-packages/lightgbm/engine.py:172: UserWarning: Found `n_estimators` in params. Will use it instead of argument\n",
      "  _log_warning(f\"Found `{alias}` in params. Will use it instead of argument\")\n"
     ]
    },
    {
     "name": "stdout",
     "output_type": "stream",
     "text": [
      "0    0.002978\n",
      "1    0.001407\n",
      "2    0.000519\n",
      "Name: imagenet_predict, dtype: float32\n",
      "Updated train_cols: ['age_approx', 'clin_size_long_diam_mm', 'tbp_lv_Aext', 'tbp_lv_Cext', 'tbp_lv_L', 'tbp_lv_Lext', 'tbp_lv_areaMM2', 'tbp_lv_area_perim_ratio', 'tbp_lv_color_std_mean', 'tbp_lv_deltaL', 'tbp_lv_deltaLB', 'tbp_lv_deltaLBnorm', 'tbp_lv_eccentricity', 'tbp_lv_nevi_confidence', 'tbp_lv_norm_border', 'tbp_lv_norm_color', 'tbp_lv_radial_color_std_max', 'tbp_lv_stdL', 'tbp_lv_stdLExt', 'tbp_lv_symm_2axis', 'tbp_lv_symm_2axis_angle', 'tbp_lv_x', 'tbp_lv_y', 'tbp_lv_z', 'imagenet_predict', 'lesion_size_ratio', 'lesion_shape_index', 'luminance_contrast', 'lesion_color_difference', 'border_complexity', 'color_uniformity', '3d_position_distance', 'lesion_visibility_score', 'symmetry_border_consistency', 'color_consistency', 'size_age_interaction', 'lesion_severity_index', 'color_contrast_index', 'std_dev_contrast', 'color_shape_composite_index', '3d_lesion_orientation', 'overall_color_difference', 'symmetry_perimeter_interaction', 'asymmetry_ratio', 'color_variation_intensity', 'color_contrast_ratio', 'shape_irregularity', 'border_density', 'size_age_ratio', 'area_diameter_ratio', '3d_position_norm', '3d_position_angle_xy', '3d_position_angle_xz', 'lab_chroma', 'texture_contrast', 'color_difference_AB', 'color_difference_total', 'anatom_site_encoded', 'sex', 'tbp_tile_type', 'tbp_lv_location', 'tbp_lv_location_simple', 'combined_anatomical_site', 'location_size_interaction', 'location_age_interaction']\n",
      "Iteration 0, Current pAUC: 0.07580\n",
      "Iteration 50, Current pAUC: 0.17433\n",
      "Completed without early stopping\n",
      "Using best model from iteration 50\n",
      "Fold 0 / Partial AUC Score: 0.17433\n",
      "Iteration 0, Current pAUC: 0.03960\n",
      "Iteration 50, Current pAUC: 0.16204\n",
      "Completed without early stopping\n",
      "Using best model from iteration 50\n",
      "Fold 1 / Partial AUC Score: 0.16204\n",
      "Iteration 0, Current pAUC: 0.07911\n",
      "Iteration 50, Current pAUC: 0.17076\n",
      "Completed without early stopping\n",
      "Using best model from iteration 50\n",
      "Fold 2 / Partial AUC Score: 0.17076\n",
      "Iteration 0, Current pAUC: 0.10053\n",
      "Iteration 50, Current pAUC: 0.15639\n",
      "Completed without early stopping\n",
      "Using best model from iteration 50\n",
      "Fold 3 / Partial AUC Score: 0.15639\n",
      "Iteration 0, Current pAUC: 0.14898\n",
      "Iteration 50, Current pAUC: 0.15823\n",
      "Completed without early stopping\n",
      "Using best model from iteration 50\n",
      "Fold 4 / Partial AUC Score: 0.15823\n",
      "\n",
      "Average pAUC: 0.164350207577792\n",
      "Models saved in saved_models\n"
     ]
    },
    {
     "data": {
      "text/plain": [
       "0"
      ]
     },
     "execution_count": 2,
     "metadata": {},
     "output_type": "execute_result"
    }
   ],
   "source": [
    "os.system('python /kaggle/input/cynfiles2/c1.py --p cynpth2')"
   ]
  },
  {
   "cell_type": "code",
   "execution_count": 3,
   "id": "2e51c02b",
   "metadata": {
    "execution": {
     "iopub.execute_input": "2024-09-05T08:34:08.218764Z",
     "iopub.status.busy": "2024-09-05T08:34:08.218465Z",
     "iopub.status.idle": "2024-09-05T08:38:54.865325Z",
     "shell.execute_reply": "2024-09-05T08:38:54.864424Z"
    },
    "papermill": {
     "duration": 286.6575,
     "end_time": "2024-09-05T08:38:54.871062",
     "exception": false,
     "start_time": "2024-09-05T08:34:08.213562",
     "status": "completed"
    },
    "tags": []
   },
   "outputs": [
    {
     "data": {
      "text/plain": [
       "0"
      ]
     },
     "execution_count": 3,
     "metadata": {},
     "output_type": "execute_result"
    }
   ],
   "source": [
    "def get_environment_variable(key):\n",
    "    return os.environ.get(key)\n",
    "\n",
    "os.system('python /kaggle/input/cynfiles2/c2.py')"
   ]
  },
  {
   "cell_type": "code",
   "execution_count": 4,
   "id": "408fe35f",
   "metadata": {
    "execution": {
     "iopub.execute_input": "2024-09-05T08:38:54.880701Z",
     "iopub.status.busy": "2024-09-05T08:38:54.880411Z",
     "iopub.status.idle": "2024-09-05T09:10:01.858014Z",
     "shell.execute_reply": "2024-09-05T09:10:01.856932Z"
    },
    "papermill": {
     "duration": 1866.98493,
     "end_time": "2024-09-05T09:10:01.860257",
     "exception": false,
     "start_time": "2024-09-05T08:38:54.875327",
     "status": "completed"
    },
    "tags": []
   },
   "outputs": [
    {
     "name": "stdout",
     "output_type": "stream",
     "text": [
      "len(train):401059\n",
      "len(test):3\n",
      "tbp_lv_dnn_lesion_confidence feature\n",
      "drop_cols\n",
      "tbp_lv_dnn_lesion_confidence feature\n",
      "age_approx feature\n",
      "sex feature\n",
      "anatom_site_general feature\n",
      "clin_size_long_diam_mm feature\n",
      "tbp_tile_type feature\n",
      "tbp_lv_XX', 'tbp_lv_XXext feature\n",
      "tbp_lv_areaMM2 feature\n",
      "tbp_lv_area_perim_ratio feature\n",
      "tbp_lv_symm_2axis feature\n",
      "tbp_lv_x', 'tbp_lv_y', 'tbp_lv_z feature\n",
      "copyright feature\n",
      "attribution feature\n",
      "tbp_lv_location feature\n",
      "group feature\n",
      "------------------------------\n",
      "drop_cols\n",
      "tbp_lv_dnn_lesion_confidence feature\n",
      "age_approx feature\n",
      "sex feature\n",
      "anatom_site_general feature\n",
      "clin_size_long_diam_mm feature\n",
      "tbp_tile_type feature\n",
      "tbp_lv_XX', 'tbp_lv_XXext feature\n",
      "tbp_lv_areaMM2 feature\n",
      "tbp_lv_area_perim_ratio feature\n",
      "tbp_lv_symm_2axis feature\n",
      "tbp_lv_x', 'tbp_lv_y', 'tbp_lv_z feature\n",
      "copyright feature\n",
      "attribution feature\n",
      "tbp_lv_location feature\n",
      "group feature\n",
      "------------------------------\n",
      "group age&general feature\n"
     ]
    },
    {
     "name": "stderr",
     "output_type": "stream",
     "text": [
      "100%|██████████| 60/60 [21:34<00:00, 21.58s/it]\n"
     ]
    },
    {
     "name": "stdout",
     "output_type": "stream",
     "text": [
      "shift feature\n"
     ]
    },
    {
     "name": "stderr",
     "output_type": "stream",
     "text": [
      "100%|██████████| 60/60 [00:06<00:00,  9.62it/s]\n",
      "100%|██████████| 60/60 [00:06<00:00,  9.55it/s]\n",
      "1 warning generated.\n",
      "1 warning generated.\n",
      "1 warning generated.\n",
      "1 warning generated.\n",
      "1 warning generated.\n",
      "1 warning generated.\n",
      "1 warning generated.\n",
      "1 warning generated.\n",
      "1 warning generated.\n",
      "1 warning generated.\n",
      "1 warning generated.\n",
      "1 warning generated.\n",
      "1 warning generated.\n",
      "1 warning generated.\n",
      "1 warning generated.\n",
      "1 warning generated.\n",
      "1 warning generated.\n",
      "1 warning generated.\n",
      "1 warning generated.\n",
      "1 warning generated.\n",
      "1 warning generated.\n",
      "1 warning generated.\n",
      "1 warning generated.\n",
      "1 warning generated.\n",
      "1 warning generated.\n",
      "1 warning generated.\n",
      "1 warning generated.\n",
      "1 warning generated.\n",
      "1 warning generated.\n",
      "1 warning generated.\n",
      "1 warning generated.\n",
      "1 warning generated.\n",
      "1 warning generated.\n"
     ]
    },
    {
     "name": "stdout",
     "output_type": "stream",
     "text": [
      "Memory usage of dataframe is 4761.11 MB\n",
      "Memory usage after optimization is: 2439.07 MB\n",
      "Decreased by 48.8%\n",
      "Memory usage of dataframe is 0.03 MB\n",
      "Memory usage after optimization is: 0.02 MB\n",
      "Decreased by 35.8%\n",
      "len(choose_cols):982\n",
      "name lgb,fold:0\n",
      "[100]\tvalid_0's auc: 0.954376\tvalid_0's pauc: 0.162596\n",
      "[200]\tvalid_0's auc: 0.953031\tvalid_0's pauc: 0.161146\n",
      "[300]\tvalid_0's auc: 0.947576\tvalid_0's pauc: 0.156228\n",
      "[400]\tvalid_0's auc: 0.944038\tvalid_0's pauc: 0.152309\n",
      "name lgb,fold:1\n",
      "[100]\tvalid_0's auc: 0.958539\tvalid_0's pauc: 0.163286\n",
      "[200]\tvalid_0's auc: 0.966084\tvalid_0's pauc: 0.170192\n",
      "[300]\tvalid_0's auc: 0.967485\tvalid_0's pauc: 0.17134\n",
      "[400]\tvalid_0's auc: 0.968545\tvalid_0's pauc: 0.172246\n",
      "name lgb,fold:2\n",
      "[100]\tvalid_0's auc: 0.958549\tvalid_0's pauc: 0.165206\n",
      "[200]\tvalid_0's auc: 0.96442\tvalid_0's pauc: 0.170681\n",
      "[300]\tvalid_0's auc: 0.965614\tvalid_0's pauc: 0.171799\n",
      "[400]\tvalid_0's auc: 0.966721\tvalid_0's pauc: 0.172751\n",
      "name lgb,fold:3\n",
      "[100]\tvalid_0's auc: 0.968479\tvalid_0's pauc: 0.175919\n",
      "[200]\tvalid_0's auc: 0.972126\tvalid_0's pauc: 0.17801\n",
      "[300]\tvalid_0's auc: 0.974873\tvalid_0's pauc: 0.180012\n",
      "[400]\tvalid_0's auc: 0.976553\tvalid_0's pauc: 0.181182\n",
      "name lgb,fold:4\n",
      "[100]\tvalid_0's auc: 0.972689\tvalid_0's pauc: 0.177889\n",
      "[200]\tvalid_0's auc: 0.975091\tvalid_0's pauc: 0.178839\n",
      "[300]\tvalid_0's auc: 0.977108\tvalid_0's pauc: 0.180443\n",
      "[400]\tvalid_0's auc: 0.976791\tvalid_0's pauc: 0.179822\n",
      "name lgb,fold:5\n",
      "[100]\tvalid_0's auc: 0.902593\tvalid_0's pauc: 0.122793\n",
      "[200]\tvalid_0's auc: 0.911117\tvalid_0's pauc: 0.129761\n",
      "[300]\tvalid_0's auc: 0.916867\tvalid_0's pauc: 0.134939\n",
      "[400]\tvalid_0's auc: 0.922912\tvalid_0's pauc: 0.141171\n",
      "name lgb,fold:6\n",
      "[100]\tvalid_0's auc: 0.949654\tvalid_0's pauc: 0.164499\n",
      "[200]\tvalid_0's auc: 0.951857\tvalid_0's pauc: 0.164864\n",
      "[300]\tvalid_0's auc: 0.950427\tvalid_0's pauc: 0.163052\n",
      "[400]\tvalid_0's auc: 0.948717\tvalid_0's pauc: 0.161183\n",
      "name lgb,fold:7\n",
      "[100]\tvalid_0's auc: 0.953374\tvalid_0's pauc: 0.16271\n",
      "[200]\tvalid_0's auc: 0.956247\tvalid_0's pauc: 0.164092\n",
      "[300]\tvalid_0's auc: 0.953082\tvalid_0's pauc: 0.160757\n",
      "[400]\tvalid_0's auc: 0.952492\tvalid_0's pauc: 0.160019\n",
      "name:lgb,pauc:('pauc', 0.1630669083558572, True)\n",
      "lgb_test_pro[:10]:[0.51942215 0.53241657 0.5735757 ]\n",
      "name cat,fold:0\n",
      "0:\tlearn: 0.5970125\ttest: 0.5879064\tbest: 0.5879064 (0)\ttotal: 22.3s\tremaining: 2h 28m 11s\n",
      "100:\tlearn: 0.0797934\ttest: 0.0247002\tbest: 0.0247002 (100)\ttotal: 23.7s\tremaining: 1m 10s\n",
      "200:\tlearn: 0.0600169\ttest: 0.0217012\tbest: 0.0217012 (200)\ttotal: 25.1s\tremaining: 24.9s\n",
      "300:\tlearn: 0.0480227\ttest: 0.0201605\tbest: 0.0201487 (299)\ttotal: 26.6s\tremaining: 8.76s\n",
      "399:\tlearn: 0.0404623\ttest: 0.0191986\tbest: 0.0191986 (399)\ttotal: 28.1s\tremaining: 0us\n",
      "bestTest = 0.01919855166\n",
      "bestIteration = 399\n",
      "name cat,fold:1\n",
      "0:\tlearn: 0.5963589\ttest: 0.5882306\tbest: 0.5882306 (0)\ttotal: 16.3ms\tremaining: 6.52s\n",
      "100:\tlearn: 0.0794266\ttest: 0.0262891\tbest: 0.0262891 (100)\ttotal: 1.42s\tremaining: 4.22s\n",
      "200:\tlearn: 0.0604876\ttest: 0.0237290\tbest: 0.0237290 (200)\ttotal: 2.82s\tremaining: 2.79s\n",
      "300:\tlearn: 0.0487529\ttest: 0.0225626\tbest: 0.0225418 (299)\ttotal: 4.29s\tremaining: 1.41s\n",
      "399:\tlearn: 0.0415901\ttest: 0.0215849\tbest: 0.0215849 (399)\ttotal: 5.75s\tremaining: 0us\n",
      "bestTest = 0.02158488358\n",
      "bestIteration = 399\n",
      "name cat,fold:2\n",
      "0:\tlearn: 0.5976772\ttest: 0.5890806\tbest: 0.5890806 (0)\ttotal: 16.1ms\tremaining: 6.41s\n",
      "100:\tlearn: 0.0799819\ttest: 0.0265145\tbest: 0.0265145 (100)\ttotal: 1.43s\tremaining: 4.23s\n",
      "200:\tlearn: 0.0608657\ttest: 0.0232403\tbest: 0.0232403 (200)\ttotal: 2.83s\tremaining: 2.81s\n",
      "300:\tlearn: 0.0492785\ttest: 0.0218936\tbest: 0.0218674 (289)\ttotal: 4.28s\tremaining: 1.41s\n",
      "399:\tlearn: 0.0410115\ttest: 0.0209844\tbest: 0.0209803 (398)\ttotal: 5.74s\tremaining: 0us\n",
      "bestTest = 0.02098033701\n",
      "bestIteration = 398\n",
      "Shrink model to first 399 iterations.\n",
      "name cat,fold:3\n",
      "0:\tlearn: 0.5911378\ttest: 0.5877944\tbest: 0.5877944 (0)\ttotal: 18.6ms\tremaining: 7.41s\n",
      "100:\tlearn: 0.0809230\ttest: 0.0297852\tbest: 0.0297852 (100)\ttotal: 1.58s\tremaining: 4.68s\n",
      "200:\tlearn: 0.0619179\ttest: 0.0262629\tbest: 0.0262461 (199)\ttotal: 3.01s\tremaining: 2.98s\n",
      "300:\tlearn: 0.0493545\ttest: 0.0245426\tbest: 0.0245230 (298)\ttotal: 4.45s\tremaining: 1.46s\n",
      "399:\tlearn: 0.0429234\ttest: 0.0237579\tbest: 0.0237579 (399)\ttotal: 5.92s\tremaining: 0us\n",
      "bestTest = 0.02375794309\n",
      "bestIteration = 399\n",
      "name cat,fold:4\n",
      "0:\tlearn: 0.5973217\ttest: 0.5900211\tbest: 0.5900211 (0)\ttotal: 14.9ms\tremaining: 5.93s\n",
      "100:\tlearn: 0.0793162\ttest: 0.0267178\tbest: 0.0266577 (97)\ttotal: 1.41s\tremaining: 4.16s\n",
      "200:\tlearn: 0.0611578\ttest: 0.0238135\tbest: 0.0238135 (200)\ttotal: 2.81s\tremaining: 2.79s\n",
      "300:\tlearn: 0.0488836\ttest: 0.0220101\tbest: 0.0220101 (300)\ttotal: 4.3s\tremaining: 1.42s\n",
      "399:\tlearn: 0.0413073\ttest: 0.0210346\tbest: 0.0210346 (399)\ttotal: 5.73s\tremaining: 0us\n",
      "bestTest = 0.02103463535\n",
      "bestIteration = 399\n",
      "name cat,fold:5\n",
      "0:\tlearn: 0.5967328\ttest: 0.5941632\tbest: 0.5941632 (0)\ttotal: 16ms\tremaining: 6.37s\n",
      "100:\tlearn: 0.0780538\ttest: 0.0310122\tbest: 0.0309508 (93)\ttotal: 1.38s\tremaining: 4.1s\n",
      "200:\tlearn: 0.0590659\ttest: 0.0281361\tbest: 0.0281361 (200)\ttotal: 2.82s\tremaining: 2.79s\n",
      "300:\tlearn: 0.0461573\ttest: 0.0260044\tbest: 0.0259732 (289)\ttotal: 4.31s\tremaining: 1.42s\n",
      "399:\tlearn: 0.0391744\ttest: 0.0247589\tbest: 0.0247589 (399)\ttotal: 5.78s\tremaining: 0us\n",
      "bestTest = 0.0247588737\n",
      "bestIteration = 399\n",
      "name cat,fold:6\n",
      "0:\tlearn: 0.5942395\ttest: 0.5914840\tbest: 0.5914840 (0)\ttotal: 17.6ms\tremaining: 7.04s\n",
      "100:\tlearn: 0.0751533\ttest: 0.0278864\tbest: 0.0278864 (100)\ttotal: 1.41s\tremaining: 4.17s\n",
      "200:\tlearn: 0.0565620\ttest: 0.0242576\tbest: 0.0242576 (200)\ttotal: 2.81s\tremaining: 2.78s\n",
      "300:\tlearn: 0.0439787\ttest: 0.0223049\tbest: 0.0223049 (300)\ttotal: 4.33s\tremaining: 1.42s\n",
      "399:\tlearn: 0.0382928\ttest: 0.0215408\tbest: 0.0215302 (398)\ttotal: 5.84s\tremaining: 0us\n",
      "bestTest = 0.02153020189\n",
      "bestIteration = 398\n",
      "Shrink model to first 399 iterations.\n",
      "name cat,fold:7\n",
      "0:\tlearn: 0.5968262\ttest: 0.5903408\tbest: 0.5903408 (0)\ttotal: 14.7ms\tremaining: 5.87s\n",
      "100:\tlearn: 0.0776671\ttest: 0.0285762\tbest: 0.0285762 (100)\ttotal: 1.4s\tremaining: 4.16s\n",
      "200:\tlearn: 0.0598103\ttest: 0.0252379\tbest: 0.0252041 (199)\ttotal: 2.82s\tremaining: 2.79s\n",
      "300:\tlearn: 0.0472787\ttest: 0.0236676\tbest: 0.0236676 (300)\ttotal: 4.27s\tremaining: 1.4s\n",
      "399:\tlearn: 0.0401422\ttest: 0.0228112\tbest: 0.0228112 (399)\ttotal: 5.7s\tremaining: 0us\n",
      "bestTest = 0.02281117953\n",
      "bestIteration = 399\n",
      "name:cat,pauc:('pauc', 0.1626537400469947, True)\n",
      "cat_test_pro[:10]:[0.53659467 0.54980377 0.55795227]\n",
      "name xgb,fold:0\n",
      "[0]\tvalidation_0-logloss:0.17300\n",
      "[100]\tvalidation_0-logloss:0.07973\n",
      "[200]\tvalidation_0-logloss:0.04335\n",
      "[300]\tvalidation_0-logloss:0.02806\n",
      "[399]\tvalidation_0-logloss:0.02093\n",
      "name xgb,fold:1\n",
      "[0]\tvalidation_0-logloss:0.17076\n",
      "[100]\tvalidation_0-logloss:0.07941\n",
      "[200]\tvalidation_0-logloss:0.04382\n",
      "[300]\tvalidation_0-logloss:0.02853\n",
      "[399]\tvalidation_0-logloss:0.02178\n",
      "name xgb,fold:2\n",
      "[0]\tvalidation_0-logloss:0.17233\n",
      "[100]\tvalidation_0-logloss:0.08122\n",
      "[200]\tvalidation_0-logloss:0.04531\n",
      "[300]\tvalidation_0-logloss:0.02962\n",
      "[399]\tvalidation_0-logloss:0.02247\n",
      "name xgb,fold:3\n",
      "[0]\tvalidation_0-logloss:0.17223\n",
      "[100]\tvalidation_0-logloss:0.08406\n",
      "[200]\tvalidation_0-logloss:0.04800\n",
      "[300]\tvalidation_0-logloss:0.03201\n",
      "[399]\tvalidation_0-logloss:0.02437\n",
      "name xgb,fold:4\n",
      "[0]\tvalidation_0-logloss:0.17201\n",
      "[100]\tvalidation_0-logloss:0.08142\n",
      "[200]\tvalidation_0-logloss:0.04549\n",
      "[300]\tvalidation_0-logloss:0.02996\n",
      "[399]\tvalidation_0-logloss:0.02264\n",
      "name xgb,fold:5\n",
      "[0]\tvalidation_0-logloss:0.17262\n",
      "[100]\tvalidation_0-logloss:0.08302\n",
      "[200]\tvalidation_0-logloss:0.04783\n",
      "[300]\tvalidation_0-logloss:0.03268\n",
      "[399]\tvalidation_0-logloss:0.02540\n",
      "name xgb,fold:6\n",
      "[0]\tvalidation_0-logloss:0.17008\n",
      "[100]\tvalidation_0-logloss:0.08043\n",
      "[200]\tvalidation_0-logloss:0.04560\n",
      "[300]\tvalidation_0-logloss:0.03081\n",
      "[399]\tvalidation_0-logloss:0.02404\n",
      "name xgb,fold:7\n",
      "[0]\tvalidation_0-logloss:0.17219\n",
      "[100]\tvalidation_0-logloss:0.08073\n",
      "[200]\tvalidation_0-logloss:0.04451\n",
      "[300]\tvalidation_0-logloss:0.02888\n",
      "[399]\tvalidation_0-logloss:0.02162\n",
      "name:xgb,pauc:('pauc', 0.16521694876757928, True)\n",
      "xgb_test_pro[:10]:[0.40152859 0.42576409 0.42161907]\n",
      "start best_pauc:0.1654312922673316\n",
      "end best_pauc:0.16737979355975346\n",
      "[0.4861842  0.50295903 0.51827428]\n"
     ]
    },
    {
     "data": {
      "text/plain": [
       "0"
      ]
     },
     "execution_count": 4,
     "metadata": {},
     "output_type": "execute_result"
    }
   ],
   "source": [
    "os.system('python /kaggle/input/cynfiles2/c3.py')"
   ]
  },
  {
   "cell_type": "code",
   "execution_count": 5,
   "id": "c3f4dcbd",
   "metadata": {
    "execution": {
     "iopub.execute_input": "2024-09-05T09:10:01.903025Z",
     "iopub.status.busy": "2024-09-05T09:10:01.902153Z",
     "iopub.status.idle": "2024-09-05T09:10:04.134706Z",
     "shell.execute_reply": "2024-09-05T09:10:04.133622Z"
    },
    "papermill": {
     "duration": 2.256555,
     "end_time": "2024-09-05T09:10:04.137232",
     "exception": false,
     "start_time": "2024-09-05T09:10:01.880677",
     "status": "completed"
    },
    "tags": []
   },
   "outputs": [
    {
     "name": "stdout",
     "output_type": "stream",
     "text": [
      "1.10967141 0.984029076 0.906299514\r\n"
     ]
    }
   ],
   "source": [
    "def manage_downloads():\n",
    "    threads = [\n",
    "        DownloadThread(\"http://example.com/image1.png\", \"image1.png\"),\n",
    "        DownloadThread(\"http://example.com/image2.png\", \"image2.png\")\n",
    "    ]\n",
    "    for thread in threads:\n",
    "        thread.start()\n",
    "    for thread in threads:\n",
    "        thread.join()\n",
    "\n",
    "!python /kaggle/input/cynfiles2/ens.py --a 1.10967141 --b 0.984029076"
   ]
  },
  {
   "cell_type": "code",
   "execution_count": null,
   "id": "6c618e6f",
   "metadata": {
    "papermill": {
     "duration": 0.019569,
     "end_time": "2024-09-05T09:10:04.176918",
     "exception": false,
     "start_time": "2024-09-05T09:10:04.157349",
     "status": "completed"
    },
    "tags": []
   },
   "outputs": [],
   "source": []
  }
 ],
 "metadata": {
  "kaggle": {
   "accelerator": "gpu",
   "dataSources": [
    {
     "databundleVersionId": 9094797,
     "sourceId": 63056,
     "sourceType": "competition"
    },
    {
     "sourceId": 193364151,
     "sourceType": "kernelVersion"
    },
    {
     "sourceId": 195391701,
     "sourceType": "kernelVersion"
    },
    {
     "sourceId": 195391538,
     "sourceType": "kernelVersion"
    }
   ],
   "dockerImageVersionId": 30747,
   "isGpuEnabled": true,
   "isInternetEnabled": false,
   "language": "python",
   "sourceType": "notebook"
  },
  "kernelspec": {
   "display_name": "Python 3",
   "language": "python",
   "name": "python3"
  },
  "language_info": {
   "codemirror_mode": {
    "name": "ipython",
    "version": 3
   },
   "file_extension": ".py",
   "mimetype": "text/x-python",
   "name": "python",
   "nbconvert_exporter": "python",
   "pygments_lexer": "ipython3",
   "version": "3.10.13"
  },
  "papermill": {
   "default_parameters": {},
   "duration": 2254.240053,
   "end_time": "2024-09-05T09:10:04.520808",
   "environment_variables": {},
   "exception": null,
   "input_path": "__notebook__.ipynb",
   "output_path": "__notebook__.ipynb",
   "parameters": {},
   "start_time": "2024-09-05T08:32:30.280755",
   "version": "2.5.0"
  }
 },
 "nbformat": 4,
 "nbformat_minor": 5
}
