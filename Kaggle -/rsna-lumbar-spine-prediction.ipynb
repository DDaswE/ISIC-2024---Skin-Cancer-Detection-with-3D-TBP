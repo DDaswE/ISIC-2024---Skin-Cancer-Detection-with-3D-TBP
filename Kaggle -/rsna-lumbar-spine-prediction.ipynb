{
 "cells": [
  {
   "cell_type": "markdown",
   "id": "12e97025",
   "metadata": {
    "papermill": {
     "duration": 0.007457,
     "end_time": "2024-09-10T18:44:52.391816",
     "exception": false,
     "start_time": "2024-09-10T18:44:52.384359",
     "status": "completed"
    },
    "tags": []
   },
   "source": [
    "## Import the Libraries"
   ]
  },
  {
   "cell_type": "code",
   "execution_count": 1,
   "id": "b4e226fc",
   "metadata": {
    "execution": {
     "iopub.execute_input": "2024-09-10T18:44:52.407543Z",
     "iopub.status.busy": "2024-09-10T18:44:52.406698Z",
     "iopub.status.idle": "2024-09-10T18:45:22.169165Z",
     "shell.execute_reply": "2024-09-10T18:45:22.168187Z"
    },
    "papermill": {
     "duration": 29.77272,
     "end_time": "2024-09-10T18:45:22.171392",
     "exception": false,
     "start_time": "2024-09-10T18:44:52.398672",
     "status": "completed"
    },
    "tags": []
   },
   "outputs": [
    {
     "name": "stderr",
     "output_type": "stream",
     "text": [
      "/opt/conda/lib/python3.10/site-packages/albumentations/check_version.py:49: UserWarning: Error fetching version info <urlopen error [Errno -3] Temporary failure in name resolution>\n",
      "  data = fetch_version_info()\n"
     ]
    }
   ],
   "source": [
    "import os\n",
    "import gc\n",
    "import sys\n",
    "from PIL import Image\n",
    "import cv2\n",
    "import math, random\n",
    "import numpy as np\n",
    "import pandas as pd\n",
    "from glob import glob\n",
    "from tqdm import tqdm\n",
    "import matplotlib.pyplot as plt\n",
    "from sklearn.model_selection import KFold\n",
    "\n",
    "from collections import OrderedDict\n",
    "\n",
    "import torch\n",
    "import torch.nn.functional as F\n",
    "from torch import nn\n",
    "from torch.utils.data import DataLoader, Dataset\n",
    "from torch.optim import AdamW\n",
    "\n",
    "import timm\n",
    "from timm.utils import ModelEmaV2\n",
    "from transformers import get_cosine_schedule_with_warmup\n",
    "\n",
    "import albumentations as A\n",
    "\n",
    "from sklearn.model_selection import KFold\n",
    "\n",
    "import re\n",
    "import pydicom\n",
    "from typing import Optional\n",
    "import glob"
   ]
  },
  {
   "cell_type": "markdown",
   "id": "96ec617b",
   "metadata": {
    "papermill": {
     "duration": 0.006657,
     "end_time": "2024-09-10T18:45:22.185078",
     "exception": false,
     "start_time": "2024-09-10T18:45:22.178421",
     "status": "completed"
    },
    "tags": []
   },
   "source": [
    "## Load & Edit The Data"
   ]
  },
  {
   "cell_type": "code",
   "execution_count": 2,
   "id": "cd8a4597",
   "metadata": {
    "execution": {
     "iopub.execute_input": "2024-09-10T18:45:22.199909Z",
     "iopub.status.busy": "2024-09-10T18:45:22.199400Z",
     "iopub.status.idle": "2024-09-10T18:45:22.269104Z",
     "shell.execute_reply": "2024-09-10T18:45:22.268112Z"
    },
    "papermill": {
     "duration": 0.079228,
     "end_time": "2024-09-10T18:45:22.270966",
     "exception": false,
     "start_time": "2024-09-10T18:45:22.191738",
     "status": "completed"
    },
    "tags": []
   },
   "outputs": [],
   "source": [
    "rd = '/kaggle/input/rsna-2024-lumbar-spine-degenerative-classification'\n",
    "OUTPUT_DIR = f'/kaggle/input/rsna2024-lsdc-training-baseline/rsna24-results'\n",
    "device = 'cuda:0' if torch.cuda.is_available() else 'cpu'"
   ]
  },
  {
   "cell_type": "code",
   "execution_count": 3,
   "id": "8e36cce6",
   "metadata": {
    "execution": {
     "iopub.execute_input": "2024-09-10T18:45:22.285933Z",
     "iopub.status.busy": "2024-09-10T18:45:22.285617Z",
     "iopub.status.idle": "2024-09-10T18:45:22.291500Z",
     "shell.execute_reply": "2024-09-10T18:45:22.290743Z"
    },
    "papermill": {
     "duration": 0.015439,
     "end_time": "2024-09-10T18:45:22.293382",
     "exception": false,
     "start_time": "2024-09-10T18:45:22.277943",
     "status": "completed"
    },
    "tags": []
   },
   "outputs": [],
   "source": [
    "# Configuration\n",
    "EXP_NO = \"006\"\n",
    "MODEL_DIR = f\"/kaggle/input/rsna24-a-{EXP_NO}\"\n",
    "MODEL_NAME = \"tf_efficientnet_b5.ns_jft_in1k\"\n",
    "\n",
    "device = 'cuda:0' if torch.cuda.is_available() else 'cpu'\n",
    "N_WORKERS = os.cpu_count()\n",
    "USE_AMP = True\n",
    "SEED = 42\n",
    "NUM_FOLDS = 5\n",
    "\n",
    "\n",
    "IMG_SIZE = [512, 512]\n",
    "IN_CHANS = 30\n",
    "N_LABELS = 25\n",
    "N_CLASSES = 3 * N_LABELS\n",
    "\n",
    "BATCH_SIZE = 1"
   ]
  },
  {
   "cell_type": "code",
   "execution_count": 4,
   "id": "70670bbc",
   "metadata": {
    "execution": {
     "iopub.execute_input": "2024-09-10T18:45:22.307885Z",
     "iopub.status.busy": "2024-09-10T18:45:22.307602Z",
     "iopub.status.idle": "2024-09-10T18:45:22.314537Z",
     "shell.execute_reply": "2024-09-10T18:45:22.313709Z"
    },
    "papermill": {
     "duration": 0.016334,
     "end_time": "2024-09-10T18:45:22.316421",
     "exception": false,
     "start_time": "2024-09-10T18:45:22.300087",
     "status": "completed"
    },
    "tags": []
   },
   "outputs": [
    {
     "data": {
      "text/plain": [
       "device(type='cuda', index=0)"
      ]
     },
     "execution_count": 4,
     "metadata": {},
     "output_type": "execute_result"
    }
   ],
   "source": [
    "rd = '/kaggle/input/rsna-2024-lumbar-spine-degenerative-classification'\n",
    "device = torch.device('cuda:0') if torch.cuda.is_available() else torch.device('cpu')\n",
    "device"
   ]
  },
  {
   "cell_type": "code",
   "execution_count": 5,
   "id": "1e2e6ed6",
   "metadata": {
    "execution": {
     "iopub.execute_input": "2024-09-10T18:45:22.331327Z",
     "iopub.status.busy": "2024-09-10T18:45:22.331012Z",
     "iopub.status.idle": "2024-09-10T18:45:22.356751Z",
     "shell.execute_reply": "2024-09-10T18:45:22.355921Z"
    },
    "papermill": {
     "duration": 0.035302,
     "end_time": "2024-09-10T18:45:22.358682",
     "exception": false,
     "start_time": "2024-09-10T18:45:22.323380",
     "status": "completed"
    },
    "tags": []
   },
   "outputs": [
    {
     "data": {
      "text/html": [
       "<div>\n",
       "<style scoped>\n",
       "    .dataframe tbody tr th:only-of-type {\n",
       "        vertical-align: middle;\n",
       "    }\n",
       "\n",
       "    .dataframe tbody tr th {\n",
       "        vertical-align: top;\n",
       "    }\n",
       "\n",
       "    .dataframe thead th {\n",
       "        text-align: right;\n",
       "    }\n",
       "</style>\n",
       "<table border=\"1\" class=\"dataframe\">\n",
       "  <thead>\n",
       "    <tr style=\"text-align: right;\">\n",
       "      <th></th>\n",
       "      <th>study_id</th>\n",
       "      <th>series_id</th>\n",
       "      <th>series_description</th>\n",
       "    </tr>\n",
       "  </thead>\n",
       "  <tbody>\n",
       "    <tr>\n",
       "      <th>0</th>\n",
       "      <td>44036939</td>\n",
       "      <td>2828203845</td>\n",
       "      <td>Sagittal T1</td>\n",
       "    </tr>\n",
       "    <tr>\n",
       "      <th>1</th>\n",
       "      <td>44036939</td>\n",
       "      <td>3481971518</td>\n",
       "      <td>Axial T2</td>\n",
       "    </tr>\n",
       "    <tr>\n",
       "      <th>2</th>\n",
       "      <td>44036939</td>\n",
       "      <td>3844393089</td>\n",
       "      <td>Sagittal T2/STIR</td>\n",
       "    </tr>\n",
       "  </tbody>\n",
       "</table>\n",
       "</div>"
      ],
      "text/plain": [
       "   study_id   series_id series_description\n",
       "0  44036939  2828203845        Sagittal T1\n",
       "1  44036939  3481971518           Axial T2\n",
       "2  44036939  3844393089   Sagittal T2/STIR"
      ]
     },
     "execution_count": 5,
     "metadata": {},
     "output_type": "execute_result"
    }
   ],
   "source": [
    "df = pd.read_csv(f'{rd}/test_series_descriptions.csv')\n",
    "df.head()"
   ]
  },
  {
   "cell_type": "code",
   "execution_count": 6,
   "id": "9b5688d6",
   "metadata": {
    "execution": {
     "iopub.execute_input": "2024-09-10T18:45:22.374317Z",
     "iopub.status.busy": "2024-09-10T18:45:22.374042Z",
     "iopub.status.idle": "2024-09-10T18:45:22.380709Z",
     "shell.execute_reply": "2024-09-10T18:45:22.379889Z"
    },
    "papermill": {
     "duration": 0.016526,
     "end_time": "2024-09-10T18:45:22.382646",
     "exception": false,
     "start_time": "2024-09-10T18:45:22.366120",
     "status": "completed"
    },
    "tags": []
   },
   "outputs": [],
   "source": [
    "study_ids = list(df['study_id'].unique())"
   ]
  },
  {
   "cell_type": "code",
   "execution_count": 7,
   "id": "9b01a802",
   "metadata": {
    "execution": {
     "iopub.execute_input": "2024-09-10T18:45:22.397845Z",
     "iopub.status.busy": "2024-09-10T18:45:22.397558Z",
     "iopub.status.idle": "2024-09-10T18:45:22.405041Z",
     "shell.execute_reply": "2024-09-10T18:45:22.404220Z"
    },
    "papermill": {
     "duration": 0.017259,
     "end_time": "2024-09-10T18:45:22.406937",
     "exception": false,
     "start_time": "2024-09-10T18:45:22.389678",
     "status": "completed"
    },
    "tags": []
   },
   "outputs": [],
   "source": [
    "sample_sub = pd.read_csv(f'{rd}/sample_submission.csv')"
   ]
  },
  {
   "cell_type": "code",
   "execution_count": 8,
   "id": "1e20b915",
   "metadata": {
    "execution": {
     "iopub.execute_input": "2024-09-10T18:45:22.422569Z",
     "iopub.status.busy": "2024-09-10T18:45:22.422271Z",
     "iopub.status.idle": "2024-09-10T18:45:22.427895Z",
     "shell.execute_reply": "2024-09-10T18:45:22.427066Z"
    },
    "papermill": {
     "duration": 0.015297,
     "end_time": "2024-09-10T18:45:22.429766",
     "exception": false,
     "start_time": "2024-09-10T18:45:22.414469",
     "status": "completed"
    },
    "tags": []
   },
   "outputs": [
    {
     "data": {
      "text/plain": [
       "['normal_mild', 'moderate', 'severe']"
      ]
     },
     "execution_count": 8,
     "metadata": {},
     "output_type": "execute_result"
    }
   ],
   "source": [
    "LABELS = list(sample_sub.columns[1:])\n",
    "LABELS"
   ]
  },
  {
   "cell_type": "code",
   "execution_count": 9,
   "id": "ba6b1e42",
   "metadata": {
    "execution": {
     "iopub.execute_input": "2024-09-10T18:45:22.445220Z",
     "iopub.status.busy": "2024-09-10T18:45:22.444917Z",
     "iopub.status.idle": "2024-09-10T18:45:22.449418Z",
     "shell.execute_reply": "2024-09-10T18:45:22.448568Z"
    },
    "papermill": {
     "duration": 0.014371,
     "end_time": "2024-09-10T18:45:22.451352",
     "exception": false,
     "start_time": "2024-09-10T18:45:22.436981",
     "status": "completed"
    },
    "tags": []
   },
   "outputs": [],
   "source": [
    "# Conditions and Levels\n",
    "CONDITIONS = [\n",
    "    'spinal_canal_stenosis', \n",
    "    'left_neural_foraminal_narrowing', \n",
    "    'right_neural_foraminal_narrowing',\n",
    "    'left_subarticular_stenosis',\n",
    "    'right_subarticular_stenosis'\n",
    "]\n",
    "\n",
    "LEVELS = [\n",
    "    'l1_l2',\n",
    "    'l2_l3',\n",
    "    'l3_l4',\n",
    "    'l4_l5',\n",
    "    'l5_s1',\n",
    "]"
   ]
  },
  {
   "cell_type": "code",
   "execution_count": 10,
   "id": "487caab1",
   "metadata": {
    "execution": {
     "iopub.execute_input": "2024-09-10T18:45:22.467101Z",
     "iopub.status.busy": "2024-09-10T18:45:22.466423Z",
     "iopub.status.idle": "2024-09-10T18:45:22.471198Z",
     "shell.execute_reply": "2024-09-10T18:45:22.470380Z"
    },
    "papermill": {
     "duration": 0.0147,
     "end_time": "2024-09-10T18:45:22.473118",
     "exception": false,
     "start_time": "2024-09-10T18:45:22.458418",
     "status": "completed"
    },
    "tags": []
   },
   "outputs": [],
   "source": [
    "# Helper functions\n",
    "def atoi(text):\n",
    "    return int(text) if text.isdigit() else text\n",
    "\n",
    "def natural_keys(text):\n",
    "    return [ atoi(c) for c in re.split(r'(\\d+)', text) ]"
   ]
  },
  {
   "cell_type": "markdown",
   "id": "75443539",
   "metadata": {
    "papermill": {
     "duration": 0.007076,
     "end_time": "2024-09-10T18:45:22.487351",
     "exception": false,
     "start_time": "2024-09-10T18:45:22.480275",
     "status": "completed"
    },
    "tags": []
   },
   "source": [
    "## Feature Engineering"
   ]
  },
  {
   "cell_type": "code",
   "execution_count": 11,
   "id": "901b3ea7",
   "metadata": {
    "execution": {
     "iopub.execute_input": "2024-09-10T18:45:22.503342Z",
     "iopub.status.busy": "2024-09-10T18:45:22.502650Z",
     "iopub.status.idle": "2024-09-10T18:45:22.523400Z",
     "shell.execute_reply": "2024-09-10T18:45:22.522546Z"
    },
    "papermill": {
     "duration": 0.030723,
     "end_time": "2024-09-10T18:45:22.525284",
     "exception": false,
     "start_time": "2024-09-10T18:45:22.494561",
     "status": "completed"
    },
    "tags": []
   },
   "outputs": [],
   "source": [
    "class RSNA24TestDataset(Dataset):\n",
    "    def __init__(self, df, study_ids, phase='test', transform=None):\n",
    "        self.df = df\n",
    "        self.study_ids = study_ids\n",
    "        self.transform = transform\n",
    "        self.phase = phase\n",
    "    \n",
    "    def __len__(self):\n",
    "        return len(self.study_ids)\n",
    "    \n",
    "    def get_img_paths(self, study_id, series_desc):\n",
    "        pdf = self.df[self.df['study_id']==study_id]\n",
    "        pdf_ = pdf[pdf['series_description']==series_desc]\n",
    "        allimgs = []\n",
    "        for i, row in pdf_.iterrows():\n",
    "            pimgs = glob.glob(f'{rd}/test_images/{study_id}/{row[\"series_id\"]}/*.dcm')\n",
    "            pimgs = sorted(pimgs, key=natural_keys)\n",
    "            allimgs.extend(pimgs)\n",
    "            \n",
    "        return allimgs\n",
    "    \n",
    "    def read_dcm_ret_arr(self, src_path):\n",
    "        dicom_data = pydicom.dcmread(src_path)\n",
    "        image = dicom_data.pixel_array\n",
    "        image = (image - image.min()) / (image.max() - image.min() + 1e-6) * 255\n",
    "        img = cv2.resize(image, (IMG_SIZE[0], IMG_SIZE[1]),interpolation=cv2.INTER_CUBIC)\n",
    "        assert img.shape==(IMG_SIZE[0], IMG_SIZE[1])\n",
    "        return img\n",
    "\n",
    "    def __getitem__(self, idx):\n",
    "        x = np.zeros((IMG_SIZE[0], IMG_SIZE[1], IN_CHANS), dtype=np.uint8)\n",
    "        st_id = self.study_ids[idx]        \n",
    "        \n",
    "        # Sagittal T1\n",
    "        allimgs_st1 = self.get_img_paths(st_id, 'Sagittal T1')\n",
    "        if len(allimgs_st1)==0:\n",
    "            print(st_id, ': Sagittal T1, has no images')\n",
    "        \n",
    "        else:\n",
    "            step = len(allimgs_st1) / 10.0\n",
    "            st = len(allimgs_st1)/2.0 - 4.0*step\n",
    "            end = len(allimgs_st1)+0.0001\n",
    "            for j, i in enumerate(np.arange(st, end, step)):\n",
    "                try:\n",
    "                    ind2 = max(0, int((i-0.5001).round()))\n",
    "                    img = self.read_dcm_ret_arr(allimgs_st1[ind2])\n",
    "                    x[..., j] = img.astype(np.uint8)\n",
    "                except:\n",
    "                    print(f'failed to load on {st_id}, Sagittal T1')\n",
    "                    pass\n",
    "            \n",
    "        # Sagittal T2/STIR\n",
    "        allimgs_st2 = self.get_img_paths(st_id, 'Sagittal T2/STIR')\n",
    "        if len(allimgs_st2)==0:\n",
    "            print(st_id, ': Sagittal T2/STIR, has no images')\n",
    "            \n",
    "        else:\n",
    "            step = len(allimgs_st2) / 10.0\n",
    "            st = len(allimgs_st2)/2.0 - 4.0*step\n",
    "            end = len(allimgs_st2)+0.0001\n",
    "            for j, i in enumerate(np.arange(st, end, step)):\n",
    "                try:\n",
    "                    ind2 = max(0, int((i-0.5001).round()))\n",
    "                    img = self.read_dcm_ret_arr(allimgs_st2[ind2])\n",
    "                    x[..., j+10] = img.astype(np.uint8)\n",
    "                except:\n",
    "                    print(f'failed to load on {st_id}, Sagittal T2/STIR')\n",
    "                    pass\n",
    "            \n",
    "        # Axial T2\n",
    "        allimgs_at2 = self.get_img_paths(st_id, 'Axial T2')\n",
    "        if len(allimgs_at2)==0:\n",
    "            print(st_id, ': Axial T2, has no images')\n",
    "            \n",
    "        else:\n",
    "            step = len(allimgs_at2) / 10.0\n",
    "            st = len(allimgs_at2)/2.0 - 4.0*step\n",
    "            end = len(allimgs_at2)+0.0001\n",
    "\n",
    "            for j, i in enumerate(np.arange(st, end, step)):\n",
    "                try:\n",
    "                    ind2 = max(0, int((i-0.5001).round()))\n",
    "                    img = self.read_dcm_ret_arr(allimgs_at2[ind2])\n",
    "                    x[..., j+20] = img.astype(np.uint8)\n",
    "                except:\n",
    "                    print(f'failed to load on {st_id}, Axial T2')\n",
    "                    pass  \n",
    "            \n",
    "            \n",
    "        if self.transform is not None:\n",
    "            x = self.transform(image=x)['image']\n",
    "\n",
    "        x = x.transpose(2, 0, 1)\n",
    "                \n",
    "        return x, str(st_id)"
   ]
  },
  {
   "cell_type": "code",
   "execution_count": 12,
   "id": "458bc167",
   "metadata": {
    "execution": {
     "iopub.execute_input": "2024-09-10T18:45:22.540655Z",
     "iopub.status.busy": "2024-09-10T18:45:22.540354Z",
     "iopub.status.idle": "2024-09-10T18:45:22.545492Z",
     "shell.execute_reply": "2024-09-10T18:45:22.544642Z"
    },
    "papermill": {
     "duration": 0.015051,
     "end_time": "2024-09-10T18:45:22.547429",
     "exception": false,
     "start_time": "2024-09-10T18:45:22.532378",
     "status": "completed"
    },
    "tags": []
   },
   "outputs": [],
   "source": [
    "transforms_test = A.Compose([\n",
    "    A.Resize(IMG_SIZE[0], IMG_SIZE[1]),\n",
    "    A.Normalize(mean=0.5, std=0.5)\n",
    "])"
   ]
  },
  {
   "cell_type": "code",
   "execution_count": 13,
   "id": "03e4dab7",
   "metadata": {
    "execution": {
     "iopub.execute_input": "2024-09-10T18:45:22.562627Z",
     "iopub.status.busy": "2024-09-10T18:45:22.562342Z",
     "iopub.status.idle": "2024-09-10T18:45:22.566865Z",
     "shell.execute_reply": "2024-09-10T18:45:22.566058Z"
    },
    "papermill": {
     "duration": 0.014361,
     "end_time": "2024-09-10T18:45:22.568793",
     "exception": false,
     "start_time": "2024-09-10T18:45:22.554432",
     "status": "completed"
    },
    "tags": []
   },
   "outputs": [],
   "source": [
    "test_ds = RSNA24TestDataset(df, study_ids, transform=transforms_test)\n",
    "test_dl = DataLoader(\n",
    "    test_ds, \n",
    "    batch_size=1, \n",
    "    shuffle=False,\n",
    "    num_workers=N_WORKERS,\n",
    "    pin_memory=True,\n",
    "    drop_last=False\n",
    ")"
   ]
  },
  {
   "cell_type": "markdown",
   "id": "99679101",
   "metadata": {
    "papermill": {
     "duration": 0.007087,
     "end_time": "2024-09-10T18:45:22.583276",
     "exception": false,
     "start_time": "2024-09-10T18:45:22.576189",
     "status": "completed"
    },
    "tags": []
   },
   "source": [
    "## Build The Model"
   ]
  },
  {
   "cell_type": "code",
   "execution_count": 14,
   "id": "c1050ac2",
   "metadata": {
    "execution": {
     "iopub.execute_input": "2024-09-10T18:45:22.599470Z",
     "iopub.status.busy": "2024-09-10T18:45:22.598630Z",
     "iopub.status.idle": "2024-09-10T18:45:22.607762Z",
     "shell.execute_reply": "2024-09-10T18:45:22.606902Z"
    },
    "papermill": {
     "duration": 0.019312,
     "end_time": "2024-09-10T18:45:22.609723",
     "exception": false,
     "start_time": "2024-09-10T18:45:22.590411",
     "status": "completed"
    },
    "tags": []
   },
   "outputs": [],
   "source": [
    "class RSNA24Model(nn.Module):\n",
    "    def __init__(\n",
    "        self,\n",
    "        model_name: str,\n",
    "        pretrained: bool,\n",
    "        features_only: bool,\n",
    "        in_chans: int,\n",
    "        n_classes: int,\n",
    "        n_labels: int,\n",
    "        loss_name: str,\n",
    "    ):\n",
    "        super().__init__()\n",
    "        self.model = timm.create_model(\n",
    "            model_name=model_name,\n",
    "            pretrained=pretrained, \n",
    "            features_only=features_only,\n",
    "            in_chans=in_chans,\n",
    "            num_classes=n_classes,\n",
    "            global_pool='avg'\n",
    "        )\n",
    "        self.loss_fn = loss_name\n",
    "        self.n_labels = n_labels\n",
    "    \n",
    "    def forward(\n",
    "        self,\n",
    "        x: torch.Tensor,\n",
    "        y: Optional[torch.Tensor],\n",
    "    ) -> dict[str, torch.Tensor]:\n",
    "        \n",
    "        logits = self.model(x)\n",
    "        \n",
    "        output = {\"logits\": logits}\n",
    "        if y is not None:\n",
    "            loss = 0\n",
    "            for col in range(self.n_labels):\n",
    "                pred = logits[:,col*3:col*3+3]\n",
    "                gt = y[:,col]\n",
    "                loss = loss + self.loss_fn(pred, gt) / self.n_labels\n",
    "            output[\"loss\"] = loss\n",
    "        \n",
    "        return output"
   ]
  },
  {
   "cell_type": "code",
   "execution_count": 15,
   "id": "a6e2fedb",
   "metadata": {
    "execution": {
     "iopub.execute_input": "2024-09-10T18:45:22.625322Z",
     "iopub.status.busy": "2024-09-10T18:45:22.625031Z",
     "iopub.status.idle": "2024-09-10T18:45:22.628768Z",
     "shell.execute_reply": "2024-09-10T18:45:22.627955Z"
    },
    "papermill": {
     "duration": 0.013858,
     "end_time": "2024-09-10T18:45:22.630739",
     "exception": false,
     "start_time": "2024-09-10T18:45:22.616881",
     "status": "completed"
    },
    "tags": []
   },
   "outputs": [],
   "source": [
    "models = []"
   ]
  },
  {
   "cell_type": "code",
   "execution_count": 16,
   "id": "dfb3b3af",
   "metadata": {
    "execution": {
     "iopub.execute_input": "2024-09-10T18:45:22.646608Z",
     "iopub.status.busy": "2024-09-10T18:45:22.645873Z",
     "iopub.status.idle": "2024-09-10T18:45:31.872260Z",
     "shell.execute_reply": "2024-09-10T18:45:31.871205Z"
    },
    "papermill": {
     "duration": 9.236734,
     "end_time": "2024-09-10T18:45:31.874631",
     "exception": false,
     "start_time": "2024-09-10T18:45:22.637897",
     "status": "completed"
    },
    "tags": []
   },
   "outputs": [
    {
     "name": "stdout",
     "output_type": "stream",
     "text": [
      "loading /kaggle/input/rsna24-a-006/006-0/best_model.pth...\n"
     ]
    },
    {
     "name": "stderr",
     "output_type": "stream",
     "text": [
      "/tmp/ipykernel_24/2537501273.py:6: FutureWarning: You are using `torch.load` with `weights_only=False` (the current default value), which uses the default pickle module implicitly. It is possible to construct malicious pickle data which will execute arbitrary code during unpickling (See https://github.com/pytorch/pytorch/blob/main/SECURITY.md#untrusted-models for more details). In a future release, the default value for `weights_only` will be flipped to `True`. This limits the functions that could be executed during unpickling. Arbitrary objects will no longer be allowed to be loaded via this mode unless they are explicitly allowlisted by the user via `torch.serialization.add_safe_globals`. We recommend you start setting `weights_only=True` for any use case where you don't have full control of the loaded file. Please open an issue on GitHub for any issues related to this experimental feature.\n",
      "  state_dict = torch.load(cp)\n"
     ]
    },
    {
     "name": "stdout",
     "output_type": "stream",
     "text": [
      "loading /kaggle/input/rsna24-a-006/006-1/best_model.pth...\n",
      "loading /kaggle/input/rsna24-a-006/006-2/best_model.pth...\n",
      "loading /kaggle/input/rsna24-a-006/006-3/best_model.pth...\n",
      "loading /kaggle/input/rsna24-a-006/006-4/best_model.pth...\n"
     ]
    }
   ],
   "source": [
    "for i in range(NUM_FOLDS):\n",
    "    cp = f\"{MODEL_DIR}/{EXP_NO}-{i}/best_model.pth\"\n",
    "#     cp = f\"{MODEL_DIR}/best_model.pth\"\n",
    "    print(f'loading {cp}...')\n",
    "    model = RSNA24Model(MODEL_NAME, False, False, IN_CHANS, N_CLASSES, 25, 'dummy')\n",
    "    state_dict = torch.load(cp)\n",
    "\n",
    "    # 予期しないキーを削除\n",
    "    if 'loss_fn.weight' in state_dict:\n",
    "        del state_dict['loss_fn.weight']\n",
    "    model.load_state_dict(state_dict)\n",
    "    model.eval()\n",
    "    model.to(device)\n",
    "    models.append(model)"
   ]
  },
  {
   "cell_type": "code",
   "execution_count": 17,
   "id": "a3bb0c3a",
   "metadata": {
    "execution": {
     "iopub.execute_input": "2024-09-10T18:45:31.891714Z",
     "iopub.status.busy": "2024-09-10T18:45:31.891384Z",
     "iopub.status.idle": "2024-09-10T18:45:34.251424Z",
     "shell.execute_reply": "2024-09-10T18:45:34.250335Z"
    },
    "papermill": {
     "duration": 2.370862,
     "end_time": "2024-09-10T18:45:34.253564",
     "exception": false,
     "start_time": "2024-09-10T18:45:31.882702",
     "status": "completed"
    },
    "tags": []
   },
   "outputs": [
    {
     "name": "stderr",
     "output_type": "stream",
     "text": [
      "/tmp/ipykernel_24/967631915.py:1: FutureWarning: `torch.cuda.amp.autocast(args...)` is deprecated. Please use `torch.amp.autocast('cuda', args...)` instead.\n",
      "  autocast = torch.cuda.amp.autocast(enabled=USE_AMP, dtype=torch.half)\n",
      "100%|██████████| 1/1 [00:02<00:00,  2.35s/it]\n"
     ]
    }
   ],
   "source": [
    "autocast = torch.cuda.amp.autocast(enabled=USE_AMP, dtype=torch.half)\n",
    "y_preds = []\n",
    "row_names = []\n",
    "\n",
    "with tqdm(test_dl, leave=True) as pbar:\n",
    "    with torch.no_grad():\n",
    "        for idx, (x, si) in enumerate(pbar):\n",
    "            x = x + torch.randn(x.size()) * 0.22296520\n",
    "            x = x.to(device)\n",
    "            pred_per_study = np.zeros((25, 3))\n",
    "            \n",
    "            for cond in CONDITIONS:\n",
    "                for level in LEVELS:\n",
    "                    row_names.append(si[0] + '_' + cond + '_' + level)\n",
    "            \n",
    "            with autocast:\n",
    "                for m in models:\n",
    "                    y = m(x, None)[\"logits\"][0]\n",
    "                    for col in range(N_LABELS):\n",
    "                        pred = y[col*3:col*3+3]\n",
    "                        y_pred = pred.float().softmax(0).cpu().numpy()\n",
    "                        pred_per_study[col] += y_pred / len(models)\n",
    "                y_preds.append(pred_per_study)\n",
    "\n",
    "y_preds = np.concatenate(y_preds, axis=0)"
   ]
  },
  {
   "cell_type": "markdown",
   "id": "52a5f560",
   "metadata": {
    "papermill": {
     "duration": 0.007826,
     "end_time": "2024-09-10T18:45:34.269907",
     "exception": false,
     "start_time": "2024-09-10T18:45:34.262081",
     "status": "completed"
    },
    "tags": []
   },
   "source": [
    "## Release the output"
   ]
  },
  {
   "cell_type": "code",
   "execution_count": 18,
   "id": "8ccad67e",
   "metadata": {
    "execution": {
     "iopub.execute_input": "2024-09-10T18:45:34.287261Z",
     "iopub.status.busy": "2024-09-10T18:45:34.286888Z",
     "iopub.status.idle": "2024-09-10T18:45:34.310135Z",
     "shell.execute_reply": "2024-09-10T18:45:34.309242Z"
    },
    "papermill": {
     "duration": 0.034456,
     "end_time": "2024-09-10T18:45:34.312317",
     "exception": false,
     "start_time": "2024-09-10T18:45:34.277861",
     "status": "completed"
    },
    "tags": []
   },
   "outputs": [
    {
     "data": {
      "text/html": [
       "<div>\n",
       "<style scoped>\n",
       "    .dataframe tbody tr th:only-of-type {\n",
       "        vertical-align: middle;\n",
       "    }\n",
       "\n",
       "    .dataframe tbody tr th {\n",
       "        vertical-align: top;\n",
       "    }\n",
       "\n",
       "    .dataframe thead th {\n",
       "        text-align: right;\n",
       "    }\n",
       "</style>\n",
       "<table border=\"1\" class=\"dataframe\">\n",
       "  <thead>\n",
       "    <tr style=\"text-align: right;\">\n",
       "      <th></th>\n",
       "      <th>row_id</th>\n",
       "      <th>normal_mild</th>\n",
       "      <th>moderate</th>\n",
       "      <th>severe</th>\n",
       "    </tr>\n",
       "  </thead>\n",
       "  <tbody>\n",
       "    <tr>\n",
       "      <th>0</th>\n",
       "      <td>44036939_spinal_canal_stenosis_l1_l2</td>\n",
       "      <td>0.368091</td>\n",
       "      <td>0.342592</td>\n",
       "      <td>0.289317</td>\n",
       "    </tr>\n",
       "    <tr>\n",
       "      <th>1</th>\n",
       "      <td>44036939_spinal_canal_stenosis_l2_l3</td>\n",
       "      <td>0.203051</td>\n",
       "      <td>0.412831</td>\n",
       "      <td>0.384118</td>\n",
       "    </tr>\n",
       "    <tr>\n",
       "      <th>2</th>\n",
       "      <td>44036939_spinal_canal_stenosis_l3_l4</td>\n",
       "      <td>0.197904</td>\n",
       "      <td>0.436077</td>\n",
       "      <td>0.366019</td>\n",
       "    </tr>\n",
       "    <tr>\n",
       "      <th>3</th>\n",
       "      <td>44036939_spinal_canal_stenosis_l4_l5</td>\n",
       "      <td>0.247529</td>\n",
       "      <td>0.319047</td>\n",
       "      <td>0.433424</td>\n",
       "    </tr>\n",
       "    <tr>\n",
       "      <th>4</th>\n",
       "      <td>44036939_spinal_canal_stenosis_l5_s1</td>\n",
       "      <td>0.787128</td>\n",
       "      <td>0.141862</td>\n",
       "      <td>0.071010</td>\n",
       "    </tr>\n",
       "    <tr>\n",
       "      <th>5</th>\n",
       "      <td>44036939_left_neural_foraminal_narrowing_l1_l2</td>\n",
       "      <td>0.482889</td>\n",
       "      <td>0.479621</td>\n",
       "      <td>0.037490</td>\n",
       "    </tr>\n",
       "    <tr>\n",
       "      <th>6</th>\n",
       "      <td>44036939_left_neural_foraminal_narrowing_l2_l3</td>\n",
       "      <td>0.368531</td>\n",
       "      <td>0.496975</td>\n",
       "      <td>0.134494</td>\n",
       "    </tr>\n",
       "    <tr>\n",
       "      <th>7</th>\n",
       "      <td>44036939_left_neural_foraminal_narrowing_l3_l4</td>\n",
       "      <td>0.308713</td>\n",
       "      <td>0.371176</td>\n",
       "      <td>0.320111</td>\n",
       "    </tr>\n",
       "    <tr>\n",
       "      <th>8</th>\n",
       "      <td>44036939_left_neural_foraminal_narrowing_l4_l5</td>\n",
       "      <td>0.154162</td>\n",
       "      <td>0.346942</td>\n",
       "      <td>0.498896</td>\n",
       "    </tr>\n",
       "    <tr>\n",
       "      <th>9</th>\n",
       "      <td>44036939_left_neural_foraminal_narrowing_l5_s1</td>\n",
       "      <td>0.137302</td>\n",
       "      <td>0.396242</td>\n",
       "      <td>0.466455</td>\n",
       "    </tr>\n",
       "    <tr>\n",
       "      <th>10</th>\n",
       "      <td>44036939_right_neural_foraminal_narrowing_l1_l2</td>\n",
       "      <td>0.451314</td>\n",
       "      <td>0.322949</td>\n",
       "      <td>0.225737</td>\n",
       "    </tr>\n",
       "    <tr>\n",
       "      <th>11</th>\n",
       "      <td>44036939_right_neural_foraminal_narrowing_l2_l3</td>\n",
       "      <td>0.390012</td>\n",
       "      <td>0.538292</td>\n",
       "      <td>0.071696</td>\n",
       "    </tr>\n",
       "    <tr>\n",
       "      <th>12</th>\n",
       "      <td>44036939_right_neural_foraminal_narrowing_l3_l4</td>\n",
       "      <td>0.228375</td>\n",
       "      <td>0.548057</td>\n",
       "      <td>0.223567</td>\n",
       "    </tr>\n",
       "    <tr>\n",
       "      <th>13</th>\n",
       "      <td>44036939_right_neural_foraminal_narrowing_l4_l5</td>\n",
       "      <td>0.191460</td>\n",
       "      <td>0.370655</td>\n",
       "      <td>0.437885</td>\n",
       "    </tr>\n",
       "    <tr>\n",
       "      <th>14</th>\n",
       "      <td>44036939_right_neural_foraminal_narrowing_l5_s1</td>\n",
       "      <td>0.150897</td>\n",
       "      <td>0.294915</td>\n",
       "      <td>0.554188</td>\n",
       "    </tr>\n",
       "    <tr>\n",
       "      <th>15</th>\n",
       "      <td>44036939_left_subarticular_stenosis_l1_l2</td>\n",
       "      <td>0.268977</td>\n",
       "      <td>0.411724</td>\n",
       "      <td>0.319299</td>\n",
       "    </tr>\n",
       "    <tr>\n",
       "      <th>16</th>\n",
       "      <td>44036939_left_subarticular_stenosis_l2_l3</td>\n",
       "      <td>0.154034</td>\n",
       "      <td>0.342931</td>\n",
       "      <td>0.503035</td>\n",
       "    </tr>\n",
       "    <tr>\n",
       "      <th>17</th>\n",
       "      <td>44036939_left_subarticular_stenosis_l3_l4</td>\n",
       "      <td>0.130046</td>\n",
       "      <td>0.415536</td>\n",
       "      <td>0.454418</td>\n",
       "    </tr>\n",
       "    <tr>\n",
       "      <th>18</th>\n",
       "      <td>44036939_left_subarticular_stenosis_l4_l5</td>\n",
       "      <td>0.071448</td>\n",
       "      <td>0.292778</td>\n",
       "      <td>0.635774</td>\n",
       "    </tr>\n",
       "    <tr>\n",
       "      <th>19</th>\n",
       "      <td>44036939_left_subarticular_stenosis_l5_s1</td>\n",
       "      <td>0.226988</td>\n",
       "      <td>0.349148</td>\n",
       "      <td>0.423864</td>\n",
       "    </tr>\n",
       "    <tr>\n",
       "      <th>20</th>\n",
       "      <td>44036939_right_subarticular_stenosis_l1_l2</td>\n",
       "      <td>0.252504</td>\n",
       "      <td>0.458887</td>\n",
       "      <td>0.288610</td>\n",
       "    </tr>\n",
       "    <tr>\n",
       "      <th>21</th>\n",
       "      <td>44036939_right_subarticular_stenosis_l2_l3</td>\n",
       "      <td>0.128582</td>\n",
       "      <td>0.473256</td>\n",
       "      <td>0.398162</td>\n",
       "    </tr>\n",
       "    <tr>\n",
       "      <th>22</th>\n",
       "      <td>44036939_right_subarticular_stenosis_l3_l4</td>\n",
       "      <td>0.107219</td>\n",
       "      <td>0.411831</td>\n",
       "      <td>0.480950</td>\n",
       "    </tr>\n",
       "    <tr>\n",
       "      <th>23</th>\n",
       "      <td>44036939_right_subarticular_stenosis_l4_l5</td>\n",
       "      <td>0.073823</td>\n",
       "      <td>0.288853</td>\n",
       "      <td>0.637324</td>\n",
       "    </tr>\n",
       "    <tr>\n",
       "      <th>24</th>\n",
       "      <td>44036939_right_subarticular_stenosis_l5_s1</td>\n",
       "      <td>0.181037</td>\n",
       "      <td>0.402124</td>\n",
       "      <td>0.416838</td>\n",
       "    </tr>\n",
       "  </tbody>\n",
       "</table>\n",
       "</div>"
      ],
      "text/plain": [
       "                                             row_id  normal_mild  moderate  \\\n",
       "0              44036939_spinal_canal_stenosis_l1_l2     0.368091  0.342592   \n",
       "1              44036939_spinal_canal_stenosis_l2_l3     0.203051  0.412831   \n",
       "2              44036939_spinal_canal_stenosis_l3_l4     0.197904  0.436077   \n",
       "3              44036939_spinal_canal_stenosis_l4_l5     0.247529  0.319047   \n",
       "4              44036939_spinal_canal_stenosis_l5_s1     0.787128  0.141862   \n",
       "5    44036939_left_neural_foraminal_narrowing_l1_l2     0.482889  0.479621   \n",
       "6    44036939_left_neural_foraminal_narrowing_l2_l3     0.368531  0.496975   \n",
       "7    44036939_left_neural_foraminal_narrowing_l3_l4     0.308713  0.371176   \n",
       "8    44036939_left_neural_foraminal_narrowing_l4_l5     0.154162  0.346942   \n",
       "9    44036939_left_neural_foraminal_narrowing_l5_s1     0.137302  0.396242   \n",
       "10  44036939_right_neural_foraminal_narrowing_l1_l2     0.451314  0.322949   \n",
       "11  44036939_right_neural_foraminal_narrowing_l2_l3     0.390012  0.538292   \n",
       "12  44036939_right_neural_foraminal_narrowing_l3_l4     0.228375  0.548057   \n",
       "13  44036939_right_neural_foraminal_narrowing_l4_l5     0.191460  0.370655   \n",
       "14  44036939_right_neural_foraminal_narrowing_l5_s1     0.150897  0.294915   \n",
       "15        44036939_left_subarticular_stenosis_l1_l2     0.268977  0.411724   \n",
       "16        44036939_left_subarticular_stenosis_l2_l3     0.154034  0.342931   \n",
       "17        44036939_left_subarticular_stenosis_l3_l4     0.130046  0.415536   \n",
       "18        44036939_left_subarticular_stenosis_l4_l5     0.071448  0.292778   \n",
       "19        44036939_left_subarticular_stenosis_l5_s1     0.226988  0.349148   \n",
       "20       44036939_right_subarticular_stenosis_l1_l2     0.252504  0.458887   \n",
       "21       44036939_right_subarticular_stenosis_l2_l3     0.128582  0.473256   \n",
       "22       44036939_right_subarticular_stenosis_l3_l4     0.107219  0.411831   \n",
       "23       44036939_right_subarticular_stenosis_l4_l5     0.073823  0.288853   \n",
       "24       44036939_right_subarticular_stenosis_l5_s1     0.181037  0.402124   \n",
       "\n",
       "      severe  \n",
       "0   0.289317  \n",
       "1   0.384118  \n",
       "2   0.366019  \n",
       "3   0.433424  \n",
       "4   0.071010  \n",
       "5   0.037490  \n",
       "6   0.134494  \n",
       "7   0.320111  \n",
       "8   0.498896  \n",
       "9   0.466455  \n",
       "10  0.225737  \n",
       "11  0.071696  \n",
       "12  0.223567  \n",
       "13  0.437885  \n",
       "14  0.554188  \n",
       "15  0.319299  \n",
       "16  0.503035  \n",
       "17  0.454418  \n",
       "18  0.635774  \n",
       "19  0.423864  \n",
       "20  0.288610  \n",
       "21  0.398162  \n",
       "22  0.480950  \n",
       "23  0.637324  \n",
       "24  0.416838  "
      ]
     },
     "execution_count": 18,
     "metadata": {},
     "output_type": "execute_result"
    }
   ],
   "source": [
    "sub = pd.DataFrame()\n",
    "sub['row_id'] = row_names\n",
    "sub[LABELS] = y_preds\n",
    "sub.head(25)"
   ]
  },
  {
   "cell_type": "code",
   "execution_count": 19,
   "id": "f104742d",
   "metadata": {
    "execution": {
     "iopub.execute_input": "2024-09-10T18:45:34.330699Z",
     "iopub.status.busy": "2024-09-10T18:45:34.330403Z",
     "iopub.status.idle": "2024-09-10T18:45:34.347939Z",
     "shell.execute_reply": "2024-09-10T18:45:34.347069Z"
    },
    "papermill": {
     "duration": 0.029018,
     "end_time": "2024-09-10T18:45:34.349971",
     "exception": false,
     "start_time": "2024-09-10T18:45:34.320953",
     "status": "completed"
    },
    "tags": []
   },
   "outputs": [
    {
     "data": {
      "text/html": [
       "<div>\n",
       "<style scoped>\n",
       "    .dataframe tbody tr th:only-of-type {\n",
       "        vertical-align: middle;\n",
       "    }\n",
       "\n",
       "    .dataframe tbody tr th {\n",
       "        vertical-align: top;\n",
       "    }\n",
       "\n",
       "    .dataframe thead th {\n",
       "        text-align: right;\n",
       "    }\n",
       "</style>\n",
       "<table border=\"1\" class=\"dataframe\">\n",
       "  <thead>\n",
       "    <tr style=\"text-align: right;\">\n",
       "      <th></th>\n",
       "      <th>row_id</th>\n",
       "      <th>normal_mild</th>\n",
       "      <th>moderate</th>\n",
       "      <th>severe</th>\n",
       "    </tr>\n",
       "  </thead>\n",
       "  <tbody>\n",
       "    <tr>\n",
       "      <th>0</th>\n",
       "      <td>44036939_spinal_canal_stenosis_l1_l2</td>\n",
       "      <td>0.368091</td>\n",
       "      <td>0.342592</td>\n",
       "      <td>0.289317</td>\n",
       "    </tr>\n",
       "    <tr>\n",
       "      <th>1</th>\n",
       "      <td>44036939_spinal_canal_stenosis_l2_l3</td>\n",
       "      <td>0.203051</td>\n",
       "      <td>0.412831</td>\n",
       "      <td>0.384118</td>\n",
       "    </tr>\n",
       "    <tr>\n",
       "      <th>2</th>\n",
       "      <td>44036939_spinal_canal_stenosis_l3_l4</td>\n",
       "      <td>0.197904</td>\n",
       "      <td>0.436077</td>\n",
       "      <td>0.366019</td>\n",
       "    </tr>\n",
       "    <tr>\n",
       "      <th>3</th>\n",
       "      <td>44036939_spinal_canal_stenosis_l4_l5</td>\n",
       "      <td>0.247529</td>\n",
       "      <td>0.319047</td>\n",
       "      <td>0.433424</td>\n",
       "    </tr>\n",
       "    <tr>\n",
       "      <th>4</th>\n",
       "      <td>44036939_spinal_canal_stenosis_l5_s1</td>\n",
       "      <td>0.787128</td>\n",
       "      <td>0.141862</td>\n",
       "      <td>0.071010</td>\n",
       "    </tr>\n",
       "  </tbody>\n",
       "</table>\n",
       "</div>"
      ],
      "text/plain": [
       "                                 row_id  normal_mild  moderate    severe\n",
       "0  44036939_spinal_canal_stenosis_l1_l2     0.368091  0.342592  0.289317\n",
       "1  44036939_spinal_canal_stenosis_l2_l3     0.203051  0.412831  0.384118\n",
       "2  44036939_spinal_canal_stenosis_l3_l4     0.197904  0.436077  0.366019\n",
       "3  44036939_spinal_canal_stenosis_l4_l5     0.247529  0.319047  0.433424\n",
       "4  44036939_spinal_canal_stenosis_l5_s1     0.787128  0.141862  0.071010"
      ]
     },
     "execution_count": 19,
     "metadata": {},
     "output_type": "execute_result"
    }
   ],
   "source": [
    "sub.to_csv('submission.csv', index=False)\n",
    "pd.read_csv('submission.csv').head()"
   ]
  },
  {
   "cell_type": "code",
   "execution_count": null,
   "id": "9fc70732",
   "metadata": {
    "papermill": {
     "duration": 0.008675,
     "end_time": "2024-09-10T18:45:34.368145",
     "exception": false,
     "start_time": "2024-09-10T18:45:34.359470",
     "status": "completed"
    },
    "tags": []
   },
   "outputs": [],
   "source": []
  }
 ],
 "metadata": {
  "kaggle": {
   "accelerator": "gpu",
   "dataSources": [
    {
     "databundleVersionId": 8561470,
     "sourceId": 71549,
     "sourceType": "competition"
    },
    {
     "datasetId": 5583775,
     "sourceId": 9231709,
     "sourceType": "datasetVersion"
    },
    {
     "datasetId": 5611997,
     "sourceId": 9273089,
     "sourceType": "datasetVersion"
    }
   ],
   "dockerImageVersionId": 30762,
   "isGpuEnabled": true,
   "isInternetEnabled": false,
   "language": "python",
   "sourceType": "notebook"
  },
  "kernelspec": {
   "display_name": "Python 3",
   "language": "python",
   "name": "python3"
  },
  "language_info": {
   "codemirror_mode": {
    "name": "ipython",
    "version": 3
   },
   "file_extension": ".py",
   "mimetype": "text/x-python",
   "name": "python",
   "nbconvert_exporter": "python",
   "pygments_lexer": "ipython3",
   "version": "3.10.14"
  },
  "papermill": {
   "default_parameters": {},
   "duration": 47.716012,
   "end_time": "2024-09-10T18:45:37.384802",
   "environment_variables": {},
   "exception": null,
   "input_path": "__notebook__.ipynb",
   "output_path": "__notebook__.ipynb",
   "parameters": {},
   "start_time": "2024-09-10T18:44:49.668790",
   "version": "2.6.0"
  }
 },
 "nbformat": 4,
 "nbformat_minor": 5
}
