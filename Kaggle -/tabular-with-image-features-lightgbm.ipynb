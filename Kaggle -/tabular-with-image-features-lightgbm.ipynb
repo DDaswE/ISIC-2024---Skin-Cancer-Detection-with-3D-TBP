{
 "cells": [
  {
   "cell_type": "markdown",
   "id": "e87d1a84",
   "metadata": {
    "papermill": {
     "duration": 0.012398,
     "end_time": "2024-08-25T03:48:00.735130",
     "exception": false,
     "start_time": "2024-08-25T03:48:00.722732",
     "status": "completed"
    },
    "tags": []
   },
   "source": [
    "This notebook is copied from https://www.kaggle.com/code/merfarukelik/tabular-with-image-features \n",
    "\n",
    "Models:\n",
    "- eva02 and efficientnetv1b0 (https://www.kaggle.com/code/motono0223/isic-tabular-model-image-model-features)\n",
    "- target_3 (https://www.kaggle.com/code/snnclsr/tabular-ensemble-lgbm-catboost\n",
    "\n",
    "\n"
   ]
  },
  {
   "cell_type": "markdown",
   "id": "544de032",
   "metadata": {
    "papermill": {
     "duration": 0.011489,
     "end_time": "2024-08-25T03:48:00.758459",
     "exception": false,
     "start_time": "2024-08-25T03:48:00.746970",
     "status": "completed"
    },
    "tags": []
   },
   "source": [
    "# IMPORT LIBRARIES"
   ]
  },
  {
   "cell_type": "code",
   "execution_count": 1,
   "id": "700064ef",
   "metadata": {
    "execution": {
     "iopub.execute_input": "2024-08-25T03:48:00.784201Z",
     "iopub.status.busy": "2024-08-25T03:48:00.783349Z",
     "iopub.status.idle": "2024-08-25T03:48:06.942188Z",
     "shell.execute_reply": "2024-08-25T03:48:06.941407Z"
    },
    "papermill": {
     "duration": 6.174444,
     "end_time": "2024-08-25T03:48:06.944644",
     "exception": false,
     "start_time": "2024-08-25T03:48:00.770200",
     "status": "completed"
    },
    "tags": []
   },
   "outputs": [],
   "source": [
    "import os\n",
    "from pathlib import Path\n",
    "\n",
    "import numpy as np\n",
    "import pandas as pd\n",
    "import polars as pl\n",
    "\n",
    "from sklearn.model_selection import StratifiedGroupKFold\n",
    "from sklearn.model_selection import cross_val_score\n",
    "from sklearn.preprocessing import OneHotEncoder\n",
    "from sklearn.metrics import roc_auc_score\n",
    "from sklearn.ensemble import VotingClassifier\n",
    "\n",
    "from imblearn.under_sampling import RandomUnderSampler\n",
    "from imblearn.pipeline import Pipeline\n",
    "from imblearn.over_sampling import RandomOverSampler\n",
    "\n",
    "\n",
    "import lightgbm as lgb\n",
    "import catboost as cb\n",
    "import xgboost as xgb\n",
    "\n",
    "import optuna\n",
    "from optuna.samplers import TPESampler\n",
    "\n",
    "#downsampling techniques\n",
    "# they took long time, so we use RandomUnderSampler\n",
    "from imblearn.under_sampling import NearMiss\n",
    "from imblearn.under_sampling import ClusterCentroids\n",
    "from imblearn.under_sampling import TomekLinks\n",
    "from imblearn.under_sampling import EditedNearestNeighbours\n",
    "from imblearn.pipeline import Pipeline as ImbPipeline\n",
    "from imblearn.under_sampling import NearMiss, TomekLinks\n",
    "from sklearn.impute import SimpleImputer\n",
    "\n",
    "import time\n",
    "from sklearn.feature_selection import SelectKBest, chi2, mutual_info_classif, VarianceThreshold\n",
    "\n",
    "\n"
   ]
  },
  {
   "cell_type": "markdown",
   "id": "abcf7f0b",
   "metadata": {
    "papermill": {
     "duration": 0.012583,
     "end_time": "2024-08-25T03:48:06.969308",
     "exception": false,
     "start_time": "2024-08-25T03:48:06.956725",
     "status": "completed"
    },
    "tags": []
   },
   "source": [
    "# IMAGE PREDICTIONS"
   ]
  },
  {
   "cell_type": "code",
   "execution_count": 2,
   "id": "9223cac3",
   "metadata": {
    "execution": {
     "iopub.execute_input": "2024-08-25T03:48:06.994049Z",
     "iopub.status.busy": "2024-08-25T03:48:06.993464Z",
     "iopub.status.idle": "2024-08-25T03:48:20.441018Z",
     "shell.execute_reply": "2024-08-25T03:48:20.439736Z"
    },
    "papermill": {
     "duration": 13.462719,
     "end_time": "2024-08-25T03:48:20.443612",
     "exception": false,
     "start_time": "2024-08-25T03:48:06.980893",
     "status": "completed"
    },
    "tags": []
   },
   "outputs": [
    {
     "name": "stdout",
     "output_type": "stream",
     "text": [
      "BEST_WEIGHT = /kaggle/input/isic-pytorch-training-baseline-image-only/AUROC0.5171_Loss0.3476_epoch35.bin\r\n",
      "100%|█████████████████████████████████████████████| 1/1 [00:00<00:00,  1.09it/s]\r\n"
     ]
    }
   ],
   "source": [
    "#EFFNET V1B0\n",
    "!python /kaggle/input/isic-script-inference-effnetv1b0-f313ae/main.py /kaggle/input/isic-pytorch-training-baseline-image-only/AUROC0.5171_Loss0.3476_epoch35.bin\n",
    "!mv submission.csv submission_effnetv1b0.csv"
   ]
  },
  {
   "cell_type": "code",
   "execution_count": 3,
   "id": "0b42dfbb",
   "metadata": {
    "execution": {
     "iopub.execute_input": "2024-08-25T03:48:20.470080Z",
     "iopub.status.busy": "2024-08-25T03:48:20.469757Z",
     "iopub.status.idle": "2024-08-25T03:48:40.937845Z",
     "shell.execute_reply": "2024-08-25T03:48:40.936737Z"
    },
    "papermill": {
     "duration": 20.484161,
     "end_time": "2024-08-25T03:48:40.940341",
     "exception": false,
     "start_time": "2024-08-25T03:48:20.456180",
     "status": "completed"
    },
    "tags": []
   },
   "outputs": [
    {
     "name": "stdout",
     "output_type": "stream",
     "text": [
      "/kaggle/input/isic-2024-pl-submission-script-and-preds/pl_submission.py:25: DtypeWarning: Columns (51,52) have mixed types. Specify dtype option on import or set low_memory=False.\r\n",
      "  df_train_meta = pd.read_csv(BASE_DATA_DIR + \"train-metadata.csv\")\r\n"
     ]
    }
   ],
   "source": [
    "#TARGET 3\n",
    "!python /kaggle/input/isic-2024-pl-submission-script-and-preds/pl_submission.py\n",
    "!mv submission.csv submission_image3.csv"
   ]
  },
  {
   "cell_type": "code",
   "execution_count": 4,
   "id": "94788bc4",
   "metadata": {
    "execution": {
     "iopub.execute_input": "2024-08-25T03:48:40.967468Z",
     "iopub.status.busy": "2024-08-25T03:48:40.967098Z",
     "iopub.status.idle": "2024-08-25T03:48:50.902111Z",
     "shell.execute_reply": "2024-08-25T03:48:50.900779Z"
    },
    "papermill": {
     "duration": 9.95133,
     "end_time": "2024-08-25T03:48:50.904760",
     "exception": false,
     "start_time": "2024-08-25T03:48:40.953430",
     "status": "completed"
    },
    "tags": []
   },
   "outputs": [
    {
     "name": "stdout",
     "output_type": "stream",
     "text": [
      "BEST_WEIGHT = /kaggle/input/isic-pytorch-training-baseline-eva02/AUROC0.5177_Loss0.2829_epoch7.bin\r\n",
      "100%|█████████████████████████████████████████████| 1/1 [00:00<00:00,  2.78it/s]\r\n"
     ]
    }
   ],
   "source": [
    "#EVA02\n",
    "!python /kaggle/input/isic-script-inference-eva02/main.py /kaggle/input/isic-pytorch-training-baseline-eva02/AUROC0.5177_Loss0.2829_epoch7.bin\n",
    "!mv submission.csv submission_eva02.csv"
   ]
  },
  {
   "cell_type": "markdown",
   "id": "b2e4b0fc",
   "metadata": {
    "papermill": {
     "duration": 0.012421,
     "end_time": "2024-08-25T03:48:50.930113",
     "exception": false,
     "start_time": "2024-08-25T03:48:50.917692",
     "status": "completed"
    },
    "tags": []
   },
   "source": [
    "# DATA PREPROCESS"
   ]
  },
  {
   "cell_type": "code",
   "execution_count": 5,
   "id": "61630a27",
   "metadata": {
    "execution": {
     "iopub.execute_input": "2024-08-25T03:48:50.957634Z",
     "iopub.status.busy": "2024-08-25T03:48:50.957262Z",
     "iopub.status.idle": "2024-08-25T03:48:50.973573Z",
     "shell.execute_reply": "2024-08-25T03:48:50.972696Z"
    },
    "papermill": {
     "duration": 0.033015,
     "end_time": "2024-08-25T03:48:50.975569",
     "exception": false,
     "start_time": "2024-08-25T03:48:50.942554",
     "status": "completed"
    },
    "tags": []
   },
   "outputs": [],
   "source": [
    "root = Path('/kaggle/input/isic-2024-challenge')\n",
    "\n",
    "train_path = root / 'train-metadata.csv'\n",
    "test_path = root / 'test-metadata.csv'\n",
    "subm_path = root / 'sample_submission.csv'\n",
    "\n",
    "id_col = 'isic_id'\n",
    "target_col = 'target'\n",
    "group_col = 'patient_id'\n",
    "\n",
    "err = 1e-5\n",
    "sampling_ratio = 0.01\n",
    "seed = 42\n",
    "\n",
    "num_cols = [\n",
    "    'age_approx',                        # Approximate age of patient at time of imaging.\n",
    "    'clin_size_long_diam_mm',            # Maximum diameter of the lesion (mm).+\n",
    "    'tbp_lv_A',                          # A inside  lesion.+\n",
    "    'tbp_lv_Aext',                       # A outside lesion.+\n",
    "    'tbp_lv_B',                          # B inside  lesion.+\n",
    "    'tbp_lv_Bext',                       # B outside lesion.+ \n",
    "    'tbp_lv_C',                          # Chroma inside  lesion.+\n",
    "    'tbp_lv_Cext',                       # Chroma outside lesion.+\n",
    "    'tbp_lv_H',                          # Hue inside the lesion; calculated as the angle of A* and B* in LAB* color space. Typical values range from 25 (red) to 75 (brown).+\n",
    "    'tbp_lv_Hext',                       # Hue outside lesion.+\n",
    "    'tbp_lv_L',                          # L inside lesion.+\n",
    "    'tbp_lv_Lext',                       # L outside lesion.+\n",
    "    'tbp_lv_areaMM2',                    # Area of lesion (mm^2).+\n",
    "    'tbp_lv_area_perim_ratio',           # Border jaggedness, the ratio between lesions perimeter and area. Circular lesions will have low values; irregular shaped lesions will have higher values. Values range 0-10.+\n",
    "    'tbp_lv_color_std_mean',             # Color irregularity, calculated as the variance of colors within the lesion's boundary.\n",
    "    'tbp_lv_deltaA',                     # Average A contrast (inside vs. outside lesion).+\n",
    "    'tbp_lv_deltaB',                     # Average B contrast (inside vs. outside lesion).+\n",
    "    'tbp_lv_deltaL',                     # Average L contrast (inside vs. outside lesion).+\n",
    "    'tbp_lv_deltaLB',                    #\n",
    "    'tbp_lv_deltaLBnorm',                # Contrast between the lesion and its immediate surrounding skin. Low contrast lesions tend to be faintly visible such as freckles; high contrast lesions tend to be those with darker pigment. Calculated as the average delta LB of the lesion relative to its immediate background in LAB* color space. Typical values range from 5.5 to 25.+\n",
    "    'tbp_lv_eccentricity',               # Eccentricity.+\n",
    "    'tbp_lv_minorAxisMM',                # Smallest lesion diameter (mm).+\n",
    "    'tbp_lv_nevi_confidence',            # Nevus confidence score (0-100 scale) is a convolutional neural network classifier estimated probability that the lesion is a nevus. The neural network was trained on approximately 57,000 lesions that were classified and labeled by a dermatologist.+,++\n",
    "    'tbp_lv_norm_border',                # Border irregularity (0-10 scale); the normalized average of border jaggedness and asymmetry.+\n",
    "    'tbp_lv_norm_color',                 # Color variation (0-10 scale); the normalized average of color asymmetry and color irregularity.+\n",
    "    'tbp_lv_perimeterMM',                # Perimeter of lesion (mm).+\n",
    "    'tbp_lv_radial_color_std_max',       # Color asymmetry, a measure of asymmetry of the spatial distribution of color within the lesion. This score is calculated by looking at the average standard deviation in LAB* color space within concentric rings originating from the lesion center. Values range 0-10.+\n",
    "    'tbp_lv_stdL',                       # Standard deviation of L inside  lesion.+\n",
    "    'tbp_lv_stdLExt',                    # Standard deviation of L outside lesion.+\n",
    "    'tbp_lv_symm_2axis',                 # Border asymmetry; a measure of asymmetry of the lesion's contour about an axis perpendicular to the lesion's most symmetric axis. Lesions with two axes of symmetry will therefore have low scores (more symmetric), while lesions with only one or zero axes of symmetry will have higher scores (less symmetric). This score is calculated by comparing opposite halves of the lesion contour over many degrees of rotation. The angle where the halves are most similar identifies the principal axis of symmetry, while the second axis of symmetry is perpendicular to the principal axis. Border asymmetry is reported as the asymmetry value about this second axis. Values range 0-10.+\n",
    "    'tbp_lv_symm_2axis_angle',           # Lesion border asymmetry angle.+\n",
    "    'tbp_lv_x',                          # X-coordinate of the lesion on 3D TBP.+\n",
    "    'tbp_lv_y',                          # Y-coordinate of the lesion on 3D TBP.+\n",
    "    'tbp_lv_z',                          # Z-coordinate of the lesion on 3D TBP.+\n",
    "]\n",
    "\n",
    "new_num_cols = [\n",
    "    'lesion_size_ratio',             # tbp_lv_minorAxisMM      / clin_size_long_diam_mm\n",
    "    'lesion_shape_index',            # tbp_lv_areaMM2          / tbp_lv_perimeterMM **2\n",
    "    'hue_contrast',                  # tbp_lv_H                - tbp_lv_Hext              abs\n",
    "    'luminance_contrast',            # tbp_lv_L                - tbp_lv_Lext              abs\n",
    "    'lesion_color_difference',       # tbp_lv_deltaA **2       + tbp_lv_deltaB **2 + tbp_lv_deltaL **2  sqrt  \n",
    "    'border_complexity',             # tbp_lv_norm_border      + tbp_lv_symm_2axis\n",
    "    'color_uniformity',              # tbp_lv_color_std_mean   / tbp_lv_radial_color_std_max\n",
    "\n",
    "    'position_distance_3d',          # tbp_lv_x **2 + tbp_lv_y **2 + tbp_lv_z **2  sqrt\n",
    "    'perimeter_to_area_ratio',       # tbp_lv_perimeterMM      / tbp_lv_areaMM2\n",
    "    'area_to_perimeter_ratio',       # tbp_lv_areaMM2          / tbp_lv_perimeterMM\n",
    "    'lesion_visibility_score',       # tbp_lv_deltaLBnorm      + tbp_lv_norm_color\n",
    "    'symmetry_border_consistency',   # tbp_lv_symm_2axis       * tbp_lv_norm_border\n",
    "    'consistency_symmetry_border',   # tbp_lv_symm_2axis       * tbp_lv_norm_border / (tbp_lv_symm_2axis + tbp_lv_norm_border)\n",
    "\n",
    "    'color_consistency',             # tbp_lv_stdL             / tbp_lv_Lext\n",
    "    'consistency_color',             # tbp_lv_stdL*tbp_lv_Lext / tbp_lv_stdL + tbp_lv_Lext\n",
    "    'size_age_interaction',          # clin_size_long_diam_mm  * age_approx\n",
    "    'hue_color_std_interaction',     # tbp_lv_H                * tbp_lv_color_std_mean\n",
    "    'lesion_severity_index',         # tbp_lv_norm_border      + tbp_lv_norm_color + tbp_lv_eccentricity / 3\n",
    "    'shape_complexity_index',        # border_complexity       + lesion_shape_index\n",
    "    'color_contrast_index',          # tbp_lv_deltaA + tbp_lv_deltaB + tbp_lv_deltaL + tbp_lv_deltaLBnorm\n",
    "\n",
    "    'log_lesion_area',               # tbp_lv_areaMM2          + 1  np.log\n",
    "    'normalized_lesion_size',        # clin_size_long_diam_mm  / age_approx\n",
    "    'mean_hue_difference',           # tbp_lv_H                + tbp_lv_Hext    / 2\n",
    "    'std_dev_contrast',              # tbp_lv_deltaA **2 + tbp_lv_deltaB **2 + tbp_lv_deltaL **2   / 3  np.sqrt\n",
    "    'color_shape_composite_index',   # tbp_lv_color_std_mean   + bp_lv_area_perim_ratio + tbp_lv_symm_2axis   / 3\n",
    "    'lesion_orientation_3d',         # tbp_lv_y                , tbp_lv_x  np.arctan2\n",
    "    'overall_color_difference',      # tbp_lv_deltaA           + tbp_lv_deltaB + tbp_lv_deltaL   / 3\n",
    "\n",
    "    'symmetry_perimeter_interaction',# tbp_lv_symm_2axis       * tbp_lv_perimeterMM\n",
    "    'comprehensive_lesion_index',    # tbp_lv_area_perim_ratio + tbp_lv_eccentricity + bp_lv_norm_color + tbp_lv_symm_2axis   / 4\n",
    "    'color_variance_ratio',          # tbp_lv_color_std_mean   / tbp_lv_stdLExt\n",
    "    'border_color_interaction',      # tbp_lv_norm_border      * tbp_lv_norm_color\n",
    "    'border_color_interaction_2',\n",
    "    'size_color_contrast_ratio',     # clin_size_long_diam_mm  / tbp_lv_deltaLBnorm\n",
    "    'age_normalized_nevi_confidence',# tbp_lv_nevi_confidence  / age_approx\n",
    "    'age_normalized_nevi_confidence_2',\n",
    "    'color_asymmetry_index',         # tbp_lv_symm_2axis       * tbp_lv_radial_color_std_max\n",
    "\n",
    "    'volume_approximation_3d',       # tbp_lv_areaMM2          * sqrt(tbp_lv_x**2 + tbp_lv_y**2 + tbp_lv_z**2)\n",
    "    'color_range',                   # abs(tbp_lv_L - tbp_lv_Lext) + abs(tbp_lv_A - tbp_lv_Aext) + abs(tbp_lv_B - tbp_lv_Bext)\n",
    "    'shape_color_consistency',       # tbp_lv_eccentricity     * tbp_lv_color_std_mean\n",
    "    'border_length_ratio',           # tbp_lv_perimeterMM      / pi * sqrt(tbp_lv_areaMM2 / pi)\n",
    "    'age_size_symmetry_index',       # age_approx              * clin_size_long_diam_mm * tbp_lv_symm_2axis\n",
    "    'index_age_size_symmetry',       # age_approx              * tbp_lv_areaMM2 * tbp_lv_symm_2axis\n",
    "]\n",
    "\n",
    "cat_cols = ['sex', 'anatom_site_general', 'tbp_tile_type', 'tbp_lv_location', 'tbp_lv_location_simple', 'attribution']\n",
    "norm_cols = [f'{col}_patient_norm' for col in num_cols + new_num_cols]\n",
    "special_cols = ['count_per_patient']\n",
    "image_cols = [\"target_3\",\"target_effnetv1b0\",\"target_eva02\"]\n",
    "#image_cols = [\"target_3\",\"target_effnetv1b0\"]\n",
    "\n",
    "#norm_cols += image_cols\n",
    "feature_cols = num_cols + new_num_cols + cat_cols + norm_cols + special_cols"
   ]
  },
  {
   "cell_type": "code",
   "execution_count": 6,
   "id": "b4d9cd4d",
   "metadata": {
    "execution": {
     "iopub.execute_input": "2024-08-25T03:48:51.002246Z",
     "iopub.status.busy": "2024-08-25T03:48:51.001961Z",
     "iopub.status.idle": "2024-08-25T03:48:51.030160Z",
     "shell.execute_reply": "2024-08-25T03:48:51.029455Z"
    },
    "papermill": {
     "duration": 0.044011,
     "end_time": "2024-08-25T03:48:51.032098",
     "exception": false,
     "start_time": "2024-08-25T03:48:50.988087",
     "status": "completed"
    },
    "tags": []
   },
   "outputs": [],
   "source": [
    "def read_data(path):\n",
    "    return (\n",
    "        pl.read_csv(path)\n",
    "        .with_columns(\n",
    "            pl.col('age_approx').cast(pl.String).replace('NA', np.nan).cast(pl.Float64),\n",
    "        )\n",
    "        .with_columns(\n",
    "            pl.col(pl.Float64).fill_nan(pl.col(pl.Float64).median()), # You may want to impute test data with train\n",
    "        )\n",
    "        .with_columns(\n",
    "            lesion_size_ratio              = pl.col('tbp_lv_minorAxisMM') / pl.col('clin_size_long_diam_mm'),\n",
    "            lesion_shape_index             = pl.col('tbp_lv_areaMM2') / (pl.col('tbp_lv_perimeterMM') ** 2),\n",
    "            hue_contrast                   = (pl.col('tbp_lv_H') - pl.col('tbp_lv_Hext')).abs(),\n",
    "            luminance_contrast             = (pl.col('tbp_lv_L') - pl.col('tbp_lv_Lext')).abs(),\n",
    "            lesion_color_difference        = (pl.col('tbp_lv_deltaA') ** 2 + pl.col('tbp_lv_deltaB') ** 2 + pl.col('tbp_lv_deltaL') ** 2).sqrt(),\n",
    "            border_complexity              = pl.col('tbp_lv_norm_border') + pl.col('tbp_lv_symm_2axis'),\n",
    "            color_uniformity               = pl.col('tbp_lv_color_std_mean') / (pl.col('tbp_lv_radial_color_std_max') + err),\n",
    "        )\n",
    "        .with_columns(\n",
    "            position_distance_3d           = (pl.col('tbp_lv_x') ** 2 + pl.col('tbp_lv_y') ** 2 + pl.col('tbp_lv_z') ** 2).sqrt(),\n",
    "            perimeter_to_area_ratio        = pl.col('tbp_lv_perimeterMM') / pl.col('tbp_lv_areaMM2'),\n",
    "            area_to_perimeter_ratio        = pl.col('tbp_lv_areaMM2') / pl.col('tbp_lv_perimeterMM'),\n",
    "            lesion_visibility_score        = pl.col('tbp_lv_deltaLBnorm') + pl.col('tbp_lv_norm_color'),\n",
    "            combined_anatomical_site       = pl.col('anatom_site_general') + '_' + pl.col('tbp_lv_location'),\n",
    "            symmetry_border_consistency    = pl.col('tbp_lv_symm_2axis') * pl.col('tbp_lv_norm_border'),\n",
    "            consistency_symmetry_border    = pl.col('tbp_lv_symm_2axis') * pl.col('tbp_lv_norm_border') / (pl.col('tbp_lv_symm_2axis') + pl.col('tbp_lv_norm_border')),\n",
    "        )\n",
    "        .with_columns(\n",
    "            color_consistency              = pl.col('tbp_lv_stdL') / pl.col('tbp_lv_Lext'),\n",
    "            consistency_color              = pl.col('tbp_lv_stdL') * pl.col('tbp_lv_Lext') / (pl.col('tbp_lv_stdL') + pl.col('tbp_lv_Lext')),\n",
    "            size_age_interaction           = pl.col('clin_size_long_diam_mm') * pl.col('age_approx'),\n",
    "            hue_color_std_interaction      = pl.col('tbp_lv_H') * pl.col('tbp_lv_color_std_mean'),\n",
    "            lesion_severity_index          = (pl.col('tbp_lv_norm_border') + pl.col('tbp_lv_norm_color') + pl.col('tbp_lv_eccentricity')) / 3,\n",
    "            shape_complexity_index         = pl.col('border_complexity') + pl.col('lesion_shape_index'),\n",
    "            color_contrast_index           = pl.col('tbp_lv_deltaA') + pl.col('tbp_lv_deltaB') + pl.col('tbp_lv_deltaL') + pl.col('tbp_lv_deltaLBnorm'),\n",
    "        )\n",
    "        .with_columns(\n",
    "            log_lesion_area                = (pl.col('tbp_lv_areaMM2') + 1).log(),\n",
    "            normalized_lesion_size         = pl.col('clin_size_long_diam_mm') / pl.col('age_approx'),\n",
    "            mean_hue_difference            = (pl.col('tbp_lv_H') + pl.col('tbp_lv_Hext')) / 2,\n",
    "            std_dev_contrast               = ((pl.col('tbp_lv_deltaA') ** 2 + pl.col('tbp_lv_deltaB') ** 2 + pl.col('tbp_lv_deltaL') ** 2) / 3).sqrt(),\n",
    "            color_shape_composite_index    = (pl.col('tbp_lv_color_std_mean') + pl.col('tbp_lv_area_perim_ratio') + pl.col('tbp_lv_symm_2axis')) / 3,\n",
    "            lesion_orientation_3d          = pl.arctan2(pl.col('tbp_lv_y'), pl.col('tbp_lv_x')),\n",
    "            overall_color_difference       = (pl.col('tbp_lv_deltaA') + pl.col('tbp_lv_deltaB') + pl.col('tbp_lv_deltaL')) / 3,\n",
    "        )\n",
    "        .with_columns(\n",
    "            symmetry_perimeter_interaction = pl.col('tbp_lv_symm_2axis') * pl.col('tbp_lv_perimeterMM'),\n",
    "            comprehensive_lesion_index     = (pl.col('tbp_lv_area_perim_ratio') + pl.col('tbp_lv_eccentricity') + pl.col('tbp_lv_norm_color') + pl.col('tbp_lv_symm_2axis')) / 4,\n",
    "            color_variance_ratio           = pl.col('tbp_lv_color_std_mean') / pl.col('tbp_lv_stdLExt'),\n",
    "            border_color_interaction       = pl.col('tbp_lv_norm_border') * pl.col('tbp_lv_norm_color'),\n",
    "            border_color_interaction_2     = pl.col('tbp_lv_norm_border') * pl.col('tbp_lv_norm_color') / (pl.col('tbp_lv_norm_border') + pl.col('tbp_lv_norm_color')),\n",
    "            size_color_contrast_ratio      = pl.col('clin_size_long_diam_mm') / pl.col('tbp_lv_deltaLBnorm'),\n",
    "            age_normalized_nevi_confidence = pl.col('tbp_lv_nevi_confidence') / pl.col('age_approx'),\n",
    "            age_normalized_nevi_confidence_2 = (pl.col('clin_size_long_diam_mm')**2 + pl.col('age_approx')**2).sqrt(),\n",
    "            color_asymmetry_index          = pl.col('tbp_lv_radial_color_std_max') * pl.col('tbp_lv_symm_2axis'),\n",
    "        )\n",
    "        .with_columns(\n",
    "            volume_approximation_3d        = pl.col('tbp_lv_areaMM2') * (pl.col('tbp_lv_x')**2 + pl.col('tbp_lv_y')**2 + pl.col('tbp_lv_z')**2).sqrt(),\n",
    "            color_range                    = (pl.col('tbp_lv_L') - pl.col('tbp_lv_Lext')).abs() + (pl.col('tbp_lv_A') - pl.col('tbp_lv_Aext')).abs() + (pl.col('tbp_lv_B') - pl.col('tbp_lv_Bext')).abs(),\n",
    "            shape_color_consistency        = pl.col('tbp_lv_eccentricity') * pl.col('tbp_lv_color_std_mean'),\n",
    "            border_length_ratio            = pl.col('tbp_lv_perimeterMM') / (2 * np.pi * (pl.col('tbp_lv_areaMM2') / np.pi).sqrt()),\n",
    "            age_size_symmetry_index        = pl.col('age_approx') * pl.col('clin_size_long_diam_mm') * pl.col('tbp_lv_symm_2axis'),\n",
    "            index_age_size_symmetry        = pl.col('age_approx') * pl.col('tbp_lv_areaMM2') * pl.col('tbp_lv_symm_2axis'),\n",
    "        )\n",
    "        .with_columns(\n",
    "            ((pl.col(col) - pl.col(col).mean().over('patient_id')) / (pl.col(col).std().over('patient_id') + err)).alias(f'{col}_patient_norm') for col in (num_cols + new_num_cols)\n",
    "        )\n",
    "        .with_columns(\n",
    "            count_per_patient = pl.col('isic_id').count().over('patient_id'),\n",
    "        )\n",
    "        .with_columns(\n",
    "            pl.col(cat_cols).cast(pl.Categorical),\n",
    "        )\n",
    "        .to_pandas()\n",
    "        .set_index(id_col)\n",
    "    )"
   ]
  },
  {
   "cell_type": "code",
   "execution_count": 7,
   "id": "dbf2ae71",
   "metadata": {
    "execution": {
     "iopub.execute_input": "2024-08-25T03:48:51.058372Z",
     "iopub.status.busy": "2024-08-25T03:48:51.058098Z",
     "iopub.status.idle": "2024-08-25T03:48:51.070858Z",
     "shell.execute_reply": "2024-08-25T03:48:51.070129Z"
    },
    "papermill": {
     "duration": 0.027958,
     "end_time": "2024-08-25T03:48:51.072705",
     "exception": false,
     "start_time": "2024-08-25T03:48:51.044747",
     "status": "completed"
    },
    "tags": []
   },
   "outputs": [],
   "source": [
    "def preprocess(df_train, df_test):\n",
    "    global cat_cols\n",
    "    \n",
    "    encoder = OneHotEncoder(sparse_output=False, dtype=np.int32, handle_unknown='ignore')\n",
    "    encoder.fit(df_train[cat_cols])\n",
    "    \n",
    "    new_cat_cols = [f'onehot_{i}' for i in range(len(encoder.get_feature_names_out()))]\n",
    "\n",
    "    df_train[new_cat_cols] = encoder.transform(df_train[cat_cols])\n",
    "    df_train[new_cat_cols] = df_train[new_cat_cols].astype('category')\n",
    "\n",
    "    df_test[new_cat_cols] = encoder.transform(df_test[cat_cols])\n",
    "    df_test[new_cat_cols] = df_test[new_cat_cols].astype('category')\n",
    "    \n",
    "    \n",
    "    # effnetv1b0\n",
    "    df_eff = pd.read_csv(\"/kaggle/input/isic-inference-effnetv1b0-for-training-data/train_effnetv1b0.csv\")\n",
    "  \n",
    "    df_train = df_train.reset_index(drop=True)\n",
    "    df_eff = df_eff.reset_index(drop=True)\n",
    "    \n",
    "    #upload effnetv1b0 train predictions values\n",
    "    df_train[\"target_effnetv1b0\"] = df_eff[\"target_effnetv1b0\"]\n",
    "    df_eff = pd.read_csv(\"submission_effnetv1b0.csv\")\n",
    "    \n",
    "    df_test = df_test.reset_index(drop=True)\n",
    "    df_eff = df_eff.reset_index(drop=True)\n",
    "    \n",
    "    #upload effnetv1b0 test predictions values\n",
    "    df_test[\"target_effnetv1b0\"] = df_eff[\"target\"]\n",
    "        \n",
    "    # target 3\n",
    "    df_image_3 = pd.read_csv(\"/kaggle/input/isic-2024-pl-submission-script-and-preds/train_preds.csv\")\n",
    "    \n",
    "    df_train = df_train.reset_index(drop=True)\n",
    "    df_image_3 = df_image_3.reset_index(drop=True)\n",
    "    \n",
    "    df_train[\"target_3\"] = df_image_3[\"pred\"]\n",
    "    \n",
    "    df_3 = pd.read_csv(\"submission_image3.csv\")\n",
    "    \n",
    "    df_test = df_test.reset_index(drop=True)\n",
    "    df_image_3 = df_image_3.reset_index(drop=True)\n",
    "    \n",
    "    df_test[\"target_3\"] = df_3[\"target\"]\n",
    "    \n",
    "    #eva02\n",
    "    df_eva = pd.read_csv(\"/kaggle/input/isic-inference-eva02-for-training-data/train_eva02.csv\")\n",
    "    \n",
    "    df_train = df_train.reset_index(drop=True)\n",
    "    df_eva = df_eva.reset_index(drop=True)\n",
    "    \n",
    "    df_eva = df_eva[[\"target_eva02\"]]\n",
    "    df_train[\"target_eva02\"] = df_eva[\"target_eva02\"]\n",
    "    \n",
    "    df_eva = pd.read_csv(\"submission_eva02.csv\")\n",
    "    \n",
    "    df_test = df_test.reset_index(drop=True)\n",
    "    df_eva = df_eva.reset_index(drop=True)\n",
    "    \n",
    "    df_test[\"target_eva02\"] = df_eva[\"target\"]\n",
    "\n",
    "\n",
    "    for col in cat_cols:\n",
    "        feature_cols.remove(col)\n",
    "\n",
    "    feature_cols.extend(new_cat_cols)\n",
    "    cat_cols = new_cat_cols\n",
    "    \n",
    "    return df_train, df_test"
   ]
  },
  {
   "cell_type": "code",
   "execution_count": 8,
   "id": "87a5d0a4",
   "metadata": {
    "execution": {
     "iopub.execute_input": "2024-08-25T03:48:51.098787Z",
     "iopub.status.busy": "2024-08-25T03:48:51.098087Z",
     "iopub.status.idle": "2024-08-25T03:48:51.103961Z",
     "shell.execute_reply": "2024-08-25T03:48:51.103135Z"
    },
    "papermill": {
     "duration": 0.02089,
     "end_time": "2024-08-25T03:48:51.105875",
     "exception": false,
     "start_time": "2024-08-25T03:48:51.084985",
     "status": "completed"
    },
    "tags": []
   },
   "outputs": [],
   "source": [
    "def custom_metric(estimator, X, y_true):\n",
    "    y_hat = estimator.predict_proba(X)[:, 1]\n",
    "    min_tpr = 0.80\n",
    "    max_fpr = abs(1 - min_tpr)\n",
    "    \n",
    "    v_gt = abs(y_true - 1)\n",
    "    v_pred = np.array([1.0 - x for x in y_hat])\n",
    "    \n",
    "    partial_auc_scaled = roc_auc_score(v_gt, v_pred, max_fpr=max_fpr)\n",
    "    partial_auc = 0.5 * max_fpr**2 + (max_fpr - 0.5 * max_fpr**2) / (1.0 - 0.5) * (partial_auc_scaled - 0.5)\n",
    "    \n",
    "    return partial_auc"
   ]
  },
  {
   "cell_type": "code",
   "execution_count": 9,
   "id": "e588cdc5",
   "metadata": {
    "execution": {
     "iopub.execute_input": "2024-08-25T03:48:51.131872Z",
     "iopub.status.busy": "2024-08-25T03:48:51.131329Z",
     "iopub.status.idle": "2024-08-25T03:49:13.165463Z",
     "shell.execute_reply": "2024-08-25T03:49:13.164587Z"
    },
    "papermill": {
     "duration": 22.049402,
     "end_time": "2024-08-25T03:49:13.167626",
     "exception": false,
     "start_time": "2024-08-25T03:48:51.118224",
     "status": "completed"
    },
    "tags": []
   },
   "outputs": [
    {
     "name": "stderr",
     "output_type": "stream",
     "text": [
      "/tmp/ipykernel_24/1854192152.py:17: DtypeWarning: Columns (51,52) have mixed types. Specify dtype option on import or set low_memory=False.\n",
      "  df_eff = pd.read_csv(\"/kaggle/input/isic-inference-effnetv1b0-for-training-data/train_effnetv1b0.csv\")\n",
      "/tmp/ipykernel_24/1854192152.py:48: DtypeWarning: Columns (51,52) have mixed types. Specify dtype option on import or set low_memory=False.\n",
      "  df_eva = pd.read_csv(\"/kaggle/input/isic-inference-eva02-for-training-data/train_eva02.csv\")\n"
     ]
    }
   ],
   "source": [
    "df_train = read_data(train_path)\n",
    "df_test = read_data(test_path)\n",
    "df_subm = pd.read_csv(subm_path, index_col=id_col)\n",
    "\n",
    "df_train, df_test = preprocess(df_train, df_test)"
   ]
  },
  {
   "cell_type": "markdown",
   "id": "32ad759a",
   "metadata": {
    "papermill": {
     "duration": 0.012335,
     "end_time": "2024-08-25T03:49:13.192859",
     "exception": false,
     "start_time": "2024-08-25T03:49:13.180524",
     "status": "completed"
    },
    "tags": []
   },
   "source": [
    "***drop least important features with feature importance(code at the last of the notebook before test predictions)***"
   ]
  },
  {
   "cell_type": "code",
   "execution_count": 10,
   "id": "8c488310",
   "metadata": {
    "execution": {
     "iopub.execute_input": "2024-08-25T03:49:13.218759Z",
     "iopub.status.busy": "2024-08-25T03:49:13.218452Z",
     "iopub.status.idle": "2024-08-25T03:49:13.421737Z",
     "shell.execute_reply": "2024-08-25T03:49:13.420967Z"
    },
    "papermill": {
     "duration": 0.218895,
     "end_time": "2024-08-25T03:49:13.424083",
     "exception": false,
     "start_time": "2024-08-25T03:49:13.205188",
     "status": "completed"
    },
    "tags": []
   },
   "outputs": [],
   "source": [
    "#they are detected at the first run\n",
    "least_important_features = ['onehot_32', 'onehot_6', 'onehot_33', 'onehot_30', 'onehot_26', 'onehot_22', 'onehot_36', 'onehot_4']\n",
    "#they are detected after the least_important_features are removed and it has increased cv score also so I add it\n",
    "#least_important_features_2 = ['onehot_17', 'onehot_42', 'onehot_29', 'onehot_13', 'onehot_25']\n",
    "#least_important_features += least_important_features_2\n",
    "df_train.drop(columns =least_important_features,inplace = True)\n",
    "for feature in least_important_features:\n",
    "    cat_cols.remove(feature)\n",
    "    feature_cols.remove(feature)"
   ]
  },
  {
   "cell_type": "markdown",
   "id": "033c97a5",
   "metadata": {
    "papermill": {
     "duration": 0.012242,
     "end_time": "2024-08-25T03:49:13.449250",
     "exception": false,
     "start_time": "2024-08-25T03:49:13.437008",
     "status": "completed"
    },
    "tags": []
   },
   "source": [
    "# MODEL INITIALIZATION"
   ]
  },
  {
   "cell_type": "code",
   "execution_count": 11,
   "id": "52f16885",
   "metadata": {
    "execution": {
     "iopub.execute_input": "2024-08-25T03:49:13.475215Z",
     "iopub.status.busy": "2024-08-25T03:49:13.474924Z",
     "iopub.status.idle": "2024-08-25T03:49:13.480770Z",
     "shell.execute_reply": "2024-08-25T03:49:13.479929Z"
    },
    "papermill": {
     "duration": 0.02092,
     "end_time": "2024-08-25T03:49:13.482581",
     "exception": false,
     "start_time": "2024-08-25T03:49:13.461661",
     "status": "completed"
    },
    "tags": []
   },
   "outputs": [],
   "source": [
    "from sklearn.base import BaseEstimator, TransformerMixin\n",
    "import copy\n",
    "\n",
    "feature_cols_without_image_cols = copy.copy(feature_cols)\n",
    "feature_cols += image_cols\n",
    "\n",
    "class SelectColumns(BaseEstimator, TransformerMixin):\n",
    "    def __init__(self, columns):\n",
    "        self.columns = columns\n",
    "    def fit(self, X, y=None):\n",
    "        return self\n",
    "    def transform(self, X):\n",
    "        return X[self.columns]"
   ]
  },
  {
   "cell_type": "code",
   "execution_count": 12,
   "id": "98681690",
   "metadata": {
    "execution": {
     "iopub.execute_input": "2024-08-25T03:49:13.508318Z",
     "iopub.status.busy": "2024-08-25T03:49:13.508051Z",
     "iopub.status.idle": "2024-08-25T03:49:13.515048Z",
     "shell.execute_reply": "2024-08-25T03:49:13.514213Z"
    },
    "papermill": {
     "duration": 0.022118,
     "end_time": "2024-08-25T03:49:13.517006",
     "exception": false,
     "start_time": "2024-08-25T03:49:13.494888",
     "status": "completed"
    },
    "tags": []
   },
   "outputs": [],
   "source": [
    "lgb_params = {\n",
    "    'objective':        'binary',\n",
    "    'verbosity':        -1,\n",
    "    'n_iter':           280,\n",
    "    'boosting_type':    'gbdt',\n",
    "    'random_state':     seed,\n",
    "    'lambda_l1':        0.7219472757311, \n",
    "    'lambda_l2':        1.2495724239, \n",
    "    'learning_rate':    0.083948293589, \n",
    "    'max_depth':        5, \n",
    "    'num_leaves':       103, \n",
    "    'colsample_bytree': 0.3593171339, \n",
    "    'colsample_bynode': 0.4829473953, \n",
    "    'bagging_fraction': 0.48395779342, \n",
    "    'bagging_freq':     5, \n",
    "    'min_data_in_leaf': 85, \n",
    "    'scale_pos_weight': 2.7984184778875543,\n",
    "}\n",
    "\n",
    "\n",
    "sampling_ratio = 0.01\n",
    "seed =42\n",
    "\n",
    "lgb_model = Pipeline([\n",
    "    ('sampler_1', RandomOverSampler(sampling_strategy= 0.003 , random_state=seed)),\n",
    "    ('sampler_2', RandomUnderSampler(sampling_strategy=sampling_ratio, random_state=seed)),\n",
    "    ('filter', SelectColumns(feature_cols_without_image_cols)),\n",
    "    ('classifier', lgb.LGBMClassifier(**lgb_params)),\n",
    "])"
   ]
  },
  {
   "cell_type": "code",
   "execution_count": 13,
   "id": "113b5901",
   "metadata": {
    "execution": {
     "iopub.execute_input": "2024-08-25T03:49:13.542815Z",
     "iopub.status.busy": "2024-08-25T03:49:13.542526Z",
     "iopub.status.idle": "2024-08-25T03:49:13.550858Z",
     "shell.execute_reply": "2024-08-25T03:49:13.550126Z"
    },
    "papermill": {
     "duration": 0.023197,
     "end_time": "2024-08-25T03:49:13.552684",
     "exception": false,
     "start_time": "2024-08-25T03:49:13.529487",
     "status": "completed"
    },
    "tags": []
   },
   "outputs": [],
   "source": [
    "cb_params = {\n",
    "    'loss_function':     'Logloss',\n",
    "    'iterations':        280,\n",
    "    'verbose':           False,\n",
    "    'random_state':      seed,\n",
    "    'max_depth':         7, \n",
    "    'learning_rate':     0.094193755, \n",
    "    'scale_pos_weight':  2.6149345838209532, \n",
    "    'l2_leaf_reg':       5.19274751205, \n",
    "    'subsample':         0.6249261779711819, \n",
    "    'min_data_in_leaf':  24,\n",
    "    'cat_features':      cat_cols,\n",
    "}\n",
    "cb_model = Pipeline([\n",
    "    ('sampler_1', RandomOverSampler(sampling_strategy= 0.003 , random_state=seed)),\n",
    "    ('sampler_2', RandomUnderSampler(sampling_strategy=sampling_ratio, random_state=seed)),\n",
    "    ('classifier', cb.CatBoostClassifier(**cb_params)),\n",
    "])"
   ]
  },
  {
   "cell_type": "code",
   "execution_count": 14,
   "id": "669380ba",
   "metadata": {
    "execution": {
     "iopub.execute_input": "2024-08-25T03:49:13.578834Z",
     "iopub.status.busy": "2024-08-25T03:49:13.578552Z",
     "iopub.status.idle": "2024-08-25T03:49:13.584465Z",
     "shell.execute_reply": "2024-08-25T03:49:13.583638Z"
    },
    "papermill": {
     "duration": 0.02131,
     "end_time": "2024-08-25T03:49:13.586376",
     "exception": false,
     "start_time": "2024-08-25T03:49:13.565066",
     "status": "completed"
    },
    "tags": []
   },
   "outputs": [],
   "source": [
    "xgb_params = {\n",
    "    'enable_categorical': True,\n",
    "    'tree_method':        'hist',\n",
    "    'random_state':       seed,\n",
    "    'learning_rate':      0.08501257473292347, \n",
    "    'lambda':             8.879624125465703, \n",
    "    'alpha':              0.6779926606782505, \n",
    "    'max_depth':          6, \n",
    "    'subsample':          0.6012681388711075, \n",
    "    'colsample_bytree':   0.8437772277074493, \n",
    "    'colsample_bylevel':  0.5476090898823716, \n",
    "    'colsample_bynode':   0.9928601203635129, \n",
    "    'scale_pos_weight':   3.29440313334688,\n",
    "}\n",
    "\n",
    "xgb_model = Pipeline([\n",
    "    ('sampler_1', RandomOverSampler(sampling_strategy= 0.003 , random_state=seed)),\n",
    "    ('sampler_2', RandomUnderSampler(sampling_strategy=sampling_ratio, random_state=seed)),\n",
    "    ('classifier', xgb.XGBClassifier(**xgb_params)),\n",
    "])"
   ]
  },
  {
   "cell_type": "code",
   "execution_count": 15,
   "id": "5b4bb4c3",
   "metadata": {
    "execution": {
     "iopub.execute_input": "2024-08-25T03:49:13.612404Z",
     "iopub.status.busy": "2024-08-25T03:49:13.611781Z",
     "iopub.status.idle": "2024-08-25T03:49:13.615887Z",
     "shell.execute_reply": "2024-08-25T03:49:13.615075Z"
    },
    "papermill": {
     "duration": 0.01911,
     "end_time": "2024-08-25T03:49:13.617803",
     "exception": false,
     "start_time": "2024-08-25T03:49:13.598693",
     "status": "completed"
    },
    "tags": []
   },
   "outputs": [],
   "source": [
    "estimator = VotingClassifier([\n",
    "    ('lgb', lgb_model), ('cb', cb_model), ('xgb', xgb_model),\n",
    "], voting='soft')"
   ]
  },
  {
   "cell_type": "markdown",
   "id": "dc84dbda",
   "metadata": {
    "papermill": {
     "duration": 0.012204,
     "end_time": "2024-08-25T03:49:13.642299",
     "exception": false,
     "start_time": "2024-08-25T03:49:13.630095",
     "status": "completed"
    },
    "tags": []
   },
   "source": [
    "# CROSS VALIDATION"
   ]
  },
  {
   "cell_type": "code",
   "execution_count": 16,
   "id": "89b65203",
   "metadata": {
    "execution": {
     "iopub.execute_input": "2024-08-25T03:49:13.711646Z",
     "iopub.status.busy": "2024-08-25T03:49:13.710872Z",
     "iopub.status.idle": "2024-08-25T03:52:46.509665Z",
     "shell.execute_reply": "2024-08-25T03:52:46.508692Z"
    },
    "papermill": {
     "duration": 212.870975,
     "end_time": "2024-08-25T03:52:46.525698",
     "exception": false,
     "start_time": "2024-08-25T03:49:13.654723",
     "status": "completed"
    },
    "tags": []
   },
   "outputs": [
    {
     "name": "stderr",
     "output_type": "stream",
     "text": [
      "/opt/conda/lib/python3.10/site-packages/lightgbm/engine.py:172: UserWarning: Found `n_iter` in params. Will use it instead of argument\n",
      "  _log_warning(f\"Found `{alias}` in params. Will use it instead of argument\")\n",
      "/opt/conda/lib/python3.10/site-packages/lightgbm/engine.py:172: UserWarning: Found `n_iter` in params. Will use it instead of argument\n",
      "  _log_warning(f\"Found `{alias}` in params. Will use it instead of argument\")\n",
      "/opt/conda/lib/python3.10/site-packages/lightgbm/engine.py:172: UserWarning: Found `n_iter` in params. Will use it instead of argument\n",
      "  _log_warning(f\"Found `{alias}` in params. Will use it instead of argument\")\n",
      "/opt/conda/lib/python3.10/site-packages/lightgbm/engine.py:172: UserWarning: Found `n_iter` in params. Will use it instead of argument\n",
      "  _log_warning(f\"Found `{alias}` in params. Will use it instead of argument\")\n",
      "/opt/conda/lib/python3.10/site-packages/lightgbm/engine.py:172: UserWarning: Found `n_iter` in params. Will use it instead of argument\n",
      "  _log_warning(f\"Found `{alias}` in params. Will use it instead of argument\")\n"
     ]
    },
    {
     "data": {
      "text/plain": [
       "(0.18779888261527722,\n",
       " array([0.1816867 , 0.18822217, 0.19399562, 0.18487127, 0.19021866]))"
      ]
     },
     "execution_count": 16,
     "metadata": {},
     "output_type": "execute_result"
    }
   ],
   "source": [
    "X = df_train[feature_cols]\n",
    "y = df_train[target_col]\n",
    "groups = df_train[group_col]\n",
    "cv = StratifiedGroupKFold(5, shuffle=True, random_state=seed)\n",
    "\n",
    "val_score = cross_val_score(\n",
    "    estimator=estimator, \n",
    "    X=X, y=y, \n",
    "    cv=cv, \n",
    "    groups=groups,\n",
    "    scoring=custom_metric,\n",
    ")\n",
    "\n",
    "np.mean(val_score), val_score\n",
    "\n",
    "\n",
    "# -------------------CV SCORES------------------------\n",
    "# RUS ==RandomUnderSampler(0.001) , ROS ==RandomOverSampler(0.003)\n",
    "# DROP NOTHING ----------------------> (0.18775) (RUS + image features(effnet+ target3))\n",
    "# DROP least_important_features -----> (0.18747) (RUS + image features(effnet+target3))\n",
    "# DROP NOTHING ----------------------> (0.17000) (ROS+RUS + no image features)\n",
    "# DROP least_important_features -----> (0.17124) (ROS+RUS + no image features)\n",
    "# DROP least_important_features+2 ---> (0.17160) (ROS+RUS + no image features)\n"
   ]
  },
  {
   "cell_type": "markdown",
   "id": "c1b8c0d3",
   "metadata": {
    "papermill": {
     "duration": 0.012675,
     "end_time": "2024-08-25T03:52:46.551366",
     "exception": false,
     "start_time": "2024-08-25T03:52:46.538691",
     "status": "completed"
    },
    "tags": []
   },
   "source": [
    "# HYPERPARAMETER TUNING"
   ]
  },
  {
   "cell_type": "code",
   "execution_count": 17,
   "id": "c1196373",
   "metadata": {
    "execution": {
     "iopub.execute_input": "2024-08-25T03:52:46.578753Z",
     "iopub.status.busy": "2024-08-25T03:52:46.578208Z",
     "iopub.status.idle": "2024-08-25T03:52:46.582275Z",
     "shell.execute_reply": "2024-08-25T03:52:46.581306Z"
    },
    "papermill": {
     "duration": 0.020005,
     "end_time": "2024-08-25T03:52:46.584204",
     "exception": false,
     "start_time": "2024-08-25T03:52:46.564199",
     "status": "completed"
    },
    "tags": []
   },
   "outputs": [],
   "source": [
    "DO_TUNING = False"
   ]
  },
  {
   "cell_type": "code",
   "execution_count": 18,
   "id": "deba2005",
   "metadata": {
    "execution": {
     "iopub.execute_input": "2024-08-25T03:52:46.611297Z",
     "iopub.status.busy": "2024-08-25T03:52:46.611054Z",
     "iopub.status.idle": "2024-08-25T03:52:46.620306Z",
     "shell.execute_reply": "2024-08-25T03:52:46.619492Z"
    },
    "papermill": {
     "duration": 0.025098,
     "end_time": "2024-08-25T03:52:46.622215",
     "exception": false,
     "start_time": "2024-08-25T03:52:46.597117",
     "status": "completed"
    },
    "tags": []
   },
   "outputs": [],
   "source": [
    "def lgb_objective(trial):\n",
    "    params = {\n",
    "        'objective':         'binary',\n",
    "        'verbosity':         -1,\n",
    "        'n_iter': 400,\n",
    "        'boosting_type':  'gbdt',\n",
    "        'lambda_l1':         trial.suggest_float('lambda_l1', 1e-3, 10.0, log=True),\n",
    "        'lambda_l2':         trial.suggest_float('lambda_l2', 1e-3, 10.0, log=True),\n",
    "        'learning_rate':     trial.suggest_float('learning_rate', 1e-2, 1e-1, log=True),\n",
    "        'max_depth':         trial.suggest_int('max_depth', 4, 8),\n",
    "        'num_leaves':        trial.suggest_int('num_leaves', 16, 256),\n",
    "        'colsample_bytree':  trial.suggest_float('colsample_bytree', 0.4, 1.0),\n",
    "        'colsample_bynode':  trial.suggest_float('colsample_bynode', 0.4, 1.0),\n",
    "        'bagging_fraction':  trial.suggest_float('bagging_fraction', 0.4, 1.0),\n",
    "        'bagging_freq':      trial.suggest_int('bagging_freq', 1, 7),\n",
    "        'min_data_in_leaf':  trial.suggest_int('min_data_in_leaf', 5, 100),\n",
    "        'scale_pos_weight' : trial.suggest_float('scale_pos_weight', 0.8, 4.0),\n",
    "    }\n",
    "\n",
    "    estimator = Pipeline([\n",
    "        ('sampler', RandomUnderSampler(sampling_strategy=sampling_ratio)),\n",
    "        ('classifier', lgb.LGBMClassifier(**params)),\n",
    "    ])\n",
    "\n",
    "    X = df_train[feature_cols]\n",
    "    y = df_train[target_col]\n",
    "    groups = df_train[group_col]\n",
    "    cv = StratifiedGroupKFold(5, shuffle=True)\n",
    "\n",
    "    val_score = cross_val_score(\n",
    "        estimator=estimator, \n",
    "        X=X, y=y, \n",
    "        cv=cv, \n",
    "        groups=groups,\n",
    "        scoring=custom_metric,\n",
    "    )\n",
    "\n",
    "    return np.mean(val_score)"
   ]
  },
  {
   "cell_type": "code",
   "execution_count": 19,
   "id": "6a07d22e",
   "metadata": {
    "execution": {
     "iopub.execute_input": "2024-08-25T03:52:46.649545Z",
     "iopub.status.busy": "2024-08-25T03:52:46.649280Z",
     "iopub.status.idle": "2024-08-25T03:52:46.657326Z",
     "shell.execute_reply": "2024-08-25T03:52:46.656495Z"
    },
    "papermill": {
     "duration": 0.023525,
     "end_time": "2024-08-25T03:52:46.659054",
     "exception": false,
     "start_time": "2024-08-25T03:52:46.635529",
     "status": "completed"
    },
    "tags": []
   },
   "outputs": [],
   "source": [
    "def cb_objective(trial):\n",
    "    params = {\n",
    "        'loss_function':     'Logloss',\n",
    "        'iterations':        400,\n",
    "        'verbose':           False,\n",
    "        'random_state':      seed,\n",
    "        'learning_rate':     trial.suggest_float('learning_rate', 1e-2, 1e-1, log=True),\n",
    "        'max_depth':         trial.suggest_int('max_depth', 4, 8),\n",
    "        'l2_leaf_reg':       trial.suggest_float('l2_leaf_reg', 1e-3, 10.0, log=True),\n",
    "        'subsample':         trial.suggest_float('subsample', 0.4, 1.0),\n",
    "        'colsample_bylevel': trial.suggest_float('colsample_bylevel', 0.4, 1.0),\n",
    "        'min_data_in_leaf':  trial.suggest_int('min_data_in_leaf', 5, 100),\n",
    "        'scale_pos_weight':  trial.suggest_float('scale_pos_weight', 0.8, 4.0),\n",
    "        'bootstrap_type':    'Bayesian',  # Optional: depending on your use case, you may want to tune this as well\n",
    "    }\n",
    "\n",
    "    estimator = Pipeline([\n",
    "        ('sampler', RandomUnderSampler(sampling_strategy=sampling_ratio)),\n",
    "        ('classifier', cb.CatBoostClassifier(**params)),\n",
    "    ])\n",
    "\n",
    "    X = df_train[feature_cols]\n",
    "    y = df_train[target_col]\n",
    "    groups = df_train[group_col]\n",
    "    cv = StratifiedGroupKFold(5, shuffle=True)\n",
    "\n",
    "    val_score = cross_val_score(\n",
    "        estimator=estimator, \n",
    "        X=X, y=y, \n",
    "        cv=cv, \n",
    "        groups=groups,\n",
    "        scoring=custom_metric,\n",
    "    )\n",
    "\n",
    "    return np.mean(val_score)"
   ]
  },
  {
   "cell_type": "code",
   "execution_count": 20,
   "id": "a3b7e459",
   "metadata": {
    "execution": {
     "iopub.execute_input": "2024-08-25T03:52:46.686170Z",
     "iopub.status.busy": "2024-08-25T03:52:46.685909Z",
     "iopub.status.idle": "2024-08-25T03:52:46.694395Z",
     "shell.execute_reply": "2024-08-25T03:52:46.693685Z"
    },
    "papermill": {
     "duration": 0.024005,
     "end_time": "2024-08-25T03:52:46.696190",
     "exception": false,
     "start_time": "2024-08-25T03:52:46.672185",
     "status": "completed"
    },
    "tags": []
   },
   "outputs": [],
   "source": [
    "def xgb_objective(trial):\n",
    "    params = {\n",
    "        'objective':          'binary:logistic',\n",
    "        'n_estimators':       200,\n",
    "        'tree_method':        'hist',\n",
    "        'random_state':       seed,\n",
    "        'learning_rate':      trial.suggest_float('learning_rate', 1e-2, 1e-1, log=True),\n",
    "        'max_depth':          trial.suggest_int('max_depth', 4, 8),\n",
    "        'lambda':             trial.suggest_float('lambda', 1e-3, 10.0, log=True),\n",
    "        'alpha':              trial.suggest_float('alpha', 1e-3, 10.0, log=True),\n",
    "        'subsample':          trial.suggest_float('subsample', 0.4, 1.0),\n",
    "        'colsample_bytree':   trial.suggest_float('colsample_bytree', 0.4, 1.0),\n",
    "        'colsample_bynode':   trial.suggest_float('colsample_bynode', 0.4, 1.0),\n",
    "        'scale_pos_weight':   trial.suggest_float('scale_pos_weight', 0.8, 4.0),\n",
    "    }\n",
    "\n",
    "    estimator = Pipeline([\n",
    "        ('sampler', RandomUnderSampler(sampling_strategy=sampling_ratio)),\n",
    "        ('classifier', xgb.XGBClassifier(**params)),\n",
    "    ])\n",
    "\n",
    "    X = df_train[feature_cols]\n",
    "    y = df_train[target_col]\n",
    "    groups = df_train[group_col]\n",
    "    cv = StratifiedGroupKFold(5, shuffle=True)\n",
    "\n",
    "    val_score = cross_val_score(\n",
    "        estimator=estimator, \n",
    "        X=X, y=y, \n",
    "        cv=cv, \n",
    "        groups=groups,\n",
    "        scoring=custom_metric,\n",
    "    )\n",
    "\n",
    "    return np.mean(val_score)"
   ]
  },
  {
   "cell_type": "code",
   "execution_count": 21,
   "id": "9611399c",
   "metadata": {
    "execution": {
     "iopub.execute_input": "2024-08-25T03:52:46.723064Z",
     "iopub.status.busy": "2024-08-25T03:52:46.722547Z",
     "iopub.status.idle": "2024-08-25T03:52:46.727404Z",
     "shell.execute_reply": "2024-08-25T03:52:46.726579Z"
    },
    "papermill": {
     "duration": 0.020212,
     "end_time": "2024-08-25T03:52:46.729257",
     "exception": false,
     "start_time": "2024-08-25T03:52:46.709045",
     "status": "completed"
    },
    "tags": []
   },
   "outputs": [],
   "source": [
    "if DO_TUNING:\n",
    "    # LightGBM\n",
    "    start_time = time.time()\n",
    "    study_lgb = optuna.create_study(direction='maximize', sampler=TPESampler(seed=seed))\n",
    "    study_lgb.optimize(objective_lgb, n_trials=100)\n",
    "    end_time = time.time()\n",
    "    elapsed_time_lgb = end_time - start_time\n",
    "    print(f\"LightGBM tuning took {elapsed_time_lgb:.2f} seconds.\")\n"
   ]
  },
  {
   "cell_type": "code",
   "execution_count": 22,
   "id": "755754c2",
   "metadata": {
    "execution": {
     "iopub.execute_input": "2024-08-25T03:52:46.755958Z",
     "iopub.status.busy": "2024-08-25T03:52:46.755677Z",
     "iopub.status.idle": "2024-08-25T03:52:46.760401Z",
     "shell.execute_reply": "2024-08-25T03:52:46.759695Z"
    },
    "papermill": {
     "duration": 0.020149,
     "end_time": "2024-08-25T03:52:46.762207",
     "exception": false,
     "start_time": "2024-08-25T03:52:46.742058",
     "status": "completed"
    },
    "tags": []
   },
   "outputs": [],
   "source": [
    "if DO_TUNING:\n",
    "    # CatBoost\n",
    "    start_time = time.time()\n",
    "    study_cb = optuna.create_study(direction='maximize', sampler=TPESampler(seed=seed))\n",
    "    study_cb.optimize(objective_cb, n_trials=100)\n",
    "    end_time = time.time()\n",
    "    elapsed_time_cb = end_time - start_time\n",
    "    print(f\"CatBoost tuning took {elapsed_time_cb:.2f} seconds.\")"
   ]
  },
  {
   "cell_type": "code",
   "execution_count": 23,
   "id": "9e616936",
   "metadata": {
    "execution": {
     "iopub.execute_input": "2024-08-25T03:52:46.790276Z",
     "iopub.status.busy": "2024-08-25T03:52:46.789519Z",
     "iopub.status.idle": "2024-08-25T03:52:46.794824Z",
     "shell.execute_reply": "2024-08-25T03:52:46.794020Z"
    },
    "papermill": {
     "duration": 0.021442,
     "end_time": "2024-08-25T03:52:46.796649",
     "exception": false,
     "start_time": "2024-08-25T03:52:46.775207",
     "status": "completed"
    },
    "tags": []
   },
   "outputs": [],
   "source": [
    "if DO_TUNING:\n",
    "    # XGBoost\n",
    "    start_time = time.time()\n",
    "    study_xgb = optuna.create_study(direction='maximize', sampler=TPESampler(seed=seed))\n",
    "    study_xgb.optimize(objective_xgb, n_trials=100)\n",
    "    end_time = time.time()\n",
    "    elapsed_time_xgb = end_time - start_time\n",
    "    print(f\"XGBoost tuning took {elapsed_time_xgb:.2f} seconds.\")"
   ]
  },
  {
   "cell_type": "code",
   "execution_count": 24,
   "id": "acb48830",
   "metadata": {
    "execution": {
     "iopub.execute_input": "2024-08-25T03:52:46.823853Z",
     "iopub.status.busy": "2024-08-25T03:52:46.823178Z",
     "iopub.status.idle": "2024-08-25T03:52:46.827451Z",
     "shell.execute_reply": "2024-08-25T03:52:46.826671Z"
    },
    "papermill": {
     "duration": 0.01977,
     "end_time": "2024-08-25T03:52:46.829296",
     "exception": false,
     "start_time": "2024-08-25T03:52:46.809526",
     "status": "completed"
    },
    "tags": []
   },
   "outputs": [],
   "source": [
    "if DO_TUNING:\n",
    "    # Print best parameters for each study\n",
    "    print(\"Best LGBM trial:\", study_lgb.best_trial)\n",
    "    print(\"Best CatBoost trial:\", study_cb.best_trial)\n",
    "    print(\"Best XGBoost trial:\", study_xgb.best_trial)"
   ]
  },
  {
   "cell_type": "markdown",
   "id": "98641603",
   "metadata": {
    "papermill": {
     "duration": 0.012861,
     "end_time": "2024-08-25T03:52:46.855102",
     "exception": false,
     "start_time": "2024-08-25T03:52:46.842241",
     "status": "completed"
    },
    "tags": []
   },
   "source": [
    "# TRAINING"
   ]
  },
  {
   "cell_type": "code",
   "execution_count": 25,
   "id": "cce60173",
   "metadata": {
    "execution": {
     "iopub.execute_input": "2024-08-25T03:52:46.881936Z",
     "iopub.status.busy": "2024-08-25T03:52:46.881645Z",
     "iopub.status.idle": "2024-08-25T03:53:34.554387Z",
     "shell.execute_reply": "2024-08-25T03:53:34.553516Z"
    },
    "papermill": {
     "duration": 47.702521,
     "end_time": "2024-08-25T03:53:34.570516",
     "exception": false,
     "start_time": "2024-08-25T03:52:46.867995",
     "status": "completed"
    },
    "tags": []
   },
   "outputs": [
    {
     "name": "stderr",
     "output_type": "stream",
     "text": [
      "/opt/conda/lib/python3.10/site-packages/lightgbm/engine.py:172: UserWarning: Found `n_iter` in params. Will use it instead of argument\n",
      "  _log_warning(f\"Found `{alias}` in params. Will use it instead of argument\")\n"
     ]
    },
    {
     "data": {
      "text/html": [
       "<style>#sk-container-id-1 {color: black;background-color: white;}#sk-container-id-1 pre{padding: 0;}#sk-container-id-1 div.sk-toggleable {background-color: white;}#sk-container-id-1 label.sk-toggleable__label {cursor: pointer;display: block;width: 100%;margin-bottom: 0;padding: 0.3em;box-sizing: border-box;text-align: center;}#sk-container-id-1 label.sk-toggleable__label-arrow:before {content: \"▸\";float: left;margin-right: 0.25em;color: #696969;}#sk-container-id-1 label.sk-toggleable__label-arrow:hover:before {color: black;}#sk-container-id-1 div.sk-estimator:hover label.sk-toggleable__label-arrow:before {color: black;}#sk-container-id-1 div.sk-toggleable__content {max-height: 0;max-width: 0;overflow: hidden;text-align: left;background-color: #f0f8ff;}#sk-container-id-1 div.sk-toggleable__content pre {margin: 0.2em;color: black;border-radius: 0.25em;background-color: #f0f8ff;}#sk-container-id-1 input.sk-toggleable__control:checked~div.sk-toggleable__content {max-height: 200px;max-width: 100%;overflow: auto;}#sk-container-id-1 input.sk-toggleable__control:checked~label.sk-toggleable__label-arrow:before {content: \"▾\";}#sk-container-id-1 div.sk-estimator input.sk-toggleable__control:checked~label.sk-toggleable__label {background-color: #d4ebff;}#sk-container-id-1 div.sk-label input.sk-toggleable__control:checked~label.sk-toggleable__label {background-color: #d4ebff;}#sk-container-id-1 input.sk-hidden--visually {border: 0;clip: rect(1px 1px 1px 1px);clip: rect(1px, 1px, 1px, 1px);height: 1px;margin: -1px;overflow: hidden;padding: 0;position: absolute;width: 1px;}#sk-container-id-1 div.sk-estimator {font-family: monospace;background-color: #f0f8ff;border: 1px dotted black;border-radius: 0.25em;box-sizing: border-box;margin-bottom: 0.5em;}#sk-container-id-1 div.sk-estimator:hover {background-color: #d4ebff;}#sk-container-id-1 div.sk-parallel-item::after {content: \"\";width: 100%;border-bottom: 1px solid gray;flex-grow: 1;}#sk-container-id-1 div.sk-label:hover label.sk-toggleable__label {background-color: #d4ebff;}#sk-container-id-1 div.sk-serial::before {content: \"\";position: absolute;border-left: 1px solid gray;box-sizing: border-box;top: 0;bottom: 0;left: 50%;z-index: 0;}#sk-container-id-1 div.sk-serial {display: flex;flex-direction: column;align-items: center;background-color: white;padding-right: 0.2em;padding-left: 0.2em;position: relative;}#sk-container-id-1 div.sk-item {position: relative;z-index: 1;}#sk-container-id-1 div.sk-parallel {display: flex;align-items: stretch;justify-content: center;background-color: white;position: relative;}#sk-container-id-1 div.sk-item::before, #sk-container-id-1 div.sk-parallel-item::before {content: \"\";position: absolute;border-left: 1px solid gray;box-sizing: border-box;top: 0;bottom: 0;left: 50%;z-index: -1;}#sk-container-id-1 div.sk-parallel-item {display: flex;flex-direction: column;z-index: 1;position: relative;background-color: white;}#sk-container-id-1 div.sk-parallel-item:first-child::after {align-self: flex-end;width: 50%;}#sk-container-id-1 div.sk-parallel-item:last-child::after {align-self: flex-start;width: 50%;}#sk-container-id-1 div.sk-parallel-item:only-child::after {width: 0;}#sk-container-id-1 div.sk-dashed-wrapped {border: 1px dashed gray;margin: 0 0.4em 0.5em 0.4em;box-sizing: border-box;padding-bottom: 0.4em;background-color: white;}#sk-container-id-1 div.sk-label label {font-family: monospace;font-weight: bold;display: inline-block;line-height: 1.2em;}#sk-container-id-1 div.sk-label-container {text-align: center;}#sk-container-id-1 div.sk-container {/* jupyter's `normalize.less` sets `[hidden] { display: none; }` but bootstrap.min.css set `[hidden] { display: none !important; }` so we also need the `!important` here to be able to override the default hidden behavior on the sphinx rendered scikit-learn.org. See: https://github.com/scikit-learn/scikit-learn/issues/21755 */display: inline-block !important;position: relative;}#sk-container-id-1 div.sk-text-repr-fallback {display: none;}</style><div id=\"sk-container-id-1\" class=\"sk-top-container\"><div class=\"sk-text-repr-fallback\"><pre>VotingClassifier(estimators=[(&#x27;lgb&#x27;,\n",
       "                              Pipeline(steps=[(&#x27;sampler_1&#x27;,\n",
       "                                               RandomOverSampler(random_state=42,\n",
       "                                                                 sampling_strategy=0.003)),\n",
       "                                              (&#x27;sampler_2&#x27;,\n",
       "                                               RandomUnderSampler(random_state=42,\n",
       "                                                                  sampling_strategy=0.01)),\n",
       "                                              (&#x27;filter&#x27;,\n",
       "                                               SelectColumns(columns=[&#x27;age_approx&#x27;,\n",
       "                                                                      &#x27;clin_size_long_diam_mm&#x27;,\n",
       "                                                                      &#x27;tbp_lv_A&#x27;,\n",
       "                                                                      &#x27;tbp_lv_Aext&#x27;,\n",
       "                                                                      &#x27;tbp_lv_B&#x27;,\n",
       "                                                                      &#x27;tbp_lv_Bext&#x27;,\n",
       "                                                                      &#x27;tbp_lv_C&#x27;,\n",
       "                                                                      &#x27;tbp_lv_Cext&#x27;,\n",
       "                                                                      &#x27;tbp_l...\n",
       "                                                             importance_type=None,\n",
       "                                                             interaction_constraints=None,\n",
       "                                                             lambda=8.879624125465703,\n",
       "                                                             learning_rate=0.08501257473292347,\n",
       "                                                             max_bin=None,\n",
       "                                                             max_cat_threshold=None,\n",
       "                                                             max_cat_to_onehot=None,\n",
       "                                                             max_delta_step=None,\n",
       "                                                             max_depth=6,\n",
       "                                                             max_leaves=None,\n",
       "                                                             min_child_weight=None,\n",
       "                                                             missing=nan,\n",
       "                                                             monotone_constraints=None,\n",
       "                                                             multi_strategy=None,\n",
       "                                                             n_estimators=None,\n",
       "                                                             n_jobs=None, ...))]))],\n",
       "                 voting=&#x27;soft&#x27;)</pre><b>In a Jupyter environment, please rerun this cell to show the HTML representation or trust the notebook. <br />On GitHub, the HTML representation is unable to render, please try loading this page with nbviewer.org.</b></div><div class=\"sk-container\" hidden><div class=\"sk-item sk-dashed-wrapped\"><div class=\"sk-label-container\"><div class=\"sk-label sk-toggleable\"><input class=\"sk-toggleable__control sk-hidden--visually\" id=\"sk-estimator-id-1\" type=\"checkbox\" ><label for=\"sk-estimator-id-1\" class=\"sk-toggleable__label sk-toggleable__label-arrow\">VotingClassifier</label><div class=\"sk-toggleable__content\"><pre>VotingClassifier(estimators=[(&#x27;lgb&#x27;,\n",
       "                              Pipeline(steps=[(&#x27;sampler_1&#x27;,\n",
       "                                               RandomOverSampler(random_state=42,\n",
       "                                                                 sampling_strategy=0.003)),\n",
       "                                              (&#x27;sampler_2&#x27;,\n",
       "                                               RandomUnderSampler(random_state=42,\n",
       "                                                                  sampling_strategy=0.01)),\n",
       "                                              (&#x27;filter&#x27;,\n",
       "                                               SelectColumns(columns=[&#x27;age_approx&#x27;,\n",
       "                                                                      &#x27;clin_size_long_diam_mm&#x27;,\n",
       "                                                                      &#x27;tbp_lv_A&#x27;,\n",
       "                                                                      &#x27;tbp_lv_Aext&#x27;,\n",
       "                                                                      &#x27;tbp_lv_B&#x27;,\n",
       "                                                                      &#x27;tbp_lv_Bext&#x27;,\n",
       "                                                                      &#x27;tbp_lv_C&#x27;,\n",
       "                                                                      &#x27;tbp_lv_Cext&#x27;,\n",
       "                                                                      &#x27;tbp_l...\n",
       "                                                             importance_type=None,\n",
       "                                                             interaction_constraints=None,\n",
       "                                                             lambda=8.879624125465703,\n",
       "                                                             learning_rate=0.08501257473292347,\n",
       "                                                             max_bin=None,\n",
       "                                                             max_cat_threshold=None,\n",
       "                                                             max_cat_to_onehot=None,\n",
       "                                                             max_delta_step=None,\n",
       "                                                             max_depth=6,\n",
       "                                                             max_leaves=None,\n",
       "                                                             min_child_weight=None,\n",
       "                                                             missing=nan,\n",
       "                                                             monotone_constraints=None,\n",
       "                                                             multi_strategy=None,\n",
       "                                                             n_estimators=None,\n",
       "                                                             n_jobs=None, ...))]))],\n",
       "                 voting=&#x27;soft&#x27;)</pre></div></div></div><div class=\"sk-parallel\"><div class=\"sk-parallel-item\"><div class=\"sk-item\"><div class=\"sk-label-container\"><div class=\"sk-label sk-toggleable\"><label>lgb</label></div></div><div class=\"sk-serial\"><div class=\"sk-item\"><div class=\"sk-serial\"><div class=\"sk-item\"><div class=\"sk-estimator sk-toggleable\"><input class=\"sk-toggleable__control sk-hidden--visually\" id=\"sk-estimator-id-2\" type=\"checkbox\" ><label for=\"sk-estimator-id-2\" class=\"sk-toggleable__label sk-toggleable__label-arrow\">RandomOverSampler</label><div class=\"sk-toggleable__content\"><pre>RandomOverSampler(random_state=42, sampling_strategy=0.003)</pre></div></div></div><div class=\"sk-item\"><div class=\"sk-estimator sk-toggleable\"><input class=\"sk-toggleable__control sk-hidden--visually\" id=\"sk-estimator-id-3\" type=\"checkbox\" ><label for=\"sk-estimator-id-3\" class=\"sk-toggleable__label sk-toggleable__label-arrow\">RandomUnderSampler</label><div class=\"sk-toggleable__content\"><pre>RandomUnderSampler(random_state=42, sampling_strategy=0.01)</pre></div></div></div><div class=\"sk-item\"><div class=\"sk-estimator sk-toggleable\"><input class=\"sk-toggleable__control sk-hidden--visually\" id=\"sk-estimator-id-4\" type=\"checkbox\" ><label for=\"sk-estimator-id-4\" class=\"sk-toggleable__label sk-toggleable__label-arrow\">SelectColumns</label><div class=\"sk-toggleable__content\"><pre>SelectColumns(columns=[&#x27;age_approx&#x27;, &#x27;clin_size_long_diam_mm&#x27;, &#x27;tbp_lv_A&#x27;,\n",
       "                       &#x27;tbp_lv_Aext&#x27;, &#x27;tbp_lv_B&#x27;, &#x27;tbp_lv_Bext&#x27;, &#x27;tbp_lv_C&#x27;,\n",
       "                       &#x27;tbp_lv_Cext&#x27;, &#x27;tbp_lv_H&#x27;, &#x27;tbp_lv_Hext&#x27;, &#x27;tbp_lv_L&#x27;,\n",
       "                       &#x27;tbp_lv_Lext&#x27;, &#x27;tbp_lv_areaMM2&#x27;,\n",
       "                       &#x27;tbp_lv_area_perim_ratio&#x27;, &#x27;tbp_lv_color_std_mean&#x27;,\n",
       "                       &#x27;tbp_lv_deltaA&#x27;, &#x27;tbp_lv_deltaB&#x27;, &#x27;tbp_lv_deltaL&#x27;,\n",
       "                       &#x27;tbp_lv_deltaLB&#x27;, &#x27;tbp_lv_deltaLBnorm&#x27;,\n",
       "                       &#x27;tbp_lv_eccentricity&#x27;, &#x27;tbp_lv_minorAxisMM&#x27;,\n",
       "                       &#x27;tbp_lv_nevi_confidence&#x27;, &#x27;tbp_lv_norm_border&#x27;,\n",
       "                       &#x27;tbp_lv_norm_color&#x27;, &#x27;tbp_lv_perimeterMM&#x27;,\n",
       "                       &#x27;tbp_lv_radial_color_std_max&#x27;, &#x27;tbp_lv_stdL&#x27;,\n",
       "                       &#x27;tbp_lv_stdLExt&#x27;, &#x27;tbp_lv_symm_2axis&#x27;, ...])</pre></div></div></div><div class=\"sk-item\"><div class=\"sk-estimator sk-toggleable\"><input class=\"sk-toggleable__control sk-hidden--visually\" id=\"sk-estimator-id-5\" type=\"checkbox\" ><label for=\"sk-estimator-id-5\" class=\"sk-toggleable__label sk-toggleable__label-arrow\">LGBMClassifier</label><div class=\"sk-toggleable__content\"><pre>LGBMClassifier(bagging_fraction=0.48395779342, bagging_freq=5,\n",
       "               colsample_bynode=0.4829473953, colsample_bytree=0.3593171339,\n",
       "               lambda_l1=0.7219472757311, lambda_l2=1.2495724239,\n",
       "               learning_rate=0.083948293589, max_depth=5, min_data_in_leaf=85,\n",
       "               n_iter=280, num_leaves=103, objective=&#x27;binary&#x27;, random_state=42,\n",
       "               scale_pos_weight=2.7984184778875543, verbosity=-1)</pre></div></div></div></div></div></div></div></div><div class=\"sk-parallel-item\"><div class=\"sk-item\"><div class=\"sk-label-container\"><div class=\"sk-label sk-toggleable\"><label>cb</label></div></div><div class=\"sk-serial\"><div class=\"sk-item\"><div class=\"sk-serial\"><div class=\"sk-item\"><div class=\"sk-estimator sk-toggleable\"><input class=\"sk-toggleable__control sk-hidden--visually\" id=\"sk-estimator-id-6\" type=\"checkbox\" ><label for=\"sk-estimator-id-6\" class=\"sk-toggleable__label sk-toggleable__label-arrow\">RandomOverSampler</label><div class=\"sk-toggleable__content\"><pre>RandomOverSampler(random_state=42, sampling_strategy=0.003)</pre></div></div></div><div class=\"sk-item\"><div class=\"sk-estimator sk-toggleable\"><input class=\"sk-toggleable__control sk-hidden--visually\" id=\"sk-estimator-id-7\" type=\"checkbox\" ><label for=\"sk-estimator-id-7\" class=\"sk-toggleable__label sk-toggleable__label-arrow\">RandomUnderSampler</label><div class=\"sk-toggleable__content\"><pre>RandomUnderSampler(random_state=42, sampling_strategy=0.01)</pre></div></div></div><div class=\"sk-item\"><div class=\"sk-estimator sk-toggleable\"><input class=\"sk-toggleable__control sk-hidden--visually\" id=\"sk-estimator-id-8\" type=\"checkbox\" ><label for=\"sk-estimator-id-8\" class=\"sk-toggleable__label sk-toggleable__label-arrow\">CatBoostClassifier</label><div class=\"sk-toggleable__content\"><pre>&lt;catboost.core.CatBoostClassifier object at 0x7bee454d9450&gt;</pre></div></div></div></div></div></div></div></div><div class=\"sk-parallel-item\"><div class=\"sk-item\"><div class=\"sk-label-container\"><div class=\"sk-label sk-toggleable\"><label>xgb</label></div></div><div class=\"sk-serial\"><div class=\"sk-item\"><div class=\"sk-serial\"><div class=\"sk-item\"><div class=\"sk-estimator sk-toggleable\"><input class=\"sk-toggleable__control sk-hidden--visually\" id=\"sk-estimator-id-9\" type=\"checkbox\" ><label for=\"sk-estimator-id-9\" class=\"sk-toggleable__label sk-toggleable__label-arrow\">RandomOverSampler</label><div class=\"sk-toggleable__content\"><pre>RandomOverSampler(random_state=42, sampling_strategy=0.003)</pre></div></div></div><div class=\"sk-item\"><div class=\"sk-estimator sk-toggleable\"><input class=\"sk-toggleable__control sk-hidden--visually\" id=\"sk-estimator-id-10\" type=\"checkbox\" ><label for=\"sk-estimator-id-10\" class=\"sk-toggleable__label sk-toggleable__label-arrow\">RandomUnderSampler</label><div class=\"sk-toggleable__content\"><pre>RandomUnderSampler(random_state=42, sampling_strategy=0.01)</pre></div></div></div><div class=\"sk-item\"><div class=\"sk-estimator sk-toggleable\"><input class=\"sk-toggleable__control sk-hidden--visually\" id=\"sk-estimator-id-11\" type=\"checkbox\" ><label for=\"sk-estimator-id-11\" class=\"sk-toggleable__label sk-toggleable__label-arrow\">XGBClassifier</label><div class=\"sk-toggleable__content\"><pre>XGBClassifier(alpha=0.6779926606782505, base_score=None, booster=None,\n",
       "              callbacks=None, colsample_bylevel=0.5476090898823716,\n",
       "              colsample_bynode=0.9928601203635129,\n",
       "              colsample_bytree=0.8437772277074493, device=None,\n",
       "              early_stopping_rounds=None, enable_categorical=True,\n",
       "              eval_metric=None, feature_types=None, gamma=None,\n",
       "              grow_policy=None, importance_type=None,\n",
       "              interaction_constraints=None, lambda=8.879624125465703,\n",
       "              learning_rate=0.08501257473292347, max_bin=None,\n",
       "              max_cat_threshold=None, max_cat_to_onehot=None,\n",
       "              max_delta_step=None, max_depth=6, max_leaves=None,\n",
       "              min_child_weight=None, missing=nan, monotone_constraints=None,\n",
       "              multi_strategy=None, n_estimators=None, n_jobs=None, ...)</pre></div></div></div></div></div></div></div></div></div></div></div></div>"
      ],
      "text/plain": [
       "VotingClassifier(estimators=[('lgb',\n",
       "                              Pipeline(steps=[('sampler_1',\n",
       "                                               RandomOverSampler(random_state=42,\n",
       "                                                                 sampling_strategy=0.003)),\n",
       "                                              ('sampler_2',\n",
       "                                               RandomUnderSampler(random_state=42,\n",
       "                                                                  sampling_strategy=0.01)),\n",
       "                                              ('filter',\n",
       "                                               SelectColumns(columns=['age_approx',\n",
       "                                                                      'clin_size_long_diam_mm',\n",
       "                                                                      'tbp_lv_A',\n",
       "                                                                      'tbp_lv_Aext',\n",
       "                                                                      'tbp_lv_B',\n",
       "                                                                      'tbp_lv_Bext',\n",
       "                                                                      'tbp_lv_C',\n",
       "                                                                      'tbp_lv_Cext',\n",
       "                                                                      'tbp_l...\n",
       "                                                             importance_type=None,\n",
       "                                                             interaction_constraints=None,\n",
       "                                                             lambda=8.879624125465703,\n",
       "                                                             learning_rate=0.08501257473292347,\n",
       "                                                             max_bin=None,\n",
       "                                                             max_cat_threshold=None,\n",
       "                                                             max_cat_to_onehot=None,\n",
       "                                                             max_delta_step=None,\n",
       "                                                             max_depth=6,\n",
       "                                                             max_leaves=None,\n",
       "                                                             min_child_weight=None,\n",
       "                                                             missing=nan,\n",
       "                                                             monotone_constraints=None,\n",
       "                                                             multi_strategy=None,\n",
       "                                                             n_estimators=None,\n",
       "                                                             n_jobs=None, ...))]))],\n",
       "                 voting='soft')"
      ]
     },
     "execution_count": 25,
     "metadata": {},
     "output_type": "execute_result"
    }
   ],
   "source": [
    "X, y = df_train[feature_cols], df_train[target_col]\n",
    "\n",
    "estimator.fit(X, y)"
   ]
  },
  {
   "cell_type": "markdown",
   "id": "1d8062aa",
   "metadata": {
    "papermill": {
     "duration": 0.01359,
     "end_time": "2024-08-25T03:53:34.597636",
     "exception": false,
     "start_time": "2024-08-25T03:53:34.584046",
     "status": "completed"
    },
    "tags": []
   },
   "source": [
    "# LOOKING FOR FEATURE IMPORTANCE(lgb + xgb)"
   ]
  },
  {
   "cell_type": "code",
   "execution_count": 26,
   "id": "ad5792bb",
   "metadata": {
    "execution": {
     "iopub.execute_input": "2024-08-25T03:53:34.626857Z",
     "iopub.status.busy": "2024-08-25T03:53:34.625994Z",
     "iopub.status.idle": "2024-08-25T03:53:34.630349Z",
     "shell.execute_reply": "2024-08-25T03:53:34.629450Z"
    },
    "papermill": {
     "duration": 0.021104,
     "end_time": "2024-08-25T03:53:34.632348",
     "exception": false,
     "start_time": "2024-08-25T03:53:34.611244",
     "status": "completed"
    },
    "tags": []
   },
   "outputs": [],
   "source": [
    "DO_FEATURE_IMPORTANCE_MODELS = False"
   ]
  },
  {
   "cell_type": "code",
   "execution_count": 27,
   "id": "86592813",
   "metadata": {
    "execution": {
     "iopub.execute_input": "2024-08-25T03:53:34.661013Z",
     "iopub.status.busy": "2024-08-25T03:53:34.660677Z",
     "iopub.status.idle": "2024-08-25T03:53:34.667247Z",
     "shell.execute_reply": "2024-08-25T03:53:34.666335Z"
    },
    "papermill": {
     "duration": 0.02318,
     "end_time": "2024-08-25T03:53:34.669171",
     "exception": false,
     "start_time": "2024-08-25T03:53:34.645991",
     "status": "completed"
    },
    "tags": []
   },
   "outputs": [],
   "source": [
    "if DO_FEATURE_IMPORTANCE_MODELS:\n",
    "    lgb_model = estimator.named_estimators_['lgb'].named_steps['classifier']\n",
    "    lgb_feature_importance = lgb_model.booster_.feature_importance(importance_type='gain')\n",
    "    lgb_feature_importance_df = pd.DataFrame({\n",
    "        'feature': X.columns,\n",
    "        'importance': lgb_feature_importance\n",
    "    }).sort_values(by='importance', ascending=False)\n",
    "\n",
    "\n",
    "    xgb_model = estimator.named_estimators_['xgb'].named_steps['classifier']\n",
    "    xgb_feature_importance = xgb_model.get_booster().get_score(importance_type='weight')\n",
    "    xgb_feature_importance_df = pd.DataFrame({\n",
    "        'feature': xgb_feature_importance.keys(),\n",
    "        'importance': xgb_feature_importance.values()\n",
    "    }).sort_values(by='importance', ascending=False)\n",
    "\n",
    "\n"
   ]
  },
  {
   "cell_type": "code",
   "execution_count": 28,
   "id": "fe158f43",
   "metadata": {
    "execution": {
     "iopub.execute_input": "2024-08-25T03:53:34.698249Z",
     "iopub.status.busy": "2024-08-25T03:53:34.697557Z",
     "iopub.status.idle": "2024-08-25T03:53:34.701971Z",
     "shell.execute_reply": "2024-08-25T03:53:34.701071Z"
    },
    "papermill": {
     "duration": 0.021145,
     "end_time": "2024-08-25T03:53:34.703954",
     "exception": false,
     "start_time": "2024-08-25T03:53:34.682809",
     "status": "completed"
    },
    "tags": []
   },
   "outputs": [],
   "source": [
    "if DO_FEATURE_IMPORTANCE_MODELS:\n",
    "\n",
    "    print(lgb_feature_importance_df)\n",
    "    print(xgb_feature_importance_df)"
   ]
  },
  {
   "cell_type": "markdown",
   "id": "d254d8d0",
   "metadata": {
    "papermill": {
     "duration": 0.013277,
     "end_time": "2024-08-25T03:53:34.730735",
     "exception": false,
     "start_time": "2024-08-25T03:53:34.717458",
     "status": "completed"
    },
    "tags": []
   },
   "source": [
    "# LEAST IMPORTANT FEATURES"
   ]
  },
  {
   "cell_type": "code",
   "execution_count": 29,
   "id": "cc5a21ee",
   "metadata": {
    "execution": {
     "iopub.execute_input": "2024-08-25T03:53:34.759209Z",
     "iopub.status.busy": "2024-08-25T03:53:34.758896Z",
     "iopub.status.idle": "2024-08-25T03:53:34.764112Z",
     "shell.execute_reply": "2024-08-25T03:53:34.763273Z"
    },
    "papermill": {
     "duration": 0.021821,
     "end_time": "2024-08-25T03:53:34.766117",
     "exception": false,
     "start_time": "2024-08-25T03:53:34.744296",
     "status": "completed"
    },
    "tags": []
   },
   "outputs": [],
   "source": [
    "if DO_FEATURE_IMPORTANCE_MODELS:\n",
    "\n",
    "    # Assuming lgb_feature_importance_df is already created and contains the feature importances\n",
    "    least_important_lgb = lgb_feature_importance_df.sort_values(by='importance').head(24)\n",
    "\n",
    "    print(\"Least Important Features in LightGBM:\")\n",
    "    print(least_important_lgb)\n",
    "\n",
    "    # Convert the xgb_feature_importance to a DataFrame for easier manipulation\n",
    "    least_important_xgb = xgb_feature_importance_df.sort_values(by = \"importance\").head(6)\n",
    "\n",
    "\n",
    "    print(\"\\nLeast Important Features in XGBoost:\")\n",
    "    print(least_important_xgb)"
   ]
  },
  {
   "cell_type": "code",
   "execution_count": 30,
   "id": "7fa8f21e",
   "metadata": {
    "execution": {
     "iopub.execute_input": "2024-08-25T03:53:34.794684Z",
     "iopub.status.busy": "2024-08-25T03:53:34.794402Z",
     "iopub.status.idle": "2024-08-25T03:53:34.799287Z",
     "shell.execute_reply": "2024-08-25T03:53:34.798471Z"
    },
    "papermill": {
     "duration": 0.021192,
     "end_time": "2024-08-25T03:53:34.801140",
     "exception": false,
     "start_time": "2024-08-25T03:53:34.779948",
     "status": "completed"
    },
    "tags": []
   },
   "outputs": [],
   "source": [
    "if DO_FEATURE_IMPORTANCE_MODELS:\n",
    "\n",
    "    # Extract the least important feature names from both LightGBM and XGBoost\n",
    "    least_important_lgb_features = least_important_lgb['feature'].tolist()\n",
    "    least_important_xgb_features = least_important_xgb['feature'].tolist()\n",
    "\n",
    "    # Find the intersection of the two lists\n",
    "    common_least_important_features = list(set(least_important_lgb_features) & set(least_important_xgb_features))\n",
    "\n",
    "    print(\"Common Least Important Features in Both LightGBM and XGBoost:\")\n",
    "    print(common_least_important_features)\n"
   ]
  },
  {
   "cell_type": "markdown",
   "id": "0a6f86fc",
   "metadata": {
    "papermill": {
     "duration": 0.013286,
     "end_time": "2024-08-25T03:53:34.827831",
     "exception": false,
     "start_time": "2024-08-25T03:53:34.814545",
     "status": "completed"
    },
    "tags": []
   },
   "source": [
    "# LOOKING FOR FEATURE IMPORTANCE(Tests)"
   ]
  },
  {
   "cell_type": "code",
   "execution_count": 31,
   "id": "5cf77c00",
   "metadata": {
    "execution": {
     "iopub.execute_input": "2024-08-25T03:53:34.855675Z",
     "iopub.status.busy": "2024-08-25T03:53:34.855406Z",
     "iopub.status.idle": "2024-08-25T03:53:34.859265Z",
     "shell.execute_reply": "2024-08-25T03:53:34.858418Z"
    },
    "papermill": {
     "duration": 0.019922,
     "end_time": "2024-08-25T03:53:34.861123",
     "exception": false,
     "start_time": "2024-08-25T03:53:34.841201",
     "status": "completed"
    },
    "tags": []
   },
   "outputs": [],
   "source": [
    "DO_FEATURE_IMPORTANCE_TEST = False"
   ]
  },
  {
   "cell_type": "code",
   "execution_count": 32,
   "id": "e7124899",
   "metadata": {
    "execution": {
     "iopub.execute_input": "2024-08-25T03:53:34.889305Z",
     "iopub.status.busy": "2024-08-25T03:53:34.888921Z",
     "iopub.status.idle": "2024-08-25T03:53:34.899384Z",
     "shell.execute_reply": "2024-08-25T03:53:34.898573Z"
    },
    "papermill": {
     "duration": 0.026899,
     "end_time": "2024-08-25T03:53:34.901313",
     "exception": false,
     "start_time": "2024-08-25T03:53:34.874414",
     "status": "completed"
    },
    "tags": []
   },
   "outputs": [],
   "source": [
    "if DO_FEATURE_IMPORTANCE_TEST:\n",
    "    X = df_train[feature_cols]\n",
    "    y = df_train[target_col]\n",
    "\n",
    "    # Separate continuous and categorical features\n",
    "    continuous_features = num_cols + norm_cols + new_num_cols\n",
    "    # Fill null values of continuous features with their median values\n",
    "    X[continuous_features] = X[continuous_features].apply(lambda x: x.fillna(x.median()))\n",
    "\n",
    "\n",
    "    # Correlation Matrix for continuous features\n",
    "    corr_matrix = df_train[continuous_features + ['target']].corr()\n",
    "    threshold = 0.01\n",
    "    relevant_features_corr = corr_matrix[abs(corr_matrix['target']) > threshold].index\n",
    "    selected_features_corr = relevant_features_corr.drop('target')\n",
    "    print(\"Selected continuous features based on correlation threshold:\")\n",
    "    print(selected_features_corr)\n",
    "    print(len(selected_features_corr))\n",
    "\n",
    "    # Chi-Square Test for categorical features\n",
    "    chi2_selector = SelectKBest(chi2, k=15)\n",
    "    chi2_selector.fit_transform(X[cat_cols], y)\n",
    "    selected_features_chi2 = X[cat_cols].columns[chi2_selector.get_support()]\n",
    "    print(\"Selected categorical features based on Chi-Square Test:\")\n",
    "    print(selected_features_chi2)\n",
    "\n",
    "    # Mutual Information for all features\n",
    "    mi_selector = SelectKBest(mutual_info_classif, k=15)\n",
    "    mi_selector.fit_transform(X, y)\n",
    "    selected_features_mi = X.columns[mi_selector.get_support()]\n",
    "    print(\"Selected features based on Mutual Information:\")\n",
    "    print(selected_features_mi)\n",
    "\n",
    "    # Variance Threshold for continuous features\n",
    "    threshold = 0.05\n",
    "    var_threshold = VarianceThreshold(threshold=threshold)\n",
    "    var_threshold.fit_transform(X[continuous_features])\n",
    "    selected_features_var = X[continuous_features].columns[var_threshold.get_support()]\n",
    "    print(\"Selected continuous features based on Variance Threshold:\")\n",
    "    print(selected_features_var)\n",
    "    print(len(selected_features_var))\n",
    "\n",
    "\n",
    "    # Combine all selected features\n",
    "    selected_features_all = set(selected_features_corr) | set(selected_features_chi2) | set(selected_features_mi) | set(selected_features_var)\n",
    "\n",
    "    # Original features\n",
    "    original_features = set(X.columns)\n",
    "\n",
    "    # Find features not selected by any method\n",
    "    least_selected_features = original_features - selected_features_all\n",
    "\n",
    "    boosting_selected_features = set()\n",
    "\n",
    "    least_selected_features_list = list(least_selected_features | boosting_selected_features)\n",
    "\n",
    "    print(least_selected_features)"
   ]
  },
  {
   "cell_type": "markdown",
   "id": "fcd3f062",
   "metadata": {
    "papermill": {
     "duration": 0.013097,
     "end_time": "2024-08-25T03:53:34.927969",
     "exception": false,
     "start_time": "2024-08-25T03:53:34.914872",
     "status": "completed"
    },
    "tags": []
   },
   "source": [
    "# TEST PREDICTION"
   ]
  },
  {
   "cell_type": "code",
   "execution_count": 33,
   "id": "26ae906a",
   "metadata": {
    "execution": {
     "iopub.execute_input": "2024-08-25T03:53:34.955590Z",
     "iopub.status.busy": "2024-08-25T03:53:34.955310Z",
     "iopub.status.idle": "2024-08-25T03:53:35.051047Z",
     "shell.execute_reply": "2024-08-25T03:53:35.050285Z"
    },
    "papermill": {
     "duration": 0.112808,
     "end_time": "2024-08-25T03:53:35.054055",
     "exception": false,
     "start_time": "2024-08-25T03:53:34.941247",
     "status": "completed"
    },
    "tags": []
   },
   "outputs": [
    {
     "data": {
      "text/html": [
       "<div>\n",
       "<style scoped>\n",
       "    .dataframe tbody tr th:only-of-type {\n",
       "        vertical-align: middle;\n",
       "    }\n",
       "\n",
       "    .dataframe tbody tr th {\n",
       "        vertical-align: top;\n",
       "    }\n",
       "\n",
       "    .dataframe thead th {\n",
       "        text-align: right;\n",
       "    }\n",
       "</style>\n",
       "<table border=\"1\" class=\"dataframe\">\n",
       "  <thead>\n",
       "    <tr style=\"text-align: right;\">\n",
       "      <th></th>\n",
       "      <th>target</th>\n",
       "    </tr>\n",
       "    <tr>\n",
       "      <th>isic_id</th>\n",
       "      <th></th>\n",
       "    </tr>\n",
       "  </thead>\n",
       "  <tbody>\n",
       "    <tr>\n",
       "      <th>ISIC_0015657</th>\n",
       "      <td>0.230368</td>\n",
       "    </tr>\n",
       "    <tr>\n",
       "      <th>ISIC_0015729</th>\n",
       "      <td>0.005448</td>\n",
       "    </tr>\n",
       "    <tr>\n",
       "      <th>ISIC_0015740</th>\n",
       "      <td>0.243659</td>\n",
       "    </tr>\n",
       "  </tbody>\n",
       "</table>\n",
       "</div>"
      ],
      "text/plain": [
       "                target\n",
       "isic_id               \n",
       "ISIC_0015657  0.230368\n",
       "ISIC_0015729  0.005448\n",
       "ISIC_0015740  0.243659"
      ]
     },
     "execution_count": 33,
     "metadata": {},
     "output_type": "execute_result"
    }
   ],
   "source": [
    "df_subm['target'] = estimator.predict_proba(df_test[feature_cols])[:, 1]\n",
    "\n",
    "df_subm.to_csv('submission.csv')\n",
    "df_subm.head()"
   ]
  }
 ],
 "metadata": {
  "kaggle": {
   "accelerator": "gpu",
   "dataSources": [
    {
     "databundleVersionId": 9094797,
     "sourceId": 63056,
     "sourceType": "competition"
    },
    {
     "datasetId": 5406640,
     "sourceId": 8982084,
     "sourceType": "datasetVersion"
    },
    {
     "datasetId": 5415918,
     "sourceId": 8991790,
     "sourceType": "datasetVersion"
    },
    {
     "sourceId": 186147615,
     "sourceType": "kernelVersion"
    },
    {
     "sourceId": 186149019,
     "sourceType": "kernelVersion"
    },
    {
     "sourceId": 187730674,
     "sourceType": "kernelVersion"
    },
    {
     "sourceId": 188543089,
     "sourceType": "kernelVersion"
    },
    {
     "sourceId": 188543756,
     "sourceType": "kernelVersion"
    },
    {
     "sourceId": 188602899,
     "sourceType": "kernelVersion"
    },
    {
     "sourceId": 188603204,
     "sourceType": "kernelVersion"
    },
    {
     "sourceId": 188603902,
     "sourceType": "kernelVersion"
    }
   ],
   "dockerImageVersionId": 30747,
   "isGpuEnabled": true,
   "isInternetEnabled": false,
   "language": "python",
   "sourceType": "notebook"
  },
  "kernelspec": {
   "display_name": "Python 3",
   "language": "python",
   "name": "python3"
  },
  "language_info": {
   "codemirror_mode": {
    "name": "ipython",
    "version": 3
   },
   "file_extension": ".py",
   "mimetype": "text/x-python",
   "name": "python",
   "nbconvert_exporter": "python",
   "pygments_lexer": "ipython3",
   "version": "3.10.13"
  },
  "papermill": {
   "default_parameters": {},
   "duration": 338.09651,
   "end_time": "2024-08-25T03:53:35.989594",
   "environment_variables": {},
   "exception": null,
   "input_path": "__notebook__.ipynb",
   "output_path": "__notebook__.ipynb",
   "parameters": {},
   "start_time": "2024-08-25T03:47:57.893084",
   "version": "2.5.0"
  }
 },
 "nbformat": 4,
 "nbformat_minor": 5
}
