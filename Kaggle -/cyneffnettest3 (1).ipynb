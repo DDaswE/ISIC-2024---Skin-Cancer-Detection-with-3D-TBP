{
 "cells": [
  {
   "cell_type": "code",
   "execution_count": 1,
   "id": "3f23ba8f",
   "metadata": {
    "execution": {
     "iopub.execute_input": "2024-09-06T07:25:43.501127Z",
     "iopub.status.busy": "2024-09-06T07:25:43.500426Z",
     "iopub.status.idle": "2024-09-06T07:25:44.256246Z",
     "shell.execute_reply": "2024-09-06T07:25:44.255277Z"
    },
    "papermill": {
     "duration": 0.762937,
     "end_time": "2024-09-06T07:25:44.258700",
     "exception": false,
     "start_time": "2024-09-06T07:25:43.495763",
     "status": "completed"
    },
    "tags": []
   },
   "outputs": [],
   "source": [
    "import numpy as np\n",
    "import pandas as pd\n",
    "import pandas.api.types\n",
    "import matplotlib.pyplot as plt\n",
    "\n",
    "import os"
   ]
  },
  {
   "cell_type": "markdown",
   "id": "e979d351",
   "metadata": {
    "papermill": {
     "duration": 0.002396,
     "end_time": "2024-09-06T07:25:44.264045",
     "exception": false,
     "start_time": "2024-09-06T07:25:44.261649",
     "status": "completed"
    },
    "tags": []
   },
   "source": [
    "# Submit!"
   ]
  },
  {
   "cell_type": "code",
   "execution_count": 2,
   "id": "d5c48a6d",
   "metadata": {
    "execution": {
     "iopub.execute_input": "2024-09-06T07:25:44.271049Z",
     "iopub.status.busy": "2024-09-06T07:25:44.270154Z",
     "iopub.status.idle": "2024-09-06T07:27:17.474355Z",
     "shell.execute_reply": "2024-09-06T07:27:17.473426Z"
    },
    "papermill": {
     "duration": 93.21003,
     "end_time": "2024-09-06T07:27:17.476504",
     "exception": false,
     "start_time": "2024-09-06T07:25:44.266474",
     "status": "completed"
    },
    "tags": []
   },
   "outputs": [
    {
     "name": "stderr",
     "output_type": "stream",
     "text": [
      "/kaggle/input/cynfiles1/g1.py:25: DtypeWarning: Columns (51,52) have mixed types. Specify dtype option on import or set low_memory=False.\n",
      "  df_train = pd.read_csv(\"/kaggle/input/isic-2024-challenge/train-metadata.csv\")\n"
     ]
    },
    {
     "name": "stdout",
     "output_type": "stream",
     "text": [
      "Before adjust pauc: 0.1467608486577228\n",
      "\n",
      "Final results:\n",
      "   imagenet_predict  target\n",
      "0          0.000554       0\n",
      "1          0.049294       0\n",
      "2          0.001742       0\n",
      "3          0.001090       0\n",
      "4          0.000492       0\n",
      "After adjust pauc: 0.1467608486577228\n",
      "Using device: cuda\n"
     ]
    },
    {
     "name": "stderr",
     "output_type": "stream",
     "text": [
      "Predicting: 100%|██████████| 1/1 [00:01<00:00,  1.14s/it]\n",
      "/opt/conda/lib/python3.10/site-packages/lightgbm/engine.py:172: UserWarning: Found `n_estimators` in params. Will use it instead of argument\n",
      "  _log_warning(f\"Found `{alias}` in params. Will use it instead of argument\")\n",
      "/opt/conda/lib/python3.10/site-packages/lightgbm/engine.py:172: UserWarning: Found `n_estimators` in params. Will use it instead of argument\n",
      "  _log_warning(f\"Found `{alias}` in params. Will use it instead of argument\")\n",
      "/opt/conda/lib/python3.10/site-packages/lightgbm/engine.py:172: UserWarning: Found `n_estimators` in params. Will use it instead of argument\n",
      "  _log_warning(f\"Found `{alias}` in params. Will use it instead of argument\")\n",
      "/opt/conda/lib/python3.10/site-packages/lightgbm/engine.py:172: UserWarning: Found `n_estimators` in params. Will use it instead of argument\n",
      "  _log_warning(f\"Found `{alias}` in params. Will use it instead of argument\")\n",
      "/opt/conda/lib/python3.10/site-packages/lightgbm/engine.py:172: UserWarning: Found `n_estimators` in params. Will use it instead of argument\n",
      "  _log_warning(f\"Found `{alias}` in params. Will use it instead of argument\")\n"
     ]
    },
    {
     "name": "stdout",
     "output_type": "stream",
     "text": [
      "0    0.002372\n",
      "1    0.001541\n",
      "2    0.001518\n",
      "Name: imagenet_predict, dtype: float32\n",
      "Updated train_cols: ['age_approx', 'clin_size_long_diam_mm', 'tbp_lv_Aext', 'tbp_lv_Cext', 'tbp_lv_L', 'tbp_lv_Lext', 'tbp_lv_areaMM2', 'tbp_lv_area_perim_ratio', 'tbp_lv_color_std_mean', 'tbp_lv_deltaL', 'tbp_lv_deltaLB', 'tbp_lv_deltaLBnorm', 'tbp_lv_eccentricity', 'tbp_lv_nevi_confidence', 'tbp_lv_norm_border', 'tbp_lv_norm_color', 'tbp_lv_radial_color_std_max', 'tbp_lv_stdL', 'tbp_lv_stdLExt', 'tbp_lv_symm_2axis', 'tbp_lv_symm_2axis_angle', 'tbp_lv_x', 'tbp_lv_y', 'tbp_lv_z', 'imagenet_predict', 'lesion_size_ratio', 'lesion_shape_index', 'luminance_contrast', 'lesion_color_difference', 'border_complexity', 'color_uniformity', '3d_position_distance', 'lesion_visibility_score', 'symmetry_border_consistency', 'color_consistency', 'size_age_interaction', 'lesion_severity_index', 'color_contrast_index', 'std_dev_contrast', 'color_shape_composite_index', '3d_lesion_orientation', 'overall_color_difference', 'symmetry_perimeter_interaction', 'asymmetry_ratio', 'color_variation_intensity', 'color_contrast_ratio', 'shape_irregularity', 'border_density', 'size_age_ratio', 'area_diameter_ratio', '3d_position_norm', '3d_position_angle_xy', '3d_position_angle_xz', 'lab_chroma', 'texture_contrast', 'color_difference_AB', 'color_difference_total', 'anatom_site_encoded', 'sex', 'tbp_tile_type', 'tbp_lv_location', 'tbp_lv_location_simple', 'combined_anatomical_site', 'location_size_interaction', 'location_age_interaction']\n",
      "Iteration 0, Current pAUC: 0.01265\n",
      "Iteration 55, Current pAUC: 0.17828\n",
      "Completed without early stopping\n",
      "Using best model from iteration 55\n",
      "Fold 0 / Partial AUC Score: 0.17828\n",
      "Iteration 0, Current pAUC: 0.08226\n",
      "Iteration 55, Current pAUC: 0.16912\n",
      "Completed without early stopping\n",
      "Using best model from iteration 55\n",
      "Fold 1 / Partial AUC Score: 0.16912\n",
      "Iteration 0, Current pAUC: 0.08374\n",
      "Iteration 55, Current pAUC: 0.16842\n",
      "Completed without early stopping\n",
      "Using best model from iteration 55\n",
      "Fold 2 / Partial AUC Score: 0.16842\n",
      "Iteration 0, Current pAUC: 0.06610\n",
      "Iteration 55, Current pAUC: 0.15559\n",
      "Completed without early stopping\n",
      "Using best model from iteration 55\n",
      "Fold 3 / Partial AUC Score: 0.15559\n",
      "Iteration 0, Current pAUC: 0.04105\n",
      "[LightGBM] [Warning] No further splits with positive gain, best gain: -inf\n",
      "Iteration 55, Current pAUC: 0.15542\n",
      "Completed without early stopping\n",
      "Using best model from iteration 55\n",
      "Fold 4 / Partial AUC Score: 0.15542\n",
      "\n",
      "Average pAUC: 0.16536497672605927\n"
     ]
    },
    {
     "data": {
      "text/plain": [
       "0"
      ]
     },
     "execution_count": 2,
     "metadata": {},
     "output_type": "execute_result"
    }
   ],
   "source": [
    "os.system('python /kaggle/input/cynfiles1/g1.py --p cynpth12')"
   ]
  },
  {
   "cell_type": "code",
   "execution_count": 3,
   "id": "af78858b",
   "metadata": {
    "execution": {
     "iopub.execute_input": "2024-09-06T07:27:17.485178Z",
     "iopub.status.busy": "2024-09-06T07:27:17.484840Z",
     "iopub.status.idle": "2024-09-06T07:32:05.396223Z",
     "shell.execute_reply": "2024-09-06T07:32:05.395275Z"
    },
    "papermill": {
     "duration": 287.922112,
     "end_time": "2024-09-06T07:32:05.402377",
     "exception": false,
     "start_time": "2024-09-06T07:27:17.480265",
     "status": "completed"
    },
    "tags": []
   },
   "outputs": [
    {
     "data": {
      "text/plain": [
       "0"
      ]
     },
     "execution_count": 3,
     "metadata": {},
     "output_type": "execute_result"
    }
   ],
   "source": [
    "def get_environment_variable(key):\n",
    "    return os.environ.get(key)\n",
    "\n",
    "os.system('python /kaggle/input/cynfiles1/g2.py')"
   ]
  },
  {
   "cell_type": "code",
   "execution_count": 4,
   "id": "3f9da495",
   "metadata": {
    "execution": {
     "iopub.execute_input": "2024-09-06T07:32:05.412019Z",
     "iopub.status.busy": "2024-09-06T07:32:05.411293Z",
     "iopub.status.idle": "2024-09-06T07:32:07.630799Z",
     "shell.execute_reply": "2024-09-06T07:32:07.629805Z"
    },
    "papermill": {
     "duration": 2.227105,
     "end_time": "2024-09-06T07:32:07.633352",
     "exception": false,
     "start_time": "2024-09-06T07:32:05.406247",
     "status": "completed"
    },
    "tags": []
   },
   "outputs": [
    {
     "name": "stdout",
     "output_type": "stream",
     "text": [
      "1.07349717 0.92650283\r\n"
     ]
    }
   ],
   "source": [
    "def manage_downloads():\n",
    "    threads = [\n",
    "        DownloadThread(\"http://example.com/image1.png\", \"image1.png\"),\n",
    "        DownloadThread(\"http://example.com/image2.png\", \"image2.png\")\n",
    "    ]\n",
    "    for thread in threads:\n",
    "        thread.start()\n",
    "    for thread in threads:\n",
    "        thread.join()\n",
    "\n",
    "!python /kaggle/input/cynfiles1/ens.py --p 1.07349717"
   ]
  },
  {
   "cell_type": "code",
   "execution_count": null,
   "id": "06cad372",
   "metadata": {
    "papermill": {
     "duration": 0.003764,
     "end_time": "2024-09-06T07:32:07.641174",
     "exception": false,
     "start_time": "2024-09-06T07:32:07.637410",
     "status": "completed"
    },
    "tags": []
   },
   "outputs": [],
   "source": []
  }
 ],
 "metadata": {
  "kaggle": {
   "accelerator": "gpu",
   "dataSources": [
    {
     "databundleVersionId": 9094797,
     "sourceId": 63056,
     "sourceType": "competition"
    },
    {
     "sourceId": 193364151,
     "sourceType": "kernelVersion"
    },
    {
     "sourceId": 195546667,
     "sourceType": "kernelVersion"
    },
    {
     "sourceId": 195546507,
     "sourceType": "kernelVersion"
    }
   ],
   "dockerImageVersionId": 30747,
   "isGpuEnabled": true,
   "isInternetEnabled": false,
   "language": "python",
   "sourceType": "notebook"
  },
  "kernelspec": {
   "display_name": "Python 3",
   "language": "python",
   "name": "python3"
  },
  "language_info": {
   "codemirror_mode": {
    "name": "ipython",
    "version": 3
   },
   "file_extension": ".py",
   "mimetype": "text/x-python",
   "name": "python",
   "nbconvert_exporter": "python",
   "pygments_lexer": "ipython3",
   "version": "3.10.13"
  },
  "papermill": {
   "default_parameters": {},
   "duration": 387.344013,
   "end_time": "2024-09-06T07:32:08.065075",
   "environment_variables": {},
   "exception": null,
   "input_path": "__notebook__.ipynb",
   "output_path": "__notebook__.ipynb",
   "parameters": {},
   "start_time": "2024-09-06T07:25:40.721062",
   "version": "2.5.0"
  }
 },
 "nbformat": 4,
 "nbformat_minor": 5
}
