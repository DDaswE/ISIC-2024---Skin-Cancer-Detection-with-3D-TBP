{
 "cells": [
  {
   "cell_type": "markdown",
   "id": "5cf143e0",
   "metadata": {
    "papermill": {
     "duration": 0.009998,
     "end_time": "2024-08-12T14:50:51.402631",
     "exception": false,
     "start_time": "2024-08-12T14:50:51.392633",
     "status": "completed"
    },
    "tags": []
   },
   "source": [
    "## This notebook is based on the works:"
   ]
  },
  {
   "cell_type": "markdown",
   "id": "17ebdd86",
   "metadata": {
    "papermill": {
     "duration": 0.008975,
     "end_time": "2024-08-12T14:50:51.421067",
     "exception": false,
     "start_time": "2024-08-12T14:50:51.412092",
     "status": "completed"
    },
    "tags": []
   },
   "source": [
    "1) **[Naive LightGBM](https://www.kaggle.com/code/bguberfain/naive-lightgbm)** by master [*Bruno G. do Amaral*](https://www.kaggle.com/bguberfain)\n",
    "\n",
    "\n",
    "2) **[Tabular Ensemble: LGBM+Catboost](https://www.kaggle.com/code/snnclsr/tabular-ensemble-lgbm-catboost)** by master [*Sinan Calisir*](https://www.kaggle.com/snnclsr)\n",
    "\n",
    "\n",
    "3) **[ISIC 2024 Skin Cancer - Getting Started](https://www.kaggle.com/code/coderinunderpants/isic-2024-skin-cancer-getting-started)** by contributor [*Joy Banikl*](https://www.kaggle.com/coderinunderpants)\n",
    "\n",
    "\n",
    "4) **[SIC: Tabular model + Image model features](https://www.kaggle.com/code/motono0223/isic-tabular-model-image-model-features)** by master [*motono0223*](https://www.kaggle.com/motono0223)\n",
    "\n",
    "\n",
    "5) **[Only Tabular Features: XGB+CATB+LGBM Ensemble](https://www.kaggle.com/code/rzatemizel/only-tabular-features-xgb-catb-lgbm-ensemble)** by master [*rıza temizel*](https://www.kaggle.com/rzatemizel)\n",
    "\n",
    "\n",
    "7) **[I'll be revising it tomorrow](https://www.kaggle.com/code/linguilin/i-ll-be-revising-it-tomorrow)** by contributor [*Ship of Theseus*](https://www.kaggle.com/linguilin)\n",
    "\n",
    "\n",
    "8) **[ISIC - Detect Skin Cancer - Let's Learn Together](https://www.kaggle.com/code/dschettler8845/isic-detect-skin-cancer-let-s-learn-together)** by grandmaster [*Darien Schettler*](https://www.kaggle.com/dschettler8845)\n",
    "\n",
    "\n",
    "9) **[ISIC 2024 Skin Cancer Detection hdf5](https://www.kaggle.com/code/mpwolke/isic-2024-skin-cancer-detection-hdf5)** by grandmaster [*Marília Prata*](https://www.kaggle.com/mpwolke)\n",
    "\n",
    "\n",
    "10) **[AI in Dermoscopy. ADAE algorithm.](https://www.kaggle.com/competitions/isic-2024-challenge/discussion/515369)** by grandmaster [*Marília Prata*](https://www.kaggle.com/mpwolke)\n"
   ]
  },
  {
   "cell_type": "markdown",
   "id": "6b275c9f",
   "metadata": {
    "papermill": {
     "duration": 0.008976,
     "end_time": "2024-08-12T14:50:51.439275",
     "exception": false,
     "start_time": "2024-08-12T14:50:51.430299",
     "status": "completed"
    },
    "tags": []
   },
   "source": [
    "there is a constant experiment with the help of the master's toolkit,\n",
    "please look at the [versions](https://www.kaggle.com/code/vyacheslavbolotin/lightgbm-catboost-with-new-features?scriptVersionId=189856305), the coefficient may be different"
   ]
  },
  {
   "cell_type": "markdown",
   "id": "8fd8b294",
   "metadata": {
    "papermill": {
     "duration": 0.008999,
     "end_time": "2024-08-12T14:50:51.457513",
     "exception": false,
     "start_time": "2024-08-12T14:50:51.448514",
     "status": "completed"
    },
    "tags": []
   },
   "source": [
    "## *[Master](https://www.kaggle.com/snnclsr)* **[work](https://www.kaggle.com/code/snnclsr/tabular-ensemble-lgbm-catboost):**"
   ]
  },
  {
   "cell_type": "markdown",
   "id": "44ec1fcc",
   "metadata": {
    "papermill": {
     "duration": 0.009059,
     "end_time": "2024-08-12T14:50:51.475836",
     "exception": false,
     "start_time": "2024-08-12T14:50:51.466777",
     "status": "completed"
    },
    "tags": []
   },
   "source": [
    "In my previous work [here](https://www.kaggle.com/code/snnclsr/lgbm-baseline-with-new-features), I showed the effectiveness of additional tabular features. Since there are not enough positive samples, every bit of contribution will be important in the final stage.\n",
    "\n",
    "With that motivation, I want to show how ensembles are useful in predictions.\n",
    "\n",
    "**Edit:** New version adds two image model predictions from here: https://www.kaggle.com/code/motono0223/isic-tabular-model-image-model-features and one from my own model (augmentations used [here](https://www.kaggle.com/code/snnclsr/image-augmentations-from-winning-solutions))."
   ]
  },
  {
   "cell_type": "code",
   "execution_count": 1,
   "id": "b3c16c5c",
   "metadata": {
    "execution": {
     "iopub.execute_input": "2024-08-12T14:50:51.495969Z",
     "iopub.status.busy": "2024-08-12T14:50:51.495294Z",
     "iopub.status.idle": "2024-08-12T14:50:51.506258Z",
     "shell.execute_reply": "2024-08-12T14:50:51.505553Z"
    },
    "papermill": {
     "duration": 0.02306,
     "end_time": "2024-08-12T14:50:51.508149",
     "exception": false,
     "start_time": "2024-08-12T14:50:51.485089",
     "status": "completed"
    },
    "tags": []
   },
   "outputs": [],
   "source": [
    "NO_RUN = False\n",
    "\n",
    "import os\n",
    "\n",
    "if NO_RUN and not os.getenv('KAGGLE_IS_COMPETITION_RERUN'):\n",
    "    # To save some time.\n",
    "    import pandas as pd\n",
    "    df_sub = pd.read_csv(\"/kaggle/input/isic-2024-challenge/sample_submission.csv\")\n",
    "    df_sub.to_csv(\"submission.csv\", index=False)\n",
    "    exit(0)"
   ]
  },
  {
   "cell_type": "markdown",
   "id": "ab5973b5",
   "metadata": {
    "papermill": {
     "duration": 0.009085,
     "end_time": "2024-08-12T14:50:51.527321",
     "exception": false,
     "start_time": "2024-08-12T14:50:51.518236",
     "status": "completed"
    },
    "tags": []
   },
   "source": [
    "# Imports"
   ]
  },
  {
   "cell_type": "code",
   "execution_count": 2,
   "id": "85023b34",
   "metadata": {
    "execution": {
     "iopub.execute_input": "2024-08-12T14:50:51.547327Z",
     "iopub.status.busy": "2024-08-12T14:50:51.547091Z",
     "iopub.status.idle": "2024-08-12T14:50:57.215171Z",
     "shell.execute_reply": "2024-08-12T14:50:57.214391Z"
    },
    "papermill": {
     "duration": 5.680757,
     "end_time": "2024-08-12T14:50:57.217528",
     "exception": false,
     "start_time": "2024-08-12T14:50:51.536771",
     "status": "completed"
    },
    "tags": []
   },
   "outputs": [],
   "source": [
    "import random\n",
    "import numpy as np\n",
    "import pandas as pd\n",
    "import pandas.api.types\n",
    "import matplotlib.pyplot as plt\n",
    "\n",
    "from sklearn.preprocessing import OrdinalEncoder\n",
    "from sklearn.metrics import roc_curve, auc, roc_auc_score\n",
    "from sklearn.model_selection import GroupKFold, StratifiedGroupKFold\n",
    "from sklearn.ensemble import VotingClassifier\n",
    "\n",
    "import optuna\n",
    "import catboost as cb\n",
    "import lightgbm as lgb\n",
    "import xgboost as xgb\n",
    "\n",
    "OPTIMIZE_OPTUNA = False\n",
    "SUBSAMPLE = False\n",
    "SUBSAMPLE_RATIO = 0.5 # only effective if SUBSAMPLE=True\n",
    "DISPLAY_FEATURE_IMPORTANCE = False"
   ]
  },
  {
   "cell_type": "markdown",
   "id": "c8f3ecae",
   "metadata": {
    "papermill": {
     "duration": 0.009467,
     "end_time": "2024-08-12T14:50:57.236759",
     "exception": false,
     "start_time": "2024-08-12T14:50:57.227292",
     "status": "completed"
    },
    "tags": []
   },
   "source": [
    "## Generating the image level predictions"
   ]
  },
  {
   "cell_type": "code",
   "execution_count": 3,
   "id": "0a439a9a",
   "metadata": {
    "execution": {
     "iopub.execute_input": "2024-08-12T14:50:57.257029Z",
     "iopub.status.busy": "2024-08-12T14:50:57.256485Z",
     "iopub.status.idle": "2024-08-12T14:51:31.021938Z",
     "shell.execute_reply": "2024-08-12T14:51:31.020328Z"
    },
    "papermill": {
     "duration": 33.778448,
     "end_time": "2024-08-12T14:51:31.024593",
     "exception": false,
     "start_time": "2024-08-12T14:50:57.246145",
     "status": "completed"
    },
    "tags": []
   },
   "outputs": [
    {
     "name": "stdout",
     "output_type": "stream",
     "text": [
      "BEST_WEIGHT = /kaggle/input/isic-pytorch-training-baseline-image-only/AUROC0.5171_Loss0.3476_epoch35.bin\r\n",
      "100%|█████████████████████████████████████████████| 1/1 [00:00<00:00,  1.11it/s]\r\n",
      "/kaggle/input/isic-2024-pl-submission-script-and-preds/pl_submission.py:25: DtypeWarning: Columns (51,52) have mixed types. Specify dtype option on import or set low_memory=False.\r\n",
      "  df_train_meta = pd.read_csv(BASE_DATA_DIR + \"train-metadata.csv\")\r\n"
     ]
    }
   ],
   "source": [
    "!python /kaggle/input/isic-script-inference-effnetv1b0-f313ae/main.py /kaggle/input/isic-pytorch-training-baseline-image-only/AUROC0.5171_Loss0.3476_epoch35.bin\n",
    "!mv submission.csv submission_effnetv1b0.csv\n",
    "# My model\n",
    "!python /kaggle/input/isic-2024-pl-submission-script-and-preds/pl_submission.py\n",
    "!mv submission.csv submission_image3.csv"
   ]
  },
  {
   "cell_type": "markdown",
   "id": "92693231",
   "metadata": {
    "papermill": {
     "duration": 0.009696,
     "end_time": "2024-08-12T14:51:31.044978",
     "exception": false,
     "start_time": "2024-08-12T14:51:31.035282",
     "status": "completed"
    },
    "tags": []
   },
   "source": [
    "# Feature Engineering"
   ]
  },
  {
   "cell_type": "code",
   "execution_count": 4,
   "id": "1ce05868",
   "metadata": {
    "execution": {
     "iopub.execute_input": "2024-08-12T14:51:31.066889Z",
     "iopub.status.busy": "2024-08-12T14:51:31.066524Z",
     "iopub.status.idle": "2024-08-12T14:51:45.075611Z",
     "shell.execute_reply": "2024-08-12T14:51:45.074794Z"
    },
    "papermill": {
     "duration": 14.023378,
     "end_time": "2024-08-12T14:51:45.078038",
     "exception": false,
     "start_time": "2024-08-12T14:51:31.054660",
     "status": "completed"
    },
    "tags": []
   },
   "outputs": [
    {
     "name": "stderr",
     "output_type": "stream",
     "text": [
      "/tmp/ipykernel_25/1306322289.py:1: DtypeWarning: Columns (51,52) have mixed types. Specify dtype option on import or set low_memory=False.\n",
      "  df_train = pd.read_csv(\"/kaggle/input/isic-2024-challenge/train-metadata.csv\")\n",
      "/tmp/ipykernel_25/1306322289.py:200: DtypeWarning: Columns (51,52) have mixed types. Specify dtype option on import or set low_memory=False.\n",
      "  df_eff = pd.read_csv(\"/kaggle/input/isic-inference-effnetv1b0-for-training-data/train_effnetv1b0.csv\")\n"
     ]
    }
   ],
   "source": [
    "df_train = pd.read_csv(\"/kaggle/input/isic-2024-challenge/train-metadata.csv\")\n",
    "df_test = pd.read_csv(\"/kaggle/input/isic-2024-challenge/test-metadata.csv\")\n",
    "\n",
    "def feature_engineering(df):\n",
    "    # New features to try...\n",
    "    df[\"lesion_size_ratio\"]              = df[\"tbp_lv_minorAxisMM\"] / df[\"clin_size_long_diam_mm\"]\n",
    "    df[\"lesion_shape_index\"]             = df[\"tbp_lv_areaMM2\"] / (df[\"tbp_lv_perimeterMM\"] ** 2)\n",
    "    df[\"hue_contrast\"]                   = (df[\"tbp_lv_H\"] - df[\"tbp_lv_Hext\"]).abs()\n",
    "    df[\"luminance_contrast\"]             = (df[\"tbp_lv_L\"] - df[\"tbp_lv_Lext\"]).abs()\n",
    "    df[\"lesion_color_difference\"]        = np.sqrt(df[\"tbp_lv_deltaA\"] ** 2 + df[\"tbp_lv_deltaB\"] ** 2 + df[\"tbp_lv_deltaL\"] ** 2)\n",
    "    df[\"border_complexity\"]              = df[\"tbp_lv_norm_border\"] + df[\"tbp_lv_symm_2axis\"]\n",
    "    df[\"color_uniformity\"]               = df[\"tbp_lv_color_std_mean\"] / df[\"tbp_lv_radial_color_std_max\"]\n",
    "    \n",
    "    df[\"3d_position_distance\"]           = np.sqrt(df[\"tbp_lv_x\"] ** 2 + df[\"tbp_lv_y\"] ** 2 + df[\"tbp_lv_z\"] ** 2) \n",
    "    df[\"perimeter_to_area_ratio\"]        = df[\"tbp_lv_perimeterMM\"] / df[\"tbp_lv_areaMM2\"]\n",
    "    df[\"area_to_perimeter_ratio\"]        = df[\"tbp_lv_areaMM2\"] / df[\"tbp_lv_perimeterMM\"]\n",
    "    df[\"lesion_visibility_score\"]        = df[\"tbp_lv_deltaLBnorm\"] + df[\"tbp_lv_norm_color\"]\n",
    "    df[\"combined_anatomical_site\"]       = df[\"anatom_site_general\"] + \"_\" + df[\"tbp_lv_location\"]\n",
    "    df[\"symmetry_border_consistency\"]    = df[\"tbp_lv_symm_2axis\"] * df[\"tbp_lv_norm_border\"]\n",
    "    df[\"consistency_symmetry_border\"]    = df[\"tbp_lv_symm_2axis\"] * df[\"tbp_lv_norm_border\"] / (df[\"tbp_lv_symm_2axis\"] + df[\"tbp_lv_norm_border\"])\n",
    "    \n",
    "    df[\"color_consistency\"]              = df[\"tbp_lv_stdL\"] / df[\"tbp_lv_Lext\"]\n",
    "    df[\"consistency_color\"]              = df[\"tbp_lv_stdL\"] * df[\"tbp_lv_Lext\"] / (df[\"tbp_lv_stdL\"] + df[\"tbp_lv_Lext\"])\n",
    "    df[\"size_age_interaction\"]           = df[\"clin_size_long_diam_mm\"] * df[\"age_approx\"]\n",
    "    df[\"hue_color_std_interaction\"]      = df[\"tbp_lv_H\"] * df[\"tbp_lv_color_std_mean\"]\n",
    "    df[\"lesion_severity_index\"]          = (df[\"tbp_lv_norm_border\"] + df[\"tbp_lv_norm_color\"] + df[\"tbp_lv_eccentricity\"]) / 3\n",
    "    df[\"shape_complexity_index\"]         = df[\"border_complexity\"] + df[\"lesion_shape_index\"]\n",
    "    df[\"color_contrast_index\"]           = df[\"tbp_lv_deltaA\"] + df[\"tbp_lv_deltaB\"] + df[\"tbp_lv_deltaL\"] + df[\"tbp_lv_deltaLBnorm\"]\n",
    "    \n",
    "    df[\"log_lesion_area\"]                = np.log(df[\"tbp_lv_areaMM2\"] + 1)\n",
    "    df[\"normalized_lesion_size\"]         = df[\"clin_size_long_diam_mm\"] / df[\"age_approx\"]\n",
    "    df[\"mean_hue_difference\"]            = (df[\"tbp_lv_H\"] + df[\"tbp_lv_Hext\"]) / 2\n",
    "    df[\"std_dev_contrast\"]               = np.sqrt((df[\"tbp_lv_deltaA\"] ** 2 + df[\"tbp_lv_deltaB\"] ** 2 + df[\"tbp_lv_deltaL\"] ** 2) / 3)\n",
    "    df[\"color_shape_composite_index\"]    = (df[\"tbp_lv_color_std_mean\"] + df[\"tbp_lv_area_perim_ratio\"] + df[\"tbp_lv_symm_2axis\"]) / 3\n",
    "    df[\"3d_lesion_orientation\"]          = np.arctan2(df_train[\"tbp_lv_y\"], df_train[\"tbp_lv_x\"])\n",
    "    df[\"overall_color_difference\"]       = (df[\"tbp_lv_deltaA\"] + df[\"tbp_lv_deltaB\"] + df[\"tbp_lv_deltaL\"]) / 3\n",
    "    \n",
    "    df[\"symmetry_perimeter_interaction\"] = df[\"tbp_lv_symm_2axis\"] * df[\"tbp_lv_perimeterMM\"]\n",
    "    df[\"comprehensive_lesion_index\"]     = (df[\"tbp_lv_area_perim_ratio\"] + df[\"tbp_lv_eccentricity\"] + df[\"tbp_lv_norm_color\"] + df[\"tbp_lv_symm_2axis\"]) / 4\n",
    "    df[\"color_variance_ratio\"]           = df[\"tbp_lv_color_std_mean\"] / df[\"tbp_lv_stdLExt\"]\n",
    "    df[\"border_color_interaction\"]       = df[\"tbp_lv_norm_border\"] * df[\"tbp_lv_norm_color\"]\n",
    "    df[\"size_color_contrast_ratio\"]      = df[\"clin_size_long_diam_mm\"] / df[\"tbp_lv_deltaLBnorm\"]\n",
    "    df[\"age_normalized_nevi_confidence\"] = df[\"tbp_lv_nevi_confidence\"] / df[\"age_approx\"]\n",
    "    df[\"color_asymmetry_index\"]          = df[\"tbp_lv_radial_color_std_max\"] * df[\"tbp_lv_symm_2axis\"]\n",
    "    \n",
    "    df[\"3d_volume_approximation\"]        = df[\"tbp_lv_areaMM2\"] * np.sqrt(df[\"tbp_lv_x\"]**2 + df[\"tbp_lv_y\"]**2 + df[\"tbp_lv_z\"]**2)\n",
    "    df[\"color_range\"]                    = (df[\"tbp_lv_L\"] - df[\"tbp_lv_Lext\"]).abs() + (df[\"tbp_lv_A\"] - df[\"tbp_lv_Aext\"]).abs() + (df[\"tbp_lv_B\"] - df[\"tbp_lv_Bext\"]).abs()\n",
    "    df[\"shape_color_consistency\"]        = df[\"tbp_lv_eccentricity\"] * df[\"tbp_lv_color_std_mean\"]\n",
    "    df[\"border_length_ratio\"]            = df[\"tbp_lv_perimeterMM\"] / (2 * np.pi * np.sqrt(df[\"tbp_lv_areaMM2\"] / np.pi))\n",
    "    df[\"age_size_symmetry_index\"]        = df[\"age_approx\"] * df[\"clin_size_long_diam_mm\"] * df[\"tbp_lv_symm_2axis\"]\n",
    "    df[\"index_age_size_symmetry\"]        = df[\"age_approx\"] * df[\"tbp_lv_areaMM2\"] * df[\"tbp_lv_symm_2axis\"]\n",
    "    # Until here..\n",
    "    # df['np1']                           = np.sqrt(df[\"tbp_lv_deltaB\"]**2 + df[\"tbp_lv_deltaL\"]**2 + df[\"tbp_lv_deltaLB\"]**2) / (df[\"tbp_lv_deltaB\"] + df[\"tbp_lv_deltaL\"] + df[\"tbp_lv_deltaLB\"])\n",
    "    # df['np2']                           = (df[\"tbp_lv_deltaA\"] + df[\"tbp_lv_deltaLB\"]) / np.sqrt(df[\"tbp_lv_deltaA\"]**2 + df[\"tbp_lv_deltaLB\"]**2)\n",
    "    # df['np3']                           = ?\n",
    "    # ...\n",
    "    # df['npn']                           = ?\n",
    "    \n",
    "    new_num_cols = [\n",
    "        \"lesion_size_ratio\",             # tbp_lv_minorAxisMM      / clin_size_long_diam_mm\n",
    "        \"lesion_shape_index\",            # tbp_lv_areaMM2          / tbp_lv_perimeterMM **2\n",
    "        \"hue_contrast\",                  # tbp_lv_H                - tbp_lv_Hext              abs\n",
    "        \"luminance_contrast\",            # tbp_lv_L                - tbp_lv_Lext              abs\n",
    "        \"lesion_color_difference\",       # tbp_lv_deltaA **2       + tbp_lv_deltaB **2 + tbp_lv_deltaL **2  sqrt  \n",
    "        \"border_complexity\",             # tbp_lv_norm_border      + tbp_lv_symm_2axis\n",
    "        \"color_uniformity\",              # tbp_lv_color_std_mean   / tbp_lv_radial_color_std_max\n",
    "        \n",
    "        \"3d_position_distance\",          # tbp_lv_x **2 + tbp_lv_y **2 + tbp_lv_z **2  sqrt\n",
    "        \"perimeter_to_area_ratio\",       # tbp_lv_perimeterMM      / tbp_lv_areaMM2\n",
    "        \"area_to_perimeter_ratio\",       # tbp_lv_areaMM2          / tbp_lv_perimeterMM\n",
    "        \"lesion_visibility_score\",       # tbp_lv_deltaLBnorm      + tbp_lv_norm_color\n",
    "        # \"combined_anatomical_site\"      # anatom_site_general     + \"_\" + tbp_lv_location ! categorical feature\n",
    "        \"symmetry_border_consistency\",   # tbp_lv_symm_2axis       * tbp_lv_norm_border\n",
    "        \"consistency_symmetry_border\",   # tbp_lv_symm_2axis       * tbp_lv_norm_border / (tbp_lv_symm_2axis + tbp_lv_norm_border)\n",
    "        \n",
    "        \"color_consistency\",             # tbp_lv_stdL             / tbp_lv_Lext\n",
    "        \"consistency_color\",             # tbp_lv_stdL*tbp_lv_Lext / tbp_lv_stdL + tbp_lv_Lext\n",
    "        \"size_age_interaction\",          # clin_size_long_diam_mm  * age_approx\n",
    "        \"hue_color_std_interaction\",     # tbp_lv_H                * tbp_lv_color_std_mean\n",
    "        \"lesion_severity_index\",         # tbp_lv_norm_border      + tbp_lv_norm_color + tbp_lv_eccentricity / 3\n",
    "        \"shape_complexity_index\",        # border_complexity       + lesion_shape_index\n",
    "        \"color_contrast_index\",          # tbp_lv_deltaA + tbp_lv_deltaB + tbp_lv_deltaL + tbp_lv_deltaLBnorm\n",
    "        \n",
    "        \"log_lesion_area\",               # tbp_lv_areaMM2          + 1  np.log\n",
    "        \"normalized_lesion_size\",        # clin_size_long_diam_mm  / age_approx\n",
    "        \"mean_hue_difference\",           # tbp_lv_H                + tbp_lv_Hext    / 2\n",
    "        \"std_dev_contrast\",              # tbp_lv_deltaA **2 + tbp_lv_deltaB **2 + tbp_lv_deltaL **2   / 3  np.sqrt\n",
    "        \"color_shape_composite_index\",   # tbp_lv_color_std_mean   + bp_lv_area_perim_ratio + tbp_lv_symm_2axis   / 3\n",
    "        \"3d_lesion_orientation\",         # tbp_lv_y                , tbp_lv_x  np.arctan2\n",
    "        \"overall_color_difference\",      # tbp_lv_deltaA           + tbp_lv_deltaB + tbp_lv_deltaL   / 3\n",
    "        \n",
    "        \"symmetry_perimeter_interaction\",# tbp_lv_symm_2axis       * tbp_lv_perimeterMM\n",
    "        \"comprehensive_lesion_index\",    # tbp_lv_area_perim_ratio + tbp_lv_eccentricity + bp_lv_norm_color + tbp_lv_symm_2axis   / 4\n",
    "        \"color_variance_ratio\",          # tbp_lv_color_std_mean   / tbp_lv_stdLExt\n",
    "        \"border_color_interaction\",      # tbp_lv_norm_border      * tbp_lv_norm_color\n",
    "        \"size_color_contrast_ratio\",     # clin_size_long_diam_mm  / tbp_lv_deltaLBnorm\n",
    "        \"age_normalized_nevi_confidence\",# tbp_lv_nevi_confidence  / age_approx\n",
    "        \"color_asymmetry_index\",         # tbp_lv_symm_2axis       * tbp_lv_radial_color_std_max\n",
    "        \n",
    "        \"3d_volume_approximation\",       # tbp_lv_areaMM2          * sqrt(tbp_lv_x**2 + tbp_lv_y**2 + tbp_lv_z**2)\n",
    "        \"color_range\",                   # abs(tbp_lv_L - tbp_lv_Lext) + abs(tbp_lv_A - tbp_lv_Aext) + abs(tbp_lv_B - tbp_lv_Bext)\n",
    "        \"shape_color_consistency\",       # tbp_lv_eccentricity     * tbp_lv_color_std_mean\n",
    "        \"border_length_ratio\",           # tbp_lv_perimeterMM      / pi * sqrt(tbp_lv_areaMM2 / pi)\n",
    "        \"age_size_symmetry_index\",       # age_approx              * clin_size_long_diam_mm * tbp_lv_symm_2axis\n",
    "         #\"index_age_size_symmetry\",      # age_approx              * sqrt(tbp_lv_areaMM2 * tbp_lv_symm_2axis)\n",
    "        \"index_age_size_symmetry\",       # age_approx              * tbp_lv_areaMM2 * tbp_lv_symm_2axis\n",
    "         # Until here..\n",
    "         # 'np1',                         # in case of a positive manifestation\n",
    "         # 'np2',                         # in case of a positive manifestation\n",
    "         # 'np3'                          # = ?\n",
    "         # ...\n",
    "         # 'npn'                          # = ?\n",
    "    ]\n",
    "    \n",
    "    \n",
    "    \n",
    "    \n",
    "    # The following features have been added:\n",
    "    \n",
    "    # - - - - - - - - - - - - - - - - - - - - - - - - - - - - - - - - - - - - - - - - - - - - - - - -\n",
    "    \n",
    "    # \"area_to_perimeter_ratio\",       # tbp_lv_areaMM2          / tbp_lv_perimeterMM\n",
    "    # \"consistency_symmetry_border\",   # tbp_lv_symm_2axis       * tbp_lv_norm_border / (tbp_lv_symm_2axis + tbp_lv_norm_border)\n",
    "    # \"consistency_color\",             # tbp_lv_stdL*tbp_lv_Lext / tbp_lv_stdL + tbp_lv_Lext\n",
    "    # \"index_age_size_symmetry\",       # age_approx              * tbp_lv_areaMM2 * tbp_lv_symm_2axis\n",
    "    \n",
    "    # - - - - - - - - - - - - - - - - - - - - - - - - - - - - - - - - - - - - - - - - - - - - - - - -\n",
    "    \n",
    "    # They were added all at once and by instinct.\n",
    "    # I think this is not quite right, it would be better to add them one by one\n",
    "    # and then visually look(even better is a machine gun) at the result\n",
    "     \n",
    "    # Working only with the taboo values of expert Andreas Bisi showed that it is possible to work \n",
    "    # with a smaller number of functions available to us, \n",
    "    # so in the next versions we will try to remove some functions rather than add them.\n",
    "    \n",
    "    \n",
    "    \n",
    "    \n",
    "    \n",
    "    new_cat_cols = [\"combined_anatomical_site\"]\n",
    "    \n",
    "    return df, new_num_cols, new_cat_cols\n",
    "\n",
    "\n",
    "num_cols = [\n",
    "    'age_approx',                        # Approximate age of patient at time of imaging.\n",
    "    'clin_size_long_diam_mm',            # Maximum diameter of the lesion (mm).+\n",
    "    'tbp_lv_A',                          # A inside  lesion.+\n",
    "    'tbp_lv_Aext',                       # A outside lesion.+\n",
    "    'tbp_lv_B',                          # B inside  lesion.+\n",
    "    'tbp_lv_Bext',                       # B outside lesion.+ \n",
    "    'tbp_lv_C',                          # Chroma inside  lesion.+\n",
    "    'tbp_lv_Cext',                       # Chroma outside lesion.+\n",
    "    'tbp_lv_H',                          # Hue inside the lesion; calculated as the angle of A* and B* in LAB* color space. Typical values range from 25 (red) to 75 (brown).+\n",
    "    'tbp_lv_Hext',                       # Hue outside lesion.+\n",
    "    'tbp_lv_L',                          # L inside lesion.+\n",
    "    'tbp_lv_Lext',                       # L outside lesion.+\n",
    "    'tbp_lv_areaMM2',                    # Area of lesion (mm^2).+\n",
    "    'tbp_lv_area_perim_ratio',           # Border jaggedness, the ratio between lesions perimeter and area. Circular lesions will have low values; irregular shaped lesions will have higher values. Values range 0-10.+\n",
    "    'tbp_lv_color_std_mean',             # Color irregularity, calculated as the variance of colors within the lesion's boundary.\n",
    "    'tbp_lv_deltaA',                     # Average A contrast (inside vs. outside lesion).+\n",
    "    'tbp_lv_deltaB',                     # Average B contrast (inside vs. outside lesion).+\n",
    "    'tbp_lv_deltaL',                     # Average L contrast (inside vs. outside lesion).+\n",
    "    'tbp_lv_deltaLB',                    #\n",
    "    'tbp_lv_deltaLBnorm',                # Contrast between the lesion and its immediate surrounding skin. Low contrast lesions tend to be faintly visible such as freckles; high contrast lesions tend to be those with darker pigment. Calculated as the average delta LB of the lesion relative to its immediate background in LAB* color space. Typical values range from 5.5 to 25.+\n",
    "    'tbp_lv_eccentricity',               # Eccentricity.+\n",
    "    'tbp_lv_minorAxisMM',                # Smallest lesion diameter (mm).+\n",
    "    'tbp_lv_nevi_confidence',            # Nevus confidence score (0-100 scale) is a convolutional neural network classifier estimated probability that the lesion is a nevus. The neural network was trained on approximately 57,000 lesions that were classified and labeled by a dermatologist.+,++\n",
    "    'tbp_lv_norm_border',                # Border irregularity (0-10 scale); the normalized average of border jaggedness and asymmetry.+\n",
    "    'tbp_lv_norm_color',                 # Color variation (0-10 scale); the normalized average of color asymmetry and color irregularity.+\n",
    "    'tbp_lv_perimeterMM',                # Perimeter of lesion (mm).+\n",
    "    'tbp_lv_radial_color_std_max',       # Color asymmetry, a measure of asymmetry of the spatial distribution of color within the lesion. This score is calculated by looking at the average standard deviation in LAB* color space within concentric rings originating from the lesion center. Values range 0-10.+\n",
    "    'tbp_lv_stdL',                       # Standard deviation of L inside  lesion.+\n",
    "    'tbp_lv_stdLExt',                    # Standard deviation of L outside lesion.+\n",
    "    'tbp_lv_symm_2axis',                 # Border asymmetry; a measure of asymmetry of the lesion's contour about an axis perpendicular to the lesion's most symmetric axis. Lesions with two axes of symmetry will therefore have low scores (more symmetric), while lesions with only one or zero axes of symmetry will have higher scores (less symmetric). This score is calculated by comparing opposite halves of the lesion contour over many degrees of rotation. The angle where the halves are most similar identifies the principal axis of symmetry, while the second axis of symmetry is perpendicular to the principal axis. Border asymmetry is reported as the asymmetry value about this second axis. Values range 0-10.+\n",
    "    'tbp_lv_symm_2axis_angle',           # Lesion border asymmetry angle.+\n",
    "    'tbp_lv_x',                          # X-coordinate of the lesion on 3D TBP.+\n",
    "    'tbp_lv_y',                          # Y-coordinate of the lesion on 3D TBP.+\n",
    "    'tbp_lv_z',                          # Z-coordinate of the lesion on 3D TBP.+\n",
    "]\n",
    "\n",
    "df_train[num_cols] = df_train[num_cols].fillna(df_train[num_cols].median())\n",
    "df_test [num_cols] = df_test [num_cols].fillna(df_train[num_cols].median())\n",
    "\n",
    "df_train, new_num_cols, new_cat_cols = feature_engineering(df_train.copy())\n",
    "df_test, _, _                        = feature_engineering(df_test.copy())\n",
    "\n",
    "num_cols += new_num_cols\n",
    "\n",
    "# anatom_site_general\n",
    "cat_cols = [\"sex\", \"tbp_tile_type\", \"tbp_lv_location\", \"tbp_lv_location_simple\"] + new_cat_cols\n",
    "train_cols = num_cols + cat_cols\n",
    "\n",
    "\n",
    "\n",
    "\n",
    "\n",
    "\n",
    "df_eff = pd.read_csv(\"/kaggle/input/isic-inference-effnetv1b0-for-training-data/train_effnetv1b0.csv\")\n",
    "df_eff = df_eff[[\"target_effnetv1b0\"]]\n",
    "\n",
    "df_nex = pd.read_csv(\"/kaggle/input/nextvit/train_effnetv1b0.csv\")\n",
    "df_nex = df_nex[[\"target_effnetv1b0\"]]\n",
    "df_sel = pd.read_csv(\"/kaggle/input/selecsls42b-in1k-drop/train_effnetv1b0.csv\")\n",
    "df_sel = df_sel[[\"target_effnetv1b0\"]]\n",
    "\n",
    "df_train[\"target_nexnetv1b0\"] = df_nex[\"target_effnetv1b0\"]\n",
    "df_train[\"target_selnetv1b0\"] = df_sel[\"target_effnetv1b0\"]\n",
    "\n",
    "\n",
    "df_image_3 = pd.read_csv(\"/kaggle/input/isic-2024-pl-submission-script-and-preds/train_preds.csv\")\n",
    "\n",
    "df_train[\"target_effnetv1b0\"] = df_eff[\"target_effnetv1b0\"]\n",
    "df_train[\"target_3\"] = df_image_3[\"pred\"]\n",
    "\n",
    "train_cols += [\"target_3\",\"target_nexnetv1b0\",\"target_effnetv1b0\",\"target_selnetv1b0\"]\n",
    "\n",
    "\n",
    "\n",
    "\n",
    "\n",
    "# ~ + ~ ~ + ~ ~ + ~ ~ + ~ ~ + ~ ~ + ~ ~ + ~ ~ + ~ ~ + ~ ~ + ~\n",
    "# approximately the same FE does not give anything yet the correct \n",
    "# one asks to add one or more parallel lines\n",
    "# ~ + ~ ~ + ~ ~ + ~ ~ + ~ ~ + ~ ~ + ~ ~ + ~ ~ + ~ ~ + ~ ~ + ~\n",
    "\n",
    "\n",
    "category_encoder = OrdinalEncoder(\n",
    "    categories='auto',\n",
    "    dtype=int,\n",
    "    handle_unknown='use_encoded_value',\n",
    "    unknown_value=-2,\n",
    "    encoded_missing_value=-1,\n",
    ")\n",
    "\n",
    "X_cat = category_encoder.fit_transform(df_train[cat_cols])\n",
    "for c, cat_col in enumerate(cat_cols):\n",
    "    df_train[cat_col] = X_cat[:, c]"
   ]
  },
  {
   "cell_type": "markdown",
   "id": "cc366316",
   "metadata": {
    "papermill": {
     "duration": 0.009947,
     "end_time": "2024-08-12T14:51:45.098404",
     "exception": false,
     "start_time": "2024-08-12T14:51:45.088457",
     "status": "completed"
    },
    "tags": []
   },
   "source": [
    "# CV Setup"
   ]
  },
  {
   "cell_type": "code",
   "execution_count": 5,
   "id": "d24a311b",
   "metadata": {
    "execution": {
     "iopub.execute_input": "2024-08-12T14:51:45.119998Z",
     "iopub.status.busy": "2024-08-12T14:51:45.119203Z",
     "iopub.status.idle": "2024-08-12T14:51:47.340706Z",
     "shell.execute_reply": "2024-08-12T14:51:47.339692Z"
    },
    "papermill": {
     "duration": 2.23479,
     "end_time": "2024-08-12T14:51:47.343048",
     "exception": false,
     "start_time": "2024-08-12T14:51:45.108258",
     "status": "completed"
    },
    "tags": []
   },
   "outputs": [],
   "source": [
    "N_SPLITS = 5\n",
    "\n",
    "gkf = StratifiedGroupKFold(n_splits=N_SPLITS, shuffle=True, random_state=42)\n",
    "\n",
    "if SUBSAMPLE:\n",
    "    df_pos = df_train[df_train[\"target\"] == 1]\n",
    "    df_neg = df_train[df_train[\"target\"] == 0]\n",
    "    df_neg = df_neg.sample(frac=SUBSAMPLE_RATIO, random_state=42)\n",
    "    df_train = pd.concat([df_pos, df_neg]).sample(frac=1.0, random_state=42).reset_index(drop=True)    \n",
    "\n",
    "df_train[\"fold\"] = -1\n",
    "\n",
    "for idx, (train_idx, val_idx) in enumerate(gkf.split(df_train, df_train[\"target\"], groups=df_train[\"patient_id\"])):\n",
    "    df_train.loc[val_idx, \"fold\"] = idx"
   ]
  },
  {
   "cell_type": "markdown",
   "id": "6c9e1f62",
   "metadata": {
    "papermill": {
     "duration": 0.010275,
     "end_time": "2024-08-12T14:51:47.363801",
     "exception": false,
     "start_time": "2024-08-12T14:51:47.353526",
     "status": "completed"
    },
    "tags": []
   },
   "source": [
    "# Competition Metric"
   ]
  },
  {
   "cell_type": "code",
   "execution_count": 6,
   "id": "1aa3cc30",
   "metadata": {
    "execution": {
     "iopub.execute_input": "2024-08-12T14:51:47.385205Z",
     "iopub.status.busy": "2024-08-12T14:51:47.384829Z",
     "iopub.status.idle": "2024-08-12T14:51:47.393303Z",
     "shell.execute_reply": "2024-08-12T14:51:47.392446Z"
    },
    "papermill": {
     "duration": 0.021529,
     "end_time": "2024-08-12T14:51:47.395239",
     "exception": false,
     "start_time": "2024-08-12T14:51:47.373710",
     "status": "completed"
    },
    "tags": []
   },
   "outputs": [],
   "source": [
    "def comp_score(solution: pd.DataFrame, submission: pd.DataFrame, row_id_column_name: str, min_tpr: float=0.80):\n",
    "    v_gt = abs(np.asarray(solution.values)-1)\n",
    "    v_pred = np.array([1.0 - x for x in submission.values])\n",
    "    max_fpr = abs(1-min_tpr)\n",
    "    partial_auc_scaled = roc_auc_score(v_gt, v_pred, max_fpr=max_fpr)\n",
    "    # change scale from [0.5, 1.0] to [0.5 * max_fpr**2, max_fpr]\n",
    "    # https://math.stackexchange.com/questions/914823/shift-numbers-into-a-different-range\n",
    "    partial_auc = 0.5 * max_fpr**2 + (max_fpr - 0.5 * max_fpr**2) / (1.0 - 0.5) * (partial_auc_scaled - 0.5)\n",
    "    return partial_auc\n",
    "\n",
    "def custom_lgbm_metric(y_true, y_hat):\n",
    "    # TODO: Refactor with the above.\n",
    "    min_tpr = 0.80\n",
    "    v_gt = abs(y_true-1)\n",
    "    v_pred = np.array([1.0 - x for x in y_hat])\n",
    "    max_fpr = abs(1-min_tpr)\n",
    "    partial_auc_scaled = roc_auc_score(v_gt, v_pred, max_fpr=max_fpr)\n",
    "    # change scale from [0.5, 1.0] to [0.5 * max_fpr**2, max_fpr]\n",
    "    # https://math.stackexchange.com/questions/914823/shift-numbers-into-a-different-range\n",
    "    partial_auc = 0.5 * max_fpr**2 + (max_fpr - 0.5 * max_fpr**2) / (1.0 - 0.5) * (partial_auc_scaled - 0.5)\n",
    "    return \"pauc80\", partial_auc, True\n"
   ]
  },
  {
   "cell_type": "markdown",
   "id": "45b4d443",
   "metadata": {
    "papermill": {
     "duration": 0.00978,
     "end_time": "2024-08-12T14:51:47.414988",
     "exception": false,
     "start_time": "2024-08-12T14:51:47.405208",
     "status": "completed"
    },
    "tags": []
   },
   "source": [
    "# LGBM Model"
   ]
  },
  {
   "cell_type": "code",
   "execution_count": 7,
   "id": "a6ccaf2a",
   "metadata": {
    "execution": {
     "iopub.execute_input": "2024-08-12T14:51:47.436030Z",
     "iopub.status.busy": "2024-08-12T14:51:47.435690Z",
     "iopub.status.idle": "2024-08-12T14:51:47.444811Z",
     "shell.execute_reply": "2024-08-12T14:51:47.443962Z"
    },
    "papermill": {
     "duration": 0.021706,
     "end_time": "2024-08-12T14:51:47.446681",
     "exception": false,
     "start_time": "2024-08-12T14:51:47.424975",
     "status": "completed"
    },
    "tags": []
   },
   "outputs": [],
   "source": [
    "def objective(trial):\n",
    "    param = {\n",
    "        \"objective\":         \"binary\",\n",
    "        # \"metric\":           \"custom\",\n",
    "        \"verbosity\":         -1,\n",
    "        \"boosting_type\":     \"gbdt\",\n",
    "        \"lambda_l1\":         trial.suggest_float(\"lambda_l1\", 1e-8, 10.0, log=True),\n",
    "        \"lambda_l2\":         trial.suggest_float(\"lambda_l2\", 1e-8, 10.0, log=True),\n",
    "        \"num_leaves\":        trial.suggest_int(\"num_leaves\", 2, 256),\n",
    "        \"feature_fraction\":  trial.suggest_float(\"feature_fraction\", 0.4, 1.0),\n",
    "        \"bagging_fraction\":  trial.suggest_float(\"bagging_fraction\", 0.4, 1.0),\n",
    "        \"bagging_freq\":      trial.suggest_int(\"bagging_freq\", 1, 7),\n",
    "        \"min_child_samples\": trial.suggest_int(\"min_child_samples\", 5, 100),\n",
    "        \"device\":            \"gpu\"\n",
    "    }\n",
    "    \n",
    "    scores = []\n",
    "    \n",
    "    for fold in range(N_SPLITS):\n",
    "        _df_train = df_train[df_train[\"fold\"] != fold].reset_index(drop=True)\n",
    "        _df_valid = df_train[df_train[\"fold\"] == fold].reset_index(drop=True)\n",
    "        dtrain = lgb.Dataset(_df_train[train_cols], label=_df_train[\"target\"])\n",
    "        gbm = lgb.train(param, dtrain)\n",
    "        preds = gbm.predict(_df_valid[train_cols])\n",
    "        score = comp_score(_df_valid[[\"target\"]], pd.DataFrame(preds, columns=[\"prediction\"]), \"\")\n",
    "        scores.append(score)\n",
    "        \n",
    "    return np.mean(scores)"
   ]
  },
  {
   "cell_type": "code",
   "execution_count": 8,
   "id": "daf9e625",
   "metadata": {
    "execution": {
     "iopub.execute_input": "2024-08-12T14:51:47.467892Z",
     "iopub.status.busy": "2024-08-12T14:51:47.467419Z",
     "iopub.status.idle": "2024-08-12T14:51:47.473077Z",
     "shell.execute_reply": "2024-08-12T14:51:47.472296Z"
    },
    "papermill": {
     "duration": 0.018164,
     "end_time": "2024-08-12T14:51:47.474833",
     "exception": false,
     "start_time": "2024-08-12T14:51:47.456669",
     "status": "completed"
    },
    "tags": []
   },
   "outputs": [],
   "source": [
    "if OPTIMIZE_OPTUNA:\n",
    "    study = optuna.create_study(direction=\"maximize\")\n",
    "    study.optimize(objective, n_trials=21)\n",
    "\n",
    "    print(\"Number of finished trials: {}\".format(len(study.trials)))\n",
    "\n",
    "    print(\"Best trial:\")\n",
    "    trial = study.best_trial\n",
    "\n",
    "    print(\"  Value: {}\".format(trial.value))\n",
    "\n",
    "    print(\"  Params: \")\n",
    "    for key, value in trial.params.items():\n",
    "        print(\"    {}: {}\".format(key, value))"
   ]
  },
  {
   "cell_type": "code",
   "execution_count": 9,
   "id": "d7b26982",
   "metadata": {
    "execution": {
     "iopub.execute_input": "2024-08-12T14:51:47.495864Z",
     "iopub.status.busy": "2024-08-12T14:51:47.495557Z",
     "iopub.status.idle": "2024-08-12T14:52:42.342237Z",
     "shell.execute_reply": "2024-08-12T14:52:42.341172Z"
    },
    "papermill": {
     "duration": 54.859607,
     "end_time": "2024-08-12T14:52:42.344320",
     "exception": false,
     "start_time": "2024-08-12T14:51:47.484713",
     "status": "completed"
    },
    "tags": []
   },
   "outputs": [
    {
     "name": "stderr",
     "output_type": "stream",
     "text": [
      "1 warning generated.\n",
      "1 warning generated.\n",
      "1 warning generated.\n",
      "1 warning generated.\n",
      "1 warning generated.\n",
      "1 warning generated.\n",
      "1 warning generated.\n",
      "1 warning generated.\n",
      "1 warning generated.\n",
      "1 warning generated.\n",
      "1 warning generated.\n",
      "1 warning generated.\n",
      "1 warning generated.\n",
      "1 warning generated.\n",
      "1 warning generated.\n",
      "1 warning generated.\n",
      "1 warning generated.\n",
      "1 warning generated.\n",
      "1 warning generated.\n",
      "1 warning generated.\n",
      "1 warning generated.\n",
      "1 warning generated.\n",
      "1 warning generated.\n",
      "1 warning generated.\n",
      "1 warning generated.\n",
      "1 warning generated.\n",
      "1 warning generated.\n",
      "1 warning generated.\n",
      "1 warning generated.\n",
      "1 warning generated.\n",
      "1 warning generated.\n",
      "1 warning generated.\n",
      "1 warning generated.\n"
     ]
    },
    {
     "name": "stdout",
     "output_type": "stream",
     "text": [
      "fold: 0 - Partial AUC Score: 0.17561\n",
      "fold: 1 - Partial AUC Score: 0.18558\n",
      "fold: 2 - Partial AUC Score: 0.19367\n",
      "fold: 3 - Partial AUC Score: 0.17354\n",
      "fold: 4 - Partial AUC Score: 0.18487\n"
     ]
    }
   ],
   "source": [
    "new_params = {\n",
    "    \"objective\": \"binary\",\n",
    "    \"verbosity\": -1,\n",
    "    \"boosting_type\": \"gbdt\",\n",
    "    \"n_estimators\": 160,\n",
    "    'learning_rate': 0.0141,    \n",
    "    'lambda_l1': 7.21839, \n",
    "    'lambda_l2': 7.65879, \n",
    "    'num_leaves': 110, \n",
    "    'feature_fraction': 0.5392005444882538, \n",
    "    'bagging_fraction': 0.9577412548866563, \n",
    "    'bagging_freq': 6,\n",
    "    'min_child_samples': 60,\n",
    "    \"device\": \"gpu\"\n",
    "}\n",
    "lgb_scores = []\n",
    "lgb_models = []\n",
    "oof_df = pd.DataFrame()\n",
    "for fold in range(N_SPLITS):\n",
    "    _df_train = df_train[df_train[\"fold\"] != fold].reset_index(drop=True)\n",
    "    _df_valid = df_train[df_train[\"fold\"] == fold].reset_index(drop=True)\n",
    "    model = lgb.LGBMClassifier(**new_params)\n",
    "    # model = VotingClassifier([(f\"lgb_{i}\", lgb.LGBMClassifier(random_state=i, **new_params)) for i in range(7)], voting=\"soft\")\n",
    "    model.fit(_df_train[train_cols], _df_train[\"target\"])\n",
    "    preds = model.predict_proba(_df_valid[train_cols])[:, 1]\n",
    "    score = comp_score(_df_valid[[\"target\"]], pd.DataFrame(preds, columns=[\"prediction\"]), \"\")\n",
    "    print(f\"fold: {fold} - Partial AUC Score: {score:.5f}\")\n",
    "    lgb_models.append(model)\n",
    "    oof_single = _df_valid[[\"isic_id\", \"target\"]].copy()\n",
    "    oof_single[\"pred\"] = preds\n",
    "    oof_df = pd.concat([oof_df, oof_single])"
   ]
  },
  {
   "cell_type": "code",
   "execution_count": 10,
   "id": "92511489",
   "metadata": {
    "execution": {
     "iopub.execute_input": "2024-08-12T14:52:42.371149Z",
     "iopub.status.busy": "2024-08-12T14:52:42.370783Z",
     "iopub.status.idle": "2024-08-12T14:52:42.377128Z",
     "shell.execute_reply": "2024-08-12T14:52:42.376160Z"
    },
    "papermill": {
     "duration": 0.022331,
     "end_time": "2024-08-12T14:52:42.379144",
     "exception": false,
     "start_time": "2024-08-12T14:52:42.356813",
     "status": "completed"
    },
    "tags": []
   },
   "outputs": [],
   "source": [
    "# mrs = []\n",
    "\n",
    "# for j in range(7):\n",
    "    \n",
    "#     lgb_params = {\n",
    "#         \"objective\":         \"binary\",\n",
    "#         \"boosting_type\":     \"gbdt\",\n",
    "#         \"n_estimators\":      random.choice([500,1000,1500,2000]),\n",
    "#         'learning_rate':     random.choice([0.003,0.005,0.01,0.03,0.05]),  \n",
    "#         'lambda_l1':         random.choice([0.001,0.0001,0.00047,0.00077,0.00087]),\n",
    "#         'lambda_l2':         random.choice([0.7,1.4,3,4,5,7,8.77]),\n",
    "#         'num_leaves':        random.choice([50,100,150,200,250]),\n",
    "# #         'feature_fraction':  random.choice([0,34,0.54,0.74,0.85]),\n",
    "# #         'bagging_fraction':  random.choice([0.77,0.85,0.95]),\n",
    "#         'bagging_freq':      random.choice([5,6,7,8]),\n",
    "#         'min_child_samples': random.choice([40,50,60,70]),\n",
    "#         \"verbosity\":         -1,\n",
    "#         \"device\": \"gpu\"\n",
    "#     }\n",
    "    \n",
    "#     lgb_scores = []\n",
    "#     lgb_models = []\n",
    "    \n",
    "#     oof_df = pd.DataFrame()\n",
    "#     for fold in range(N_SPLITS):\n",
    "#         _df_train = df_train[df_train[\"fold\"] != fold].reset_index(drop=True)\n",
    "#         _df_valid = df_train[df_train[\"fold\"] == fold].reset_index(drop=True)\n",
    "#         model = VotingClassifier([(f\"lgb_{i}\", lgb.LGBMClassifier(random_state=i, **lgb_params)) for i in range(3)], voting=\"soft\")\n",
    "#         model.fit(_df_train[train_cols], _df_train[\"target\"])\n",
    "#         preds = model.predict_proba(_df_valid[train_cols])[:, 1]\n",
    "#         score = comp_score(_df_valid[[\"target\"]], pd.DataFrame(preds, columns=[\"prediction\"]), \"\")\n",
    "#         print(f\"fold: {fold} - Partial AUC Score: {score:.5f}\")\n",
    "#         lgb_scores.append(score)\n",
    "#         lgb_models.append(model)\n",
    "\n",
    "#     mrs.append({'models':lgb_models, 'params':lgb_params, 'scores':lgb_scores})\n",
    "#     print('\\n',np.mean(lgb_scores),'\\n')\n",
    "    \n",
    "# _score,i,j  = -1,0,0\n",
    "\n",
    "# for mr in mrs:\n",
    "#     _mean = np.mean(mr['scores'])\n",
    "#     if _mean > _score: \n",
    "#         _score = _mean\n",
    "#         j = i\n",
    "#     i += 1\n",
    "    \n",
    "# lgb_scores = mrs[j]['scores']\n",
    "# lgb_models = mrs[j]['models']\n",
    "# lgb_params = mrs[j]['params']"
   ]
  },
  {
   "cell_type": "code",
   "execution_count": 11,
   "id": "75344d7e",
   "metadata": {
    "execution": {
     "iopub.execute_input": "2024-08-12T14:52:42.406230Z",
     "iopub.status.busy": "2024-08-12T14:52:42.405846Z",
     "iopub.status.idle": "2024-08-12T14:52:42.647339Z",
     "shell.execute_reply": "2024-08-12T14:52:42.646144Z"
    },
    "papermill": {
     "duration": 0.257912,
     "end_time": "2024-08-12T14:52:42.649655",
     "exception": false,
     "start_time": "2024-08-12T14:52:42.391743",
     "status": "completed"
    },
    "tags": []
   },
   "outputs": [
    {
     "name": "stdout",
     "output_type": "stream",
     "text": [
      "LGBM Score: 0.18108\n"
     ]
    }
   ],
   "source": [
    "lgbm_score = comp_score(oof_df[\"target\"], oof_df[\"pred\"], \"\")\n",
    "print(f\"LGBM Score: {lgbm_score:.5f}\")"
   ]
  },
  {
   "cell_type": "markdown",
   "id": "ed3c519a",
   "metadata": {
    "papermill": {
     "duration": 0.013744,
     "end_time": "2024-08-12T14:52:42.677460",
     "exception": false,
     "start_time": "2024-08-12T14:52:42.663716",
     "status": "completed"
    },
    "tags": []
   },
   "source": [
    "# LGBM Feature Importances"
   ]
  },
  {
   "cell_type": "code",
   "execution_count": 12,
   "id": "ec412676",
   "metadata": {
    "execution": {
     "iopub.execute_input": "2024-08-12T14:52:42.706316Z",
     "iopub.status.busy": "2024-08-12T14:52:42.705755Z",
     "iopub.status.idle": "2024-08-12T14:52:42.711681Z",
     "shell.execute_reply": "2024-08-12T14:52:42.710824Z"
    },
    "papermill": {
     "duration": 0.022168,
     "end_time": "2024-08-12T14:52:42.713881",
     "exception": false,
     "start_time": "2024-08-12T14:52:42.691713",
     "status": "completed"
    },
    "tags": []
   },
   "outputs": [],
   "source": [
    "if DISPLAY_FEATURE_IMPORTANCE:\n",
    "    # Make sure that this is a single model, not voting classifier. Will handle that later on.\n",
    "    importances = np.mean([model.feature_importances_ for model in lgb_models], 0)\n",
    "    df_imp = pd.DataFrame({\"feature\": model.feature_name_, \"importance\": importances}).sort_values(\"importance\").reset_index(drop=True)\n",
    "\n",
    "    plt.figure(figsize=(16, 12))\n",
    "    plt.barh(df_imp[\"feature\"], df_imp[\"importance\"])\n",
    "    plt.show()"
   ]
  },
  {
   "cell_type": "markdown",
   "id": "97ec578e",
   "metadata": {
    "papermill": {
     "duration": 0.011533,
     "end_time": "2024-08-12T14:52:42.737278",
     "exception": false,
     "start_time": "2024-08-12T14:52:42.725745",
     "status": "completed"
    },
    "tags": []
   },
   "source": [
    "# Catboost Model"
   ]
  },
  {
   "cell_type": "code",
   "execution_count": 13,
   "id": "5ef0f700",
   "metadata": {
    "execution": {
     "iopub.execute_input": "2024-08-12T14:52:42.762738Z",
     "iopub.status.busy": "2024-08-12T14:52:42.761863Z",
     "iopub.status.idle": "2024-08-12T14:52:42.771944Z",
     "shell.execute_reply": "2024-08-12T14:52:42.771079Z"
    },
    "papermill": {
     "duration": 0.025092,
     "end_time": "2024-08-12T14:52:42.773965",
     "exception": false,
     "start_time": "2024-08-12T14:52:42.748873",
     "status": "completed"
    },
    "tags": []
   },
   "outputs": [],
   "source": [
    "def objective(trial):\n",
    "    param = {\n",
    "        \"objective\":         trial.suggest_categorical(\"objective\", [\"Logloss\", \"CrossEntropy\"]),\n",
    "        \"colsample_bylevel\": trial.suggest_float(\"colsample_bylevel\", 0.01, 0.1),\n",
    "        \"depth\":             trial.suggest_int(\"depth\", 1, 12),\n",
    "        \"boosting_type\":     trial.suggest_categorical(\"boosting_type\", [\"Ordered\", \"Plain\"]),\n",
    "        \"bootstrap_type\":    trial.suggest_categorical(\"bootstrap_type\", [\"Bayesian\", \"Bernoulli\", \"MVS\"]),\n",
    "        # \"task_type\":       \"GPU\",\n",
    "        # \"used_ram_limit\":  \"3gb\",\n",
    "    }\n",
    "    \n",
    "    if param[\"bootstrap_type\"] == \"Bayesian\":\n",
    "        param[\"bagging_temperature\"] = trial.suggest_float(\"bagging_temperature\", 0, 10)\n",
    "    \n",
    "    if param[\"bootstrap_type\"] == \"Bernoulli\":\n",
    "        param[\"subsample\"]           = trial.suggest_float(\"subsample\", 0.1, 1)\n",
    "\n",
    "    scores = []\n",
    "    \n",
    "    for fold in range(N_SPLITS):\n",
    "        _df_train = df_train[df_train[\"fold\"] != fold].reset_index(drop=True)\n",
    "        _df_valid = df_train[df_train[\"fold\"] == fold].reset_index(drop=True)\n",
    "        gbm = cb.CatBoostClassifier(**param)\n",
    "        gbm.fit(_df_train[train_cols], _df_train[\"target\"], eval_set=[(_df_valid[train_cols], _df_valid[\"target\"])], verbose=0, early_stopping_rounds=100)\n",
    "        preds = gbm.predict(_df_valid[train_cols])\n",
    "        score = comp_score(_df_valid[[\"target\"]], pd.DataFrame(preds, columns=[\"prediction\"]), \"\")\n",
    "        scores.append(score)\n",
    "        \n",
    "    return np.mean(scores)"
   ]
  },
  {
   "cell_type": "code",
   "execution_count": 14,
   "id": "7593835d",
   "metadata": {
    "execution": {
     "iopub.execute_input": "2024-08-12T14:52:42.798661Z",
     "iopub.status.busy": "2024-08-12T14:52:42.798350Z",
     "iopub.status.idle": "2024-08-12T14:52:42.803792Z",
     "shell.execute_reply": "2024-08-12T14:52:42.802962Z"
    },
    "papermill": {
     "duration": 0.019971,
     "end_time": "2024-08-12T14:52:42.805640",
     "exception": false,
     "start_time": "2024-08-12T14:52:42.785669",
     "status": "completed"
    },
    "tags": []
   },
   "outputs": [],
   "source": [
    "if OPTIMIZE_OPTUNA:\n",
    "    study = optuna.create_study(direction=\"maximize\")\n",
    "    study.optimize(objective, n_trials=21, timeout=500)\n",
    "    print(\"Number of finished trials: {}\".format(len(study.trials)))\n",
    "    print(\"Best trial:\")\n",
    "    trial = study.best_trial\n",
    "    print(\"  Value: {}\".format(trial.value))\n",
    "    print(\"  Params: \")\n",
    "    for key, value in trial.params.items():\n",
    "        print(\"    {}: {}\".format(key, value))"
   ]
  },
  {
   "cell_type": "code",
   "execution_count": 15,
   "id": "4778498e",
   "metadata": {
    "execution": {
     "iopub.execute_input": "2024-08-12T14:52:42.831200Z",
     "iopub.status.busy": "2024-08-12T14:52:42.830467Z",
     "iopub.status.idle": "2024-08-12T14:57:10.870970Z",
     "shell.execute_reply": "2024-08-12T14:57:10.869668Z"
    },
    "papermill": {
     "duration": 268.066977,
     "end_time": "2024-08-12T14:57:10.884557",
     "exception": false,
     "start_time": "2024-08-12T14:52:42.817580",
     "status": "completed"
    },
    "tags": []
   },
   "outputs": [
    {
     "name": "stdout",
     "output_type": "stream",
     "text": [
      "fold: 0 - Partial AUC Score: 0.17893\n",
      "fold: 1 - Partial AUC Score: 0.18113\n",
      "fold: 2 - Partial AUC Score: 0.19407\n",
      "fold: 3 - Partial AUC Score: 0.17318\n",
      "fold: 4 - Partial AUC Score: 0.18518\n"
     ]
    }
   ],
   "source": [
    "cb_params = {\n",
    "    'objective': 'Logloss',\n",
    "    # \"random_state\": 42,\n",
    "    # \"colsample_bylevel\": 0.3, # 0.01, 0.1\n",
    "    \"iterations\": 291,\n",
    "    \"learning_rate\": 0.0141,\n",
    "    \"cat_features\": cat_cols,\n",
    "    \"max_depth\": 8,\n",
    "    \"l2_leaf_reg\": 6.72497,\n",
    "    \"task_type\": \"GPU\",\n",
    "    # \"scale_pos_weight\": 2,\n",
    "    \"verbose\": 0,\n",
    "}\n",
    "cb_scores = []\n",
    "cb_models = []\n",
    "for fold in range(N_SPLITS):\n",
    "    _df_train = df_train[df_train[\"fold\"] != fold].reset_index(drop=True)\n",
    "    _df_valid = df_train[df_train[\"fold\"] == fold].reset_index(drop=True)\n",
    "    # model = cb.CatBoostClassifier(**cb_params)\n",
    "    model = VotingClassifier([(f\"cb_{i}\", cb.CatBoostClassifier(random_state=i, **cb_params)) for i in range(3)], voting=\"soft\")\n",
    "    # eval_set=(_df_valid[train_cols], _df_valid[\"target\"]), early_stopping_rounds=50\n",
    "    model.fit(_df_train[train_cols], _df_train[\"target\"])\n",
    "    preds = model.predict_proba(_df_valid[train_cols])[:, 1]\n",
    "    score = comp_score(_df_valid[[\"target\"]], pd.DataFrame(preds, columns=[\"prediction\"]), \"\")\n",
    "    print(f\"fold: {fold} - Partial AUC Score: {score:.5f}\")\n",
    "    cb_scores.append(score)\n",
    "    cb_models.append(model)"
   ]
  },
  {
   "cell_type": "code",
   "execution_count": 16,
   "id": "98e96b16",
   "metadata": {
    "execution": {
     "iopub.execute_input": "2024-08-12T14:57:10.910998Z",
     "iopub.status.busy": "2024-08-12T14:57:10.910622Z",
     "iopub.status.idle": "2024-08-12T14:57:10.916514Z",
     "shell.execute_reply": "2024-08-12T14:57:10.915564Z"
    },
    "papermill": {
     "duration": 0.021666,
     "end_time": "2024-08-12T14:57:10.918504",
     "exception": false,
     "start_time": "2024-08-12T14:57:10.896838",
     "status": "completed"
    },
    "tags": []
   },
   "outputs": [],
   "source": [
    "# mrs = []\n",
    "\n",
    "# for j in range(7):\n",
    "#     cb_params = {\n",
    "#         'objective':         'Logloss',\n",
    "#         # \"random_state\":      42,\n",
    "#         # \"colsample_bylevel\": 0.3, # 0.01, 0.1\n",
    "#         \"iterations\":         random.choice([400,700,1100]),\n",
    "#         \"learning_rate\":      random.choice([0.05,0.03,0.01]),\n",
    "#         \"cat_features\":       cat_cols,\n",
    "#         \"max_depth\":          random.choice([7,8,9]),\n",
    "#         \"l2_leaf_reg\":        random.choice([5,4,7]),\n",
    "#         \"task_type\":          \"GPU\",\n",
    "#         # \"scale_pos_weight\":  2,\n",
    "#         \"verbose\":            0,\n",
    "#     }\n",
    "\n",
    "#     cb_scores = []\n",
    "#     cb_models = []\n",
    "\n",
    "#     for fold in range(N_SPLITS):\n",
    "#         _df_train = df_train[df_train[\"fold\"] != fold].reset_index(drop=True)\n",
    "#         _df_valid = df_train[df_train[\"fold\"] == fold].reset_index(drop=True)\n",
    "#         model = VotingClassifier([(f\"cb_{i}\", cb.CatBoostClassifier(random_state=i, **cb_params)) for i in range(3)], voting=\"soft\")\n",
    "#         model.fit(_df_train[train_cols], _df_train[\"target\"])\n",
    "#         preds = model.predict_proba(_df_valid[train_cols])[:, 1]\n",
    "#         score = comp_score(_df_valid[[\"target\"]], pd.DataFrame(preds, columns=[\"prediction\"]), \"\")\n",
    "#         print(f\"fold: {fold} - Partial AUC Score: {score:.5f}\")\n",
    "#         cb_scores.append(score)\n",
    "#         cb_models.append(model)\n",
    "        \n",
    "#     mrs.append({'models':cb_models, 'params':cb_params, 'scores':cb_scores})\n",
    "#     print('\\n',np.mean(cb_scores),'\\n')\n",
    "    \n",
    "# _score,i,j  = -1,0,0\n",
    "\n",
    "# for mr in mrs:\n",
    "#     _mean = np.mean(mr['scores'])\n",
    "#     if _mean > _score: \n",
    "#         _score = _mean\n",
    "#         j = i\n",
    "#     i += 1\n",
    "    \n",
    "# cb_scores = mrs[j]['scores']\n",
    "# cb_models = mrs[j]['models']\n",
    "# cb_params = mrs[j]['params']"
   ]
  },
  {
   "cell_type": "code",
   "execution_count": 17,
   "id": "04286d14",
   "metadata": {
    "execution": {
     "iopub.execute_input": "2024-08-12T14:57:10.945283Z",
     "iopub.status.busy": "2024-08-12T14:57:10.944568Z",
     "iopub.status.idle": "2024-08-12T14:57:10.950048Z",
     "shell.execute_reply": "2024-08-12T14:57:10.949024Z"
    },
    "papermill": {
     "duration": 0.021219,
     "end_time": "2024-08-12T14:57:10.952209",
     "exception": false,
     "start_time": "2024-08-12T14:57:10.930990",
     "status": "completed"
    },
    "tags": []
   },
   "outputs": [
    {
     "name": "stdout",
     "output_type": "stream",
     "text": [
      "CatBoost Score: 0.18250\n"
     ]
    }
   ],
   "source": [
    "cb_score = np.mean(cb_scores)\n",
    "print(f\"CatBoost Score: {cb_score:.5f}\")\n",
    "# print(f\"CatBoost Param: {cb_params:}\")"
   ]
  },
  {
   "cell_type": "markdown",
   "id": "4235885f",
   "metadata": {
    "papermill": {
     "duration": 0.012281,
     "end_time": "2024-08-12T14:57:10.978296",
     "exception": false,
     "start_time": "2024-08-12T14:57:10.966015",
     "status": "completed"
    },
    "tags": []
   },
   "source": [
    "# CatBoost Feature Importances"
   ]
  },
  {
   "cell_type": "code",
   "execution_count": 18,
   "id": "20c581f8",
   "metadata": {
    "execution": {
     "iopub.execute_input": "2024-08-12T14:57:11.006247Z",
     "iopub.status.busy": "2024-08-12T14:57:11.005425Z",
     "iopub.status.idle": "2024-08-12T14:57:11.012284Z",
     "shell.execute_reply": "2024-08-12T14:57:11.011367Z"
    },
    "papermill": {
     "duration": 0.022721,
     "end_time": "2024-08-12T14:57:11.014206",
     "exception": false,
     "start_time": "2024-08-12T14:57:10.991485",
     "status": "completed"
    },
    "tags": []
   },
   "outputs": [],
   "source": [
    "if DISPLAY_FEATURE_IMPORTANCE:\n",
    "    # Same here.\n",
    "    importances = np.mean([model.feature_importances_ for model in cb_models], 0)\n",
    "    df_imp = pd.DataFrame({\"feature\": model.feature_names_, \"importance\": importances}).sort_values(\"importance\").reset_index(drop=True)\n",
    "\n",
    "    plt.figure(figsize=(16, 12))\n",
    "    plt.barh(df_imp[\"feature\"], df_imp[\"importance\"])\n",
    "    plt.show()"
   ]
  },
  {
   "cell_type": "markdown",
   "id": "ad456b6b",
   "metadata": {
    "papermill": {
     "duration": 0.012355,
     "end_time": "2024-08-12T14:57:11.039092",
     "exception": false,
     "start_time": "2024-08-12T14:57:11.026737",
     "status": "completed"
    },
    "tags": []
   },
   "source": [
    "# Ensembling"
   ]
  },
  {
   "cell_type": "code",
   "execution_count": 19,
   "id": "3bc353b3",
   "metadata": {
    "execution": {
     "iopub.execute_input": "2024-08-12T14:57:11.065996Z",
     "iopub.status.busy": "2024-08-12T14:57:11.065190Z",
     "iopub.status.idle": "2024-08-12T14:57:11.074538Z",
     "shell.execute_reply": "2024-08-12T14:57:11.073615Z"
    },
    "papermill": {
     "duration": 0.024974,
     "end_time": "2024-08-12T14:57:11.076514",
     "exception": false,
     "start_time": "2024-08-12T14:57:11.051540",
     "status": "completed"
    },
    "tags": []
   },
   "outputs": [],
   "source": [
    "X_cat = category_encoder.transform(df_test[cat_cols])\n",
    "for c, cat_col in enumerate(cat_cols):\n",
    "    df_test[cat_col] = X_cat[:, c]"
   ]
  },
  {
   "cell_type": "code",
   "execution_count": 20,
   "id": "e1d2b79b",
   "metadata": {
    "execution": {
     "iopub.execute_input": "2024-08-12T14:57:11.103512Z",
     "iopub.status.busy": "2024-08-12T14:57:11.102855Z",
     "iopub.status.idle": "2024-08-12T14:57:11.130222Z",
     "shell.execute_reply": "2024-08-12T14:57:11.128944Z"
    },
    "papermill": {
     "duration": 0.043566,
     "end_time": "2024-08-12T14:57:11.132536",
     "exception": false,
     "start_time": "2024-08-12T14:57:11.088970",
     "status": "completed"
    },
    "tags": []
   },
   "outputs": [],
   "source": [
    "\n",
    "\n",
    "\n",
    "df_3 = pd.read_csv(\"submission_image3.csv\")\n",
    "df_test[\"target_3\"] = df_3[\"target\"]\n",
    "\n",
    "df_6 = pd.read_csv(\"/kaggle/input/nextvit/submission.csv\")\n",
    "df_test[\"target_nexnetv1b0\"] = df_6[\"target\"]\n",
    "df_7 = pd.read_csv(\"/kaggle/input/selecsls42b-in1k-drop/submission.csv\")\n",
    "df_test[\"target_selnetv1b0\"] = df_7[\"target\"]\n",
    "\n",
    "df_eff = pd.read_csv(\"submission_effnetv1b0.csv\")\n",
    "df_test[\"target_effnetv1b0\"] = df_eff[\"target\"]\n",
    "\n",
    "\n",
    "\n",
    "# ~ + ~ ~ + ~ ~ + ~ ~ + ~ ~ + ~ ~ + ~ ~ + ~ ~ + ~ ~ + ~ ~ + ~\n",
    "# approximately the same FE does not give anything yet the correct\n",
    "# one asks to add one or more parallel lines\n",
    "# ~ + ~ ~ + ~ ~ + ~ ~ + ~ ~ + ~ ~ + ~ ~ + ~ ~ + ~ ~ + ~ ~ + ~\n",
    "\n",
    "\n"
   ]
  },
  {
   "cell_type": "code",
   "execution_count": 21,
   "id": "23c0eb9b",
   "metadata": {
    "execution": {
     "iopub.execute_input": "2024-08-12T14:57:11.159641Z",
     "iopub.status.busy": "2024-08-12T14:57:11.159293Z",
     "iopub.status.idle": "2024-08-12T14:57:11.257477Z",
     "shell.execute_reply": "2024-08-12T14:57:11.256625Z"
    },
    "papermill": {
     "duration": 0.114782,
     "end_time": "2024-08-12T14:57:11.260107",
     "exception": false,
     "start_time": "2024-08-12T14:57:11.145325",
     "status": "completed"
    },
    "tags": []
   },
   "outputs": [],
   "source": [
    "lgb_preds = np.mean([model.predict_proba(df_test[train_cols])[:, 1] for model in lgb_models], 0)\n",
    "cb_preds  = np.mean([model.predict_proba(df_test[train_cols])[:, 1] for model in cb_models],  0)\n",
    "\n",
    "# preds = lgb_preds * 0.70 + cb_preds * 0.30 # preds = lgb_preds * 0.555 + cb_preds * 0.445\n",
    "preds = lgb_preds * 0.147 + cb_preds * 0.853 # preds = lgb_preds * 0.555 + cb_preds * 0.445"
   ]
  },
  {
   "cell_type": "code",
   "execution_count": 22,
   "id": "53f9ef7f",
   "metadata": {
    "execution": {
     "iopub.execute_input": "2024-08-12T14:57:11.287374Z",
     "iopub.status.busy": "2024-08-12T14:57:11.286759Z",
     "iopub.status.idle": "2024-08-12T14:57:11.296079Z",
     "shell.execute_reply": "2024-08-12T14:57:11.295124Z"
    },
    "papermill": {
     "duration": 0.025451,
     "end_time": "2024-08-12T14:57:11.298207",
     "exception": false,
     "start_time": "2024-08-12T14:57:11.272756",
     "status": "completed"
    },
    "tags": []
   },
   "outputs": [],
   "source": [
    "\n",
    "df_sub = pd.read_csv(\"/kaggle/input/isic-2024-challenge/sample_submission.csv\")\n",
    "df_sub[\"target\"] = preds\n",
    "df_sub.to_csv(\"submission.csv\", index=False)"
   ]
  }
 ],
 "metadata": {
  "kaggle": {
   "accelerator": "gpu",
   "dataSources": [
    {
     "databundleVersionId": 9094797,
     "sourceId": 63056,
     "sourceType": "competition"
    },
    {
     "datasetId": 5406640,
     "sourceId": 8982084,
     "sourceType": "datasetVersion"
    },
    {
     "datasetId": 5415918,
     "sourceId": 8991790,
     "sourceType": "datasetVersion"
    },
    {
     "sourceId": 186147615,
     "sourceType": "kernelVersion"
    },
    {
     "sourceId": 188543089,
     "sourceType": "kernelVersion"
    },
    {
     "sourceId": 188602899,
     "sourceType": "kernelVersion"
    },
    {
     "sourceId": 190679535,
     "sourceType": "kernelVersion"
    },
    {
     "sourceId": 190704600,
     "sourceType": "kernelVersion"
    }
   ],
   "dockerImageVersionId": 30733,
   "isGpuEnabled": true,
   "isInternetEnabled": false,
   "language": "python",
   "sourceType": "notebook"
  },
  "kernelspec": {
   "display_name": "Python 3",
   "language": "python",
   "name": "python3"
  },
  "language_info": {
   "codemirror_mode": {
    "name": "ipython",
    "version": 3
   },
   "file_extension": ".py",
   "mimetype": "text/x-python",
   "name": "python",
   "nbconvert_exporter": "python",
   "pygments_lexer": "ipython3",
   "version": "3.10.13"
  },
  "papermill": {
   "default_parameters": {},
   "duration": 383.753346,
   "end_time": "2024-08-12T14:57:12.332565",
   "environment_variables": {},
   "exception": null,
   "input_path": "__notebook__.ipynb",
   "output_path": "__notebook__.ipynb",
   "parameters": {},
   "start_time": "2024-08-12T14:50:48.579219",
   "version": "2.5.0"
  }
 },
 "nbformat": 4,
 "nbformat_minor": 5
}
