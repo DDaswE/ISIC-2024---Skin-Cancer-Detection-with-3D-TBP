{
 "cells": [
  {
   "cell_type": "code",
   "execution_count": 1,
   "id": "e658e78f",
   "metadata": {
    "execution": {
     "iopub.execute_input": "2024-09-02T05:51:54.659547Z",
     "iopub.status.busy": "2024-09-02T05:51:54.659189Z",
     "iopub.status.idle": "2024-09-02T05:51:55.397969Z",
     "shell.execute_reply": "2024-09-02T05:51:55.397015Z"
    },
    "papermill": {
     "duration": 0.745556,
     "end_time": "2024-09-02T05:51:55.400341",
     "exception": false,
     "start_time": "2024-09-02T05:51:54.654785",
     "status": "completed"
    },
    "tags": []
   },
   "outputs": [],
   "source": [
    "import numpy as np\n",
    "import pandas as pd\n",
    "import pandas.api.types\n",
    "import matplotlib.pyplot as plt\n",
    "\n",
    "import os"
   ]
  },
  {
   "cell_type": "markdown",
   "id": "597d0e8a",
   "metadata": {
    "papermill": {
     "duration": 0.002374,
     "end_time": "2024-09-02T05:51:55.405613",
     "exception": false,
     "start_time": "2024-09-02T05:51:55.403239",
     "status": "completed"
    },
    "tags": []
   },
   "source": [
    "# Submit!"
   ]
  },
  {
   "cell_type": "code",
   "execution_count": 2,
   "id": "249c6d4f",
   "metadata": {
    "execution": {
     "iopub.execute_input": "2024-09-02T05:51:55.411921Z",
     "iopub.status.busy": "2024-09-02T05:51:55.411497Z",
     "iopub.status.idle": "2024-09-02T05:53:27.398333Z",
     "shell.execute_reply": "2024-09-02T05:53:27.397306Z"
    },
    "papermill": {
     "duration": 91.992633,
     "end_time": "2024-09-02T05:53:27.400654",
     "exception": false,
     "start_time": "2024-09-02T05:51:55.408021",
     "status": "completed"
    },
    "tags": []
   },
   "outputs": [
    {
     "name": "stderr",
     "output_type": "stream",
     "text": [
      "/kaggle/input/cynfiles1/g1.py:26: DtypeWarning: Columns (51,52) have mixed types. Specify dtype option on import or set low_memory=False.\n",
      "  df_train = pd.read_csv(\"/kaggle/input/isic-2024-challenge/train-metadata.csv\")\n"
     ]
    },
    {
     "name": "stdout",
     "output_type": "stream",
     "text": [
      "0.033509200474753593 0.0995406136694914\n",
      "0.03683791091277631 0.10641130182047036\n",
      "0.028313236165009276 0.09411041481567425\n",
      "Before adjust pauc: 0.1519896890760852\n",
      "\n",
      "Final results:\n",
      "   imagenet_predict  target\n",
      "0          0.004540       0\n",
      "1          0.336332       0\n",
      "2          0.000932       0\n",
      "3          0.002170       0\n",
      "4          0.012330       0\n",
      "After adjust pauc: 0.1519896890760852\n",
      "Using device: cuda\n"
     ]
    },
    {
     "name": "stderr",
     "output_type": "stream",
     "text": [
      "Predicting: 100%|██████████| 1/1 [00:00<00:00,  1.03it/s]\n",
      "Predicting: 100%|██████████| 1/1 [00:00<00:00,  3.90it/s]\n",
      "Predicting: 100%|██████████| 1/1 [00:00<00:00,  5.05it/s]\n",
      "/opt/conda/lib/python3.10/site-packages/lightgbm/engine.py:172: UserWarning: Found `n_estimators` in params. Will use it instead of argument\n",
      "  _log_warning(f\"Found `{alias}` in params. Will use it instead of argument\")\n",
      "/opt/conda/lib/python3.10/site-packages/lightgbm/engine.py:172: UserWarning: Found `n_estimators` in params. Will use it instead of argument\n",
      "  _log_warning(f\"Found `{alias}` in params. Will use it instead of argument\")\n",
      "/opt/conda/lib/python3.10/site-packages/lightgbm/engine.py:172: UserWarning: Found `n_estimators` in params. Will use it instead of argument\n",
      "  _log_warning(f\"Found `{alias}` in params. Will use it instead of argument\")\n",
      "/opt/conda/lib/python3.10/site-packages/lightgbm/engine.py:172: UserWarning: Found `n_estimators` in params. Will use it instead of argument\n",
      "  _log_warning(f\"Found `{alias}` in params. Will use it instead of argument\")\n",
      "/opt/conda/lib/python3.10/site-packages/lightgbm/engine.py:172: UserWarning: Found `n_estimators` in params. Will use it instead of argument\n",
      "  _log_warning(f\"Found `{alias}` in params. Will use it instead of argument\")\n"
     ]
    },
    {
     "name": "stdout",
     "output_type": "stream",
     "text": [
      "0    0.004590\n",
      "1    0.001432\n",
      "2    0.001337\n",
      "Name: imagenet_predict, dtype: float32\n",
      "Updated train_cols: ['age_approx', 'clin_size_long_diam_mm', 'tbp_lv_Aext', 'tbp_lv_Cext', 'tbp_lv_L', 'tbp_lv_Lext', 'tbp_lv_areaMM2', 'tbp_lv_area_perim_ratio', 'tbp_lv_color_std_mean', 'tbp_lv_deltaL', 'tbp_lv_deltaLB', 'tbp_lv_deltaLBnorm', 'tbp_lv_eccentricity', 'tbp_lv_nevi_confidence', 'tbp_lv_norm_border', 'tbp_lv_norm_color', 'tbp_lv_radial_color_std_max', 'tbp_lv_stdL', 'tbp_lv_stdLExt', 'tbp_lv_symm_2axis', 'tbp_lv_symm_2axis_angle', 'tbp_lv_x', 'tbp_lv_y', 'tbp_lv_z', 'imagenet_predict', 'lesion_size_ratio', 'lesion_shape_index', 'luminance_contrast', 'lesion_color_difference', 'border_complexity', 'color_uniformity', '3d_position_distance', 'lesion_visibility_score', 'symmetry_border_consistency', 'color_consistency', 'size_age_interaction', 'lesion_severity_index', 'color_contrast_index', 'std_dev_contrast', 'color_shape_composite_index', '3d_lesion_orientation', 'overall_color_difference', 'symmetry_perimeter_interaction', 'asymmetry_ratio', 'color_variation_intensity', 'color_contrast_ratio', 'shape_irregularity', 'border_density', 'size_age_ratio', 'area_diameter_ratio', '3d_position_norm', '3d_position_angle_xy', '3d_position_angle_xz', 'lab_chroma', 'texture_contrast', 'color_difference_AB', 'color_difference_total', 'anatom_site_encoded', 'sex', 'tbp_tile_type', 'tbp_lv_location', 'tbp_lv_location_simple', 'combined_anatomical_site', 'location_size_interaction', 'location_age_interaction']\n",
      "Iteration 0, Current pAUC: 0.11058\n",
      "Iteration 50, Current pAUC: 0.17616\n",
      "Completed without early stopping\n",
      "Using best model from iteration 50\n",
      "Fold 0 / Partial AUC Score: 0.17616\n",
      "Iteration 0, Current pAUC: 0.13787\n",
      "Iteration 50, Current pAUC: 0.15531\n",
      "[LightGBM] [Warning] No further splits with positive gain, best gain: -inf\n",
      "Completed without early stopping\n",
      "Using best model from iteration 50\n",
      "Fold 1 / Partial AUC Score: 0.15531\n",
      "Iteration 0, Current pAUC: 0.12539\n",
      "Iteration 50, Current pAUC: 0.17327\n",
      "Completed without early stopping\n",
      "Using best model from iteration 50\n",
      "Fold 2 / Partial AUC Score: 0.17327\n",
      "Iteration 0, Current pAUC: 0.13220\n",
      "Iteration 50, Current pAUC: 0.15928\n",
      "Completed without early stopping\n",
      "Using best model from iteration 50\n",
      "Fold 3 / Partial AUC Score: 0.15928\n",
      "Iteration 0, Current pAUC: 0.15489\n",
      "[LightGBM] [Warning] No further splits with positive gain, best gain: -inf\n",
      "Iteration 50, Current pAUC: 0.16218\n",
      "Completed without early stopping\n",
      "Using best model from iteration 50\n",
      "Fold 4 / Partial AUC Score: 0.16218\n",
      "\n",
      "Average pAUC: 0.16523937834589142\n",
      "                        feature    importance\n",
      "0              imagenet_predict  1.936509e+06\n",
      "1                tbp_lv_areaMM2  3.938063e+05\n",
      "2        clin_size_long_diam_mm  2.771966e+05\n",
      "3        tbp_lv_nevi_confidence  1.346903e+05\n",
      "4                size_age_ratio  1.060380e+05\n",
      "5         lesion_severity_index  7.698699e+04\n",
      "6                   tbp_lv_Aext  5.980296e+04\n",
      "7       lesion_color_difference  5.829723e+04\n",
      "8              color_uniformity  5.430471e+04\n",
      "9     location_size_interaction  5.092784e+04\n",
      "10            tbp_lv_norm_color  3.807243e+04\n",
      "11                     tbp_lv_y  3.762916e+04\n",
      "12          color_difference_AB  3.615891e+04\n",
      "13           tbp_lv_deltaLBnorm  3.580768e+04\n",
      "14               tbp_lv_stdLExt  3.410945e+04\n",
      "15         size_age_interaction  3.317539e+04\n",
      "16                  tbp_lv_Lext  3.222973e+04\n",
      "17     location_age_interaction  3.151459e+04\n",
      "18     overall_color_difference  3.146737e+04\n",
      "19         3d_position_distance  3.088440e+04\n",
      "20                   age_approx  3.015664e+04\n",
      "21         color_contrast_index  2.845877e+04\n",
      "22              tbp_lv_location  2.727111e+04\n",
      "23                tbp_tile_type  2.725560e+04\n",
      "24              asymmetry_ratio  2.571588e+04\n",
      "25             std_dev_contrast  2.437039e+04\n",
      "26          tbp_lv_eccentricity  2.271876e+04\n",
      "27  tbp_lv_radial_color_std_max  2.194993e+04\n",
      "28               border_density  2.125041e+04\n",
      "29      lesion_visibility_score  2.096528e+04\n",
      "Models saved in saved_models\n"
     ]
    },
    {
     "data": {
      "text/plain": [
       "0"
      ]
     },
     "execution_count": 2,
     "metadata": {},
     "output_type": "execute_result"
    }
   ],
   "source": [
    "os.system('python /kaggle/input/cynfiles1/g1.py --p cynpth1')"
   ]
  },
  {
   "cell_type": "code",
   "execution_count": 3,
   "id": "2008d6b3",
   "metadata": {
    "execution": {
     "iopub.execute_input": "2024-09-02T05:53:27.409999Z",
     "iopub.status.busy": "2024-09-02T05:53:27.409678Z",
     "iopub.status.idle": "2024-09-02T05:55:39.903512Z",
     "shell.execute_reply": "2024-09-02T05:55:39.902583Z"
    },
    "papermill": {
     "duration": 132.500833,
     "end_time": "2024-09-02T05:55:39.905637",
     "exception": false,
     "start_time": "2024-09-02T05:53:27.404804",
     "status": "completed"
    },
    "tags": []
   },
   "outputs": [
    {
     "name": "stderr",
     "output_type": "stream",
     "text": [
      "/opt/conda/lib/python3.10/site-packages/lightgbm/engine.py:172: UserWarning: Found `n_iter` in params. Will use it instead of argument\n",
      "  _log_warning(f\"Found `{alias}` in params. Will use it instead of argument\")\n",
      "/opt/conda/lib/python3.10/site-packages/lightgbm/engine.py:172: UserWarning: Found `n_iter` in params. Will use it instead of argument\n",
      "  _log_warning(f\"Found `{alias}` in params. Will use it instead of argument\")\n",
      "/opt/conda/lib/python3.10/site-packages/lightgbm/engine.py:172: UserWarning: Found `n_iter` in params. Will use it instead of argument\n",
      "  _log_warning(f\"Found `{alias}` in params. Will use it instead of argument\")\n",
      "/opt/conda/lib/python3.10/site-packages/lightgbm/engine.py:172: UserWarning: Found `n_iter` in params. Will use it instead of argument\n",
      "  _log_warning(f\"Found `{alias}` in params. Will use it instead of argument\")\n",
      "/opt/conda/lib/python3.10/site-packages/lightgbm/engine.py:172: UserWarning: Found `n_iter` in params. Will use it instead of argument\n",
      "  _log_warning(f\"Found `{alias}` in params. Will use it instead of argument\")\n",
      "/opt/conda/lib/python3.10/site-packages/lightgbm/engine.py:172: UserWarning: Found `n_iter` in params. Will use it instead of argument\n",
      "  _log_warning(f\"Found `{alias}` in params. Will use it instead of argument\")\n"
     ]
    },
    {
     "data": {
      "text/plain": [
       "0"
      ]
     },
     "execution_count": 3,
     "metadata": {},
     "output_type": "execute_result"
    }
   ],
   "source": [
    "def get_environment_variable(key):\n",
    "    return os.environ.get(key)\n",
    "\n",
    "os.system('python /kaggle/input/cynfiles1/g2.py')"
   ]
  },
  {
   "cell_type": "code",
   "execution_count": 4,
   "id": "203d11bc",
   "metadata": {
    "execution": {
     "iopub.execute_input": "2024-09-02T05:55:39.916839Z",
     "iopub.status.busy": "2024-09-02T05:55:39.916526Z",
     "iopub.status.idle": "2024-09-02T05:55:42.112800Z",
     "shell.execute_reply": "2024-09-02T05:55:42.111647Z"
    },
    "papermill": {
     "duration": 2.204374,
     "end_time": "2024-09-02T05:55:42.115222",
     "exception": false,
     "start_time": "2024-09-02T05:55:39.910848",
     "status": "completed"
    },
    "tags": []
   },
   "outputs": [
    {
     "name": "stdout",
     "output_type": "stream",
     "text": [
      "1.02828859 0.9717114099999999\r\n"
     ]
    }
   ],
   "source": [
    "def manage_downloads():\n",
    "    threads = [\n",
    "        DownloadThread(\"http://example.com/image1.png\", \"image1.png\"),\n",
    "        DownloadThread(\"http://example.com/image2.png\", \"image2.png\")\n",
    "    ]\n",
    "    for thread in threads:\n",
    "        thread.start()\n",
    "    for thread in threads:\n",
    "        thread.join()\n",
    "\n",
    "!python /kaggle/input/cynfiles1/ens.py --p 1.02828859"
   ]
  },
  {
   "cell_type": "code",
   "execution_count": null,
   "id": "068b6eb9",
   "metadata": {
    "papermill": {
     "duration": 0.004242,
     "end_time": "2024-09-02T05:55:42.124128",
     "exception": false,
     "start_time": "2024-09-02T05:55:42.119886",
     "status": "completed"
    },
    "tags": []
   },
   "outputs": [],
   "source": []
  }
 ],
 "metadata": {
  "kaggle": {
   "accelerator": "gpu",
   "dataSources": [
    {
     "databundleVersionId": 9094797,
     "sourceId": 63056,
     "sourceType": "competition"
    },
    {
     "sourceId": 193364151,
     "sourceType": "kernelVersion"
    },
    {
     "sourceId": 194884806,
     "sourceType": "kernelVersion"
    },
    {
     "sourceId": 194885112,
     "sourceType": "kernelVersion"
    }
   ],
   "dockerImageVersionId": 30747,
   "isGpuEnabled": true,
   "isInternetEnabled": false,
   "language": "python",
   "sourceType": "notebook"
  },
  "kernelspec": {
   "display_name": "Python 3",
   "language": "python",
   "name": "python3"
  },
  "language_info": {
   "codemirror_mode": {
    "name": "ipython",
    "version": 3
   },
   "file_extension": ".py",
   "mimetype": "text/x-python",
   "name": "python",
   "nbconvert_exporter": "python",
   "pygments_lexer": "ipython3",
   "version": "3.10.13"
  },
  "papermill": {
   "default_parameters": {},
   "duration": 230.699363,
   "end_time": "2024-09-02T05:55:42.548110",
   "environment_variables": {},
   "exception": null,
   "input_path": "__notebook__.ipynb",
   "output_path": "__notebook__.ipynb",
   "parameters": {},
   "start_time": "2024-09-02T05:51:51.848747",
   "version": "2.5.0"
  }
 },
 "nbformat": 4,
 "nbformat_minor": 5
}
