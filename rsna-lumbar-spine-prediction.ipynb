{
 "cells": [
  {
   "cell_type": "markdown",
   "id": "e9e5ae6e",
   "metadata": {
    "papermill": {
     "duration": 0.007444,
     "end_time": "2024-09-10T02:37:16.875379",
     "exception": false,
     "start_time": "2024-09-10T02:37:16.867935",
     "status": "completed"
    },
    "tags": []
   },
   "source": [
    "## Import the Libraries"
   ]
  },
  {
   "cell_type": "code",
   "execution_count": 1,
   "id": "7eaf4491",
   "metadata": {
    "execution": {
     "iopub.execute_input": "2024-09-10T02:37:16.891103Z",
     "iopub.status.busy": "2024-09-10T02:37:16.890702Z",
     "iopub.status.idle": "2024-09-10T02:37:46.915307Z",
     "shell.execute_reply": "2024-09-10T02:37:46.914334Z"
    },
    "papermill": {
     "duration": 30.042145,
     "end_time": "2024-09-10T02:37:46.924611",
     "exception": false,
     "start_time": "2024-09-10T02:37:16.882466",
     "status": "completed"
    },
    "tags": []
   },
   "outputs": [
    {
     "name": "stderr",
     "output_type": "stream",
     "text": [
      "/opt/conda/lib/python3.10/site-packages/albumentations/check_version.py:49: UserWarning: Error fetching version info <urlopen error [Errno -3] Temporary failure in name resolution>\n",
      "  data = fetch_version_info()\n"
     ]
    }
   ],
   "source": [
    "import os\n",
    "import gc\n",
    "import sys\n",
    "from PIL import Image\n",
    "import cv2\n",
    "import math, random\n",
    "import numpy as np\n",
    "import pandas as pd\n",
    "from glob import glob\n",
    "from tqdm import tqdm\n",
    "import matplotlib.pyplot as plt\n",
    "from sklearn.model_selection import KFold\n",
    "\n",
    "from collections import OrderedDict\n",
    "\n",
    "import torch\n",
    "import torch.nn.functional as F\n",
    "from torch import nn\n",
    "from torch.utils.data import DataLoader, Dataset\n",
    "from torch.optim import AdamW\n",
    "\n",
    "import timm\n",
    "from timm.utils import ModelEmaV2\n",
    "from transformers import get_cosine_schedule_with_warmup\n",
    "\n",
    "import albumentations as A\n",
    "\n",
    "from sklearn.model_selection import KFold\n",
    "\n",
    "import re\n",
    "import pydicom\n",
    "from typing import Optional\n",
    "import glob"
   ]
  },
  {
   "cell_type": "markdown",
   "id": "f02561e1",
   "metadata": {
    "papermill": {
     "duration": 0.006486,
     "end_time": "2024-09-10T02:37:46.938100",
     "exception": false,
     "start_time": "2024-09-10T02:37:46.931614",
     "status": "completed"
    },
    "tags": []
   },
   "source": [
    "## Load & Edit The Data"
   ]
  },
  {
   "cell_type": "code",
   "execution_count": 2,
   "id": "1b24e862",
   "metadata": {
    "execution": {
     "iopub.execute_input": "2024-09-10T02:37:46.953371Z",
     "iopub.status.busy": "2024-09-10T02:37:46.952825Z",
     "iopub.status.idle": "2024-09-10T02:37:47.017393Z",
     "shell.execute_reply": "2024-09-10T02:37:47.016405Z"
    },
    "papermill": {
     "duration": 0.074612,
     "end_time": "2024-09-10T02:37:47.019459",
     "exception": false,
     "start_time": "2024-09-10T02:37:46.944847",
     "status": "completed"
    },
    "tags": []
   },
   "outputs": [],
   "source": [
    "rd = '/kaggle/input/rsna-2024-lumbar-spine-degenerative-classification'\n",
    "OUTPUT_DIR = f'/kaggle/input/rsna2024-lsdc-training-baseline/rsna24-results'\n",
    "device = 'cuda:0' if torch.cuda.is_available() else 'cpu'"
   ]
  },
  {
   "cell_type": "code",
   "execution_count": 3,
   "id": "1f1ba7b9",
   "metadata": {
    "execution": {
     "iopub.execute_input": "2024-09-10T02:37:47.035069Z",
     "iopub.status.busy": "2024-09-10T02:37:47.034706Z",
     "iopub.status.idle": "2024-09-10T02:37:47.040606Z",
     "shell.execute_reply": "2024-09-10T02:37:47.039749Z"
    },
    "papermill": {
     "duration": 0.016195,
     "end_time": "2024-09-10T02:37:47.042710",
     "exception": false,
     "start_time": "2024-09-10T02:37:47.026515",
     "status": "completed"
    },
    "tags": []
   },
   "outputs": [],
   "source": [
    "# Configuration\n",
    "EXP_NO = \"006\"\n",
    "MODEL_DIR = f\"/kaggle/input/rsna24-a-{EXP_NO}\"\n",
    "MODEL_NAME = \"tf_efficientnet_b5.ns_jft_in1k\"\n",
    "\n",
    "device = 'cuda:0' if torch.cuda.is_available() else 'cpu'\n",
    "N_WORKERS = os.cpu_count()\n",
    "USE_AMP = True\n",
    "SEED = 42\n",
    "NUM_FOLDS = 5\n",
    "\n",
    "\n",
    "IMG_SIZE = [512, 512]\n",
    "IN_CHANS = 30\n",
    "N_LABELS = 25\n",
    "N_CLASSES = 3 * N_LABELS\n",
    "\n",
    "BATCH_SIZE = 1"
   ]
  },
  {
   "cell_type": "code",
   "execution_count": 4,
   "id": "5ef74b55",
   "metadata": {
    "execution": {
     "iopub.execute_input": "2024-09-10T02:37:47.058198Z",
     "iopub.status.busy": "2024-09-10T02:37:47.057639Z",
     "iopub.status.idle": "2024-09-10T02:37:47.065299Z",
     "shell.execute_reply": "2024-09-10T02:37:47.064420Z"
    },
    "papermill": {
     "duration": 0.017525,
     "end_time": "2024-09-10T02:37:47.067354",
     "exception": false,
     "start_time": "2024-09-10T02:37:47.049829",
     "status": "completed"
    },
    "tags": []
   },
   "outputs": [
    {
     "data": {
      "text/plain": [
       "device(type='cuda', index=0)"
      ]
     },
     "execution_count": 4,
     "metadata": {},
     "output_type": "execute_result"
    }
   ],
   "source": [
    "rd = '/kaggle/input/rsna-2024-lumbar-spine-degenerative-classification'\n",
    "device = torch.device('cuda:0') if torch.cuda.is_available() else torch.device('cpu')\n",
    "device"
   ]
  },
  {
   "cell_type": "code",
   "execution_count": 5,
   "id": "0dee2174",
   "metadata": {
    "execution": {
     "iopub.execute_input": "2024-09-10T02:37:47.082917Z",
     "iopub.status.busy": "2024-09-10T02:37:47.082602Z",
     "iopub.status.idle": "2024-09-10T02:37:47.109271Z",
     "shell.execute_reply": "2024-09-10T02:37:47.108253Z"
    },
    "papermill": {
     "duration": 0.037368,
     "end_time": "2024-09-10T02:37:47.111688",
     "exception": false,
     "start_time": "2024-09-10T02:37:47.074320",
     "status": "completed"
    },
    "tags": []
   },
   "outputs": [
    {
     "data": {
      "text/html": [
       "<div>\n",
       "<style scoped>\n",
       "    .dataframe tbody tr th:only-of-type {\n",
       "        vertical-align: middle;\n",
       "    }\n",
       "\n",
       "    .dataframe tbody tr th {\n",
       "        vertical-align: top;\n",
       "    }\n",
       "\n",
       "    .dataframe thead th {\n",
       "        text-align: right;\n",
       "    }\n",
       "</style>\n",
       "<table border=\"1\" class=\"dataframe\">\n",
       "  <thead>\n",
       "    <tr style=\"text-align: right;\">\n",
       "      <th></th>\n",
       "      <th>study_id</th>\n",
       "      <th>series_id</th>\n",
       "      <th>series_description</th>\n",
       "    </tr>\n",
       "  </thead>\n",
       "  <tbody>\n",
       "    <tr>\n",
       "      <th>0</th>\n",
       "      <td>44036939</td>\n",
       "      <td>2828203845</td>\n",
       "      <td>Sagittal T1</td>\n",
       "    </tr>\n",
       "    <tr>\n",
       "      <th>1</th>\n",
       "      <td>44036939</td>\n",
       "      <td>3481971518</td>\n",
       "      <td>Axial T2</td>\n",
       "    </tr>\n",
       "    <tr>\n",
       "      <th>2</th>\n",
       "      <td>44036939</td>\n",
       "      <td>3844393089</td>\n",
       "      <td>Sagittal T2/STIR</td>\n",
       "    </tr>\n",
       "  </tbody>\n",
       "</table>\n",
       "</div>"
      ],
      "text/plain": [
       "   study_id   series_id series_description\n",
       "0  44036939  2828203845        Sagittal T1\n",
       "1  44036939  3481971518           Axial T2\n",
       "2  44036939  3844393089   Sagittal T2/STIR"
      ]
     },
     "execution_count": 5,
     "metadata": {},
     "output_type": "execute_result"
    }
   ],
   "source": [
    "df = pd.read_csv(f'{rd}/test_series_descriptions.csv')\n",
    "df.head()"
   ]
  },
  {
   "cell_type": "code",
   "execution_count": 6,
   "id": "c1aad983",
   "metadata": {
    "execution": {
     "iopub.execute_input": "2024-09-10T02:37:47.128790Z",
     "iopub.status.busy": "2024-09-10T02:37:47.128458Z",
     "iopub.status.idle": "2024-09-10T02:37:47.138304Z",
     "shell.execute_reply": "2024-09-10T02:37:47.137412Z"
    },
    "papermill": {
     "duration": 0.02003,
     "end_time": "2024-09-10T02:37:47.140208",
     "exception": false,
     "start_time": "2024-09-10T02:37:47.120178",
     "status": "completed"
    },
    "tags": []
   },
   "outputs": [],
   "source": [
    "study_ids = list(df['study_id'].unique())"
   ]
  },
  {
   "cell_type": "code",
   "execution_count": 7,
   "id": "34ff94b1",
   "metadata": {
    "execution": {
     "iopub.execute_input": "2024-09-10T02:37:47.156043Z",
     "iopub.status.busy": "2024-09-10T02:37:47.155740Z",
     "iopub.status.idle": "2024-09-10T02:37:47.163860Z",
     "shell.execute_reply": "2024-09-10T02:37:47.162887Z"
    },
    "papermill": {
     "duration": 0.018372,
     "end_time": "2024-09-10T02:37:47.165833",
     "exception": false,
     "start_time": "2024-09-10T02:37:47.147461",
     "status": "completed"
    },
    "tags": []
   },
   "outputs": [],
   "source": [
    "sample_sub = pd.read_csv(f'{rd}/sample_submission.csv')"
   ]
  },
  {
   "cell_type": "code",
   "execution_count": 8,
   "id": "27414804",
   "metadata": {
    "execution": {
     "iopub.execute_input": "2024-09-10T02:37:47.181242Z",
     "iopub.status.busy": "2024-09-10T02:37:47.180950Z",
     "iopub.status.idle": "2024-09-10T02:37:47.186588Z",
     "shell.execute_reply": "2024-09-10T02:37:47.185697Z"
    },
    "papermill": {
     "duration": 0.015752,
     "end_time": "2024-09-10T02:37:47.188730",
     "exception": false,
     "start_time": "2024-09-10T02:37:47.172978",
     "status": "completed"
    },
    "tags": []
   },
   "outputs": [
    {
     "data": {
      "text/plain": [
       "['normal_mild', 'moderate', 'severe']"
      ]
     },
     "execution_count": 8,
     "metadata": {},
     "output_type": "execute_result"
    }
   ],
   "source": [
    "LABELS = list(sample_sub.columns[1:])\n",
    "LABELS"
   ]
  },
  {
   "cell_type": "code",
   "execution_count": 9,
   "id": "c9aa55a2",
   "metadata": {
    "execution": {
     "iopub.execute_input": "2024-09-10T02:37:47.204476Z",
     "iopub.status.busy": "2024-09-10T02:37:47.204207Z",
     "iopub.status.idle": "2024-09-10T02:37:47.208576Z",
     "shell.execute_reply": "2024-09-10T02:37:47.207723Z"
    },
    "papermill": {
     "duration": 0.014537,
     "end_time": "2024-09-10T02:37:47.210627",
     "exception": false,
     "start_time": "2024-09-10T02:37:47.196090",
     "status": "completed"
    },
    "tags": []
   },
   "outputs": [],
   "source": [
    "# Conditions and Levels\n",
    "CONDITIONS = [\n",
    "    'spinal_canal_stenosis', \n",
    "    'left_neural_foraminal_narrowing', \n",
    "    'right_neural_foraminal_narrowing',\n",
    "    'left_subarticular_stenosis',\n",
    "    'right_subarticular_stenosis'\n",
    "]\n",
    "\n",
    "LEVELS = [\n",
    "    'l1_l2',\n",
    "    'l2_l3',\n",
    "    'l3_l4',\n",
    "    'l4_l5',\n",
    "    'l5_s1',\n",
    "]"
   ]
  },
  {
   "cell_type": "code",
   "execution_count": 10,
   "id": "d45e686c",
   "metadata": {
    "execution": {
     "iopub.execute_input": "2024-09-10T02:37:47.226476Z",
     "iopub.status.busy": "2024-09-10T02:37:47.225985Z",
     "iopub.status.idle": "2024-09-10T02:37:47.230798Z",
     "shell.execute_reply": "2024-09-10T02:37:47.229889Z"
    },
    "papermill": {
     "duration": 0.015076,
     "end_time": "2024-09-10T02:37:47.232855",
     "exception": false,
     "start_time": "2024-09-10T02:37:47.217779",
     "status": "completed"
    },
    "tags": []
   },
   "outputs": [],
   "source": [
    "# Helper functions\n",
    "def atoi(text):\n",
    "    return int(text) if text.isdigit() else text\n",
    "\n",
    "def natural_keys(text):\n",
    "    return [ atoi(c) for c in re.split(r'(\\d+)', text) ]"
   ]
  },
  {
   "cell_type": "markdown",
   "id": "0a60df45",
   "metadata": {
    "papermill": {
     "duration": 0.007074,
     "end_time": "2024-09-10T02:37:47.247312",
     "exception": false,
     "start_time": "2024-09-10T02:37:47.240238",
     "status": "completed"
    },
    "tags": []
   },
   "source": [
    "## Feature Engineering"
   ]
  },
  {
   "cell_type": "code",
   "execution_count": 11,
   "id": "fe3a533f",
   "metadata": {
    "execution": {
     "iopub.execute_input": "2024-09-10T02:37:47.263215Z",
     "iopub.status.busy": "2024-09-10T02:37:47.262923Z",
     "iopub.status.idle": "2024-09-10T02:37:47.283239Z",
     "shell.execute_reply": "2024-09-10T02:37:47.282399Z"
    },
    "papermill": {
     "duration": 0.030674,
     "end_time": "2024-09-10T02:37:47.285097",
     "exception": false,
     "start_time": "2024-09-10T02:37:47.254423",
     "status": "completed"
    },
    "tags": []
   },
   "outputs": [],
   "source": [
    "class RSNA24TestDataset(Dataset):\n",
    "    def __init__(self, df, study_ids, phase='test', transform=None):\n",
    "        self.df = df\n",
    "        self.study_ids = study_ids\n",
    "        self.transform = transform\n",
    "        self.phase = phase\n",
    "    \n",
    "    def __len__(self):\n",
    "        return len(self.study_ids)\n",
    "    \n",
    "    def get_img_paths(self, study_id, series_desc):\n",
    "        pdf = self.df[self.df['study_id']==study_id]\n",
    "        pdf_ = pdf[pdf['series_description']==series_desc]\n",
    "        allimgs = []\n",
    "        for i, row in pdf_.iterrows():\n",
    "            pimgs = glob.glob(f'{rd}/test_images/{study_id}/{row[\"series_id\"]}/*.dcm')\n",
    "            pimgs = sorted(pimgs, key=natural_keys)\n",
    "            allimgs.extend(pimgs)\n",
    "            \n",
    "        return allimgs\n",
    "    \n",
    "    def read_dcm_ret_arr(self, src_path):\n",
    "        dicom_data = pydicom.dcmread(src_path)\n",
    "        image = dicom_data.pixel_array\n",
    "        image = (image - image.min()) / (image.max() - image.min() + 1e-6) * 255\n",
    "        img = cv2.resize(image, (IMG_SIZE[0], IMG_SIZE[1]),interpolation=cv2.INTER_CUBIC)\n",
    "        assert img.shape==(IMG_SIZE[0], IMG_SIZE[1])\n",
    "        return img\n",
    "\n",
    "    def __getitem__(self, idx):\n",
    "        x = np.zeros((IMG_SIZE[0], IMG_SIZE[1], IN_CHANS), dtype=np.uint8)\n",
    "        st_id = self.study_ids[idx]        \n",
    "        \n",
    "        # Sagittal T1\n",
    "        allimgs_st1 = self.get_img_paths(st_id, 'Sagittal T1')\n",
    "        if len(allimgs_st1)==0:\n",
    "            print(st_id, ': Sagittal T1, has no images')\n",
    "        \n",
    "        else:\n",
    "            step = len(allimgs_st1) / 10.0\n",
    "            st = len(allimgs_st1)/2.0 - 4.0*step\n",
    "            end = len(allimgs_st1)+0.0001\n",
    "            for j, i in enumerate(np.arange(st, end, step)):\n",
    "                try:\n",
    "                    ind2 = max(0, int((i-0.5001).round()))\n",
    "                    img = self.read_dcm_ret_arr(allimgs_st1[ind2])\n",
    "                    x[..., j] = img.astype(np.uint8)\n",
    "                except:\n",
    "                    print(f'failed to load on {st_id}, Sagittal T1')\n",
    "                    pass\n",
    "            \n",
    "        # Sagittal T2/STIR\n",
    "        allimgs_st2 = self.get_img_paths(st_id, 'Sagittal T2/STIR')\n",
    "        if len(allimgs_st2)==0:\n",
    "            print(st_id, ': Sagittal T2/STIR, has no images')\n",
    "            \n",
    "        else:\n",
    "            step = len(allimgs_st2) / 10.0\n",
    "            st = len(allimgs_st2)/2.0 - 4.0*step\n",
    "            end = len(allimgs_st2)+0.0001\n",
    "            for j, i in enumerate(np.arange(st, end, step)):\n",
    "                try:\n",
    "                    ind2 = max(0, int((i-0.5001).round()))\n",
    "                    img = self.read_dcm_ret_arr(allimgs_st2[ind2])\n",
    "                    x[..., j+10] = img.astype(np.uint8)\n",
    "                except:\n",
    "                    print(f'failed to load on {st_id}, Sagittal T2/STIR')\n",
    "                    pass\n",
    "            \n",
    "        # Axial T2\n",
    "        allimgs_at2 = self.get_img_paths(st_id, 'Axial T2')\n",
    "        if len(allimgs_at2)==0:\n",
    "            print(st_id, ': Axial T2, has no images')\n",
    "            \n",
    "        else:\n",
    "            step = len(allimgs_at2) / 10.0\n",
    "            st = len(allimgs_at2)/2.0 - 4.0*step\n",
    "            end = len(allimgs_at2)+0.0001\n",
    "\n",
    "            for j, i in enumerate(np.arange(st, end, step)):\n",
    "                try:\n",
    "                    ind2 = max(0, int((i-0.5001).round()))\n",
    "                    img = self.read_dcm_ret_arr(allimgs_at2[ind2])\n",
    "                    x[..., j+20] = img.astype(np.uint8)\n",
    "                except:\n",
    "                    print(f'failed to load on {st_id}, Axial T2')\n",
    "                    pass  \n",
    "            \n",
    "            \n",
    "        if self.transform is not None:\n",
    "            x = self.transform(image=x)['image']\n",
    "\n",
    "        x = x.transpose(2, 0, 1)\n",
    "                \n",
    "        return x, str(st_id)"
   ]
  },
  {
   "cell_type": "code",
   "execution_count": 12,
   "id": "b0bf97ae",
   "metadata": {
    "execution": {
     "iopub.execute_input": "2024-09-10T02:37:47.300508Z",
     "iopub.status.busy": "2024-09-10T02:37:47.300228Z",
     "iopub.status.idle": "2024-09-10T02:37:47.305371Z",
     "shell.execute_reply": "2024-09-10T02:37:47.304575Z"
    },
    "papermill": {
     "duration": 0.015087,
     "end_time": "2024-09-10T02:37:47.307302",
     "exception": false,
     "start_time": "2024-09-10T02:37:47.292215",
     "status": "completed"
    },
    "tags": []
   },
   "outputs": [],
   "source": [
    "transforms_test = A.Compose([\n",
    "    A.Resize(IMG_SIZE[0], IMG_SIZE[1]),\n",
    "    A.Normalize(mean=0.5, std=0.5)\n",
    "])"
   ]
  },
  {
   "cell_type": "code",
   "execution_count": 13,
   "id": "fdbda185",
   "metadata": {
    "execution": {
     "iopub.execute_input": "2024-09-10T02:37:47.323518Z",
     "iopub.status.busy": "2024-09-10T02:37:47.323249Z",
     "iopub.status.idle": "2024-09-10T02:37:47.328041Z",
     "shell.execute_reply": "2024-09-10T02:37:47.327244Z"
    },
    "papermill": {
     "duration": 0.015534,
     "end_time": "2024-09-10T02:37:47.329985",
     "exception": false,
     "start_time": "2024-09-10T02:37:47.314451",
     "status": "completed"
    },
    "tags": []
   },
   "outputs": [],
   "source": [
    "test_ds = RSNA24TestDataset(df, study_ids, transform=transforms_test)\n",
    "test_dl = DataLoader(\n",
    "    test_ds, \n",
    "    batch_size=1, \n",
    "    shuffle=False,\n",
    "    num_workers=N_WORKERS,\n",
    "    pin_memory=True,\n",
    "    drop_last=False\n",
    ")"
   ]
  },
  {
   "cell_type": "markdown",
   "id": "153e4bdc",
   "metadata": {
    "papermill": {
     "duration": 0.007116,
     "end_time": "2024-09-10T02:37:47.344259",
     "exception": false,
     "start_time": "2024-09-10T02:37:47.337143",
     "status": "completed"
    },
    "tags": []
   },
   "source": [
    "## Build The Model"
   ]
  },
  {
   "cell_type": "code",
   "execution_count": 14,
   "id": "5463b4a3",
   "metadata": {
    "execution": {
     "iopub.execute_input": "2024-09-10T02:37:47.360619Z",
     "iopub.status.busy": "2024-09-10T02:37:47.359978Z",
     "iopub.status.idle": "2024-09-10T02:37:47.368725Z",
     "shell.execute_reply": "2024-09-10T02:37:47.367807Z"
    },
    "papermill": {
     "duration": 0.019153,
     "end_time": "2024-09-10T02:37:47.370672",
     "exception": false,
     "start_time": "2024-09-10T02:37:47.351519",
     "status": "completed"
    },
    "tags": []
   },
   "outputs": [],
   "source": [
    "class RSNA24Model(nn.Module):\n",
    "    def __init__(\n",
    "        self,\n",
    "        model_name: str,\n",
    "        pretrained: bool,\n",
    "        features_only: bool,\n",
    "        in_chans: int,\n",
    "        n_classes: int,\n",
    "        n_labels: int,\n",
    "        loss_name: str,\n",
    "    ):\n",
    "        super().__init__()\n",
    "        self.model = timm.create_model(\n",
    "            model_name=model_name,\n",
    "            pretrained=pretrained, \n",
    "            features_only=features_only,\n",
    "            in_chans=in_chans,\n",
    "            num_classes=n_classes,\n",
    "            global_pool='avg'\n",
    "        )\n",
    "        self.loss_fn = loss_name\n",
    "        self.n_labels = n_labels\n",
    "    \n",
    "    def forward(\n",
    "        self,\n",
    "        x: torch.Tensor,\n",
    "        y: Optional[torch.Tensor],\n",
    "    ) -> dict[str, torch.Tensor]:\n",
    "        \n",
    "        logits = self.model(x)\n",
    "        \n",
    "        output = {\"logits\": logits}\n",
    "        if y is not None:\n",
    "            loss = 0\n",
    "            for col in range(self.n_labels):\n",
    "                pred = logits[:,col*3:col*3+3]\n",
    "                gt = y[:,col]\n",
    "                loss = loss + self.loss_fn(pred, gt) / self.n_labels\n",
    "            output[\"loss\"] = loss\n",
    "        \n",
    "        return output"
   ]
  },
  {
   "cell_type": "code",
   "execution_count": 15,
   "id": "924bed7d",
   "metadata": {
    "execution": {
     "iopub.execute_input": "2024-09-10T02:37:47.386320Z",
     "iopub.status.busy": "2024-09-10T02:37:47.386049Z",
     "iopub.status.idle": "2024-09-10T02:37:47.389873Z",
     "shell.execute_reply": "2024-09-10T02:37:47.389076Z"
    },
    "papermill": {
     "duration": 0.013674,
     "end_time": "2024-09-10T02:37:47.391713",
     "exception": false,
     "start_time": "2024-09-10T02:37:47.378039",
     "status": "completed"
    },
    "tags": []
   },
   "outputs": [],
   "source": [
    "models = []"
   ]
  },
  {
   "cell_type": "code",
   "execution_count": 16,
   "id": "e91c253a",
   "metadata": {
    "execution": {
     "iopub.execute_input": "2024-09-10T02:37:47.407627Z",
     "iopub.status.busy": "2024-09-10T02:37:47.407293Z",
     "iopub.status.idle": "2024-09-10T02:37:57.055331Z",
     "shell.execute_reply": "2024-09-10T02:37:57.054499Z"
    },
    "papermill": {
     "duration": 9.659017,
     "end_time": "2024-09-10T02:37:57.058203",
     "exception": false,
     "start_time": "2024-09-10T02:37:47.399186",
     "status": "completed"
    },
    "tags": []
   },
   "outputs": [
    {
     "name": "stdout",
     "output_type": "stream",
     "text": [
      "loading /kaggle/input/rsna24-a-006/006-0/best_model.pth...\n"
     ]
    },
    {
     "name": "stderr",
     "output_type": "stream",
     "text": [
      "/tmp/ipykernel_24/2537501273.py:6: FutureWarning: You are using `torch.load` with `weights_only=False` (the current default value), which uses the default pickle module implicitly. It is possible to construct malicious pickle data which will execute arbitrary code during unpickling (See https://github.com/pytorch/pytorch/blob/main/SECURITY.md#untrusted-models for more details). In a future release, the default value for `weights_only` will be flipped to `True`. This limits the functions that could be executed during unpickling. Arbitrary objects will no longer be allowed to be loaded via this mode unless they are explicitly allowlisted by the user via `torch.serialization.add_safe_globals`. We recommend you start setting `weights_only=True` for any use case where you don't have full control of the loaded file. Please open an issue on GitHub for any issues related to this experimental feature.\n",
      "  state_dict = torch.load(cp)\n"
     ]
    },
    {
     "name": "stdout",
     "output_type": "stream",
     "text": [
      "loading /kaggle/input/rsna24-a-006/006-1/best_model.pth...\n",
      "loading /kaggle/input/rsna24-a-006/006-2/best_model.pth...\n",
      "loading /kaggle/input/rsna24-a-006/006-3/best_model.pth...\n",
      "loading /kaggle/input/rsna24-a-006/006-4/best_model.pth...\n"
     ]
    }
   ],
   "source": [
    "for i in range(NUM_FOLDS):\n",
    "    cp = f\"{MODEL_DIR}/{EXP_NO}-{i}/best_model.pth\"\n",
    "#     cp = f\"{MODEL_DIR}/best_model.pth\"\n",
    "    print(f'loading {cp}...')\n",
    "    model = RSNA24Model(MODEL_NAME, False, False, IN_CHANS, N_CLASSES, 25, 'dummy')\n",
    "    state_dict = torch.load(cp)\n",
    "\n",
    "    # 予期しないキーを削除\n",
    "    if 'loss_fn.weight' in state_dict:\n",
    "        del state_dict['loss_fn.weight']\n",
    "    model.load_state_dict(state_dict)\n",
    "    model.eval()\n",
    "    model.to(device)\n",
    "    models.append(model)"
   ]
  },
  {
   "cell_type": "code",
   "execution_count": 17,
   "id": "41a17df2",
   "metadata": {
    "execution": {
     "iopub.execute_input": "2024-09-10T02:37:57.076398Z",
     "iopub.status.busy": "2024-09-10T02:37:57.076006Z",
     "iopub.status.idle": "2024-09-10T02:37:59.515340Z",
     "shell.execute_reply": "2024-09-10T02:37:59.514095Z"
    },
    "papermill": {
     "duration": 2.450738,
     "end_time": "2024-09-10T02:37:59.517678",
     "exception": false,
     "start_time": "2024-09-10T02:37:57.066940",
     "status": "completed"
    },
    "tags": []
   },
   "outputs": [
    {
     "name": "stderr",
     "output_type": "stream",
     "text": [
      "/tmp/ipykernel_24/2919596440.py:1: FutureWarning: `torch.cuda.amp.autocast(args...)` is deprecated. Please use `torch.amp.autocast('cuda', args...)` instead.\n",
      "  autocast = torch.cuda.amp.autocast(enabled=USE_AMP, dtype=torch.half)\n",
      "100%|██████████| 1/1 [00:02<00:00,  2.42s/it]\n"
     ]
    }
   ],
   "source": [
    "autocast = torch.cuda.amp.autocast(enabled=USE_AMP, dtype=torch.half)\n",
    "y_preds = []\n",
    "row_names = []\n",
    "\n",
    "with tqdm(test_dl, leave=True) as pbar:\n",
    "    with torch.no_grad():\n",
    "        for idx, (x, si) in enumerate(pbar):\n",
    "            x = x + torch.randn(x.size()) * 0.15\n",
    "            x = x.to(device)\n",
    "            pred_per_study = np.zeros((25, 3))\n",
    "            \n",
    "            for cond in CONDITIONS:\n",
    "                for level in LEVELS:\n",
    "                    row_names.append(si[0] + '_' + cond + '_' + level)\n",
    "            \n",
    "            with autocast:\n",
    "                for m in models:\n",
    "                    y = m(x, None)[\"logits\"][0]\n",
    "                    for col in range(N_LABELS):\n",
    "                        pred = y[col*3:col*3+3]\n",
    "                        y_pred = pred.float().softmax(0).cpu().numpy()\n",
    "                        pred_per_study[col] += y_pred / len(models)\n",
    "                y_preds.append(pred_per_study)\n",
    "\n",
    "y_preds = np.concatenate(y_preds, axis=0)"
   ]
  },
  {
   "cell_type": "markdown",
   "id": "a2495d88",
   "metadata": {
    "papermill": {
     "duration": 0.007902,
     "end_time": "2024-09-10T02:37:59.533913",
     "exception": false,
     "start_time": "2024-09-10T02:37:59.526011",
     "status": "completed"
    },
    "tags": []
   },
   "source": [
    "## Release the output"
   ]
  },
  {
   "cell_type": "code",
   "execution_count": 18,
   "id": "a3edef84",
   "metadata": {
    "execution": {
     "iopub.execute_input": "2024-09-10T02:37:59.551895Z",
     "iopub.status.busy": "2024-09-10T02:37:59.551504Z",
     "iopub.status.idle": "2024-09-10T02:37:59.575564Z",
     "shell.execute_reply": "2024-09-10T02:37:59.574612Z"
    },
    "papermill": {
     "duration": 0.035935,
     "end_time": "2024-09-10T02:37:59.577791",
     "exception": false,
     "start_time": "2024-09-10T02:37:59.541856",
     "status": "completed"
    },
    "tags": []
   },
   "outputs": [
    {
     "data": {
      "text/html": [
       "<div>\n",
       "<style scoped>\n",
       "    .dataframe tbody tr th:only-of-type {\n",
       "        vertical-align: middle;\n",
       "    }\n",
       "\n",
       "    .dataframe tbody tr th {\n",
       "        vertical-align: top;\n",
       "    }\n",
       "\n",
       "    .dataframe thead th {\n",
       "        text-align: right;\n",
       "    }\n",
       "</style>\n",
       "<table border=\"1\" class=\"dataframe\">\n",
       "  <thead>\n",
       "    <tr style=\"text-align: right;\">\n",
       "      <th></th>\n",
       "      <th>row_id</th>\n",
       "      <th>normal_mild</th>\n",
       "      <th>moderate</th>\n",
       "      <th>severe</th>\n",
       "    </tr>\n",
       "  </thead>\n",
       "  <tbody>\n",
       "    <tr>\n",
       "      <th>0</th>\n",
       "      <td>44036939_spinal_canal_stenosis_l1_l2</td>\n",
       "      <td>0.324835</td>\n",
       "      <td>0.371123</td>\n",
       "      <td>0.304042</td>\n",
       "    </tr>\n",
       "    <tr>\n",
       "      <th>1</th>\n",
       "      <td>44036939_spinal_canal_stenosis_l2_l3</td>\n",
       "      <td>0.172546</td>\n",
       "      <td>0.412990</td>\n",
       "      <td>0.414463</td>\n",
       "    </tr>\n",
       "    <tr>\n",
       "      <th>2</th>\n",
       "      <td>44036939_spinal_canal_stenosis_l3_l4</td>\n",
       "      <td>0.191044</td>\n",
       "      <td>0.426968</td>\n",
       "      <td>0.381988</td>\n",
       "    </tr>\n",
       "    <tr>\n",
       "      <th>3</th>\n",
       "      <td>44036939_spinal_canal_stenosis_l4_l5</td>\n",
       "      <td>0.278035</td>\n",
       "      <td>0.327780</td>\n",
       "      <td>0.394185</td>\n",
       "    </tr>\n",
       "    <tr>\n",
       "      <th>4</th>\n",
       "      <td>44036939_spinal_canal_stenosis_l5_s1</td>\n",
       "      <td>0.796120</td>\n",
       "      <td>0.135892</td>\n",
       "      <td>0.067988</td>\n",
       "    </tr>\n",
       "    <tr>\n",
       "      <th>5</th>\n",
       "      <td>44036939_left_neural_foraminal_narrowing_l1_l2</td>\n",
       "      <td>0.457876</td>\n",
       "      <td>0.502826</td>\n",
       "      <td>0.039298</td>\n",
       "    </tr>\n",
       "    <tr>\n",
       "      <th>6</th>\n",
       "      <td>44036939_left_neural_foraminal_narrowing_l2_l3</td>\n",
       "      <td>0.344226</td>\n",
       "      <td>0.511099</td>\n",
       "      <td>0.144675</td>\n",
       "    </tr>\n",
       "    <tr>\n",
       "      <th>7</th>\n",
       "      <td>44036939_left_neural_foraminal_narrowing_l3_l4</td>\n",
       "      <td>0.304424</td>\n",
       "      <td>0.381381</td>\n",
       "      <td>0.314196</td>\n",
       "    </tr>\n",
       "    <tr>\n",
       "      <th>8</th>\n",
       "      <td>44036939_left_neural_foraminal_narrowing_l4_l5</td>\n",
       "      <td>0.158516</td>\n",
       "      <td>0.356312</td>\n",
       "      <td>0.485172</td>\n",
       "    </tr>\n",
       "    <tr>\n",
       "      <th>9</th>\n",
       "      <td>44036939_left_neural_foraminal_narrowing_l5_s1</td>\n",
       "      <td>0.137358</td>\n",
       "      <td>0.390592</td>\n",
       "      <td>0.472050</td>\n",
       "    </tr>\n",
       "    <tr>\n",
       "      <th>10</th>\n",
       "      <td>44036939_right_neural_foraminal_narrowing_l1_l2</td>\n",
       "      <td>0.424552</td>\n",
       "      <td>0.337120</td>\n",
       "      <td>0.238328</td>\n",
       "    </tr>\n",
       "    <tr>\n",
       "      <th>11</th>\n",
       "      <td>44036939_right_neural_foraminal_narrowing_l2_l3</td>\n",
       "      <td>0.375990</td>\n",
       "      <td>0.545062</td>\n",
       "      <td>0.078948</td>\n",
       "    </tr>\n",
       "    <tr>\n",
       "      <th>12</th>\n",
       "      <td>44036939_right_neural_foraminal_narrowing_l3_l4</td>\n",
       "      <td>0.230809</td>\n",
       "      <td>0.547266</td>\n",
       "      <td>0.221925</td>\n",
       "    </tr>\n",
       "    <tr>\n",
       "      <th>13</th>\n",
       "      <td>44036939_right_neural_foraminal_narrowing_l4_l5</td>\n",
       "      <td>0.197942</td>\n",
       "      <td>0.371978</td>\n",
       "      <td>0.430080</td>\n",
       "    </tr>\n",
       "    <tr>\n",
       "      <th>14</th>\n",
       "      <td>44036939_right_neural_foraminal_narrowing_l5_s1</td>\n",
       "      <td>0.149961</td>\n",
       "      <td>0.290152</td>\n",
       "      <td>0.559887</td>\n",
       "    </tr>\n",
       "    <tr>\n",
       "      <th>15</th>\n",
       "      <td>44036939_left_subarticular_stenosis_l1_l2</td>\n",
       "      <td>0.241030</td>\n",
       "      <td>0.423960</td>\n",
       "      <td>0.335009</td>\n",
       "    </tr>\n",
       "    <tr>\n",
       "      <th>16</th>\n",
       "      <td>44036939_left_subarticular_stenosis_l2_l3</td>\n",
       "      <td>0.135909</td>\n",
       "      <td>0.321940</td>\n",
       "      <td>0.542151</td>\n",
       "    </tr>\n",
       "    <tr>\n",
       "      <th>17</th>\n",
       "      <td>44036939_left_subarticular_stenosis_l3_l4</td>\n",
       "      <td>0.125947</td>\n",
       "      <td>0.397374</td>\n",
       "      <td>0.476679</td>\n",
       "    </tr>\n",
       "    <tr>\n",
       "      <th>18</th>\n",
       "      <td>44036939_left_subarticular_stenosis_l4_l5</td>\n",
       "      <td>0.078113</td>\n",
       "      <td>0.314202</td>\n",
       "      <td>0.607685</td>\n",
       "    </tr>\n",
       "    <tr>\n",
       "      <th>19</th>\n",
       "      <td>44036939_left_subarticular_stenosis_l5_s1</td>\n",
       "      <td>0.229130</td>\n",
       "      <td>0.354320</td>\n",
       "      <td>0.416550</td>\n",
       "    </tr>\n",
       "    <tr>\n",
       "      <th>20</th>\n",
       "      <td>44036939_right_subarticular_stenosis_l1_l2</td>\n",
       "      <td>0.221146</td>\n",
       "      <td>0.465191</td>\n",
       "      <td>0.313664</td>\n",
       "    </tr>\n",
       "    <tr>\n",
       "      <th>21</th>\n",
       "      <td>44036939_right_subarticular_stenosis_l2_l3</td>\n",
       "      <td>0.118934</td>\n",
       "      <td>0.440295</td>\n",
       "      <td>0.440771</td>\n",
       "    </tr>\n",
       "    <tr>\n",
       "      <th>22</th>\n",
       "      <td>44036939_right_subarticular_stenosis_l3_l4</td>\n",
       "      <td>0.103179</td>\n",
       "      <td>0.413993</td>\n",
       "      <td>0.482828</td>\n",
       "    </tr>\n",
       "    <tr>\n",
       "      <th>23</th>\n",
       "      <td>44036939_right_subarticular_stenosis_l4_l5</td>\n",
       "      <td>0.078170</td>\n",
       "      <td>0.302121</td>\n",
       "      <td>0.619708</td>\n",
       "    </tr>\n",
       "    <tr>\n",
       "      <th>24</th>\n",
       "      <td>44036939_right_subarticular_stenosis_l5_s1</td>\n",
       "      <td>0.185702</td>\n",
       "      <td>0.403831</td>\n",
       "      <td>0.410468</td>\n",
       "    </tr>\n",
       "  </tbody>\n",
       "</table>\n",
       "</div>"
      ],
      "text/plain": [
       "                                             row_id  normal_mild  moderate  \\\n",
       "0              44036939_spinal_canal_stenosis_l1_l2     0.324835  0.371123   \n",
       "1              44036939_spinal_canal_stenosis_l2_l3     0.172546  0.412990   \n",
       "2              44036939_spinal_canal_stenosis_l3_l4     0.191044  0.426968   \n",
       "3              44036939_spinal_canal_stenosis_l4_l5     0.278035  0.327780   \n",
       "4              44036939_spinal_canal_stenosis_l5_s1     0.796120  0.135892   \n",
       "5    44036939_left_neural_foraminal_narrowing_l1_l2     0.457876  0.502826   \n",
       "6    44036939_left_neural_foraminal_narrowing_l2_l3     0.344226  0.511099   \n",
       "7    44036939_left_neural_foraminal_narrowing_l3_l4     0.304424  0.381381   \n",
       "8    44036939_left_neural_foraminal_narrowing_l4_l5     0.158516  0.356312   \n",
       "9    44036939_left_neural_foraminal_narrowing_l5_s1     0.137358  0.390592   \n",
       "10  44036939_right_neural_foraminal_narrowing_l1_l2     0.424552  0.337120   \n",
       "11  44036939_right_neural_foraminal_narrowing_l2_l3     0.375990  0.545062   \n",
       "12  44036939_right_neural_foraminal_narrowing_l3_l4     0.230809  0.547266   \n",
       "13  44036939_right_neural_foraminal_narrowing_l4_l5     0.197942  0.371978   \n",
       "14  44036939_right_neural_foraminal_narrowing_l5_s1     0.149961  0.290152   \n",
       "15        44036939_left_subarticular_stenosis_l1_l2     0.241030  0.423960   \n",
       "16        44036939_left_subarticular_stenosis_l2_l3     0.135909  0.321940   \n",
       "17        44036939_left_subarticular_stenosis_l3_l4     0.125947  0.397374   \n",
       "18        44036939_left_subarticular_stenosis_l4_l5     0.078113  0.314202   \n",
       "19        44036939_left_subarticular_stenosis_l5_s1     0.229130  0.354320   \n",
       "20       44036939_right_subarticular_stenosis_l1_l2     0.221146  0.465191   \n",
       "21       44036939_right_subarticular_stenosis_l2_l3     0.118934  0.440295   \n",
       "22       44036939_right_subarticular_stenosis_l3_l4     0.103179  0.413993   \n",
       "23       44036939_right_subarticular_stenosis_l4_l5     0.078170  0.302121   \n",
       "24       44036939_right_subarticular_stenosis_l5_s1     0.185702  0.403831   \n",
       "\n",
       "      severe  \n",
       "0   0.304042  \n",
       "1   0.414463  \n",
       "2   0.381988  \n",
       "3   0.394185  \n",
       "4   0.067988  \n",
       "5   0.039298  \n",
       "6   0.144675  \n",
       "7   0.314196  \n",
       "8   0.485172  \n",
       "9   0.472050  \n",
       "10  0.238328  \n",
       "11  0.078948  \n",
       "12  0.221925  \n",
       "13  0.430080  \n",
       "14  0.559887  \n",
       "15  0.335009  \n",
       "16  0.542151  \n",
       "17  0.476679  \n",
       "18  0.607685  \n",
       "19  0.416550  \n",
       "20  0.313664  \n",
       "21  0.440771  \n",
       "22  0.482828  \n",
       "23  0.619708  \n",
       "24  0.410468  "
      ]
     },
     "execution_count": 18,
     "metadata": {},
     "output_type": "execute_result"
    }
   ],
   "source": [
    "sub = pd.DataFrame()\n",
    "sub['row_id'] = row_names\n",
    "sub[LABELS] = y_preds\n",
    "sub.head(25)"
   ]
  },
  {
   "cell_type": "code",
   "execution_count": 19,
   "id": "600d914a",
   "metadata": {
    "execution": {
     "iopub.execute_input": "2024-09-10T02:37:59.596797Z",
     "iopub.status.busy": "2024-09-10T02:37:59.596436Z",
     "iopub.status.idle": "2024-09-10T02:37:59.614835Z",
     "shell.execute_reply": "2024-09-10T02:37:59.613907Z"
    },
    "papermill": {
     "duration": 0.030101,
     "end_time": "2024-09-10T02:37:59.616785",
     "exception": false,
     "start_time": "2024-09-10T02:37:59.586684",
     "status": "completed"
    },
    "tags": []
   },
   "outputs": [
    {
     "data": {
      "text/html": [
       "<div>\n",
       "<style scoped>\n",
       "    .dataframe tbody tr th:only-of-type {\n",
       "        vertical-align: middle;\n",
       "    }\n",
       "\n",
       "    .dataframe tbody tr th {\n",
       "        vertical-align: top;\n",
       "    }\n",
       "\n",
       "    .dataframe thead th {\n",
       "        text-align: right;\n",
       "    }\n",
       "</style>\n",
       "<table border=\"1\" class=\"dataframe\">\n",
       "  <thead>\n",
       "    <tr style=\"text-align: right;\">\n",
       "      <th></th>\n",
       "      <th>row_id</th>\n",
       "      <th>normal_mild</th>\n",
       "      <th>moderate</th>\n",
       "      <th>severe</th>\n",
       "    </tr>\n",
       "  </thead>\n",
       "  <tbody>\n",
       "    <tr>\n",
       "      <th>0</th>\n",
       "      <td>44036939_spinal_canal_stenosis_l1_l2</td>\n",
       "      <td>0.324835</td>\n",
       "      <td>0.371123</td>\n",
       "      <td>0.304042</td>\n",
       "    </tr>\n",
       "    <tr>\n",
       "      <th>1</th>\n",
       "      <td>44036939_spinal_canal_stenosis_l2_l3</td>\n",
       "      <td>0.172546</td>\n",
       "      <td>0.412990</td>\n",
       "      <td>0.414463</td>\n",
       "    </tr>\n",
       "    <tr>\n",
       "      <th>2</th>\n",
       "      <td>44036939_spinal_canal_stenosis_l3_l4</td>\n",
       "      <td>0.191044</td>\n",
       "      <td>0.426968</td>\n",
       "      <td>0.381988</td>\n",
       "    </tr>\n",
       "    <tr>\n",
       "      <th>3</th>\n",
       "      <td>44036939_spinal_canal_stenosis_l4_l5</td>\n",
       "      <td>0.278035</td>\n",
       "      <td>0.327780</td>\n",
       "      <td>0.394185</td>\n",
       "    </tr>\n",
       "    <tr>\n",
       "      <th>4</th>\n",
       "      <td>44036939_spinal_canal_stenosis_l5_s1</td>\n",
       "      <td>0.796120</td>\n",
       "      <td>0.135892</td>\n",
       "      <td>0.067988</td>\n",
       "    </tr>\n",
       "  </tbody>\n",
       "</table>\n",
       "</div>"
      ],
      "text/plain": [
       "                                 row_id  normal_mild  moderate    severe\n",
       "0  44036939_spinal_canal_stenosis_l1_l2     0.324835  0.371123  0.304042\n",
       "1  44036939_spinal_canal_stenosis_l2_l3     0.172546  0.412990  0.414463\n",
       "2  44036939_spinal_canal_stenosis_l3_l4     0.191044  0.426968  0.381988\n",
       "3  44036939_spinal_canal_stenosis_l4_l5     0.278035  0.327780  0.394185\n",
       "4  44036939_spinal_canal_stenosis_l5_s1     0.796120  0.135892  0.067988"
      ]
     },
     "execution_count": 19,
     "metadata": {},
     "output_type": "execute_result"
    }
   ],
   "source": [
    "sub.to_csv('submission.csv', index=False)\n",
    "pd.read_csv('submission.csv').head()"
   ]
  },
  {
   "cell_type": "code",
   "execution_count": null,
   "id": "3ee1f556",
   "metadata": {
    "papermill": {
     "duration": 0.008498,
     "end_time": "2024-09-10T02:37:59.634003",
     "exception": false,
     "start_time": "2024-09-10T02:37:59.625505",
     "status": "completed"
    },
    "tags": []
   },
   "outputs": [],
   "source": []
  }
 ],
 "metadata": {
  "kaggle": {
   "accelerator": "gpu",
   "dataSources": [
    {
     "databundleVersionId": 8561470,
     "sourceId": 71549,
     "sourceType": "competition"
    },
    {
     "datasetId": 5583775,
     "sourceId": 9231709,
     "sourceType": "datasetVersion"
    },
    {
     "datasetId": 5611997,
     "sourceId": 9273089,
     "sourceType": "datasetVersion"
    }
   ],
   "dockerImageVersionId": 30762,
   "isGpuEnabled": true,
   "isInternetEnabled": false,
   "language": "python",
   "sourceType": "notebook"
  },
  "kernelspec": {
   "display_name": "Python 3",
   "language": "python",
   "name": "python3"
  },
  "language_info": {
   "codemirror_mode": {
    "name": "ipython",
    "version": 3
   },
   "file_extension": ".py",
   "mimetype": "text/x-python",
   "name": "python",
   "nbconvert_exporter": "python",
   "pygments_lexer": "ipython3",
   "version": "3.10.14"
  },
  "papermill": {
   "default_parameters": {},
   "duration": 48.747917,
   "end_time": "2024-09-10T02:38:02.849772",
   "environment_variables": {},
   "exception": null,
   "input_path": "__notebook__.ipynb",
   "output_path": "__notebook__.ipynb",
   "parameters": {},
   "start_time": "2024-09-10T02:37:14.101855",
   "version": "2.6.0"
  }
 },
 "nbformat": 4,
 "nbformat_minor": 5
}
