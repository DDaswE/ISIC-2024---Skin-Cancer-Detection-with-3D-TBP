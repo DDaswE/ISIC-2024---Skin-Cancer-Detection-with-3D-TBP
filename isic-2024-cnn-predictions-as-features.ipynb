{
 "cells": [
  {
   "cell_type": "markdown",
   "id": "b05491e4",
   "metadata": {
    "papermill": {
     "duration": 0.006998,
     "end_time": "2024-08-07T02:28:19.112413",
     "exception": false,
     "start_time": "2024-08-07T02:28:19.105415",
     "status": "completed"
    },
    "tags": []
   },
   "source": [
    "### <b><span style='color:#C9A9A6'>Table of Contents</span></b> <a class='anchor' id='top'></a>\n",
    "\n",
    "<div style=\"padding: 13px 13px; border-radius: 8px; color: white\">\n",
    "    <li><a href=\"#notebook-configuration\" style=\"color: #C9A9A6;\">Notebook Configuration</a></li>\n",
    "    <li><a href=\"#feature-engineering\" style=\"color: #C9A9A6;\">Feature Engineering</a></li>\n",
    "    <li><a href=\"#model-development\" style=\"color: #C9A9A6;\">Model Development</a></li>\n",
    "</div>"
   ]
  },
  {
   "cell_type": "markdown",
   "id": "1724cb48",
   "metadata": {
    "papermill": {
     "duration": 0.00629,
     "end_time": "2024-08-07T02:28:19.125390",
     "exception": false,
     "start_time": "2024-08-07T02:28:19.119100",
     "status": "completed"
    },
    "tags": []
   },
   "source": [
    "<div style=\"background-color: #C9A9A6; padding: 10px; border-radius: 10px;\">\n",
    "    <a class='anchor' id='notebook-configuration'></a>\n",
    "    <p style=\"text-align: center; font-size: 140%; font-weight: bold; margin: 0; color: black !important; font-family: 'Arial Rounded MT Bold', Arial, sans-serif; text-shadow: none;\">\n",
    "        <a href=\"#notebook-configuration\" style=\"color: black;\">Notebook Configuration</a>\n",
    "    </p>\n",
    "</div>"
   ]
  },
  {
   "cell_type": "code",
   "execution_count": 1,
   "id": "50fac702",
   "metadata": {
    "execution": {
     "iopub.execute_input": "2024-08-07T02:28:19.140279Z",
     "iopub.status.busy": "2024-08-07T02:28:19.139900Z",
     "iopub.status.idle": "2024-08-07T02:28:19.150722Z",
     "shell.execute_reply": "2024-08-07T02:28:19.149847Z"
    },
    "papermill": {
     "duration": 0.021069,
     "end_time": "2024-08-07T02:28:19.153075",
     "exception": false,
     "start_time": "2024-08-07T02:28:19.132006",
     "status": "completed"
    },
    "tags": []
   },
   "outputs": [],
   "source": [
    "# System operations\n",
    "import os\n",
    "import warnings\n",
    "from pathlib import Path\n",
    "warnings.filterwarnings('ignore')"
   ]
  },
  {
   "cell_type": "code",
   "execution_count": 2,
   "id": "532d5a3b",
   "metadata": {
    "execution": {
     "iopub.execute_input": "2024-08-07T02:28:19.174202Z",
     "iopub.status.busy": "2024-08-07T02:28:19.172748Z",
     "iopub.status.idle": "2024-08-07T02:28:20.480985Z",
     "shell.execute_reply": "2024-08-07T02:28:20.480155Z"
    },
    "papermill": {
     "duration": 1.320941,
     "end_time": "2024-08-07T02:28:20.483254",
     "exception": false,
     "start_time": "2024-08-07T02:28:19.162313",
     "status": "completed"
    },
    "tags": []
   },
   "outputs": [],
   "source": [
    "# Exploratory data analysis\n",
    "import plotly.express as px\n",
    "import plotly.graph_objects as go"
   ]
  },
  {
   "cell_type": "code",
   "execution_count": 3,
   "id": "cf71cf3c",
   "metadata": {
    "execution": {
     "iopub.execute_input": "2024-08-07T02:28:20.498485Z",
     "iopub.status.busy": "2024-08-07T02:28:20.497973Z",
     "iopub.status.idle": "2024-08-07T02:28:20.718200Z",
     "shell.execute_reply": "2024-08-07T02:28:20.717246Z"
    },
    "papermill": {
     "duration": 0.230264,
     "end_time": "2024-08-07T02:28:20.720547",
     "exception": false,
     "start_time": "2024-08-07T02:28:20.490283",
     "status": "completed"
    },
    "tags": []
   },
   "outputs": [],
   "source": [
    "# Data preprocessing\n",
    "import numpy as np\n",
    "import pandas as pd\n",
    "import polars as pl"
   ]
  },
  {
   "cell_type": "code",
   "execution_count": 4,
   "id": "1c6c2aa2",
   "metadata": {
    "execution": {
     "iopub.execute_input": "2024-08-07T02:28:20.736034Z",
     "iopub.status.busy": "2024-08-07T02:28:20.735679Z",
     "iopub.status.idle": "2024-08-07T02:28:21.896574Z",
     "shell.execute_reply": "2024-08-07T02:28:21.895614Z"
    },
    "papermill": {
     "duration": 1.171188,
     "end_time": "2024-08-07T02:28:21.898985",
     "exception": false,
     "start_time": "2024-08-07T02:28:20.727797",
     "status": "completed"
    },
    "tags": []
   },
   "outputs": [],
   "source": [
    "# Evaluation metrics\n",
    "from sklearn.metrics import roc_curve, auc\n",
    "from sklearn.metrics import confusion_matrix"
   ]
  },
  {
   "cell_type": "code",
   "execution_count": 5,
   "id": "5fb0d2dc",
   "metadata": {
    "execution": {
     "iopub.execute_input": "2024-08-07T02:28:21.914095Z",
     "iopub.status.busy": "2024-08-07T02:28:21.913758Z",
     "iopub.status.idle": "2024-08-07T02:28:25.818585Z",
     "shell.execute_reply": "2024-08-07T02:28:25.817816Z"
    },
    "papermill": {
     "duration": 3.91485,
     "end_time": "2024-08-07T02:28:25.820928",
     "exception": false,
     "start_time": "2024-08-07T02:28:21.906078",
     "status": "completed"
    },
    "tags": []
   },
   "outputs": [],
   "source": [
    "# Model development\n",
    "import lightgbm as lgb\n",
    "from catboost import CatBoostClassifier, Pool\n",
    "from sklearn.model_selection import GroupKFold"
   ]
  },
  {
   "cell_type": "code",
   "execution_count": 6,
   "id": "3afe230f",
   "metadata": {
    "execution": {
     "iopub.execute_input": "2024-08-07T02:28:25.836166Z",
     "iopub.status.busy": "2024-08-07T02:28:25.835543Z",
     "iopub.status.idle": "2024-08-07T02:28:25.844734Z",
     "shell.execute_reply": "2024-08-07T02:28:25.843890Z"
    },
    "papermill": {
     "duration": 0.01885,
     "end_time": "2024-08-07T02:28:25.846783",
     "exception": false,
     "start_time": "2024-08-07T02:28:25.827933",
     "status": "completed"
    },
    "tags": []
   },
   "outputs": [],
   "source": [
    "class CFG:\n",
    "    \n",
    "    # Directories to competition data\n",
    "    train_path = Path('/kaggle/input/isic-2024-challenge/train-metadata.csv')\n",
    "    test_path = Path('/kaggle/input/isic-2024-challenge/test-metadata.csv')\n",
    "    subm_path = Path('/kaggle/input/isic-2024-challenge/sample_submission.csv')\n",
    "    \n",
    "    # Directories to sources with pretrained-CNN models\n",
    "    source1_path = Path('/kaggle/input/isic-inference-effnetv1b0-for-training-data/train_effnetv1b0.csv')\n",
    "    source2_path = Path('/kaggle/input/nextvit/train_effnetv1b0.csv')\n",
    "    source3_path = Path('/kaggle/input/selecsls42b-in1k-drop/train_effnetv1b0.csv')\n",
    "    source4_path = Path('/kaggle/input/isic-2024-pl-submission-script-and-preds/train_preds.csv')\n",
    "    \n",
    "    # Directories to sample submissions of pretrained CNN-models\n",
    "    subm1_path = Path('submission_effnetv1b0.csv')\n",
    "    subm2_path = Path('/kaggle/input/nextvit/submission.csv')\n",
    "    subm3_path = Path('/kaggle/input/selecsls42b-in1k-drop/submission.csv')\n",
    "    subm4_path = Path('submission_image3.csv')\n",
    "    \n",
    "    # Number of negative samples to retain\n",
    "    N = 117900 # 1:300 = positive:negative\n",
    "    \n",
    "    # Ensembling weights\n",
    "    lgb_weight = 0.19\n",
    "    ctb_weight = 0.81\n",
    "    \n",
    "    # Early stopping steps\n",
    "    early_stop = 30\n",
    "    \n",
    "    # LightGBM parameters\n",
    "    lgb_params = {\n",
    "        'min_child_samples': 48,\n",
    "        'num_iterations': 3000,\n",
    "        'learning_rate': 0.03,\n",
    "        'objective': 'binary',\n",
    "        'extra_trees': True,\n",
    "        'metric': 'binary',\n",
    "        'reg_lambda': 0.8,\n",
    "        'reg_alpha': 0.1,\n",
    "        'num_leaves': 64,\n",
    "        'device': 'cpu',\n",
    "        'max_bin': 128,\n",
    "        'max_depth': 4,\n",
    "        'verbose': -1,\n",
    "        'seed': 42\n",
    "    }\n",
    "    \n",
    "    # CatBoost parameters\n",
    "    ctb_params = {\n",
    "        'grow_policy': 'Depthwise',\n",
    "        'loss_function': 'Logloss',\n",
    "        'min_child_samples': 48,\n",
    "        'learning_rate': 0.03,\n",
    "        'random_state': 42,\n",
    "        'task_type': 'CPU',\n",
    "        'reg_lambda': 0.8,\n",
    "        'num_trees': 3000,\n",
    "        'depth': 4\n",
    "    }"
   ]
  },
  {
   "cell_type": "markdown",
   "id": "3e1faf0d",
   "metadata": {
    "papermill": {
     "duration": 0.006416,
     "end_time": "2024-08-07T02:28:25.860173",
     "exception": false,
     "start_time": "2024-08-07T02:28:25.853757",
     "status": "completed"
    },
    "tags": []
   },
   "source": [
    "<div style=\"background-color: #C9A9A6; padding: 10px; border-radius: 10px;\">\n",
    "    <a class='anchor' id='feature-engineering'></a>\n",
    "    <p style=\"text-align: center; font-size: 140%; font-weight: bold; margin: 0; color: black !important; font-family: 'Arial Rounded MT Bold', Arial, sans-serif; text-shadow: none;\">\n",
    "        <a href=\"#feature-engineering\" style=\"color: black;\">Feature Engineering</a>\n",
    "    </p>\n",
    "</div>"
   ]
  },
  {
   "cell_type": "code",
   "execution_count": 7,
   "id": "ebebbdf6",
   "metadata": {
    "_kg_hide-output": true,
    "execution": {
     "iopub.execute_input": "2024-08-07T02:28:25.875302Z",
     "iopub.status.busy": "2024-08-07T02:28:25.874403Z",
     "iopub.status.idle": "2024-08-07T02:28:39.916728Z",
     "shell.execute_reply": "2024-08-07T02:28:39.915537Z"
    },
    "papermill": {
     "duration": 14.052563,
     "end_time": "2024-08-07T02:28:39.919249",
     "exception": false,
     "start_time": "2024-08-07T02:28:25.866686",
     "status": "completed"
    },
    "tags": []
   },
   "outputs": [
    {
     "name": "stdout",
     "output_type": "stream",
     "text": [
      "BEST_WEIGHT = /kaggle/input/isic-pytorch-training-baseline-image-only/AUROC0.5171_Loss0.3476_epoch35.bin\r\n",
      "100%|█████████████████████████████████████████████| 1/1 [00:01<00:00,  1.01s/it]\r\n"
     ]
    }
   ],
   "source": [
    "!python /kaggle/input/isic-script-inference-effnetv1b0-f313ae/main.py /kaggle/input/isic-pytorch-training-baseline-image-only/AUROC0.5171_Loss0.3476_epoch35.bin\n",
    "!mv submission.csv submission_effnetv1b0.csv"
   ]
  },
  {
   "cell_type": "code",
   "execution_count": 8,
   "id": "4f9a9578",
   "metadata": {
    "_kg_hide-output": true,
    "execution": {
     "iopub.execute_input": "2024-08-07T02:28:39.936387Z",
     "iopub.status.busy": "2024-08-07T02:28:39.936025Z",
     "iopub.status.idle": "2024-08-07T02:28:50.184326Z",
     "shell.execute_reply": "2024-08-07T02:28:50.183059Z"
    },
    "papermill": {
     "duration": 10.260387,
     "end_time": "2024-08-07T02:28:50.187103",
     "exception": false,
     "start_time": "2024-08-07T02:28:39.926716",
     "status": "completed"
    },
    "tags": []
   },
   "outputs": [
    {
     "name": "stdout",
     "output_type": "stream",
     "text": [
      "BEST_WEIGHT = /kaggle/input/isic-pytorch-training-baseline-eva02/AUROC0.5177_Loss0.2829_epoch7.bin\r\n",
      "100%|█████████████████████████████████████████████| 1/1 [00:00<00:00,  2.63it/s]\r\n"
     ]
    }
   ],
   "source": [
    "!python /kaggle/input/isic-script-inference-eva02/main.py /kaggle/input/isic-pytorch-training-baseline-eva02/AUROC0.5177_Loss0.2829_epoch7.bin\n",
    "!mv submission.csv submission_eva02.csv"
   ]
  },
  {
   "cell_type": "code",
   "execution_count": 9,
   "id": "45e1d6fa",
   "metadata": {
    "_kg_hide-output": true,
    "execution": {
     "iopub.execute_input": "2024-08-07T02:28:50.203876Z",
     "iopub.status.busy": "2024-08-07T02:28:50.203508Z",
     "iopub.status.idle": "2024-08-07T02:29:10.312229Z",
     "shell.execute_reply": "2024-08-07T02:29:10.310938Z"
    },
    "papermill": {
     "duration": 20.120152,
     "end_time": "2024-08-07T02:29:10.314863",
     "exception": false,
     "start_time": "2024-08-07T02:28:50.194711",
     "status": "completed"
    },
    "tags": []
   },
   "outputs": [
    {
     "name": "stdout",
     "output_type": "stream",
     "text": [
      "/kaggle/input/isic-2024-pl-submission-script-and-preds/pl_submission.py:25: DtypeWarning: Columns (51,52) have mixed types. Specify dtype option on import or set low_memory=False.\r\n",
      "  df_train_meta = pd.read_csv(BASE_DATA_DIR + \"train-metadata.csv\")\r\n"
     ]
    }
   ],
   "source": [
    "!python /kaggle/input/isic-2024-pl-submission-script-and-preds/pl_submission.py\n",
    "!mv submission.csv submission_image3.csv"
   ]
  },
  {
   "cell_type": "code",
   "execution_count": 10,
   "id": "d4065a02",
   "metadata": {
    "execution": {
     "iopub.execute_input": "2024-08-07T02:29:10.332876Z",
     "iopub.status.busy": "2024-08-07T02:29:10.332462Z",
     "iopub.status.idle": "2024-08-07T02:29:10.385130Z",
     "shell.execute_reply": "2024-08-07T02:29:10.384165Z"
    },
    "papermill": {
     "duration": 0.064759,
     "end_time": "2024-08-07T02:29:10.387615",
     "exception": false,
     "start_time": "2024-08-07T02:29:10.322856",
     "status": "completed"
    },
    "tags": []
   },
   "outputs": [],
   "source": [
    "class FeatureEngineering:\n",
    "    \n",
    "    def __init__(self, \n",
    "                 source1_path, \n",
    "                 source2_path, \n",
    "                 source3_path, \n",
    "                 source4_path, \n",
    "                 subm1_path, \n",
    "                 subm2_path, \n",
    "                 subm3_path, \n",
    "                 subm4_path):\n",
    "        \n",
    "        self.source1_path = source1_path\n",
    "        self.source2_path = source2_path\n",
    "        self.source3_path = source3_path\n",
    "        self.source4_path = source4_path\n",
    "        self.subm1_path = subm1_path\n",
    "        self.subm2_path = subm2_path\n",
    "        self.subm3_path = subm3_path\n",
    "        self.subm4_path = subm4_path\n",
    "    \n",
    "    def filter_data(self, path):\n",
    "        \n",
    "        # Read dataset as polars DataFrame\n",
    "        df = pl.read_csv(path, low_memory=True)\n",
    "            \n",
    "        # Drop redundant columns \n",
    "        for col in ['isic_id', # Redundant for loading train data\n",
    "                    'image_type', # Only one unique value on train metadata\n",
    "                    'tbp_lv_location_simple', # Similar information to 'tbp_lv_location'\n",
    "                    'copyright_license', # Redundant information for lesion classification\n",
    "                    \n",
    "                    # Included only on train metadata\n",
    "                    'lesion_id',\n",
    "                    'iddx_full',\n",
    "                    'iddx_1',\n",
    "                    'iddx_2',\n",
    "                    'iddx_3',\n",
    "                    'iddx_4',\n",
    "                    'iddx_5',\n",
    "                    'mel_mitotic_index',\n",
    "                    'mel_thick_mm',\n",
    "                    'tbp_lv_dnn_lesion_confidence']:\n",
    "            \n",
    "            if col in df.columns:\n",
    "                df = df.drop(col)            \n",
    "                    \n",
    "        return df \n",
    "    \n",
    "    def set_datatypes(self, df):\n",
    "        \n",
    "        # Handle NA values in age approximation column\n",
    "        if ('age_approx' in df.columns) and df.select(pl.col('age_approx').str.contains('NA').any()).item():\n",
    "            \n",
    "            # Replace the value with -1\n",
    "            df = df.with_columns(pl.when(pl.col('age_approx') == 'NA').then(-1).otherwise(pl.col('age_approx'))\n",
    "                   .alias('age_approx'))\n",
    "            \n",
    "        # Define numeric columns (int)\n",
    "        for col in ['target',\n",
    "                    'age_approx',\n",
    "                    'tbp_lv_symm_2axis_angle']:\n",
    "            \n",
    "            # Set dtype for numeric columns (int)\n",
    "            if col in df.columns:\n",
    "                df = df.with_columns(pl.col(col).cast(pl.Int16))\n",
    "                        \n",
    "        # Define numeric columns (float)\n",
    "        for col in ['clin_size_long_diam_mm', \n",
    "                    'tbp_lv_A', \n",
    "                    'tbp_lv_Aext', \n",
    "                    'tbp_lv_B', \n",
    "                    'tbp_lv_Bext', \n",
    "                    'tbp_lv_C', \n",
    "                    'tbp_lv_Cext',\n",
    "                    'tbp_lv_H', \n",
    "                    'tbp_lv_Hext',\n",
    "                    'tbp_lv_L', \n",
    "                    'tbp_lv_Lext',\n",
    "                    'tbp_lv_areaMM2', \n",
    "                    'tbp_lv_area_perim_ratio',\n",
    "                    'tbp_lv_color_std_mean',\n",
    "                    'tbp_lv_deltaA', \n",
    "                    'tbp_lv_deltaB',\n",
    "                    'tbp_lv_deltaL', \n",
    "                    'tbp_lv_deltaLB',\n",
    "                    'tbp_lv_deltaLBnorm',\n",
    "                    'tbp_lv_eccentricity', \n",
    "                    'tbp_lv_minorAxisMM',\n",
    "                    'tbp_lv_nevi_confidence',\n",
    "                    'tbp_lv_norm_border',\n",
    "                    'tbp_lv_norm_color',\n",
    "                    'tbp_lv_perimeterMM',\n",
    "                    'tbp_lv_radial_color_std_max',\n",
    "                    'tbp_lv_stdL',\n",
    "                    'tbp_lv_stdLExt',\n",
    "                    'tbp_lv_symm_2axis',\n",
    "                    'tbp_lv_x',\n",
    "                    'tbp_lv_y',\n",
    "                    'tbp_lv_z']: \n",
    "            \n",
    "            # Set dtype for numeric columns (float)\n",
    "            if col in df.columns:\n",
    "                df = df.with_columns(pl.col(col).cast(pl.Float32))\n",
    "                \n",
    "        # Define categorical columns\n",
    "        for col in ['sex', \n",
    "                    'anatom_site_general', \n",
    "                    'tbp_tile_type', \n",
    "                    'tbp_lv_location',\n",
    "                    'attribution']:\n",
    "            \n",
    "            # Set dtype for categorical columns\n",
    "            if col in df.columns:\n",
    "                df = df.with_columns(pl.col(col).cast(pl.Categorical))\n",
    "                                            \n",
    "        return df\n",
    "    \n",
    "    @staticmethod\n",
    "    def aggregate_data(df):\n",
    "        \n",
    "        df = df.with_columns([\n",
    "            \n",
    "            # Ratio of A* to the product of A*ext and age minimum A*\n",
    "            pl.col('tbp_lv_A').truediv(pl.col('tbp_lv_Aext').mul(pl.col('tbp_lv_A').min()))\n",
    "            .over('age_approx')\n",
    "            .cast(pl.Float32).alias('tbp_lv_ratio_A'),\n",
    "            \n",
    "            # Ratio of B* to the product of B*ext and age minimum B*\n",
    "            pl.col('tbp_lv_B').truediv(pl.col('tbp_lv_Bext').mul(pl.col('tbp_lv_B').min()))\n",
    "            .over('age_approx')\n",
    "            .cast(pl.Float32).alias('tbp_lv_ratio_B'),\n",
    "            \n",
    "            # Ratio of C* to the product of C*ext and age minimum C*\n",
    "            pl.col('tbp_lv_C').truediv(pl.col('tbp_lv_Cext').mul(pl.col('tbp_lv_C').min()))\n",
    "            .over('age_approx')\n",
    "            .cast(pl.Float32).alias('tbp_lv_ratio_C'),\n",
    "            \n",
    "            # Ratio of H* to the product of H*ext and age minimum H*\n",
    "            pl.col('tbp_lv_H').truediv(pl.col('tbp_lv_Hext').mul(pl.col('tbp_lv_H').min()))\n",
    "            .over('age_approx')\n",
    "            .cast(pl.Float32).alias('tbp_lv_ratio_H'),\n",
    "            \n",
    "            # Ratio of L* to the product of L*ext and age minimum L*\n",
    "            pl.col('tbp_lv_L').truediv(pl.col('tbp_lv_Lext').mul(pl.col('tbp_lv_L').min()))\n",
    "            .over('age_approx')\n",
    "            .cast(pl.Float32).alias('tbp_lv_ratio_L'),\n",
    "            \n",
    "        ])\n",
    "        \n",
    "        df = df.with_columns([\n",
    "            \n",
    "            # Contrast between A* and A*ext\n",
    "            pl.col('tbp_lv_A').sub(pl.col('tbp_lv_Aext'))\n",
    "            .cast(pl.Float32).alias('tbp_lv_contrast_A'),\n",
    "            \n",
    "            # Contrast between B* and B*ext\n",
    "            pl.col('tbp_lv_B').sub(pl.col('tbp_lv_Bext'))\n",
    "            .cast(pl.Float32).alias('tbp_lv_contrast_B'),\n",
    "            \n",
    "            # Contrast between C* and C*ext\n",
    "            pl.col('tbp_lv_C').sub(pl.col('tbp_lv_Cext'))\n",
    "            .cast(pl.Float32).alias('tbp_lv_contrast_C'),\n",
    "            \n",
    "            # Contrast between H* and H*ext\n",
    "            pl.col('tbp_lv_H').sub(pl.col('tbp_lv_Hext'))\n",
    "            .cast(pl.Float32).alias('tbp_lv_contrast_H'),\n",
    "            \n",
    "            # Contrast between L* and L*ext\n",
    "            pl.col('tbp_lv_L').sub(pl.col('tbp_lv_Lext'))\n",
    "            .cast(pl.Float32).alias('tbp_lv_contrast_L'), \n",
    "            \n",
    "        ])\n",
    "        \n",
    "        df = df.with_columns([     \n",
    "            \n",
    "            # Ratio of tbp_lv_ratio_A to patient average\n",
    "            pl.col('tbp_lv_ratio_A').truediv(pl.col('tbp_lv_ratio_A').mean())\n",
    "            .over('patient_id')\n",
    "            .cast(pl.Float32).alias('tbp_lv_patient_ratio_A'),\n",
    "            \n",
    "            # Ratio of tbp_lv_ratio_B to patient average\n",
    "            pl.col('tbp_lv_ratio_B').truediv(pl.col('tbp_lv_ratio_B').mean())\n",
    "            .over('patient_id')\n",
    "            .cast(pl.Float32).alias('tbp_lv_patient_ratio_B'),\n",
    "            \n",
    "            # Ratio of tbp_lv_ratio_C to patient average\n",
    "            pl.col('tbp_lv_ratio_C').truediv(pl.col('tbp_lv_ratio_C').mean())\n",
    "            .over('patient_id')\n",
    "            .cast(pl.Float32).alias('tbp_lv_patient_ratio_C'),\n",
    "            \n",
    "            # Ratio of tbp_lv_ratio_H to patient average\n",
    "            pl.col('tbp_lv_ratio_H').truediv(pl.col('tbp_lv_ratio_H').mean())\n",
    "            .over('patient_id')\n",
    "            .cast(pl.Float32).alias('tbp_lv_patient_ratio_H'),\n",
    "            \n",
    "            # Ratio of tbp_lv_ratio_L to patient average\n",
    "            pl.col('tbp_lv_ratio_L').truediv(pl.col('tbp_lv_ratio_L').mean())\n",
    "            .over('patient_id')\n",
    "            .cast(pl.Float32).alias('tbp_lv_patient_ratio_L'),\n",
    "            \n",
    "        ])\n",
    "        \n",
    "        df = df.with_columns([     \n",
    "            \n",
    "            # Ratio of tbp_lv_contrast_A to patient average\n",
    "            pl.col('tbp_lv_contrast_A').truediv(pl.col('tbp_lv_contrast_A').mean())\n",
    "            .over('patient_id')\n",
    "            .cast(pl.Float32).alias('tbp_lv_patient_contrast_A'),\n",
    "            \n",
    "            # Ratio of tbp_lv_contrast_B to patient average\n",
    "            pl.col('tbp_lv_contrast_B').truediv(pl.col('tbp_lv_contrast_B').mean())\n",
    "            .over('patient_id')\n",
    "            .cast(pl.Float32).alias('tbp_lv_patient_contrast_B'),\n",
    "            \n",
    "            # Ratio of tbp_lv_contrast_C to patient average\n",
    "            pl.col('tbp_lv_contrast_C').truediv(pl.col('tbp_lv_contrast_C').mean())\n",
    "            .over('patient_id')\n",
    "            .cast(pl.Float32).alias('tbp_lv_patient_contrast_C'),\n",
    "            \n",
    "            # Ratio of tbp_lv_contrast_H to patient average\n",
    "            pl.col('tbp_lv_contrast_H').truediv(pl.col('tbp_lv_contrast_H').mean())\n",
    "            .over('patient_id')\n",
    "            .cast(pl.Float32).alias('tbp_lv_patient_contrast_H'),\n",
    "            \n",
    "            # Ratio of tbp_lv_contrast_L to patient average\n",
    "            pl.col('tbp_lv_contrast_L').truediv(pl.col('tbp_lv_contrast_L').mean())\n",
    "            .over('patient_id')\n",
    "            .cast(pl.Float32).alias('tbp_lv_patient_contrast_L'),\n",
    "            \n",
    "        ])\n",
    "        \n",
    "        df = df.with_columns([     \n",
    "            \n",
    "            # Ratio of tbp_lv_ratio_A to age average\n",
    "            pl.col('tbp_lv_ratio_A').truediv(pl.col('tbp_lv_ratio_A').mean())\n",
    "            .over('age_approx')\n",
    "            .cast(pl.Float32).alias('tbp_lv_age_ratio_A'),\n",
    "            \n",
    "            # Ratio of tbp_lv_ratio_B to age average\n",
    "            pl.col('tbp_lv_ratio_B').truediv(pl.col('tbp_lv_ratio_B').mean())\n",
    "            .over('age_approx')\n",
    "            .cast(pl.Float32).alias('tbp_lv_age_ratio_B'),\n",
    "            \n",
    "            # Ratio of tbp_lv_ratio_C to age average\n",
    "            pl.col('tbp_lv_ratio_C').truediv(pl.col('tbp_lv_ratio_C').mean())\n",
    "            .over('age_approx')\n",
    "            .cast(pl.Float32).alias('tbp_lv_age_ratio_C'),\n",
    "            \n",
    "            # Ratio of tbp_lv_ratio_H to age average\n",
    "            pl.col('tbp_lv_ratio_H').truediv(pl.col('tbp_lv_ratio_H').mean())\n",
    "            .over('age_approx')\n",
    "            .cast(pl.Float32).alias('tbp_lv_age_ratio_H'),\n",
    "            \n",
    "            # Ratio of tbp_lv_ratio_L to age average\n",
    "            pl.col('tbp_lv_ratio_L').truediv(pl.col('tbp_lv_ratio_L').mean())\n",
    "            .over('age_approx')\n",
    "            .cast(pl.Float32).alias('tbp_lv_age_ratio_L'),\n",
    "            \n",
    "        ])\n",
    "        \n",
    "        df = df.with_columns([     \n",
    "            \n",
    "            # Ratio of tbp_lv_contrast_A to age average\n",
    "            pl.col('tbp_lv_contrast_A').truediv(pl.col('tbp_lv_contrast_A').mean())\n",
    "            .over('age_approx')\n",
    "            .cast(pl.Float32).alias('tbp_lv_age_contrast_A'),\n",
    "            \n",
    "            # Ratio of tbp_lv_contrast_B to age average\n",
    "            pl.col('tbp_lv_contrast_B').truediv(pl.col('tbp_lv_contrast_B').mean())\n",
    "            .over('age_approx')\n",
    "            .cast(pl.Float32).alias('tbp_lv_age_contrast_B'),\n",
    "            \n",
    "            # Ratio of tbp_lv_contrast_C to age average\n",
    "            pl.col('tbp_lv_contrast_C').truediv(pl.col('tbp_lv_contrast_C').mean())\n",
    "            .over('age_approx')\n",
    "            .cast(pl.Float32).alias('tbp_lv_age_contrast_C'),\n",
    "            \n",
    "            # Ratio of tbp_lv_contrast_H to age average\n",
    "            pl.col('tbp_lv_contrast_H').truediv(pl.col('tbp_lv_contrast_H').mean())\n",
    "            .over('age_approx')\n",
    "            .cast(pl.Float32).alias('tbp_lv_age_contrast_H'),\n",
    "            \n",
    "            # Ratio of tbp_lv_contrast_L to age average\n",
    "            pl.col('tbp_lv_contrast_L').truediv(pl.col('tbp_lv_contrast_L').mean())\n",
    "            .over('age_approx')\n",
    "            .cast(pl.Float32).alias('tbp_lv_age_contrast_L'),\n",
    "            \n",
    "        ]) \n",
    "        \n",
    "        return df\n",
    "    \n",
    "    def extract_cat_cols(self, df):\n",
    "        \n",
    "        # Define a list of categorical columns\n",
    "        cat_cols = []\n",
    "        \n",
    "        # Find categorical columns\n",
    "        for col in df.columns:\n",
    "            if df[col].dtype == pl.Categorical:\n",
    "                cat_cols.append(col)\n",
    "                \n",
    "        return cat_cols\n",
    "    \n",
    "    def add_cnn_preds(self, df, is_train):\n",
    "\n",
    "        # Use generated predictions for train data\n",
    "        if is_train:\n",
    "\n",
    "            source1 = pd.read_csv(self.source1_path)\n",
    "            source2 = pd.read_csv(self.source2_path)\n",
    "            source3 = pd.read_csv(self.source3_path)\n",
    "            source4 = pd.read_csv(self.source4_path)\n",
    "\n",
    "            source1 = source1[['target_effnetv1b0']]\n",
    "            source2 = source2[['target_effnetv1b0']]\n",
    "            source3 = source3[['target_effnetv1b0']]\n",
    "            source4 = source4[['pred']]\n",
    "\n",
    "            df['target_effnetv1b0'] = source1['target_effnetv1b0']\n",
    "            df['target_nexnetv1b0'] = source2['target_effnetv1b0']\n",
    "            df['target_selnetv1b0'] = source3['target_effnetv1b0']\n",
    "            df['target_3'] = source4['pred']\n",
    "\n",
    "        # Use submission files for test data\n",
    "        else:\n",
    "\n",
    "            subm1 = pd.read_csv(self.subm1_path)\n",
    "            subm2 = pd.read_csv(self.subm2_path)\n",
    "            subm3 = pd.read_csv(self.subm3_path)\n",
    "            subm4 = pd.read_csv(self.subm4_path)\n",
    "\n",
    "            df['target_effnetv1b0'] = subm1['target']\n",
    "            df['target_nexnetv1b0'] = subm2['target']\n",
    "            df['target_selnetv1b0'] = subm3['target']\n",
    "            df['target_3'] = subm4['target']\n",
    "\n",
    "        return df\n",
    "    \n",
    "    def downsample_data(self, df, N):\n",
    "    \n",
    "        # Extract the counts of positive and negative cases\n",
    "        p_cases = df[df['target'] == 1]\n",
    "        n_cases = df[df['target'] == 0]\n",
    "\n",
    "        # Select N negative cases\n",
    "        n_cases = n_cases.sample(n=N, random_state=42)\n",
    "\n",
    "        # Concatenate reduced negative cases with positive cases\n",
    "        df = pd.concat([n_cases, p_cases])\n",
    "\n",
    "        return df\n",
    "    \n",
    "    def display_info(self, df):\n",
    "        \n",
    "        # Display the shape of the DataFrame\n",
    "        print(f'Shape: {df.shape}')\n",
    "            \n",
    "        # Display count of unique patients\n",
    "        count = df['patient_id'].nunique()\n",
    "        print(f'Unique patients: {count}')\n",
    "        \n",
    "        # Display the memory usage of the DataFrame\n",
    "        mem = df.memory_usage().sum() / 1024**2\n",
    "        print('Memory usage: {:.2f} MB\\n'.format(mem))\n",
    "        \n",
    "    def process_data(self, path, N=None, is_train=True):\n",
    "        \n",
    "        # Load and clean dataset\n",
    "        df = self.filter_data(path)\n",
    "        \n",
    "        # Set proper datatypes\n",
    "        df = self.set_datatypes(df)\n",
    "        \n",
    "        # Aggregate dataset\n",
    "        df = self.aggregate_data(df)\n",
    "            \n",
    "        # Extract categorical columns\n",
    "        cat_cols = self.extract_cat_cols(df)\n",
    "        \n",
    "        # Convert to pandas DataFrame\n",
    "        df = df.to_pandas()\n",
    "        \n",
    "        # Add CNN-generated predictions\n",
    "        df = self.add_cnn_preds(df, is_train)\n",
    "        \n",
    "        # Downsample negative cases (only for train data)\n",
    "        if N is not None:\n",
    "            df = self.downsample_data(df, N)\n",
    "        \n",
    "        # Display info about DataFrame\n",
    "        self.display_info(df)\n",
    "        \n",
    "        return df, cat_cols"
   ]
  },
  {
   "cell_type": "code",
   "execution_count": 11,
   "id": "6c332d7b",
   "metadata": {
    "execution": {
     "iopub.execute_input": "2024-08-07T02:29:10.404504Z",
     "iopub.status.busy": "2024-08-07T02:29:10.404156Z",
     "iopub.status.idle": "2024-08-07T02:29:10.409136Z",
     "shell.execute_reply": "2024-08-07T02:29:10.408260Z"
    },
    "papermill": {
     "duration": 0.015739,
     "end_time": "2024-08-07T02:29:10.411129",
     "exception": false,
     "start_time": "2024-08-07T02:29:10.395390",
     "status": "completed"
    },
    "tags": []
   },
   "outputs": [],
   "source": [
    "# Initialize class for feature engineering\n",
    "fe = FeatureEngineering(CFG.source1_path, \n",
    "                        CFG.source2_path, \n",
    "                        CFG.source3_path, \n",
    "                        CFG.source4_path, \n",
    "                        CFG.subm1_path, \n",
    "                        CFG.subm2_path, \n",
    "                        CFG.subm3_path, \n",
    "                        CFG.subm4_path)"
   ]
  },
  {
   "cell_type": "code",
   "execution_count": 12,
   "id": "9678ed9d",
   "metadata": {
    "execution": {
     "iopub.execute_input": "2024-08-07T02:29:10.428265Z",
     "iopub.status.busy": "2024-08-07T02:29:10.427709Z",
     "iopub.status.idle": "2024-08-07T02:29:19.709410Z",
     "shell.execute_reply": "2024-08-07T02:29:19.708446Z"
    },
    "papermill": {
     "duration": 9.292727,
     "end_time": "2024-08-07T02:29:19.711518",
     "exception": false,
     "start_time": "2024-08-07T02:29:10.418791",
     "status": "completed"
    },
    "tags": []
   },
   "outputs": [
    {
     "name": "stdout",
     "output_type": "stream",
     "text": [
      "Shape: (118293, 75)\n",
      "Unique patients: 1037\n",
      "Memory usage: 34.64 MB\n",
      "\n"
     ]
    }
   ],
   "source": [
    "# Load and process train metadata\n",
    "train_data, cat_cols = fe.process_data(CFG.train_path, CFG.N)"
   ]
  },
  {
   "cell_type": "code",
   "execution_count": 13,
   "id": "880a1bcd",
   "metadata": {
    "execution": {
     "iopub.execute_input": "2024-08-07T02:29:19.728749Z",
     "iopub.status.busy": "2024-08-07T02:29:19.728422Z",
     "iopub.status.idle": "2024-08-07T02:29:19.762762Z",
     "shell.execute_reply": "2024-08-07T02:29:19.761540Z"
    },
    "papermill": {
     "duration": 0.045345,
     "end_time": "2024-08-07T02:29:19.764794",
     "exception": false,
     "start_time": "2024-08-07T02:29:19.719449",
     "status": "completed"
    },
    "tags": []
   },
   "outputs": [
    {
     "name": "stdout",
     "output_type": "stream",
     "text": [
      "Shape: (3, 74)\n",
      "Unique patients: 3\n",
      "Memory usage: 0.00 MB\n",
      "\n"
     ]
    }
   ],
   "source": [
    "# Load and process test metadata\n",
    "test_data, _ = fe.process_data(CFG.test_path, is_train=False)"
   ]
  },
  {
   "cell_type": "markdown",
   "id": "5dc1fa41",
   "metadata": {
    "papermill": {
     "duration": 0.008005,
     "end_time": "2024-08-07T02:29:19.781126",
     "exception": false,
     "start_time": "2024-08-07T02:29:19.773121",
     "status": "completed"
    },
    "tags": []
   },
   "source": [
    "<div style=\"background-color: #C9A9A6; padding: 10px; border-radius: 10px;\">\n",
    "    <a class='anchor' id='model-development'></a>\n",
    "    <p style=\"text-align: center; font-size: 140%; font-weight: bold; margin: 0; color: black !important; font-family: 'Arial Rounded MT Bold', Arial, sans-serif; text-shadow: none;\">\n",
    "        <a href=\"#model-development\" style=\"color: black;\">Model Development</a>\n",
    "    </p>\n",
    "</div>"
   ]
  },
  {
   "cell_type": "code",
   "execution_count": 14,
   "id": "aace099f",
   "metadata": {
    "_kg_hide-input": true,
    "execution": {
     "iopub.execute_input": "2024-08-07T02:29:19.799300Z",
     "iopub.status.busy": "2024-08-07T02:29:19.798496Z",
     "iopub.status.idle": "2024-08-07T02:29:19.815888Z",
     "shell.execute_reply": "2024-08-07T02:29:19.814981Z"
    },
    "papermill": {
     "duration": 0.02856,
     "end_time": "2024-08-07T02:29:19.817833",
     "exception": false,
     "start_time": "2024-08-07T02:29:19.789273",
     "status": "completed"
    },
    "tags": []
   },
   "outputs": [],
   "source": [
    "class Metrics:\n",
    "    \n",
    "    @staticmethod\n",
    "    def calculate_pauc(y_true, y_scores, tpr_threshold=0.8):\n",
    "        \n",
    "        # Calculate ROC curve\n",
    "        fpr, tpr, thresholds = roc_curve(y_true, y_scores)\n",
    "        \n",
    "        # Create a mask for TPR values above the threshold\n",
    "        mask = tpr >= tpr_threshold\n",
    "        \n",
    "        # Filter FPR and TPR values based on the mask\n",
    "        fpr_above_threshold = fpr[mask]\n",
    "        tpr_above_threshold = tpr[mask]\n",
    "        \n",
    "        # Calculate the partial AUC\n",
    "        partial_auc = auc(fpr_above_threshold, tpr_above_threshold)\n",
    "        \n",
    "        # Normalize the partial AUC\n",
    "        pauc = partial_auc * (1 - tpr_threshold)\n",
    "        \n",
    "        return pauc  \n",
    "    \n",
    "    @staticmethod\n",
    "    def plot_cv(fold_scores, model_name):\n",
    "        \n",
    "        # Round the fold scores to 4 decimal places\n",
    "        fold_scores = [round(score, 4) for score in fold_scores]\n",
    "        mean_score = round(np.mean(fold_scores), 4)\n",
    "        std_score = round(np.std(fold_scores), 4)\n",
    "\n",
    "        # Create a new figure for plotting\n",
    "        fig = go.Figure()\n",
    "\n",
    "        # Add scatter plot for individual fold scores\n",
    "        fig.add_trace(go.Scatter(\n",
    "            x = list(range(1, len(fold_scores) + 1)),\n",
    "            y = fold_scores,\n",
    "            mode = 'lines+markers',\n",
    "            name = 'Fold Scores',\n",
    "            line = dict(color = '#E30B5C', width = 2), # Raspberry\n",
    "            marker = dict(size = 12, color = '#E30B5C'), # Larger markers, Raspberry\n",
    "            text = [f'{score:.4f}' for score in fold_scores],\n",
    "            hovertemplate = 'Fold %{x}: %{text}<extra></extra>'\n",
    "        ))\n",
    "\n",
    "        # Add a horizontal line for the mean score\n",
    "        fig.add_trace(go.Scatter(\n",
    "            x = [1, len(fold_scores)],\n",
    "            y = [mean_score, mean_score],\n",
    "            mode = 'lines',\n",
    "            name = f'Mean: {mean_score:.4f}',\n",
    "            line = dict(dash = 'dash', color = '#FFAC1C'), # Bright Orange\n",
    "            hoverinfo = 'none'\n",
    "        ))\n",
    "\n",
    "        # Update the layout of the plot\n",
    "        fig.update_layout(\n",
    "            title = f'{model_name} Cross-Validation pAUC Scores | Variation of CV scores: {mean_score} ± {std_score}',\n",
    "            xaxis_title = 'Fold',\n",
    "            yaxis_title = 'pAUC Score',\n",
    "            plot_bgcolor = 'rgba(0,0,0,0)',\n",
    "            paper_bgcolor = 'rgba(0,0,0,0)',\n",
    "            xaxis = dict(\n",
    "                gridcolor = 'lightgray',\n",
    "                tickmode = 'linear',\n",
    "                tick0 = 1,\n",
    "                dtick = 1,\n",
    "                range = [0.5, len(fold_scores) + 0.5]\n",
    "            ),\n",
    "            yaxis = dict(gridcolor = 'lightgray')\n",
    "        )\n",
    "\n",
    "        # Display the plot\n",
    "        fig.show() \n",
    "        \n",
    "    @staticmethod\n",
    "    def plot_cm(y_true, y_pred):\n",
    "        \n",
    "        # Get unique labels\n",
    "        labels = sorted(np.unique(y_true))\n",
    "        \n",
    "        # Compute confusion matrix\n",
    "        cm = confusion_matrix(y_true, \n",
    "                              y_pred=(y_pred > 0.5).astype(int), \n",
    "                              labels=labels)\n",
    "      \n",
    "        # Create the heatmap\n",
    "        fig = go.Figure(data=go.Heatmap(\n",
    "            z=cm,\n",
    "            x=labels,\n",
    "            y=labels,\n",
    "            colorscale='Redor',\n",
    "            zmin=0,\n",
    "            \n",
    "            # Use the maximum value in the confusion matrix\n",
    "            zmax=np.max(cm),  \n",
    "            text=cm,\n",
    "            texttemplate='%{text:.0f}',\n",
    "            hovertemplate='True: %{y}<br>Predicted: %{x}<br>Count: %{z:,.0f}<extra></extra>',\n",
    "            \n",
    "            # Create a custom hover text format\n",
    "            customdata = [str(int(val)) for val in cm.flatten()]\n",
    "        ))\n",
    "        \n",
    "        # Update layout for a transparent background and square aspect ratio\n",
    "        fig.update_layout(\n",
    "            plot_bgcolor='rgba(0,0,0,0)',\n",
    "            paper_bgcolor='rgba(0,0,0,0)',\n",
    "            xaxis_title='Predicted Labels',\n",
    "            yaxis_title='True Labels',\n",
    "            xaxis=dict(constrain='domain'),\n",
    "            yaxis=dict(constrain='domain', scaleanchor='x'),\n",
    "            width=800,  \n",
    "            height=800,  \n",
    "            margin=dict(t=80, b=80, l=80, r=80) \n",
    "        )\n",
    "        \n",
    "        # Show the plot\n",
    "        fig.show()"
   ]
  },
  {
   "cell_type": "code",
   "execution_count": 15,
   "id": "0c87640d",
   "metadata": {
    "execution": {
     "iopub.execute_input": "2024-08-07T02:29:19.835760Z",
     "iopub.status.busy": "2024-08-07T02:29:19.835438Z",
     "iopub.status.idle": "2024-08-07T02:29:19.859224Z",
     "shell.execute_reply": "2024-08-07T02:29:19.858294Z"
    },
    "papermill": {
     "duration": 0.035231,
     "end_time": "2024-08-07T02:29:19.861131",
     "exception": false,
     "start_time": "2024-08-07T02:29:19.825900",
     "status": "completed"
    },
    "tags": []
   },
   "outputs": [],
   "source": [
    "class ModelDevelopment:\n",
    "   \n",
    "    @staticmethod\n",
    "    def train_lgb(data, cat_cols, params, early_stop):\n",
    "        \n",
    "        # Convert categorical columns to category dtype\n",
    "        for col in cat_cols:\n",
    "            data[col] = data[col].astype('category')\n",
    "        \n",
    "        # Split features and label\n",
    "        X = data.drop(['target', 'patient_id'], axis=1)\n",
    "        y = data['target']\n",
    "        groups = data['patient_id']\n",
    "        \n",
    "        # Initialize cross validation strategy (GroupKFold)\n",
    "        cv = GroupKFold(5)\n",
    "        \n",
    "        # Initialize lists to store models and cv scores\n",
    "        models = []\n",
    "        scores = []\n",
    "        \n",
    "        # Perform cross-validation\n",
    "        for fold, (train_index, valid_index) in enumerate(cv.split(X, y, groups)):\n",
    "            \n",
    "            # Split the data into training and validation sets for the current fold\n",
    "            X_train, X_valid = X.iloc[train_index], X.iloc[valid_index]\n",
    "            y_train, y_valid = y.iloc[train_index], y.iloc[valid_index]\n",
    "            \n",
    "            # Create LightGBM datasets\n",
    "            train_data = lgb.Dataset(X_train, label=y_train, categorical_feature=cat_cols)\n",
    "            valid_data = lgb.Dataset(X_valid, label=y_valid, categorical_feature=cat_cols, reference=train_data)\n",
    "            \n",
    "            # Train the model\n",
    "            model = lgb.train(params, \n",
    "                              train_data, \n",
    "                              valid_sets=[valid_data], \n",
    "                              callbacks=[lgb.early_stopping(early_stop, verbose=0), \n",
    "                                         lgb.log_evaluation(0)])\n",
    "            \n",
    "            # Append the trained model to the list\n",
    "            models.append(model)\n",
    "            \n",
    "            # Calculate and store the pAUC score for the current (valid) fold\n",
    "            y_pred = model.predict(X_valid)\n",
    "            score = Metrics.calculate_pauc(y_valid, y_pred)\n",
    "            scores.append(score)\n",
    "        \n",
    "        # Plot the cross-validation results\n",
    "        Metrics.plot_cv(scores, 'LightGBM')\n",
    "        \n",
    "        return models\n",
    "    \n",
    "    @staticmethod\n",
    "    def train_ctb(data, cat_cols, params, early_stop):\n",
    "        \n",
    "        # Convert categorical columns to string\n",
    "        for col in cat_cols:\n",
    "            data[col] = data[col].astype(str)\n",
    "        \n",
    "        # Split features and label\n",
    "        X = data.drop(['target', 'patient_id'], axis=1)\n",
    "        y = data['target']\n",
    "        groups = data['patient_id']\n",
    "        \n",
    "        # Initialize cross validation strategy (GroupKFold)\n",
    "        cv = GroupKFold(5)\n",
    "        \n",
    "        # Initialize lists to store models and cv scores\n",
    "        models = []\n",
    "        scores = []\n",
    "        \n",
    "        # Perform cross-validation\n",
    "        for fold, (train_index, valid_index) in enumerate(cv.split(X, y, groups)):\n",
    "            \n",
    "            # Split the data into training and validation sets for the current fold\n",
    "            X_train, X_valid = X.iloc[train_index], X.iloc[valid_index]\n",
    "            y_train, y_valid = y.iloc[train_index], y.iloc[valid_index]\n",
    "            \n",
    "            # Create CatBoost pools\n",
    "            train_pool = Pool(X_train, y_train, cat_features=cat_cols)\n",
    "            valid_pool = Pool(X_valid, y_valid, cat_features=cat_cols)\n",
    "            \n",
    "            # Initialize CatBoost\n",
    "            model = CatBoostClassifier(**params, verbose=0)\n",
    "            \n",
    "            # Train the model\n",
    "            model.fit(train_pool, \n",
    "                      eval_set=valid_pool, \n",
    "                      early_stopping_rounds=early_stop)\n",
    "            \n",
    "            # Append the trained model to the list\n",
    "            models.append(model)\n",
    "            \n",
    "            # Calculate and store the pAUC score for the current (valid) fold\n",
    "            y_pred = model.predict_proba(valid_pool)[:, 1]\n",
    "            score = Metrics.calculate_pauc(y_valid, y_pred)\n",
    "            scores.append(score)\n",
    "        \n",
    "        # Plot the cross-validation results\n",
    "        Metrics.plot_cv(scores, 'CatBoost')\n",
    "        \n",
    "        return models\n",
    "\n",
    "    @staticmethod\n",
    "    def infer_lgb(data, cat_cols, models):\n",
    "\n",
    "        # Convert categorical columns to category dtype\n",
    "        for col in cat_cols:\n",
    "            data[col] = data[col].astype('category')\n",
    "\n",
    "        # Average the predictions of the LightGBM classifiers\n",
    "        preds = np.mean([model.predict(data) for model in models], axis=0)\n",
    "\n",
    "        return preds    \n",
    "    \n",
    "    @staticmethod\n",
    "    def infer_ctb(data, cat_cols, models):\n",
    "        \n",
    "        # Convert categorical columns to string\n",
    "        for col in cat_cols:\n",
    "            data[col] = data[col].astype(str)\n",
    "        \n",
    "        # Create CatBoost pool for inference\n",
    "        inference_pool = Pool(data, cat_features=cat_cols)\n",
    "        \n",
    "        # Average the predictions of the CatBoost classifiers\n",
    "        preds = np.mean([model.predict_proba(inference_pool)[:, 1] for model in models], axis=0)\n",
    "        \n",
    "        return preds\n",
    "   \n",
    "    def generate_preds(self, train, test, cat_cols, lgb_params, ctb_params, early_stop, lgb_weight, ctb_weight):\n",
    "        \n",
    "        # Train LightGBM and CatBoost\n",
    "        lgb_models = self.train_lgb(train, cat_cols, lgb_params, early_stop)\n",
    "        ctb_models = self.train_ctb(train, cat_cols, ctb_params, early_stop)\n",
    "        \n",
    "        # Extract features label column from train data\n",
    "        X = train.drop(['target', 'patient_id'], axis=1)\n",
    "        y = train['target']\n",
    "        \n",
    "        # Infer LightGBM and CatBoost on train data\n",
    "        train_lgb_preds = self.infer_lgb(X, cat_cols, lgb_models)\n",
    "        train_ctb_preds = self.infer_ctb(X, cat_cols, ctb_models)\n",
    "        \n",
    "        # Weight-ensemble LightGBM and CatBoost predictions\n",
    "        train_preds = train_lgb_preds * lgb_weight + train_ctb_preds * ctb_weight\n",
    "        \n",
    "        # Calculate pAUC scores\n",
    "        train_pauc = Metrics.calculate_pauc(y, train_preds)\n",
    "        print(f'Ensemble pAUC: {train_pauc:.3f}')\n",
    "    \n",
    "        # Plot confusion matrix for Ensemble predictions on train data\n",
    "        print('Ensemble confusion matrix:')\n",
    "        Metrics.plot_cm(y, train_preds)  \n",
    "        \n",
    "        # Prepare test data for inference\n",
    "        test = test.drop('patient_id', axis=1)\n",
    "\n",
    "        # Infer LightGBM and CatBoost on test data\n",
    "        test_lgb_preds = self.infer_lgb(test, cat_cols, lgb_models)\n",
    "        test_ctb_preds = self.infer_ctb(test, cat_cols, ctb_models)\n",
    "        \n",
    "        # Weight-ensemble LightGBM and CatBoost predictions\n",
    "        test_preds = test_lgb_preds * lgb_weight + test_ctb_preds * ctb_weight\n",
    "        \n",
    "        return test_preds"
   ]
  },
  {
   "cell_type": "code",
   "execution_count": 16,
   "id": "dd673787",
   "metadata": {
    "execution": {
     "iopub.execute_input": "2024-08-07T02:29:19.879869Z",
     "iopub.status.busy": "2024-08-07T02:29:19.879030Z",
     "iopub.status.idle": "2024-08-07T02:29:19.883215Z",
     "shell.execute_reply": "2024-08-07T02:29:19.882365Z"
    },
    "papermill": {
     "duration": 0.015516,
     "end_time": "2024-08-07T02:29:19.885161",
     "exception": false,
     "start_time": "2024-08-07T02:29:19.869645",
     "status": "completed"
    },
    "tags": []
   },
   "outputs": [],
   "source": [
    "# Initialize class for model training\n",
    "md = ModelDevelopment()"
   ]
  },
  {
   "cell_type": "code",
   "execution_count": 17,
   "id": "3877c377",
   "metadata": {
    "execution": {
     "iopub.execute_input": "2024-08-07T02:29:19.902769Z",
     "iopub.status.busy": "2024-08-07T02:29:19.902478Z",
     "iopub.status.idle": "2024-08-07T02:31:42.621754Z",
     "shell.execute_reply": "2024-08-07T02:31:42.620995Z"
    },
    "papermill": {
     "duration": 142.730492,
     "end_time": "2024-08-07T02:31:42.624014",
     "exception": false,
     "start_time": "2024-08-07T02:29:19.893522",
     "status": "completed"
    },
    "tags": []
   },
   "outputs": [
    {
     "data": {
      "text/html": [
       "        <script type=\"text/javascript\">\n",
       "        window.PlotlyConfig = {MathJaxConfig: 'local'};\n",
       "        if (window.MathJax && window.MathJax.Hub && window.MathJax.Hub.Config) {window.MathJax.Hub.Config({SVG: {font: \"STIX-Web\"}});}\n",
       "        if (typeof require !== 'undefined') {\n",
       "        require.undef(\"plotly\");\n",
       "        requirejs.config({\n",
       "            paths: {\n",
       "                'plotly': ['https://cdn.plot.ly/plotly-2.27.0.min']\n",
       "            }\n",
       "        });\n",
       "        require(['plotly'], function(Plotly) {\n",
       "            window._Plotly = Plotly;\n",
       "        });\n",
       "        }\n",
       "        </script>\n",
       "        "
      ]
     },
     "metadata": {},
     "output_type": "display_data"
    },
    {
     "data": {
      "text/html": [
       "<div>                            <div id=\"005d4fa6-c206-436e-b8c9-9633d7510002\" class=\"plotly-graph-div\" style=\"height:525px; width:100%;\"></div>            <script type=\"text/javascript\">                require([\"plotly\"], function(Plotly) {                    window.PLOTLYENV=window.PLOTLYENV || {};                                    if (document.getElementById(\"005d4fa6-c206-436e-b8c9-9633d7510002\")) {                    Plotly.newPlot(                        \"005d4fa6-c206-436e-b8c9-9633d7510002\",                        [{\"hovertemplate\":\"Fold %{x}: %{text}\\u003cextra\\u003e\\u003c\\u002fextra\\u003e\",\"line\":{\"color\":\"#E30B5C\",\"width\":2},\"marker\":{\"color\":\"#E30B5C\",\"size\":12},\"mode\":\"lines+markers\",\"name\":\"Fold Scores\",\"text\":[\"0.1943\",\"0.1952\",\"0.1953\",\"0.1898\",\"0.1936\"],\"x\":[1,2,3,4,5],\"y\":[0.1943,0.1952,0.1953,0.1898,0.1936],\"type\":\"scatter\"},{\"hoverinfo\":\"none\",\"line\":{\"color\":\"#FFAC1C\",\"dash\":\"dash\"},\"mode\":\"lines\",\"name\":\"Mean: 0.1936\",\"x\":[1,5],\"y\":[0.1936,0.1936],\"type\":\"scatter\"}],                        {\"template\":{\"data\":{\"histogram2dcontour\":[{\"type\":\"histogram2dcontour\",\"colorbar\":{\"outlinewidth\":0,\"ticks\":\"\"},\"colorscale\":[[0.0,\"#0d0887\"],[0.1111111111111111,\"#46039f\"],[0.2222222222222222,\"#7201a8\"],[0.3333333333333333,\"#9c179e\"],[0.4444444444444444,\"#bd3786\"],[0.5555555555555556,\"#d8576b\"],[0.6666666666666666,\"#ed7953\"],[0.7777777777777778,\"#fb9f3a\"],[0.8888888888888888,\"#fdca26\"],[1.0,\"#f0f921\"]]}],\"choropleth\":[{\"type\":\"choropleth\",\"colorbar\":{\"outlinewidth\":0,\"ticks\":\"\"}}],\"histogram2d\":[{\"type\":\"histogram2d\",\"colorbar\":{\"outlinewidth\":0,\"ticks\":\"\"},\"colorscale\":[[0.0,\"#0d0887\"],[0.1111111111111111,\"#46039f\"],[0.2222222222222222,\"#7201a8\"],[0.3333333333333333,\"#9c179e\"],[0.4444444444444444,\"#bd3786\"],[0.5555555555555556,\"#d8576b\"],[0.6666666666666666,\"#ed7953\"],[0.7777777777777778,\"#fb9f3a\"],[0.8888888888888888,\"#fdca26\"],[1.0,\"#f0f921\"]]}],\"heatmap\":[{\"type\":\"heatmap\",\"colorbar\":{\"outlinewidth\":0,\"ticks\":\"\"},\"colorscale\":[[0.0,\"#0d0887\"],[0.1111111111111111,\"#46039f\"],[0.2222222222222222,\"#7201a8\"],[0.3333333333333333,\"#9c179e\"],[0.4444444444444444,\"#bd3786\"],[0.5555555555555556,\"#d8576b\"],[0.6666666666666666,\"#ed7953\"],[0.7777777777777778,\"#fb9f3a\"],[0.8888888888888888,\"#fdca26\"],[1.0,\"#f0f921\"]]}],\"heatmapgl\":[{\"type\":\"heatmapgl\",\"colorbar\":{\"outlinewidth\":0,\"ticks\":\"\"},\"colorscale\":[[0.0,\"#0d0887\"],[0.1111111111111111,\"#46039f\"],[0.2222222222222222,\"#7201a8\"],[0.3333333333333333,\"#9c179e\"],[0.4444444444444444,\"#bd3786\"],[0.5555555555555556,\"#d8576b\"],[0.6666666666666666,\"#ed7953\"],[0.7777777777777778,\"#fb9f3a\"],[0.8888888888888888,\"#fdca26\"],[1.0,\"#f0f921\"]]}],\"contourcarpet\":[{\"type\":\"contourcarpet\",\"colorbar\":{\"outlinewidth\":0,\"ticks\":\"\"}}],\"contour\":[{\"type\":\"contour\",\"colorbar\":{\"outlinewidth\":0,\"ticks\":\"\"},\"colorscale\":[[0.0,\"#0d0887\"],[0.1111111111111111,\"#46039f\"],[0.2222222222222222,\"#7201a8\"],[0.3333333333333333,\"#9c179e\"],[0.4444444444444444,\"#bd3786\"],[0.5555555555555556,\"#d8576b\"],[0.6666666666666666,\"#ed7953\"],[0.7777777777777778,\"#fb9f3a\"],[0.8888888888888888,\"#fdca26\"],[1.0,\"#f0f921\"]]}],\"surface\":[{\"type\":\"surface\",\"colorbar\":{\"outlinewidth\":0,\"ticks\":\"\"},\"colorscale\":[[0.0,\"#0d0887\"],[0.1111111111111111,\"#46039f\"],[0.2222222222222222,\"#7201a8\"],[0.3333333333333333,\"#9c179e\"],[0.4444444444444444,\"#bd3786\"],[0.5555555555555556,\"#d8576b\"],[0.6666666666666666,\"#ed7953\"],[0.7777777777777778,\"#fb9f3a\"],[0.8888888888888888,\"#fdca26\"],[1.0,\"#f0f921\"]]}],\"mesh3d\":[{\"type\":\"mesh3d\",\"colorbar\":{\"outlinewidth\":0,\"ticks\":\"\"}}],\"scatter\":[{\"fillpattern\":{\"fillmode\":\"overlay\",\"size\":10,\"solidity\":0.2},\"type\":\"scatter\"}],\"parcoords\":[{\"type\":\"parcoords\",\"line\":{\"colorbar\":{\"outlinewidth\":0,\"ticks\":\"\"}}}],\"scatterpolargl\":[{\"type\":\"scatterpolargl\",\"marker\":{\"colorbar\":{\"outlinewidth\":0,\"ticks\":\"\"}}}],\"bar\":[{\"error_x\":{\"color\":\"#2a3f5f\"},\"error_y\":{\"color\":\"#2a3f5f\"},\"marker\":{\"line\":{\"color\":\"#E5ECF6\",\"width\":0.5},\"pattern\":{\"fillmode\":\"overlay\",\"size\":10,\"solidity\":0.2}},\"type\":\"bar\"}],\"scattergeo\":[{\"type\":\"scattergeo\",\"marker\":{\"colorbar\":{\"outlinewidth\":0,\"ticks\":\"\"}}}],\"scatterpolar\":[{\"type\":\"scatterpolar\",\"marker\":{\"colorbar\":{\"outlinewidth\":0,\"ticks\":\"\"}}}],\"histogram\":[{\"marker\":{\"pattern\":{\"fillmode\":\"overlay\",\"size\":10,\"solidity\":0.2}},\"type\":\"histogram\"}],\"scattergl\":[{\"type\":\"scattergl\",\"marker\":{\"colorbar\":{\"outlinewidth\":0,\"ticks\":\"\"}}}],\"scatter3d\":[{\"type\":\"scatter3d\",\"line\":{\"colorbar\":{\"outlinewidth\":0,\"ticks\":\"\"}},\"marker\":{\"colorbar\":{\"outlinewidth\":0,\"ticks\":\"\"}}}],\"scattermapbox\":[{\"type\":\"scattermapbox\",\"marker\":{\"colorbar\":{\"outlinewidth\":0,\"ticks\":\"\"}}}],\"scatterternary\":[{\"type\":\"scatterternary\",\"marker\":{\"colorbar\":{\"outlinewidth\":0,\"ticks\":\"\"}}}],\"scattercarpet\":[{\"type\":\"scattercarpet\",\"marker\":{\"colorbar\":{\"outlinewidth\":0,\"ticks\":\"\"}}}],\"carpet\":[{\"aaxis\":{\"endlinecolor\":\"#2a3f5f\",\"gridcolor\":\"white\",\"linecolor\":\"white\",\"minorgridcolor\":\"white\",\"startlinecolor\":\"#2a3f5f\"},\"baxis\":{\"endlinecolor\":\"#2a3f5f\",\"gridcolor\":\"white\",\"linecolor\":\"white\",\"minorgridcolor\":\"white\",\"startlinecolor\":\"#2a3f5f\"},\"type\":\"carpet\"}],\"table\":[{\"cells\":{\"fill\":{\"color\":\"#EBF0F8\"},\"line\":{\"color\":\"white\"}},\"header\":{\"fill\":{\"color\":\"#C8D4E3\"},\"line\":{\"color\":\"white\"}},\"type\":\"table\"}],\"barpolar\":[{\"marker\":{\"line\":{\"color\":\"#E5ECF6\",\"width\":0.5},\"pattern\":{\"fillmode\":\"overlay\",\"size\":10,\"solidity\":0.2}},\"type\":\"barpolar\"}],\"pie\":[{\"automargin\":true,\"type\":\"pie\"}]},\"layout\":{\"autotypenumbers\":\"strict\",\"colorway\":[\"#636efa\",\"#EF553B\",\"#00cc96\",\"#ab63fa\",\"#FFA15A\",\"#19d3f3\",\"#FF6692\",\"#B6E880\",\"#FF97FF\",\"#FECB52\"],\"font\":{\"color\":\"#2a3f5f\"},\"hovermode\":\"closest\",\"hoverlabel\":{\"align\":\"left\"},\"paper_bgcolor\":\"white\",\"plot_bgcolor\":\"#E5ECF6\",\"polar\":{\"bgcolor\":\"#E5ECF6\",\"angularaxis\":{\"gridcolor\":\"white\",\"linecolor\":\"white\",\"ticks\":\"\"},\"radialaxis\":{\"gridcolor\":\"white\",\"linecolor\":\"white\",\"ticks\":\"\"}},\"ternary\":{\"bgcolor\":\"#E5ECF6\",\"aaxis\":{\"gridcolor\":\"white\",\"linecolor\":\"white\",\"ticks\":\"\"},\"baxis\":{\"gridcolor\":\"white\",\"linecolor\":\"white\",\"ticks\":\"\"},\"caxis\":{\"gridcolor\":\"white\",\"linecolor\":\"white\",\"ticks\":\"\"}},\"coloraxis\":{\"colorbar\":{\"outlinewidth\":0,\"ticks\":\"\"}},\"colorscale\":{\"sequential\":[[0.0,\"#0d0887\"],[0.1111111111111111,\"#46039f\"],[0.2222222222222222,\"#7201a8\"],[0.3333333333333333,\"#9c179e\"],[0.4444444444444444,\"#bd3786\"],[0.5555555555555556,\"#d8576b\"],[0.6666666666666666,\"#ed7953\"],[0.7777777777777778,\"#fb9f3a\"],[0.8888888888888888,\"#fdca26\"],[1.0,\"#f0f921\"]],\"sequentialminus\":[[0.0,\"#0d0887\"],[0.1111111111111111,\"#46039f\"],[0.2222222222222222,\"#7201a8\"],[0.3333333333333333,\"#9c179e\"],[0.4444444444444444,\"#bd3786\"],[0.5555555555555556,\"#d8576b\"],[0.6666666666666666,\"#ed7953\"],[0.7777777777777778,\"#fb9f3a\"],[0.8888888888888888,\"#fdca26\"],[1.0,\"#f0f921\"]],\"diverging\":[[0,\"#8e0152\"],[0.1,\"#c51b7d\"],[0.2,\"#de77ae\"],[0.3,\"#f1b6da\"],[0.4,\"#fde0ef\"],[0.5,\"#f7f7f7\"],[0.6,\"#e6f5d0\"],[0.7,\"#b8e186\"],[0.8,\"#7fbc41\"],[0.9,\"#4d9221\"],[1,\"#276419\"]]},\"xaxis\":{\"gridcolor\":\"white\",\"linecolor\":\"white\",\"ticks\":\"\",\"title\":{\"standoff\":15},\"zerolinecolor\":\"white\",\"automargin\":true,\"zerolinewidth\":2},\"yaxis\":{\"gridcolor\":\"white\",\"linecolor\":\"white\",\"ticks\":\"\",\"title\":{\"standoff\":15},\"zerolinecolor\":\"white\",\"automargin\":true,\"zerolinewidth\":2},\"scene\":{\"xaxis\":{\"backgroundcolor\":\"#E5ECF6\",\"gridcolor\":\"white\",\"linecolor\":\"white\",\"showbackground\":true,\"ticks\":\"\",\"zerolinecolor\":\"white\",\"gridwidth\":2},\"yaxis\":{\"backgroundcolor\":\"#E5ECF6\",\"gridcolor\":\"white\",\"linecolor\":\"white\",\"showbackground\":true,\"ticks\":\"\",\"zerolinecolor\":\"white\",\"gridwidth\":2},\"zaxis\":{\"backgroundcolor\":\"#E5ECF6\",\"gridcolor\":\"white\",\"linecolor\":\"white\",\"showbackground\":true,\"ticks\":\"\",\"zerolinecolor\":\"white\",\"gridwidth\":2}},\"shapedefaults\":{\"line\":{\"color\":\"#2a3f5f\"}},\"annotationdefaults\":{\"arrowcolor\":\"#2a3f5f\",\"arrowhead\":0,\"arrowwidth\":1},\"geo\":{\"bgcolor\":\"white\",\"landcolor\":\"#E5ECF6\",\"subunitcolor\":\"white\",\"showland\":true,\"showlakes\":true,\"lakecolor\":\"white\"},\"title\":{\"x\":0.05},\"mapbox\":{\"style\":\"light\"}}},\"xaxis\":{\"title\":{\"text\":\"Fold\"},\"gridcolor\":\"lightgray\",\"tickmode\":\"linear\",\"tick0\":1,\"dtick\":1,\"range\":[0.5,5.5]},\"yaxis\":{\"title\":{\"text\":\"pAUC Score\"},\"gridcolor\":\"lightgray\"},\"title\":{\"text\":\"LightGBM Cross-Validation pAUC Scores | Variation of CV scores: 0.1936 ± 0.002\"},\"plot_bgcolor\":\"rgba(0,0,0,0)\",\"paper_bgcolor\":\"rgba(0,0,0,0)\"},                        {\"responsive\": true}                    ).then(function(){\n",
       "                            \n",
       "var gd = document.getElementById('005d4fa6-c206-436e-b8c9-9633d7510002');\n",
       "var x = new MutationObserver(function (mutations, observer) {{\n",
       "        var display = window.getComputedStyle(gd).display;\n",
       "        if (!display || display === 'none') {{\n",
       "            console.log([gd, 'removed!']);\n",
       "            Plotly.purge(gd);\n",
       "            observer.disconnect();\n",
       "        }}\n",
       "}});\n",
       "\n",
       "// Listen for the removal of the full notebook cells\n",
       "var notebookContainer = gd.closest('#notebook-container');\n",
       "if (notebookContainer) {{\n",
       "    x.observe(notebookContainer, {childList: true});\n",
       "}}\n",
       "\n",
       "// Listen for the clearing of the current output cell\n",
       "var outputEl = gd.closest('.output');\n",
       "if (outputEl) {{\n",
       "    x.observe(outputEl, {childList: true});\n",
       "}}\n",
       "\n",
       "                        })                };                });            </script>        </div>"
      ]
     },
     "metadata": {},
     "output_type": "display_data"
    },
    {
     "data": {
      "text/html": [
       "<div>                            <div id=\"16cff9c2-bce2-4968-a222-07531ce9dc37\" class=\"plotly-graph-div\" style=\"height:525px; width:100%;\"></div>            <script type=\"text/javascript\">                require([\"plotly\"], function(Plotly) {                    window.PLOTLYENV=window.PLOTLYENV || {};                                    if (document.getElementById(\"16cff9c2-bce2-4968-a222-07531ce9dc37\")) {                    Plotly.newPlot(                        \"16cff9c2-bce2-4968-a222-07531ce9dc37\",                        [{\"hovertemplate\":\"Fold %{x}: %{text}\\u003cextra\\u003e\\u003c\\u002fextra\\u003e\",\"line\":{\"color\":\"#E30B5C\",\"width\":2},\"marker\":{\"color\":\"#E30B5C\",\"size\":12},\"mode\":\"lines+markers\",\"name\":\"Fold Scores\",\"text\":[\"0.1947\",\"0.1918\",\"0.1943\",\"0.1902\",\"0.1933\"],\"x\":[1,2,3,4,5],\"y\":[0.1947,0.1918,0.1943,0.1902,0.1933],\"type\":\"scatter\"},{\"hoverinfo\":\"none\",\"line\":{\"color\":\"#FFAC1C\",\"dash\":\"dash\"},\"mode\":\"lines\",\"name\":\"Mean: 0.1929\",\"x\":[1,5],\"y\":[0.1929,0.1929],\"type\":\"scatter\"}],                        {\"template\":{\"data\":{\"histogram2dcontour\":[{\"type\":\"histogram2dcontour\",\"colorbar\":{\"outlinewidth\":0,\"ticks\":\"\"},\"colorscale\":[[0.0,\"#0d0887\"],[0.1111111111111111,\"#46039f\"],[0.2222222222222222,\"#7201a8\"],[0.3333333333333333,\"#9c179e\"],[0.4444444444444444,\"#bd3786\"],[0.5555555555555556,\"#d8576b\"],[0.6666666666666666,\"#ed7953\"],[0.7777777777777778,\"#fb9f3a\"],[0.8888888888888888,\"#fdca26\"],[1.0,\"#f0f921\"]]}],\"choropleth\":[{\"type\":\"choropleth\",\"colorbar\":{\"outlinewidth\":0,\"ticks\":\"\"}}],\"histogram2d\":[{\"type\":\"histogram2d\",\"colorbar\":{\"outlinewidth\":0,\"ticks\":\"\"},\"colorscale\":[[0.0,\"#0d0887\"],[0.1111111111111111,\"#46039f\"],[0.2222222222222222,\"#7201a8\"],[0.3333333333333333,\"#9c179e\"],[0.4444444444444444,\"#bd3786\"],[0.5555555555555556,\"#d8576b\"],[0.6666666666666666,\"#ed7953\"],[0.7777777777777778,\"#fb9f3a\"],[0.8888888888888888,\"#fdca26\"],[1.0,\"#f0f921\"]]}],\"heatmap\":[{\"type\":\"heatmap\",\"colorbar\":{\"outlinewidth\":0,\"ticks\":\"\"},\"colorscale\":[[0.0,\"#0d0887\"],[0.1111111111111111,\"#46039f\"],[0.2222222222222222,\"#7201a8\"],[0.3333333333333333,\"#9c179e\"],[0.4444444444444444,\"#bd3786\"],[0.5555555555555556,\"#d8576b\"],[0.6666666666666666,\"#ed7953\"],[0.7777777777777778,\"#fb9f3a\"],[0.8888888888888888,\"#fdca26\"],[1.0,\"#f0f921\"]]}],\"heatmapgl\":[{\"type\":\"heatmapgl\",\"colorbar\":{\"outlinewidth\":0,\"ticks\":\"\"},\"colorscale\":[[0.0,\"#0d0887\"],[0.1111111111111111,\"#46039f\"],[0.2222222222222222,\"#7201a8\"],[0.3333333333333333,\"#9c179e\"],[0.4444444444444444,\"#bd3786\"],[0.5555555555555556,\"#d8576b\"],[0.6666666666666666,\"#ed7953\"],[0.7777777777777778,\"#fb9f3a\"],[0.8888888888888888,\"#fdca26\"],[1.0,\"#f0f921\"]]}],\"contourcarpet\":[{\"type\":\"contourcarpet\",\"colorbar\":{\"outlinewidth\":0,\"ticks\":\"\"}}],\"contour\":[{\"type\":\"contour\",\"colorbar\":{\"outlinewidth\":0,\"ticks\":\"\"},\"colorscale\":[[0.0,\"#0d0887\"],[0.1111111111111111,\"#46039f\"],[0.2222222222222222,\"#7201a8\"],[0.3333333333333333,\"#9c179e\"],[0.4444444444444444,\"#bd3786\"],[0.5555555555555556,\"#d8576b\"],[0.6666666666666666,\"#ed7953\"],[0.7777777777777778,\"#fb9f3a\"],[0.8888888888888888,\"#fdca26\"],[1.0,\"#f0f921\"]]}],\"surface\":[{\"type\":\"surface\",\"colorbar\":{\"outlinewidth\":0,\"ticks\":\"\"},\"colorscale\":[[0.0,\"#0d0887\"],[0.1111111111111111,\"#46039f\"],[0.2222222222222222,\"#7201a8\"],[0.3333333333333333,\"#9c179e\"],[0.4444444444444444,\"#bd3786\"],[0.5555555555555556,\"#d8576b\"],[0.6666666666666666,\"#ed7953\"],[0.7777777777777778,\"#fb9f3a\"],[0.8888888888888888,\"#fdca26\"],[1.0,\"#f0f921\"]]}],\"mesh3d\":[{\"type\":\"mesh3d\",\"colorbar\":{\"outlinewidth\":0,\"ticks\":\"\"}}],\"scatter\":[{\"fillpattern\":{\"fillmode\":\"overlay\",\"size\":10,\"solidity\":0.2},\"type\":\"scatter\"}],\"parcoords\":[{\"type\":\"parcoords\",\"line\":{\"colorbar\":{\"outlinewidth\":0,\"ticks\":\"\"}}}],\"scatterpolargl\":[{\"type\":\"scatterpolargl\",\"marker\":{\"colorbar\":{\"outlinewidth\":0,\"ticks\":\"\"}}}],\"bar\":[{\"error_x\":{\"color\":\"#2a3f5f\"},\"error_y\":{\"color\":\"#2a3f5f\"},\"marker\":{\"line\":{\"color\":\"#E5ECF6\",\"width\":0.5},\"pattern\":{\"fillmode\":\"overlay\",\"size\":10,\"solidity\":0.2}},\"type\":\"bar\"}],\"scattergeo\":[{\"type\":\"scattergeo\",\"marker\":{\"colorbar\":{\"outlinewidth\":0,\"ticks\":\"\"}}}],\"scatterpolar\":[{\"type\":\"scatterpolar\",\"marker\":{\"colorbar\":{\"outlinewidth\":0,\"ticks\":\"\"}}}],\"histogram\":[{\"marker\":{\"pattern\":{\"fillmode\":\"overlay\",\"size\":10,\"solidity\":0.2}},\"type\":\"histogram\"}],\"scattergl\":[{\"type\":\"scattergl\",\"marker\":{\"colorbar\":{\"outlinewidth\":0,\"ticks\":\"\"}}}],\"scatter3d\":[{\"type\":\"scatter3d\",\"line\":{\"colorbar\":{\"outlinewidth\":0,\"ticks\":\"\"}},\"marker\":{\"colorbar\":{\"outlinewidth\":0,\"ticks\":\"\"}}}],\"scattermapbox\":[{\"type\":\"scattermapbox\",\"marker\":{\"colorbar\":{\"outlinewidth\":0,\"ticks\":\"\"}}}],\"scatterternary\":[{\"type\":\"scatterternary\",\"marker\":{\"colorbar\":{\"outlinewidth\":0,\"ticks\":\"\"}}}],\"scattercarpet\":[{\"type\":\"scattercarpet\",\"marker\":{\"colorbar\":{\"outlinewidth\":0,\"ticks\":\"\"}}}],\"carpet\":[{\"aaxis\":{\"endlinecolor\":\"#2a3f5f\",\"gridcolor\":\"white\",\"linecolor\":\"white\",\"minorgridcolor\":\"white\",\"startlinecolor\":\"#2a3f5f\"},\"baxis\":{\"endlinecolor\":\"#2a3f5f\",\"gridcolor\":\"white\",\"linecolor\":\"white\",\"minorgridcolor\":\"white\",\"startlinecolor\":\"#2a3f5f\"},\"type\":\"carpet\"}],\"table\":[{\"cells\":{\"fill\":{\"color\":\"#EBF0F8\"},\"line\":{\"color\":\"white\"}},\"header\":{\"fill\":{\"color\":\"#C8D4E3\"},\"line\":{\"color\":\"white\"}},\"type\":\"table\"}],\"barpolar\":[{\"marker\":{\"line\":{\"color\":\"#E5ECF6\",\"width\":0.5},\"pattern\":{\"fillmode\":\"overlay\",\"size\":10,\"solidity\":0.2}},\"type\":\"barpolar\"}],\"pie\":[{\"automargin\":true,\"type\":\"pie\"}]},\"layout\":{\"autotypenumbers\":\"strict\",\"colorway\":[\"#636efa\",\"#EF553B\",\"#00cc96\",\"#ab63fa\",\"#FFA15A\",\"#19d3f3\",\"#FF6692\",\"#B6E880\",\"#FF97FF\",\"#FECB52\"],\"font\":{\"color\":\"#2a3f5f\"},\"hovermode\":\"closest\",\"hoverlabel\":{\"align\":\"left\"},\"paper_bgcolor\":\"white\",\"plot_bgcolor\":\"#E5ECF6\",\"polar\":{\"bgcolor\":\"#E5ECF6\",\"angularaxis\":{\"gridcolor\":\"white\",\"linecolor\":\"white\",\"ticks\":\"\"},\"radialaxis\":{\"gridcolor\":\"white\",\"linecolor\":\"white\",\"ticks\":\"\"}},\"ternary\":{\"bgcolor\":\"#E5ECF6\",\"aaxis\":{\"gridcolor\":\"white\",\"linecolor\":\"white\",\"ticks\":\"\"},\"baxis\":{\"gridcolor\":\"white\",\"linecolor\":\"white\",\"ticks\":\"\"},\"caxis\":{\"gridcolor\":\"white\",\"linecolor\":\"white\",\"ticks\":\"\"}},\"coloraxis\":{\"colorbar\":{\"outlinewidth\":0,\"ticks\":\"\"}},\"colorscale\":{\"sequential\":[[0.0,\"#0d0887\"],[0.1111111111111111,\"#46039f\"],[0.2222222222222222,\"#7201a8\"],[0.3333333333333333,\"#9c179e\"],[0.4444444444444444,\"#bd3786\"],[0.5555555555555556,\"#d8576b\"],[0.6666666666666666,\"#ed7953\"],[0.7777777777777778,\"#fb9f3a\"],[0.8888888888888888,\"#fdca26\"],[1.0,\"#f0f921\"]],\"sequentialminus\":[[0.0,\"#0d0887\"],[0.1111111111111111,\"#46039f\"],[0.2222222222222222,\"#7201a8\"],[0.3333333333333333,\"#9c179e\"],[0.4444444444444444,\"#bd3786\"],[0.5555555555555556,\"#d8576b\"],[0.6666666666666666,\"#ed7953\"],[0.7777777777777778,\"#fb9f3a\"],[0.8888888888888888,\"#fdca26\"],[1.0,\"#f0f921\"]],\"diverging\":[[0,\"#8e0152\"],[0.1,\"#c51b7d\"],[0.2,\"#de77ae\"],[0.3,\"#f1b6da\"],[0.4,\"#fde0ef\"],[0.5,\"#f7f7f7\"],[0.6,\"#e6f5d0\"],[0.7,\"#b8e186\"],[0.8,\"#7fbc41\"],[0.9,\"#4d9221\"],[1,\"#276419\"]]},\"xaxis\":{\"gridcolor\":\"white\",\"linecolor\":\"white\",\"ticks\":\"\",\"title\":{\"standoff\":15},\"zerolinecolor\":\"white\",\"automargin\":true,\"zerolinewidth\":2},\"yaxis\":{\"gridcolor\":\"white\",\"linecolor\":\"white\",\"ticks\":\"\",\"title\":{\"standoff\":15},\"zerolinecolor\":\"white\",\"automargin\":true,\"zerolinewidth\":2},\"scene\":{\"xaxis\":{\"backgroundcolor\":\"#E5ECF6\",\"gridcolor\":\"white\",\"linecolor\":\"white\",\"showbackground\":true,\"ticks\":\"\",\"zerolinecolor\":\"white\",\"gridwidth\":2},\"yaxis\":{\"backgroundcolor\":\"#E5ECF6\",\"gridcolor\":\"white\",\"linecolor\":\"white\",\"showbackground\":true,\"ticks\":\"\",\"zerolinecolor\":\"white\",\"gridwidth\":2},\"zaxis\":{\"backgroundcolor\":\"#E5ECF6\",\"gridcolor\":\"white\",\"linecolor\":\"white\",\"showbackground\":true,\"ticks\":\"\",\"zerolinecolor\":\"white\",\"gridwidth\":2}},\"shapedefaults\":{\"line\":{\"color\":\"#2a3f5f\"}},\"annotationdefaults\":{\"arrowcolor\":\"#2a3f5f\",\"arrowhead\":0,\"arrowwidth\":1},\"geo\":{\"bgcolor\":\"white\",\"landcolor\":\"#E5ECF6\",\"subunitcolor\":\"white\",\"showland\":true,\"showlakes\":true,\"lakecolor\":\"white\"},\"title\":{\"x\":0.05},\"mapbox\":{\"style\":\"light\"}}},\"xaxis\":{\"title\":{\"text\":\"Fold\"},\"gridcolor\":\"lightgray\",\"tickmode\":\"linear\",\"tick0\":1,\"dtick\":1,\"range\":[0.5,5.5]},\"yaxis\":{\"title\":{\"text\":\"pAUC Score\"},\"gridcolor\":\"lightgray\"},\"title\":{\"text\":\"CatBoost Cross-Validation pAUC Scores | Variation of CV scores: 0.1929 ± 0.0017\"},\"plot_bgcolor\":\"rgba(0,0,0,0)\",\"paper_bgcolor\":\"rgba(0,0,0,0)\"},                        {\"responsive\": true}                    ).then(function(){\n",
       "                            \n",
       "var gd = document.getElementById('16cff9c2-bce2-4968-a222-07531ce9dc37');\n",
       "var x = new MutationObserver(function (mutations, observer) {{\n",
       "        var display = window.getComputedStyle(gd).display;\n",
       "        if (!display || display === 'none') {{\n",
       "            console.log([gd, 'removed!']);\n",
       "            Plotly.purge(gd);\n",
       "            observer.disconnect();\n",
       "        }}\n",
       "}});\n",
       "\n",
       "// Listen for the removal of the full notebook cells\n",
       "var notebookContainer = gd.closest('#notebook-container');\n",
       "if (notebookContainer) {{\n",
       "    x.observe(notebookContainer, {childList: true});\n",
       "}}\n",
       "\n",
       "// Listen for the clearing of the current output cell\n",
       "var outputEl = gd.closest('.output');\n",
       "if (outputEl) {{\n",
       "    x.observe(outputEl, {childList: true});\n",
       "}}\n",
       "\n",
       "                        })                };                });            </script>        </div>"
      ]
     },
     "metadata": {},
     "output_type": "display_data"
    },
    {
     "name": "stdout",
     "output_type": "stream",
     "text": [
      "Ensemble pAUC: 0.198\n",
      "Ensemble confusion matrix:\n"
     ]
    },
    {
     "data": {
      "text/html": [
       "<div>                            <div id=\"62594b91-4003-459a-b9d6-7966bf5457ed\" class=\"plotly-graph-div\" style=\"height:800px; width:800px;\"></div>            <script type=\"text/javascript\">                require([\"plotly\"], function(Plotly) {                    window.PLOTLYENV=window.PLOTLYENV || {};                                    if (document.getElementById(\"62594b91-4003-459a-b9d6-7966bf5457ed\")) {                    Plotly.newPlot(                        \"62594b91-4003-459a-b9d6-7966bf5457ed\",                        [{\"colorscale\":[[0.0,\"rgb(246, 210, 169)\"],[0.16666666666666666,\"rgb(245, 183, 142)\"],[0.3333333333333333,\"rgb(241, 156, 124)\"],[0.5,\"rgb(234, 129, 113)\"],[0.6666666666666666,\"rgb(221, 104, 108)\"],[0.8333333333333334,\"rgb(202, 82, 104)\"],[1.0,\"rgb(177, 63, 100)\"]],\"customdata\":[\"117891\",\"9\",\"254\",\"139\"],\"hovertemplate\":\"True: %{y}\\u003cbr\\u003ePredicted: %{x}\\u003cbr\\u003eCount: %{z:,.0f}\\u003cextra\\u003e\\u003c\\u002fextra\\u003e\",\"text\":[[117891,9],[254,139]],\"texttemplate\":\"%{text:.0f}\",\"x\":[0,1],\"y\":[0,1],\"z\":[[117891,9],[254,139]],\"zmax\":117891,\"zmin\":0,\"type\":\"heatmap\"}],                        {\"template\":{\"data\":{\"histogram2dcontour\":[{\"type\":\"histogram2dcontour\",\"colorbar\":{\"outlinewidth\":0,\"ticks\":\"\"},\"colorscale\":[[0.0,\"#0d0887\"],[0.1111111111111111,\"#46039f\"],[0.2222222222222222,\"#7201a8\"],[0.3333333333333333,\"#9c179e\"],[0.4444444444444444,\"#bd3786\"],[0.5555555555555556,\"#d8576b\"],[0.6666666666666666,\"#ed7953\"],[0.7777777777777778,\"#fb9f3a\"],[0.8888888888888888,\"#fdca26\"],[1.0,\"#f0f921\"]]}],\"choropleth\":[{\"type\":\"choropleth\",\"colorbar\":{\"outlinewidth\":0,\"ticks\":\"\"}}],\"histogram2d\":[{\"type\":\"histogram2d\",\"colorbar\":{\"outlinewidth\":0,\"ticks\":\"\"},\"colorscale\":[[0.0,\"#0d0887\"],[0.1111111111111111,\"#46039f\"],[0.2222222222222222,\"#7201a8\"],[0.3333333333333333,\"#9c179e\"],[0.4444444444444444,\"#bd3786\"],[0.5555555555555556,\"#d8576b\"],[0.6666666666666666,\"#ed7953\"],[0.7777777777777778,\"#fb9f3a\"],[0.8888888888888888,\"#fdca26\"],[1.0,\"#f0f921\"]]}],\"heatmap\":[{\"type\":\"heatmap\",\"colorbar\":{\"outlinewidth\":0,\"ticks\":\"\"},\"colorscale\":[[0.0,\"#0d0887\"],[0.1111111111111111,\"#46039f\"],[0.2222222222222222,\"#7201a8\"],[0.3333333333333333,\"#9c179e\"],[0.4444444444444444,\"#bd3786\"],[0.5555555555555556,\"#d8576b\"],[0.6666666666666666,\"#ed7953\"],[0.7777777777777778,\"#fb9f3a\"],[0.8888888888888888,\"#fdca26\"],[1.0,\"#f0f921\"]]}],\"heatmapgl\":[{\"type\":\"heatmapgl\",\"colorbar\":{\"outlinewidth\":0,\"ticks\":\"\"},\"colorscale\":[[0.0,\"#0d0887\"],[0.1111111111111111,\"#46039f\"],[0.2222222222222222,\"#7201a8\"],[0.3333333333333333,\"#9c179e\"],[0.4444444444444444,\"#bd3786\"],[0.5555555555555556,\"#d8576b\"],[0.6666666666666666,\"#ed7953\"],[0.7777777777777778,\"#fb9f3a\"],[0.8888888888888888,\"#fdca26\"],[1.0,\"#f0f921\"]]}],\"contourcarpet\":[{\"type\":\"contourcarpet\",\"colorbar\":{\"outlinewidth\":0,\"ticks\":\"\"}}],\"contour\":[{\"type\":\"contour\",\"colorbar\":{\"outlinewidth\":0,\"ticks\":\"\"},\"colorscale\":[[0.0,\"#0d0887\"],[0.1111111111111111,\"#46039f\"],[0.2222222222222222,\"#7201a8\"],[0.3333333333333333,\"#9c179e\"],[0.4444444444444444,\"#bd3786\"],[0.5555555555555556,\"#d8576b\"],[0.6666666666666666,\"#ed7953\"],[0.7777777777777778,\"#fb9f3a\"],[0.8888888888888888,\"#fdca26\"],[1.0,\"#f0f921\"]]}],\"surface\":[{\"type\":\"surface\",\"colorbar\":{\"outlinewidth\":0,\"ticks\":\"\"},\"colorscale\":[[0.0,\"#0d0887\"],[0.1111111111111111,\"#46039f\"],[0.2222222222222222,\"#7201a8\"],[0.3333333333333333,\"#9c179e\"],[0.4444444444444444,\"#bd3786\"],[0.5555555555555556,\"#d8576b\"],[0.6666666666666666,\"#ed7953\"],[0.7777777777777778,\"#fb9f3a\"],[0.8888888888888888,\"#fdca26\"],[1.0,\"#f0f921\"]]}],\"mesh3d\":[{\"type\":\"mesh3d\",\"colorbar\":{\"outlinewidth\":0,\"ticks\":\"\"}}],\"scatter\":[{\"fillpattern\":{\"fillmode\":\"overlay\",\"size\":10,\"solidity\":0.2},\"type\":\"scatter\"}],\"parcoords\":[{\"type\":\"parcoords\",\"line\":{\"colorbar\":{\"outlinewidth\":0,\"ticks\":\"\"}}}],\"scatterpolargl\":[{\"type\":\"scatterpolargl\",\"marker\":{\"colorbar\":{\"outlinewidth\":0,\"ticks\":\"\"}}}],\"bar\":[{\"error_x\":{\"color\":\"#2a3f5f\"},\"error_y\":{\"color\":\"#2a3f5f\"},\"marker\":{\"line\":{\"color\":\"#E5ECF6\",\"width\":0.5},\"pattern\":{\"fillmode\":\"overlay\",\"size\":10,\"solidity\":0.2}},\"type\":\"bar\"}],\"scattergeo\":[{\"type\":\"scattergeo\",\"marker\":{\"colorbar\":{\"outlinewidth\":0,\"ticks\":\"\"}}}],\"scatterpolar\":[{\"type\":\"scatterpolar\",\"marker\":{\"colorbar\":{\"outlinewidth\":0,\"ticks\":\"\"}}}],\"histogram\":[{\"marker\":{\"pattern\":{\"fillmode\":\"overlay\",\"size\":10,\"solidity\":0.2}},\"type\":\"histogram\"}],\"scattergl\":[{\"type\":\"scattergl\",\"marker\":{\"colorbar\":{\"outlinewidth\":0,\"ticks\":\"\"}}}],\"scatter3d\":[{\"type\":\"scatter3d\",\"line\":{\"colorbar\":{\"outlinewidth\":0,\"ticks\":\"\"}},\"marker\":{\"colorbar\":{\"outlinewidth\":0,\"ticks\":\"\"}}}],\"scattermapbox\":[{\"type\":\"scattermapbox\",\"marker\":{\"colorbar\":{\"outlinewidth\":0,\"ticks\":\"\"}}}],\"scatterternary\":[{\"type\":\"scatterternary\",\"marker\":{\"colorbar\":{\"outlinewidth\":0,\"ticks\":\"\"}}}],\"scattercarpet\":[{\"type\":\"scattercarpet\",\"marker\":{\"colorbar\":{\"outlinewidth\":0,\"ticks\":\"\"}}}],\"carpet\":[{\"aaxis\":{\"endlinecolor\":\"#2a3f5f\",\"gridcolor\":\"white\",\"linecolor\":\"white\",\"minorgridcolor\":\"white\",\"startlinecolor\":\"#2a3f5f\"},\"baxis\":{\"endlinecolor\":\"#2a3f5f\",\"gridcolor\":\"white\",\"linecolor\":\"white\",\"minorgridcolor\":\"white\",\"startlinecolor\":\"#2a3f5f\"},\"type\":\"carpet\"}],\"table\":[{\"cells\":{\"fill\":{\"color\":\"#EBF0F8\"},\"line\":{\"color\":\"white\"}},\"header\":{\"fill\":{\"color\":\"#C8D4E3\"},\"line\":{\"color\":\"white\"}},\"type\":\"table\"}],\"barpolar\":[{\"marker\":{\"line\":{\"color\":\"#E5ECF6\",\"width\":0.5},\"pattern\":{\"fillmode\":\"overlay\",\"size\":10,\"solidity\":0.2}},\"type\":\"barpolar\"}],\"pie\":[{\"automargin\":true,\"type\":\"pie\"}]},\"layout\":{\"autotypenumbers\":\"strict\",\"colorway\":[\"#636efa\",\"#EF553B\",\"#00cc96\",\"#ab63fa\",\"#FFA15A\",\"#19d3f3\",\"#FF6692\",\"#B6E880\",\"#FF97FF\",\"#FECB52\"],\"font\":{\"color\":\"#2a3f5f\"},\"hovermode\":\"closest\",\"hoverlabel\":{\"align\":\"left\"},\"paper_bgcolor\":\"white\",\"plot_bgcolor\":\"#E5ECF6\",\"polar\":{\"bgcolor\":\"#E5ECF6\",\"angularaxis\":{\"gridcolor\":\"white\",\"linecolor\":\"white\",\"ticks\":\"\"},\"radialaxis\":{\"gridcolor\":\"white\",\"linecolor\":\"white\",\"ticks\":\"\"}},\"ternary\":{\"bgcolor\":\"#E5ECF6\",\"aaxis\":{\"gridcolor\":\"white\",\"linecolor\":\"white\",\"ticks\":\"\"},\"baxis\":{\"gridcolor\":\"white\",\"linecolor\":\"white\",\"ticks\":\"\"},\"caxis\":{\"gridcolor\":\"white\",\"linecolor\":\"white\",\"ticks\":\"\"}},\"coloraxis\":{\"colorbar\":{\"outlinewidth\":0,\"ticks\":\"\"}},\"colorscale\":{\"sequential\":[[0.0,\"#0d0887\"],[0.1111111111111111,\"#46039f\"],[0.2222222222222222,\"#7201a8\"],[0.3333333333333333,\"#9c179e\"],[0.4444444444444444,\"#bd3786\"],[0.5555555555555556,\"#d8576b\"],[0.6666666666666666,\"#ed7953\"],[0.7777777777777778,\"#fb9f3a\"],[0.8888888888888888,\"#fdca26\"],[1.0,\"#f0f921\"]],\"sequentialminus\":[[0.0,\"#0d0887\"],[0.1111111111111111,\"#46039f\"],[0.2222222222222222,\"#7201a8\"],[0.3333333333333333,\"#9c179e\"],[0.4444444444444444,\"#bd3786\"],[0.5555555555555556,\"#d8576b\"],[0.6666666666666666,\"#ed7953\"],[0.7777777777777778,\"#fb9f3a\"],[0.8888888888888888,\"#fdca26\"],[1.0,\"#f0f921\"]],\"diverging\":[[0,\"#8e0152\"],[0.1,\"#c51b7d\"],[0.2,\"#de77ae\"],[0.3,\"#f1b6da\"],[0.4,\"#fde0ef\"],[0.5,\"#f7f7f7\"],[0.6,\"#e6f5d0\"],[0.7,\"#b8e186\"],[0.8,\"#7fbc41\"],[0.9,\"#4d9221\"],[1,\"#276419\"]]},\"xaxis\":{\"gridcolor\":\"white\",\"linecolor\":\"white\",\"ticks\":\"\",\"title\":{\"standoff\":15},\"zerolinecolor\":\"white\",\"automargin\":true,\"zerolinewidth\":2},\"yaxis\":{\"gridcolor\":\"white\",\"linecolor\":\"white\",\"ticks\":\"\",\"title\":{\"standoff\":15},\"zerolinecolor\":\"white\",\"automargin\":true,\"zerolinewidth\":2},\"scene\":{\"xaxis\":{\"backgroundcolor\":\"#E5ECF6\",\"gridcolor\":\"white\",\"linecolor\":\"white\",\"showbackground\":true,\"ticks\":\"\",\"zerolinecolor\":\"white\",\"gridwidth\":2},\"yaxis\":{\"backgroundcolor\":\"#E5ECF6\",\"gridcolor\":\"white\",\"linecolor\":\"white\",\"showbackground\":true,\"ticks\":\"\",\"zerolinecolor\":\"white\",\"gridwidth\":2},\"zaxis\":{\"backgroundcolor\":\"#E5ECF6\",\"gridcolor\":\"white\",\"linecolor\":\"white\",\"showbackground\":true,\"ticks\":\"\",\"zerolinecolor\":\"white\",\"gridwidth\":2}},\"shapedefaults\":{\"line\":{\"color\":\"#2a3f5f\"}},\"annotationdefaults\":{\"arrowcolor\":\"#2a3f5f\",\"arrowhead\":0,\"arrowwidth\":1},\"geo\":{\"bgcolor\":\"white\",\"landcolor\":\"#E5ECF6\",\"subunitcolor\":\"white\",\"showland\":true,\"showlakes\":true,\"lakecolor\":\"white\"},\"title\":{\"x\":0.05},\"mapbox\":{\"style\":\"light\"}}},\"xaxis\":{\"title\":{\"text\":\"Predicted Labels\"},\"constrain\":\"domain\"},\"yaxis\":{\"title\":{\"text\":\"True Labels\"},\"constrain\":\"domain\",\"scaleanchor\":\"x\"},\"margin\":{\"t\":80,\"b\":80,\"l\":80,\"r\":80},\"plot_bgcolor\":\"rgba(0,0,0,0)\",\"paper_bgcolor\":\"rgba(0,0,0,0)\",\"width\":800,\"height\":800},                        {\"responsive\": true}                    ).then(function(){\n",
       "                            \n",
       "var gd = document.getElementById('62594b91-4003-459a-b9d6-7966bf5457ed');\n",
       "var x = new MutationObserver(function (mutations, observer) {{\n",
       "        var display = window.getComputedStyle(gd).display;\n",
       "        if (!display || display === 'none') {{\n",
       "            console.log([gd, 'removed!']);\n",
       "            Plotly.purge(gd);\n",
       "            observer.disconnect();\n",
       "        }}\n",
       "}});\n",
       "\n",
       "// Listen for the removal of the full notebook cells\n",
       "var notebookContainer = gd.closest('#notebook-container');\n",
       "if (notebookContainer) {{\n",
       "    x.observe(notebookContainer, {childList: true});\n",
       "}}\n",
       "\n",
       "// Listen for the clearing of the current output cell\n",
       "var outputEl = gd.closest('.output');\n",
       "if (outputEl) {{\n",
       "    x.observe(outputEl, {childList: true});\n",
       "}}\n",
       "\n",
       "                        })                };                });            </script>        </div>"
      ]
     },
     "metadata": {},
     "output_type": "display_data"
    }
   ],
   "source": [
    "# Generate predictions on test data using LightGBM and CatBoost\n",
    "final_preds = md.generate_preds(train_data,\n",
    "                                test_data,\n",
    "                                cat_cols,\n",
    "                                CFG.lgb_params,\n",
    "                                CFG.ctb_params,\n",
    "                                CFG.early_stop,\n",
    "                                CFG.lgb_weight,\n",
    "                                CFG.ctb_weight)"
   ]
  },
  {
   "cell_type": "code",
   "execution_count": 18,
   "id": "d84073e4",
   "metadata": {
    "execution": {
     "iopub.execute_input": "2024-08-07T02:31:42.643665Z",
     "iopub.status.busy": "2024-08-07T02:31:42.642991Z",
     "iopub.status.idle": "2024-08-07T02:31:42.659622Z",
     "shell.execute_reply": "2024-08-07T02:31:42.658776Z"
    },
    "papermill": {
     "duration": 0.028351,
     "end_time": "2024-08-07T02:31:42.661577",
     "exception": false,
     "start_time": "2024-08-07T02:31:42.633226",
     "status": "completed"
    },
    "tags": []
   },
   "outputs": [
    {
     "data": {
      "text/html": [
       "<div>\n",
       "<style scoped>\n",
       "    .dataframe tbody tr th:only-of-type {\n",
       "        vertical-align: middle;\n",
       "    }\n",
       "\n",
       "    .dataframe tbody tr th {\n",
       "        vertical-align: top;\n",
       "    }\n",
       "\n",
       "    .dataframe thead th {\n",
       "        text-align: right;\n",
       "    }\n",
       "</style>\n",
       "<table border=\"1\" class=\"dataframe\">\n",
       "  <thead>\n",
       "    <tr style=\"text-align: right;\">\n",
       "      <th></th>\n",
       "      <th>isic_id</th>\n",
       "      <th>target</th>\n",
       "    </tr>\n",
       "  </thead>\n",
       "  <tbody>\n",
       "    <tr>\n",
       "      <th>0</th>\n",
       "      <td>ISIC_0015657</td>\n",
       "      <td>0.3</td>\n",
       "    </tr>\n",
       "    <tr>\n",
       "      <th>1</th>\n",
       "      <td>ISIC_0015729</td>\n",
       "      <td>0.3</td>\n",
       "    </tr>\n",
       "    <tr>\n",
       "      <th>2</th>\n",
       "      <td>ISIC_0015740</td>\n",
       "      <td>0.3</td>\n",
       "    </tr>\n",
       "  </tbody>\n",
       "</table>\n",
       "</div>"
      ],
      "text/plain": [
       "        isic_id  target\n",
       "0  ISIC_0015657     0.3\n",
       "1  ISIC_0015729     0.3\n",
       "2  ISIC_0015740     0.3"
      ]
     },
     "metadata": {},
     "output_type": "display_data"
    }
   ],
   "source": [
    "# Load submission data\n",
    "subm_data = pd.read_csv(CFG.subm_path)\n",
    "display(subm_data.head())"
   ]
  },
  {
   "cell_type": "code",
   "execution_count": 19,
   "id": "2ed5c58d",
   "metadata": {
    "execution": {
     "iopub.execute_input": "2024-08-07T02:31:42.681122Z",
     "iopub.status.busy": "2024-08-07T02:31:42.680648Z",
     "iopub.status.idle": "2024-08-07T02:31:42.684496Z",
     "shell.execute_reply": "2024-08-07T02:31:42.683706Z"
    },
    "papermill": {
     "duration": 0.01563,
     "end_time": "2024-08-07T02:31:42.686428",
     "exception": false,
     "start_time": "2024-08-07T02:31:42.670798",
     "status": "completed"
    },
    "tags": []
   },
   "outputs": [],
   "source": [
    "# Assign predictions to submission DataFrame\n",
    "subm_data['target'] = final_preds"
   ]
  },
  {
   "cell_type": "code",
   "execution_count": 20,
   "id": "332c1c45",
   "metadata": {
    "execution": {
     "iopub.execute_input": "2024-08-07T02:31:42.706202Z",
     "iopub.status.busy": "2024-08-07T02:31:42.705446Z",
     "iopub.status.idle": "2024-08-07T02:31:42.715611Z",
     "shell.execute_reply": "2024-08-07T02:31:42.714767Z"
    },
    "papermill": {
     "duration": 0.021931,
     "end_time": "2024-08-07T02:31:42.717403",
     "exception": false,
     "start_time": "2024-08-07T02:31:42.695472",
     "status": "completed"
    },
    "tags": []
   },
   "outputs": [
    {
     "data": {
      "text/html": [
       "<div>\n",
       "<style scoped>\n",
       "    .dataframe tbody tr th:only-of-type {\n",
       "        vertical-align: middle;\n",
       "    }\n",
       "\n",
       "    .dataframe tbody tr th {\n",
       "        vertical-align: top;\n",
       "    }\n",
       "\n",
       "    .dataframe thead th {\n",
       "        text-align: right;\n",
       "    }\n",
       "</style>\n",
       "<table border=\"1\" class=\"dataframe\">\n",
       "  <thead>\n",
       "    <tr style=\"text-align: right;\">\n",
       "      <th></th>\n",
       "      <th>isic_id</th>\n",
       "      <th>target</th>\n",
       "    </tr>\n",
       "  </thead>\n",
       "  <tbody>\n",
       "    <tr>\n",
       "      <th>0</th>\n",
       "      <td>ISIC_0015657</td>\n",
       "      <td>0.000271</td>\n",
       "    </tr>\n",
       "    <tr>\n",
       "      <th>1</th>\n",
       "      <td>ISIC_0015729</td>\n",
       "      <td>0.000094</td>\n",
       "    </tr>\n",
       "    <tr>\n",
       "      <th>2</th>\n",
       "      <td>ISIC_0015740</td>\n",
       "      <td>0.000116</td>\n",
       "    </tr>\n",
       "  </tbody>\n",
       "</table>\n",
       "</div>"
      ],
      "text/plain": [
       "        isic_id    target\n",
       "0  ISIC_0015657  0.000271\n",
       "1  ISIC_0015729  0.000094\n",
       "2  ISIC_0015740  0.000116"
      ]
     },
     "metadata": {},
     "output_type": "display_data"
    }
   ],
   "source": [
    "# Save the submission dataframe\n",
    "subm_data.to_csv('submission.csv', index=False)\n",
    "display(subm_data.head())"
   ]
  }
 ],
 "metadata": {
  "kaggle": {
   "accelerator": "gpu",
   "dataSources": [
    {
     "databundleVersionId": 9094797,
     "sourceId": 63056,
     "sourceType": "competition"
    },
    {
     "datasetId": 5406640,
     "sourceId": 8982084,
     "sourceType": "datasetVersion"
    },
    {
     "datasetId": 5415918,
     "sourceId": 8991790,
     "sourceType": "datasetVersion"
    },
    {
     "sourceId": 186147615,
     "sourceType": "kernelVersion"
    },
    {
     "sourceId": 187730674,
     "sourceType": "kernelVersion"
    },
    {
     "sourceId": 188543089,
     "sourceType": "kernelVersion"
    },
    {
     "sourceId": 188543756,
     "sourceType": "kernelVersion"
    },
    {
     "sourceId": 188602899,
     "sourceType": "kernelVersion"
    },
    {
     "sourceId": 188603204,
     "sourceType": "kernelVersion"
    },
    {
     "sourceId": 190679535,
     "sourceType": "kernelVersion"
    },
    {
     "sourceId": 190704600,
     "sourceType": "kernelVersion"
    }
   ],
   "dockerImageVersionId": 30747,
   "isGpuEnabled": true,
   "isInternetEnabled": false,
   "language": "python",
   "sourceType": "notebook"
  },
  "kernelspec": {
   "display_name": "Python 3",
   "language": "python",
   "name": "python3"
  },
  "language_info": {
   "codemirror_mode": {
    "name": "ipython",
    "version": 3
   },
   "file_extension": ".py",
   "mimetype": "text/x-python",
   "name": "python",
   "nbconvert_exporter": "python",
   "pygments_lexer": "ipython3",
   "version": "3.10.13"
  },
  "papermill": {
   "default_parameters": {},
   "duration": 207.440273,
   "end_time": "2024-08-07T02:31:43.647651",
   "environment_variables": {},
   "exception": null,
   "input_path": "__notebook__.ipynb",
   "output_path": "__notebook__.ipynb",
   "parameters": {},
   "start_time": "2024-08-07T02:28:16.207378",
   "version": "2.5.0"
  }
 },
 "nbformat": 4,
 "nbformat_minor": 5
}
